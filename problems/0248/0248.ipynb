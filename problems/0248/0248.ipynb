{
 "cells": [
  {
   "cell_type": "markdown",
   "id": "0",
   "metadata": {},
   "source": [
    "# <a href=\"https://projecteuler.net/problem=248\">Numbers for which Euler’s totient function equals 13!</a>\n",
    "\n",
    "## Problem 248\n",
    "\n",
    "<p>The first number n for which φ(n)=13! is 6227180929.</p>\n",
    "<p>Find the 150,000<sup>th</sup> such number.</p>\n",
    "\n"
   ]
  },
  {
   "cell_type": "markdown",
   "id": "1",
   "metadata": {},
   "source": [
    "# Solution\n"
   ]
  },
  {
   "cell_type": "code",
   "execution_count": null,
   "id": "2",
   "metadata": {},
   "outputs": [],
   "source": []
  }
 ],
 "metadata": {},
 "nbformat": 4,
 "nbformat_minor": 5
}
