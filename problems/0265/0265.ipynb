{
 "cells": [
  {
   "cell_type": "markdown",
   "id": "0",
   "metadata": {},
   "source": [
    "# <a href=\"https://projecteuler.net/problem=265\">Binary Circles</a>\n",
    "\n",
    "## Problem 265\n",
    "\n",
    "<p>2<sup>N</sup> binary digits can be placed in a circle so that all the N-digit clockwise subsequences are distinct.</p>\n",
    "\n",
    "<p>For N=3, two such circular arrangements are possible, ignoring rotations:</p>\n",
    "<div align=\"center\"><img src=\"p265_BinaryCircles.gif\" class=\"dark_img\" alt=\"p265_BinaryCircles.gif\" /></div>\n",
    "\n",
    "<p>For the first arrangement, the 3-digit subsequences, in clockwise order, are:<br /> 000, 001, 010, 101, 011, 111, 110 and 100.</p>\n",
    "\n",
    "<p>Each circular arrangement can be encoded as a number by concatenating the binary digits starting with the subsequence of all zeros as the most significant bits and proceeding clockwise. The two arrangements for N=3 are thus represented as 23 and 29:\n",
    "</p><div align=\"center\">00010111 <sub>2</sub> = 23</div>\n",
    "<div align=\"center\">00011101 <sub>2</sub> = 29</div>\n",
    "\n",
    "<p>Calling S(N) the sum of the unique numeric representations, we can see that S(3) = 23 + 29 = 52.</p>\n",
    "\n",
    "<p>Find S(5).</p>\n",
    "\n"
   ]
  },
  {
   "cell_type": "markdown",
   "id": "1",
   "metadata": {},
   "source": [
    "# Solution\n"
   ]
  },
  {
   "cell_type": "code",
   "execution_count": null,
   "id": "2",
   "metadata": {},
   "outputs": [],
   "source": []
  }
 ],
 "metadata": {},
 "nbformat": 4,
 "nbformat_minor": 5
}
