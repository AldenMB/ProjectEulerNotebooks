{
 "cells": [
  {
   "cell_type": "markdown",
   "id": "0",
   "metadata": {},
   "source": [
    "# <a href=\"http://projecteuler.net/problem=845\">Prime Digit Sum</a>\n",
    "\n",
    "## Problem 845\n",
    "\n",
    "<p>\n",
    "Let $D(n)$ be the $n$-th largest positive integer that has the sum of its digits a prime.<br>\n",
    "For example, $D(61) = 157$ and $D(10^8) = 403539364$.</p>\n",
    "\n",
    "<p>\n",
    "Find $D(10^{16})$.</p>\n",
    "\n"
   ]
  },
  {
   "cell_type": "markdown",
   "id": "1",
   "metadata": {},
   "source": [
    "# Solution\n"
   ]
  },
  {
   "cell_type": "code",
   "execution_count": null,
   "id": "2",
   "metadata": {},
   "outputs": [],
   "source": []
  }
 ],
 "metadata": {},
 "nbformat": 4,
 "nbformat_minor": 5
}
