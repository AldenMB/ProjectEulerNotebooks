{
 "cells": [
  {
   "cell_type": "markdown",
   "id": "0",
   "metadata": {},
   "source": [
    "# <a href=\"http://projecteuler.net/problem=849\">The Tournament</a>\n",
    "\n",
    "## Problem 849\n",
    "\n",
    "<p>\n",
    "In a tournament there are $n$ teams and each team plays each other team twice. A team gets two points for a win, one point for a draw and no points for a loss.</p>\n",
    "\n",
    "<p>\n",
    "With two teams there are three possible outcomes for the total points. $(4,0)$ where a team wins twice, $(3,1)$ where a team wins and draws, and $(2,2)$ where either there are two draws or a team wins one game and loses the other. Here we do not distinguish the teams and so $(3,1)$ and $(1,3)$ are considered identical.</p>\n",
    "\n",
    "<p>\n",
    "Let $F(n)$ be the total number of possible final outcomes with $n$ teams, so that $F(2) = 3$.<br>\n",
    "You are also given $F(7) = 32923$.</p>\n",
    "<p>\n",
    "Find $F(100)$. Give your answer modulo $10^9+7$.</p>\n"
   ]
  },
  {
   "cell_type": "markdown",
   "id": "1",
   "metadata": {},
   "source": [
    "# Solution\n"
   ]
  },
  {
   "cell_type": "code",
   "execution_count": null,
   "id": "2",
   "metadata": {},
   "outputs": [],
   "source": []
  }
 ],
 "metadata": {},
 "nbformat": 4,
 "nbformat_minor": 5
}
