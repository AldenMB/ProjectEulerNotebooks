{
 "cells": [
  {
   "cell_type": "markdown",
   "id": "0",
   "metadata": {},
   "source": [
    "# <a href=\"https://projecteuler.net/problem=594\">Rhombus Tilings</a>\n",
    "\n",
    "## Problem 594\n",
    "\n",
    "<p>\n",
    "For a polygon $P$, let $t(P)$ be the number of ways in which $P$ can be tiled using rhombi and squares with edge length 1. Distinct rotations and reflections are counted as separate tilings.\n",
    "</p>\n",
    "<p>\n",
    "For example, if $O$ is a regular octagon with edge length 1, then $t(O) = 8$. As it happens, all these 8 tilings are rotations of one another:\n",
    "</p>\n",
    "<div style=\"text-align: center !important\">\n",
    "<img src=\"p594_octagon_tilings_1.png\" alt=\"p594_octagon_tilings_1.png\" /></div>\n",
    "<p>\n",
    "Let $O_{a,b}$ be the equal-angled convex octagon whose edges alternate in length between $a$ and $b$.\n",
    "<br />\n",
    "For example, here is $O_{2,1}$, with one of its tilings:\n",
    "</p>\n",
    "<div style=\"text-align: center !important\">\n",
    "<img src=\"p594_octagon_tilings_2.png\" alt=\"p594_octagon_tilings_2.png\" /></div>\n",
    "\n",
    "<p>\n",
    "You are given that $t(O_{1,1})=8$, $t(O_{2,1})=76$ and $t(O_{3,2})=456572$.\n",
    "</p>\n",
    "<p>\n",
    "Find $t(O_{4,2})$.\n",
    "</p>\n",
    "\n"
   ]
  },
  {
   "cell_type": "markdown",
   "id": "1",
   "metadata": {},
   "source": [
    "# Solution\n"
   ]
  },
  {
   "cell_type": "code",
   "execution_count": null,
   "id": "2",
   "metadata": {},
   "outputs": [],
   "source": []
  }
 ],
 "metadata": {},
 "nbformat": 4,
 "nbformat_minor": 5
}
