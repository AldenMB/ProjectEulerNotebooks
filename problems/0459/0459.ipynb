{
 "cells": [
  {
   "cell_type": "markdown",
   "id": "0",
   "metadata": {},
   "source": [
    "# <a href=\"https://projecteuler.net/problem=459\">Flipping game</a>\n",
    "\n",
    "## Problem 459\n",
    "\n",
    "<p>The flipping game is a two player game played on a N by N square board.<br />\n",
    "Each square contains a disk with one side white and one side black.<br />\n",
    "The game starts with all disks showing their white side.</p>\n",
    "\n",
    "<p>A turn consists of flipping all disks in a rectangle with the following properties:\n",
    "</p><p></p><ul><li>the upper right corner of the rectangle contains a white disk</li>\n",
    "<li>the rectangle width is a perfect square (1, 4, 9, 16, ...)</li>\n",
    "<li>the rectangle height is a <dfn title=\"The triangular numbers are defined as ½ n(n + 1) for positive integer n.\">triangular number</dfn> (1, 3, 6, 10, ...)</li>\n",
    "</ul><p style=\"text-align: center !important\"><img src=\"p459-flipping-game-0.png\" alt=\"p459-flipping-game-0.png\" /></p>\n",
    "\n",
    "<p>Players alternate turns. A player wins by turning the grid all black.</p>\n",
    "\n",
    "<p>Let W(N) be the number of <dfn title=\"The first move of a strategy that ensures a win no matter what the opponent plays.\">winning moves</dfn> for the first player on a N by N board with all disks white, assuming perfect play.<br />\n",
    "W(1) = 1, W(2) = 0, W(5) = 8 and W(10<sup>2</sup>) = 31395.</p>\n",
    "\n",
    "<p>For N=5, the first player's eight winning first moves are:</p>\n",
    "\n",
    "<p style=\"text-align: center !important\"><img src=\"p459-flipping-game-1.png\" class=\"dark_img\" alt=\"p459-flipping-game-1.png\" /></p>\n",
    "\n",
    "<p>Find W(10<sup>6</sup>).</p>\n",
    "\n"
   ]
  },
  {
   "cell_type": "markdown",
   "id": "1",
   "metadata": {},
   "source": [
    "# Solution\n"
   ]
  },
  {
   "cell_type": "code",
   "execution_count": null,
   "id": "2",
   "metadata": {},
   "outputs": [],
   "source": []
  }
 ],
 "metadata": {},
 "nbformat": 4,
 "nbformat_minor": 5
}
