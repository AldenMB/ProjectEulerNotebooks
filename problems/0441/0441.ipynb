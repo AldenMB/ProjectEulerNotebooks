{
 "cells": [
  {
   "cell_type": "markdown",
   "id": "0",
   "metadata": {},
   "source": [
    "# <a href=\"https://projecteuler.net/problem=441\">The inverse summation of coprime couples</a>\n",
    "\n",
    "## Problem 441\n",
    "\n",
    "<p>\n",
    "For an integer <var>M</var>, we define R(<var>M</var>) as the sum of 1/(<var>p</var>·<var>q</var>) for all the integer pairs <var>p</var> and <var>q</var> which satisfy all of these conditions:\n",
    "</p>\n",
    "<ul><li> 1 ≤ <var>p</var> &lt; <var>q</var> ≤ <var>M</var></li>\n",
    "<li> <var>p</var> + <var>q</var> ≥ <var>M</var></li>\n",
    "<li> <var>p</var> and <var>q</var> are coprime.</li>\n",
    "</ul><p>\n",
    "We also define S(<var>N</var>) as the sum of R(<var>i</var>) for 2 ≤ <var>i</var> ≤ <var>N</var>.<br />\n",
    "We can verify that S(2) = R(2) = 1/2, S(10) ≈ 6.9147 and S(100) ≈ 58.2962.\n",
    "</p>\n",
    "<p>\n",
    "Find S(10<sup>7</sup>). Give your answer rounded to four decimal places.\n",
    "</p>\n"
   ]
  },
  {
   "cell_type": "markdown",
   "id": "1",
   "metadata": {},
   "source": [
    "# Solution\n"
   ]
  },
  {
   "cell_type": "code",
   "execution_count": null,
   "id": "2",
   "metadata": {},
   "outputs": [],
   "source": []
  }
 ],
 "metadata": {},
 "nbformat": 4,
 "nbformat_minor": 5
}
