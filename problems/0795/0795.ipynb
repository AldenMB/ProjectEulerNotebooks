{
 "cells": [
  {
   "cell_type": "markdown",
   "id": "0",
   "metadata": {},
   "source": [
    "# <a href=\"https://projecteuler.net/problem=795\">Alternating GCD Sum</a>\n",
    "\n",
    "## Problem 795\n",
    "\n",
    "<p>\n",
    "For a positive integer $n$, the function $g(n)$ is defined as\n",
    "</p>\n",
    "$$\\displaystyle g(n)=\\sum_{i=1}^{n} (-1)^i \\gcd \\left(n,i^2\\right)$$\n",
    "<p>\n",
    "For example, $g(4) = -\\gcd \\left(4,1^2\\right) + \\gcd \\left(4,2^2\\right) - \\gcd \\left(4,3^2\\right) + \\gcd \\left(4,4^2\\right) = -1+4-1+4=6$.<br />\n",
    "You are also given $g(1234)=1233$.\n",
    "</p>\n",
    "<p>\n",
    "Let $\\displaystyle G(N) = \\sum_{n=1}^N g(n)$. You are given $G(1234) = 2194708$.\n",
    "</p>\n",
    "<p>\n",
    "Find $G(12345678)$.\n",
    "</p>\n"
   ]
  },
  {
   "cell_type": "markdown",
   "id": "1",
   "metadata": {},
   "source": [
    "# Solution\n"
   ]
  },
  {
   "cell_type": "code",
   "execution_count": null,
   "id": "2",
   "metadata": {},
   "outputs": [],
   "source": []
  }
 ],
 "metadata": {},
 "nbformat": 4,
 "nbformat_minor": 5
}
