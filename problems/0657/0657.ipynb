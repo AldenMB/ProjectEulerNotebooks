{
 "cells": [
  {
   "cell_type": "markdown",
   "id": "0",
   "metadata": {},
   "source": [
    "# <a href=\"https://projecteuler.net/problem=657\">Incomplete words</a>\n",
    "\n",
    "## Problem 657\n",
    "\n",
    "<p>In the context of <b>formal languages</b>, any finite sequence of letters of a given <b>alphabet</b> $\\Sigma$ is called a <b>word</b> over $\\Sigma$. We call a word <i>incomplete</i> if it does not contain every letter of $\\Sigma$.</p>\n",
    "<p>\n",
    "For example, using the alphabet $\\Sigma=\\{ a, b, c\\}$, '$ab$', '$abab$' and '$\\,$' (the empty word) are incomplete words over $\\Sigma$, while '$abac$' is a complete word over $\\Sigma$.</p>\n",
    "<p>\n",
    "Given an alphabet $\\Sigma$ of $\\alpha$ letters, we define $I(\\alpha,n)$ to be the number of incomplete words over $\\Sigma$ with a length not exceeding $n$. <br />\n",
    "For example, $I(3,0)=1$, $I(3,2)=13$ and $I(3,4)=79$.</p>\n",
    "<p>\n",
    "Find $I(10^7,10^{12})$. Give your answer modulo $1\\,000\\,000\\,007$.</p>\n"
   ]
  },
  {
   "cell_type": "markdown",
   "id": "1",
   "metadata": {},
   "source": [
    "# Solution\n"
   ]
  },
  {
   "cell_type": "code",
   "execution_count": null,
   "id": "2",
   "metadata": {},
   "outputs": [],
   "source": []
  }
 ],
 "metadata": {},
 "nbformat": 4,
 "nbformat_minor": 5
}
