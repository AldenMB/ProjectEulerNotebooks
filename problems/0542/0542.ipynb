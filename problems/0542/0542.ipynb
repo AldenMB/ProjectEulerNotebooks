{
 "cells": [
  {
   "cell_type": "markdown",
   "id": "0",
   "metadata": {},
   "source": [
    "# <a href=\"https://projecteuler.net/problem=542\">Geometric Progression with Maximum Sum</a>\n",
    "\n",
    "## Problem 542\n",
    "\n",
    "<p>Let <var>S</var>(<var>k</var>) be the sum of three or more distinct positive integers having the following properties:</p>\n",
    "<ul><li>No value exceeds <var>k</var>.</li>\n",
    "<li>The values form a <b>geometric progression</b>.</li>\n",
    "<li>The sum is maximal.</li></ul><p><var>S</var>(4) = 4 + 2 + 1 = 7<br /><var>S</var>(10) = 9 + 6 + 4 = 19<br /><var>S</var>(12) = 12 + 6 + 3 = 21<br /><var>S</var>(1000) = 1000 + 900 + 810 + 729 = 3439</p>\n",
    "\n",
    "<p>Let $T(n) = \\sum_{k=4}^n (-1)^k S(k)$.<br /><var>T</var>(1000) = 2268</p>\n",
    "\n",
    "<p>Find <var>T</var>(10<sup>17</sup>).</p>\n"
   ]
  },
  {
   "cell_type": "markdown",
   "id": "1",
   "metadata": {},
   "source": [
    "# Solution\n"
   ]
  },
  {
   "cell_type": "code",
   "execution_count": null,
   "id": "2",
   "metadata": {},
   "outputs": [],
   "source": []
  }
 ],
 "metadata": {},
 "nbformat": 4,
 "nbformat_minor": 5
}
