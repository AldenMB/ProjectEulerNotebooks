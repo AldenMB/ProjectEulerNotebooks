{
 "cells": [
  {
   "cell_type": "markdown",
   "id": "0",
   "metadata": {},
   "source": [
    "# <a href=\"http://projecteuler.net/problem=831\">Triple Product</a>\n",
    "\n",
    "## Problem 831\n",
    "\n",
    "<p>Let $g(m)$ be the integer defined by the following double sum of products of binomial coefficients:</p>\n",
    "<p>\n",
    "$$\\sum_{j=0}^m\\sum_{i = 0}^j (-1)^{j-i}\\binom mj \\binom ji \\binom{j+5+6i}{j+5} $$\n",
    "</p>\n",
    "<p>\n",
    "You are given that $g(10) = 127278262644918$.<br /> Its first (most significant) five digits are $12727$.<br />\n",
    "\n",
    "Find the first ten digits of $g(142857)$ when written in base 7.\n",
    "</p>\n"
   ]
  },
  {
   "cell_type": "markdown",
   "id": "1",
   "metadata": {},
   "source": [
    "# Solution\n"
   ]
  },
  {
   "cell_type": "code",
   "execution_count": null,
   "id": "2",
   "metadata": {},
   "outputs": [],
   "source": []
  }
 ],
 "metadata": {},
 "nbformat": 4,
 "nbformat_minor": 5
}
