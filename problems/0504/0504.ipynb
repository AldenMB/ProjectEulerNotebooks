{
 "cells": [
  {
   "cell_type": "markdown",
   "id": "0",
   "metadata": {},
   "source": [
    "# <a href=\"https://projecteuler.net/problem=504\">Square on the Inside</a>\n",
    "\n",
    "## Problem 504\n",
    "\n",
    "<p>Let <var>ABCD</var> be a quadrilateral whose vertices are lattice points lying on the coordinate axes as follows:</p>\n",
    "\n",
    "<p><var>A</var>(<var>a</var>, 0), <var>B</var>(0, <var>b</var>), <var>C</var>(<var>−c</var>, 0), <var>D</var>(0, <var>−d</var>), where 1 ≤ <var>a</var>, <var>b</var>, <var>c</var>, <var>d</var> ≤ <var>m</var> and <var>a</var>, <var>b</var>, <var>c</var>, <var>d</var>, <var>m</var> are integers.</p>\n",
    "\n",
    "<p>It can be shown that for <var>m</var> = 4 there are exactly 256 valid ways to construct <var>ABCD</var>. Of these 256 quadrilaterals, 42 of them <u>strictly</u> contain a square number of lattice points.</p>\n",
    "\n",
    "<p>How many quadrilaterals <var>ABCD</var> strictly contain a square number of lattice points for <var>m</var> = 100?</p>\n"
   ]
  },
  {
   "cell_type": "markdown",
   "id": "1",
   "metadata": {},
   "source": [
    "# Solution\n"
   ]
  },
  {
   "cell_type": "code",
   "execution_count": null,
   "id": "2",
   "metadata": {},
   "outputs": [],
   "source": []
  }
 ],
 "metadata": {},
 "nbformat": 4,
 "nbformat_minor": 5
}
