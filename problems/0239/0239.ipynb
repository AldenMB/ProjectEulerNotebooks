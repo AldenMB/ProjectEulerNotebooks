{
 "cells": [
  {
   "cell_type": "markdown",
   "id": "0",
   "metadata": {},
   "source": [
    "# <a href=\"https://projecteuler.net/problem=239\">Twenty-two Foolish Primes</a>\n",
    "\n",
    "## Problem 239\n",
    "\n",
    "<p>A set of disks numbered 1 through 100 are placed in a line in random order.</p>\n",
    "\n",
    "<p>What is the probability that we have a partial derangement such that exactly 22 prime number discs are found away from their natural positions?<br />\n",
    "(Any number of non-prime disks may also be found in or out of their natural positions.)</p>\n",
    "\n",
    "<p>Give your answer rounded to 12 places behind the decimal point in the form 0.abcdefghijkl.</p>\n",
    "\n"
   ]
  },
  {
   "cell_type": "markdown",
   "id": "1",
   "metadata": {},
   "source": [
    "# Solution\n"
   ]
  },
  {
   "cell_type": "code",
   "execution_count": null,
   "id": "2",
   "metadata": {},
   "outputs": [],
   "source": []
  }
 ],
 "metadata": {},
 "nbformat": 4,
 "nbformat_minor": 5
}
