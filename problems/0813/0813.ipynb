{
 "cells": [
  {
   "cell_type": "markdown",
   "id": "0",
   "metadata": {},
   "source": [
    "# <a href=\"http://projecteuler.net/problem=813\">XOR-Powers</a>\n",
    "\n",
    "## Problem 813\n",
    "\n",
    "<p>We use $x\\oplus y$ to be the bitwise XOR of $x$ and $y$.</p>\n",
    "\n",
    "<p>Define the <i>XOR-product</i> of $x$ and $y$, denoted by $x \\otimes y$, similar to a long multiplication in base $2$, except that the intermediate results are XORed instead of the usual integer addition.</p>\n",
    "\n",
    "<p>For example, $11 \\otimes 11 = 69$, or in base $2$, $1011_2 \\otimes 1011_2 = 1000101_2$:</p>\n",
    "$$\n",
    "\\begin{align*}\n",
    "\\phantom{\\otimes 1111} 1011_2 \\\\\n",
    "\\otimes \\phantom{1111} 1011_2 \\\\\n",
    "\\hline\n",
    "\\phantom{\\otimes 1111} 1011_2 \\\\\n",
    "\\phantom{\\otimes 111} 1011_2 \\phantom{9} \\\\\n",
    "\\oplus \\phantom{1} 1011_2  \\phantom{999} \\\\\n",
    "\\hline\n",
    "\\phantom{\\otimes 11} 1000101_2 \\\\\n",
    "\\end{align*}\n",
    "$$\n",
    "Further we define $P(n) = 11^{\\otimes n} = \\overbrace{11\\otimes 11\\otimes \\ldots \\otimes 11}^n$. For example $P(2)=69$.\n",
    "\n",
    "<p>Find $P(8^{12}\\cdot 12^8)$. Give your answer modulo $10^9+7$.</p>\n"
   ]
  },
  {
   "cell_type": "markdown",
   "id": "1",
   "metadata": {},
   "source": [
    "# Solution\n"
   ]
  },
  {
   "cell_type": "code",
   "execution_count": null,
   "id": "2",
   "metadata": {},
   "outputs": [],
   "source": []
  }
 ],
 "metadata": {},
 "nbformat": 4,
 "nbformat_minor": 5
}
