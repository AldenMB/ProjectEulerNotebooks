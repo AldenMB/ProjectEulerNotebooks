{
 "cells": [
  {
   "cell_type": "markdown",
   "id": "0",
   "metadata": {},
   "source": [
    "# <a href=\"https://projecteuler.net/problem=28\">Number spiral diagonals</a>\n",
    "\n",
    "## Problem 28\n",
    "\n",
    "<p>Starting with the number 1 and moving to the right in a clockwise direction a 5 by 5 spiral is formed as follows:</p>\n",
    "<p style=\"text-align: center !important; font-family: monospace\"><span style=\"color: red\"><b>21</b></span> 22 23 24 <span style=\"color: red\"><b>25</b></span><br />\n",
    "20  <span style=\"color: red\"><b>7</b></span>  8  <span style=\"color: red\"><b>9</b></span> 10<br />\n",
    "19  6  <span style=\"color: red\"><b>1</b></span>  2 11<br />\n",
    "18  <span style=\"color: red\"><b>5</b></span>  4  <span style=\"color: red\"><b>3</b></span> 12<br /><span style=\"color: red\"><b>17</b></span> 16 15 14 <span style=\"color: red\"><b>13</b></span></p>\n",
    "<p>It can be verified that the sum of the numbers on the diagonals is 101.</p>\n",
    "<p>What is the sum of the numbers on the diagonals in a 1001 by 1001 spiral formed in the same way?</p>\n",
    "\n"
   ]
  },
  {
   "cell_type": "markdown",
   "id": "1",
   "metadata": {},
   "source": [
    "# Solution\n"
   ]
  },
  {
   "cell_type": "code",
   "execution_count": null,
   "id": "2",
   "metadata": {},
   "outputs": [],
   "source": []
  }
 ],
 "metadata": {},
 "nbformat": 4,
 "nbformat_minor": 5
}
