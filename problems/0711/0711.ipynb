{
 "cells": [
  {
   "cell_type": "markdown",
   "id": "0",
   "metadata": {},
   "source": [
    "# <a href=\"https://projecteuler.net/problem=711\">Binary Blackboard</a>\n",
    "\n",
    "## Problem 711\n",
    "\n",
    "<p>Oscar and Eric play the following game. First, they agree on a positive integer $n$, and they begin by writing its binary representation on a blackboard. They then take turns, with Oscar going first, to write a number on the blackboard in binary representation, such that the sum of all written numbers does not exceed $2n$.</p>\n",
    "\n",
    "<p>The game ends when there are no valid moves left. Oscar wins if the number of $1$s on the blackboard is odd, and Eric wins if it is even.</p>\n",
    "\n",
    "<p>Let $S(N)$ be the sum of all $n \\le 2^N$ for which Eric can guarantee winning, assuming optimal play.</p>\n",
    "\n",
    "<p>For example, the first few values of $n$ for which Eric can guarantee winning are $1,3,4,7,15,16$. Hence $S(4)=46$.<br />\n",
    "You are also given that $S(12) = 54532$ and $S(1234) \\equiv 690421393 \\pmod{1\\,000\\,000\\,007}$.</p>\n",
    "\n",
    "<p>Find $S(12\\,345\\,678)$. Give your answer modulo $1\\,000\\,000\\,007$.</p>\n",
    "\n"
   ]
  },
  {
   "cell_type": "markdown",
   "id": "1",
   "metadata": {},
   "source": [
    "# Solution\n"
   ]
  },
  {
   "cell_type": "code",
   "execution_count": null,
   "id": "2",
   "metadata": {},
   "outputs": [],
   "source": []
  }
 ],
 "metadata": {},
 "nbformat": 4,
 "nbformat_minor": 5
}
