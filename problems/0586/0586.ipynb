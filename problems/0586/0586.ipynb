{
 "cells": [
  {
   "cell_type": "markdown",
   "id": "0",
   "metadata": {},
   "source": [
    "# <a href=\"https://projecteuler.net/problem=586\">Binary Quadratic Form</a>\n",
    "\n",
    "## Problem 586\n",
    "\n",
    "<p>\n",
    "The number 209 can be expressed as $a^2 + 3ab + b^2$ in two distinct ways:\n",
    "</p>\n",
    "<p>\n",
    "$ \\qquad 209 = 8^2 + 3\\cdot 8\\cdot 5 + 5^2$ <br />\n",
    "$ \\qquad 209 = 13^2 + 3\\cdot13\\cdot 1 + 1^2$\n",
    "</p>\n",
    "<p>\n",
    "Let $f(n,r)$ be the number of integers $k$ not exceeding $n$ that can be expressed as $k=a^2 + 3ab + b^2$, with $a\\gt b&gt;0$ integers, in exactly $r$ different ways.\n",
    "</p>\n",
    "<p>\n",
    "You are given that $f(10^5, 4) = 237$ and $f(10^8, 6) = 59517$.\n",
    "</p>\n",
    "<p>\n",
    "Find $f(10^{15}, 40)$.\n",
    "</p>\n"
   ]
  },
  {
   "cell_type": "markdown",
   "id": "1",
   "metadata": {},
   "source": [
    "# Solution\n"
   ]
  },
  {
   "cell_type": "code",
   "execution_count": null,
   "id": "2",
   "metadata": {},
   "outputs": [],
   "source": []
  }
 ],
 "metadata": {},
 "nbformat": 4,
 "nbformat_minor": 5
}
