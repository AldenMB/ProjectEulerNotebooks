{
 "cells": [
  {
   "cell_type": "markdown",
   "id": "0",
   "metadata": {},
   "source": [
    "# <a href=\"https://projecteuler.net/problem=455\">Powers With Trailing Digits</a>\n",
    "\n",
    "## Problem 455\n",
    "\n",
    "<p>Let f(n) be the largest positive integer x less than 10<sup>9</sup> such that the last 9 digits of n<sup>x</sup> form the number <i>x</i> (including leading zeros), or zero if no such integer exists.</p>\n",
    "\n",
    "<p>For example:</p>\n",
    "\n",
    "<ul><li>f(4) = 411728896 (4<sup>411728896</sup> = ...490<u>411728896</u>) </li>\n",
    "<li>f(10) = 0</li>\n",
    "<li>f(157) = 743757 (157<sup>743757</sup> = ...567<u>000743757</u>)</li>\n",
    "<li><span style=\"font-size:larger;\"><span style=\"font-size:larger;\">∑</span></span> f(n), 2 ≤ n ≤ 10<sup>3</sup> = 442530011399</li>\n",
    "</ul><p>Find <span style=\"font-size:larger;\"><span style=\"font-size:larger;\">∑</span></span> f(n), 2 ≤ n ≤ 10<sup>6</sup>.</p>\n",
    "\n"
   ]
  },
  {
   "cell_type": "markdown",
   "id": "1",
   "metadata": {},
   "source": [
    "# Solution\n"
   ]
  },
  {
   "cell_type": "code",
   "execution_count": null,
   "id": "2",
   "metadata": {},
   "outputs": [],
   "source": []
  }
 ],
 "metadata": {},
 "nbformat": 4,
 "nbformat_minor": 5
}
