{
 "cells": [
  {
   "cell_type": "markdown",
   "id": "0",
   "metadata": {},
   "source": [
    "# <a href=\"https://projecteuler.net/problem=358\">Cyclic numbers</a>\n",
    "\n",
    "## Problem 358\n",
    "\n",
    "<p>A <b>cyclic number</b> with <var>n</var> digits has a very interesting property:<br />\n",
    "When it is multiplied by 1, 2, 3, 4, ... <var>n</var>, all the products have exactly the same digits, in the same order, but rotated in a circular fashion!\n",
    "</p>\n",
    "\n",
    "<p>\n",
    "The smallest cyclic number is the 6-digit number 142857 :<br />\n",
    "142857 × 1 = 142857<br />\n",
    "142857 × 2 = 285714<br />\n",
    "142857 × 3 = 428571<br />\n",
    "142857 × 4 = 571428<br />\n",
    "142857 × 5 = 714285<br />\n",
    "142857 × 6 = 857142  \n",
    "</p>\n",
    "\n",
    "<p>\n",
    "The next cyclic number is 0588235294117647 with 16 digits :<br />\n",
    "0588235294117647 × 1 = 0588235294117647<br />\n",
    "0588235294117647 × 2 = 1176470588235294<br />\n",
    "0588235294117647 × 3 = 1764705882352941<br />\n",
    "...<br />\n",
    "0588235294117647 × 16 = 9411764705882352\n",
    "</p>\n",
    "\n",
    "<p>\n",
    "Note that for cyclic numbers, leading zeros are important.\n",
    "</p>\n",
    "\n",
    "<p>\n",
    "There is only one cyclic number for which, the eleven leftmost digits are 00000000137 and the five rightmost digits are 56789 (i.e., it has the form 00000000137...56789 with an unknown number of digits in the middle). Find the sum of all its digits.\n",
    "</p>\n",
    "\n"
   ]
  },
  {
   "cell_type": "markdown",
   "id": "1",
   "metadata": {},
   "source": [
    "# Solution\n"
   ]
  },
  {
   "cell_type": "code",
   "execution_count": null,
   "id": "2",
   "metadata": {},
   "outputs": [],
   "source": []
  }
 ],
 "metadata": {},
 "nbformat": 4,
 "nbformat_minor": 5
}
