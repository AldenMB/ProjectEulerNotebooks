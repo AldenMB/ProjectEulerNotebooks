{
 "cells": [
  {
   "cell_type": "markdown",
   "id": "0",
   "metadata": {},
   "source": [
    "# <a href=\"http://projecteuler.net/problem=856\">Waiting for a Pair</a>\n",
    "\n",
    "## Problem 856\n",
    "\n",
    "<p>A standard 52-card deck comprises 13 ranks in four suits. A <i>pair</i> is a set of two cards of the same rank.</p>\n",
    "\n",
    "<p>Cards are drawn, without replacement, from a well shuffled 52-card deck waiting for consecutive cards that form a pair. For example, the probability of finding a pair in the first two draws is $\\frac{1}{17}$.</p>\n",
    "\n",
    "<p>Cards are drawn until either such a pair is found or the pack is exhausted waiting for one. In the latter case we say that all 52 cards were drawn.</p>\n",
    "\n",
    "<p>Find the expected number of cards that were drawn. Give your answer rounded to eight places after the decimal point.</p>\n"
   ]
  },
  {
   "cell_type": "markdown",
   "id": "1",
   "metadata": {},
   "source": [
    "# Solution\n"
   ]
  },
  {
   "cell_type": "code",
   "execution_count": null,
   "id": "2",
   "metadata": {},
   "outputs": [],
   "source": []
  }
 ],
 "metadata": {},
 "nbformat": 4,
 "nbformat_minor": 5
}
