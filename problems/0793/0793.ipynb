{
 "cells": [
  {
   "cell_type": "markdown",
   "id": "0",
   "metadata": {},
   "source": [
    "# <a href=\"https://projecteuler.net/problem=793\">Median of Products</a>\n",
    "\n",
    "## Problem 793\n",
    "\n",
    "<p>\n",
    "Let $S_i$ be an integer sequence produced with the following pseudo-random number generator:\n",
    "</p>\n",
    "<ul>\n",
    "<li>$S_0 = 290797$</li>\n",
    "<li> $S_{i+1} = S_i ^2 \\bmod 50515093$</li>\n",
    "</ul>\n",
    "<p>\n",
    "Let $M(n)$ be the median of the pairwise products $ S_i S_j $ for $0 \\le i \\lt j \\lt n$.\n",
    "</p>\n",
    "<p>\n",
    "You are given $M(3) = 3878983057768$ and $M(103) = 492700616748525$.\n",
    "</p>\n",
    "<p>\n",
    "Find $M(1\\,000\\,003)$.\n",
    "</p>\n",
    "\n"
   ]
  },
  {
   "cell_type": "markdown",
   "id": "1",
   "metadata": {},
   "source": [
    "# Solution\n"
   ]
  },
  {
   "cell_type": "code",
   "execution_count": null,
   "id": "2",
   "metadata": {},
   "outputs": [],
   "source": []
  }
 ],
 "metadata": {},
 "nbformat": 4,
 "nbformat_minor": 5
}
