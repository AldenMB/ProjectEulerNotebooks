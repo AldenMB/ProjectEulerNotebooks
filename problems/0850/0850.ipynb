{
 "cells": [
  {
   "cell_type": "markdown",
   "id": "0",
   "metadata": {},
   "source": [
    "# <a href=\"http://projecteuler.net/problem=850\">Fractions of Powers</a>\n",
    "\n",
    "## Problem 850\n",
    "\n",
    "<p>Any positive real number $x$ can be decomposed into integer and fractional parts $\\lfloor x \\rfloor + \\{x\\}$, where $\\lfloor x \\rfloor$ (the floor function) is an integer, and $0\\le \\{x\\} &lt; 1$.</p>\n",
    "\n",
    "<p>For positive integers $k$ and $n$, define the function\n",
    "\\begin{align}\n",
    "f_k(n) = \\sum_{i=1}^{n}\\left\\{ \\frac{i^k}{n} \\right\\}\n",
    "\\end{align}\n",
    "For example, $f_5(10)=4.5$ and $f_7(1234)=616.5$.</p>\n",
    "\n",
    "<p>Let\n",
    "\\begin{align}\n",
    "S(N) = \\sum_{\\substack{k=1 \\\\ k\\text{ odd}}}^{N} \\sum_{n=1}^{N}  f_k(n)\n",
    "\\end{align}\n",
    "You are given that $S(10)=100.5$ and $S(10^3)=123687804$.</p>\n",
    "\n",
    "<p>Find $\\lfloor S(33557799775533) \\rfloor$. Give your answer modulo 977676779.</p>\n",
    "\n"
   ]
  },
  {
   "cell_type": "markdown",
   "id": "1",
   "metadata": {},
   "source": [
    "# Solution\n"
   ]
  },
  {
   "cell_type": "code",
   "execution_count": null,
   "id": "2",
   "metadata": {},
   "outputs": [],
   "source": []
  }
 ],
 "metadata": {},
 "nbformat": 4,
 "nbformat_minor": 5
}
