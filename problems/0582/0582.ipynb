{
 "cells": [
  {
   "cell_type": "markdown",
   "id": "0",
   "metadata": {},
   "source": [
    "# <a href=\"https://projecteuler.net/problem=582\">Nearly isosceles 120 degree triangles</a>\n",
    "\n",
    "## Problem 582\n",
    "\n",
    "<p>\n",
    "Let a, b and c be the sides of an integer sided triangle with one angle of 120 degrees, a≤b≤c and b-a≤100.<br />\n",
    "Let T(<var>n</var>) be the number of such triangles with c≤<var>n</var>.<br />\n",
    "T(1000)=235 and T(10<sup>8</sup>)=1245.<br />\n",
    "Find T(10<sup>100</sup>).\n",
    "</p>\n"
   ]
  },
  {
   "cell_type": "markdown",
   "id": "1",
   "metadata": {},
   "source": [
    "# Solution\n"
   ]
  },
  {
   "cell_type": "code",
   "execution_count": null,
   "id": "2",
   "metadata": {},
   "outputs": [],
   "source": []
  }
 ],
 "metadata": {},
 "nbformat": 4,
 "nbformat_minor": 5
}
