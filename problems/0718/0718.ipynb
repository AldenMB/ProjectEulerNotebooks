{
 "cells": [
  {
   "cell_type": "markdown",
   "id": "0",
   "metadata": {},
   "source": [
    "# <a href=\"https://projecteuler.net/problem=718\">Unreachable Numbers</a>\n",
    "\n",
    "## Problem 718\n",
    "\n",
    "<p>Consider the equation\n",
    "$17^pa+19^pb+23^pc = n$ where $a$, $b$, $c$ and $p$ are positive integers, i.e.\n",
    "$a,b,c,p&gt;0$.</p>\n",
    "\n",
    "<p>For a given $p$ there are some values of $n &gt; 0$ for which the equation cannot be solved. We call these <i>unreachable values</i>.</p>\n",
    "\n",
    "<p>Define $G(p)$ to be the sum of all unreachable values of $n$ for the given value of $p$. For example $G(1) = 8253$ and $G(2)= 60258000$.</p>\n",
    "\n",
    "<p>Find $G(6)$. Give your answer modulo $1\\,000\\,000\\,007$.</p>\n"
   ]
  },
  {
   "cell_type": "markdown",
   "id": "1",
   "metadata": {},
   "source": [
    "# Solution\n"
   ]
  },
  {
   "cell_type": "code",
   "execution_count": null,
   "id": "2",
   "metadata": {},
   "outputs": [],
   "source": []
  }
 ],
 "metadata": {},
 "nbformat": 4,
 "nbformat_minor": 5
}
