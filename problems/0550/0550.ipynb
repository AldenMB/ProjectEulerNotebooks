{
 "cells": [
  {
   "cell_type": "markdown",
   "id": "0",
   "metadata": {},
   "source": [
    "# <a href=\"https://projecteuler.net/problem=550\">Divisor game</a>\n",
    "\n",
    "## Problem 550\n",
    "\n",
    "<p>\n",
    "Two players are playing a game, alternating turns. There are <var>k</var> piles of stones.\n",
    "On each turn, a player has to choose a pile and replace it with two piles of stones under the following two conditions:\n",
    "</p>\n",
    "\n",
    "<ul><li> Both new piles must have a number of stones more than one and less than the number of stones of the original pile.</li>\n",
    "<li> The number of stones of each of the new piles must be a divisor of the number of stones of the original pile.</li></ul><p>\n",
    "The first player unable to make a valid move loses.\n",
    "<br />\n",
    "Let f(<var>n</var>,<var>k</var>) be the number of winning positions for the first player, assuming perfect play, when the game is played with <var>k</var> piles each having between 2 and <var>n</var> stones (inclusively).<br />f(10,5)=40085.\n",
    "</p>\n",
    "<p>\n",
    "Find  f(10<sup>7</sup>,10<sup>12</sup>).<br />Give your answer modulo 987654321.\n",
    "</p>\n",
    "\n"
   ]
  },
  {
   "cell_type": "markdown",
   "id": "1",
   "metadata": {},
   "source": [
    "# Solution\n"
   ]
  },
  {
   "cell_type": "code",
   "execution_count": null,
   "id": "2",
   "metadata": {},
   "outputs": [],
   "source": []
  }
 ],
 "metadata": {},
 "nbformat": 4,
 "nbformat_minor": 5
}
