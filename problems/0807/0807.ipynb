{
 "cells": [
  {
   "cell_type": "markdown",
   "id": "0",
   "metadata": {},
   "source": [
    "# <a href=\"http://projecteuler.net/problem=807\">Loops of Ropes</a>\n",
    "\n",
    "## Problem 807\n",
    "\n",
    "<p>Given a circle $C$ and an integer $n &gt; 1$, we perform the following operations.</p>\n",
    "\n",
    "<p>In step $0$, we choose two uniformly random points $R_0$ and $B_0$ on $C$.<br />\n",
    "In step $i$ ($1 \\leq i &lt; n$), we first choose a uniformly random point $R_i$ on $C$ and connect the points $R_{i - 1}$ and $R_i$ with a red rope; then choose a uniformly random point $B_i$ on $C$ and connect the points $B_{i - 1}$ and $B_i$ with a blue rope.<br />\n",
    "In step $n$, we first connect the points $R_{n - 1}$ and $R_0$ with a red rope; then connect the points $B_{n - 1}$ and $B_0$ with a blue rope.<br />\n",
    "Each rope is straight between its two end points, and lies above all previous ropes.</p>\n",
    "\n",
    "<p>After step $n$, we get a loop of red ropes, and a loop of blue ropes.<br />\n",
    "Sometimes the two loops can be separated, as in the left figure below; sometimes they are \"linked\", hence cannot be separated, as in the middle and right figures below.</p>\n",
    "\n",
    "<div style=\"text-align:center;\">\n",
    "<img src=\"p807.jpg\" class=\"dark_img\" alt=\"\" />\n",
    "</div>\n",
    "\n",
    "<p>Let $P(n)$ be the probability that the two loops can be separated.<br />\n",
    "For example, $P(3) = \\frac{11}{20}$ and $P(5) \\approx 0.4304177690$.</p>\n",
    "\n",
    "<p>Find $P(80)$, rounded to $10$ digits after decimal point.</p>\n"
   ]
  },
  {
   "cell_type": "markdown",
   "id": "1",
   "metadata": {},
   "source": [
    "# Solution\n"
   ]
  },
  {
   "cell_type": "code",
   "execution_count": null,
   "id": "2",
   "metadata": {},
   "outputs": [],
   "source": []
  }
 ],
 "metadata": {},
 "nbformat": 4,
 "nbformat_minor": 5
}
