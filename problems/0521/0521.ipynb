{
 "cells": [
  {
   "cell_type": "markdown",
   "id": "0",
   "metadata": {},
   "source": [
    "# <a href=\"https://projecteuler.net/problem=521\">Smallest prime factor</a>\n",
    "\n",
    "## Problem 521\n",
    "\n",
    "<p>\n",
    "Let smpf(<var>n</var>) be the smallest prime factor of <var>n</var>.<br />\n",
    "smpf(91)=7 because 91=7×13 and smpf(45)=3 because 45=3×3×5.<br />\n",
    "Let S(<var>n</var>) be the sum of smpf(<var>i</var>) for 2 ≤ <var>i</var> ≤ <var>n</var>.<br />\n",
    "E.g. S(100)=1257.\n",
    "</p>\n",
    "\n",
    "<p>\n",
    "Find S(10<sup>12</sup>) mod 10<sup>9</sup>.\n",
    "</p>\n",
    "\n"
   ]
  },
  {
   "cell_type": "markdown",
   "id": "1",
   "metadata": {},
   "source": [
    "# Solution\n"
   ]
  },
  {
   "cell_type": "code",
   "execution_count": null,
   "id": "2",
   "metadata": {},
   "outputs": [],
   "source": []
  }
 ],
 "metadata": {},
 "nbformat": 4,
 "nbformat_minor": 5
}
