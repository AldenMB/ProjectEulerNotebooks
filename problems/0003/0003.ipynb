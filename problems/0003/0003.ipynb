{
 "cells": [
  {
   "cell_type": "markdown",
   "id": "0",
   "metadata": {},
   "source": [
    "# <a href=\"https://projecteuler.net/problem=3\">Largest prime factor</a>\n",
    "\n",
    "## Problem 3\n",
    "\n",
    "<p>The prime factors of 13195 are 5, 7, 13 and 29.</p>\n",
    "<p>What is the largest prime factor of the number 600851475143 ?</p>\n",
    "\n",
    "\n"
   ]
  },
  {
   "cell_type": "markdown",
   "id": "1",
   "metadata": {},
   "source": [
    "# Solution\n"
   ]
  },
  {
   "cell_type": "code",
   "execution_count": null,
   "id": "2",
   "metadata": {},
   "outputs": [],
   "source": []
  }
 ],
 "metadata": {},
 "nbformat": 4,
 "nbformat_minor": 5
}
