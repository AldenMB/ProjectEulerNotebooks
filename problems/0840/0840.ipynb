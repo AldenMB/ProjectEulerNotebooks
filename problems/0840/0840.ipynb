{
 "cells": [
  {
   "cell_type": "markdown",
   "id": "0",
   "metadata": {},
   "source": [
    "# <a href=\"http://projecteuler.net/problem=840\">Sum of Products</a>\n",
    "\n",
    "## Problem 840\n",
    "\n",
    "<p>A <b>partition</b> of $n$ is a set of positive integers for which the sum equals $n$.<br>\n",
    "The partitions of 5 are:<br>\n",
    "$\\{5\\},\\{1,4\\},\\{2,3\\},\\{1,1,3\\},\\{1,2,2\\},\\{1,1,1,2\\}$ and $\\{1,1,1,1,1\\}$.\n",
    "</p>\n",
    "<p>\n",
    "Further we define the function $D(p)$ as:<br>\n",
    "$$\n",
    "\\begin{align}\n",
    "\\begin{split}\n",
    "D(1) &amp;= 1 \\\\\n",
    "D(p) &amp;= 1, \\text{ for any prime } p \\\\\n",
    "D(pq) &amp;= D(p)q + pD(q), \\text{ for any positive integers } p,q &gt;1.\n",
    "\\end{split}\n",
    "\\end{align}\n",
    "$$\n",
    "</p>\n",
    "<p>\n",
    "Now let $\\{a_1, a_2,\\ldots,a_k\\}$ be a partition of $n$.<br>\n",
    "We assign to this particular partition the value:<br> $$P=\\prod_{j=1}^{k}D(a_j). $$\n",
    "</p>\n",
    "<p>\n",
    "$G(n)$ is the sum of $P$ for all partitions of $n$.<br>\n",
    "We can verify that $G(10) = 164$.\n",
    "</p>\n",
    "We also define:\n",
    "$$S(N)=\\sum_{n=1}^{N}G(n).$$\n",
    "You are given $S(10)=396$.<br>\n",
    "Find $S(5\\times 10^4) \\mod 999676999$.\n",
    "\n"
   ]
  },
  {
   "cell_type": "markdown",
   "id": "1",
   "metadata": {},
   "source": [
    "# Solution\n"
   ]
  },
  {
   "cell_type": "code",
   "execution_count": null,
   "id": "2",
   "metadata": {},
   "outputs": [],
   "source": []
  }
 ],
 "metadata": {},
 "nbformat": 4,
 "nbformat_minor": 5
}
