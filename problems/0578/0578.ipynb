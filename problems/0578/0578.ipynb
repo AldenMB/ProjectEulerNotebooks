{
 "cells": [
  {
   "cell_type": "markdown",
   "id": "0",
   "metadata": {},
   "source": [
    "# <a href=\"https://projecteuler.net/problem=578\">Integers with decreasing prime powers</a>\n",
    "\n",
    "## Problem 578\n",
    "\n",
    "<p>Any positive integer can be written as a product of prime powers: <var>p</var><sub>1</sub><sup><var>a</var><sub>1</sub></sup> × <var>p</var><sub>2</sub><sup><var>a</var><sub>2</sub></sup> × ... × <var>p<sub>k</sub><sup>a<sub>k</sub></sup></var>,<br />\n",
    "where <var>p<sub>i</sub></var> are distinct prime integers, <var>a<sub>i</sub></var> &gt; 0 and <var>p<sub>i</sub></var> &lt; <var>p<sub>j</sub></var> if <var>i</var> &lt; <var>j</var>.</p>\n",
    "\n",
    "<p>A <i>decreasing prime power</i> positive integer is one for which <var>a<sub>i</sub></var> ≥ <var>a<sub>j</sub></var> if <var>i</var> &lt; <var>j</var>.<br />\n",
    "For example, 1, 2, 15=3×5, 360=2<sup>3</sup>×3<sup>2</sup>×5 and 1000=2<sup>3</sup>×5<sup>3</sup> are decreasing prime power integers.</p>\n",
    "\n",
    "<p>Let C(<var>n</var>) be the count of decreasing prime power positive integers not exceeding <var>n</var>.<br />\n",
    "C(100) = 94 since all positive integers not exceeding 100 have decreasing prime powers except 18, 50, 54, 75, 90 and 98.<br />\n",
    "You are given C(10<sup>6</sup>) = 922052.</p>\n",
    "\n",
    "<p>Find C(10<sup>13</sup>).</p>\n",
    "\n"
   ]
  },
  {
   "cell_type": "markdown",
   "id": "1",
   "metadata": {},
   "source": [
    "# Solution\n"
   ]
  },
  {
   "cell_type": "code",
   "execution_count": null,
   "id": "2",
   "metadata": {},
   "outputs": [],
   "source": []
  }
 ],
 "metadata": {},
 "nbformat": 4,
 "nbformat_minor": 5
}
