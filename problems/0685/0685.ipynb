{
 "cells": [
  {
   "cell_type": "markdown",
   "id": "0",
   "metadata": {},
   "source": [
    "# <a href=\"https://projecteuler.net/problem=685\">Inverse Digit Sum II</a>\n",
    "\n",
    "## Problem 685\n",
    "\n",
    "<p>Writing down the numbers which have a digit sum of 10 in ascending order, we get:\n",
    "$19, 28, 37, 46,55,64,73,82,91,109, 118,\\dots$</p>\n",
    "<p>\n",
    "Let $f(n,m)$ be the $m^{\\text{th}}$ occurrence of the digit sum $n$. For example, $f(10,1)=19$, $f(10,10)=109$ and $f(10,100)=1423$.</p>\n",
    "<p>\n",
    "Let $\\displaystyle S(k)=\\sum_{n=1}^k f(n^3,n^4)$. For example $S(3)=7128$ and $S(10)\\equiv 32287064 \\mod 1\\,000\\,000\\,007$.</p>\n",
    "<p>\n",
    "Find $S(10\\,000)$ modulo $1\\,000\\,000\\,007$.</p>\n"
   ]
  },
  {
   "cell_type": "markdown",
   "id": "1",
   "metadata": {},
   "source": [
    "# Solution\n"
   ]
  },
  {
   "cell_type": "code",
   "execution_count": null,
   "id": "2",
   "metadata": {},
   "outputs": [],
   "source": []
  }
 ],
 "metadata": {},
 "nbformat": 4,
 "nbformat_minor": 5
}
