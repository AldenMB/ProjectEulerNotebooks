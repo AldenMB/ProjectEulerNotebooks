{
 "cells": [
  {
   "cell_type": "markdown",
   "id": "0",
   "metadata": {},
   "source": [
    "# <a href=\"http://projecteuler.net/problem=847\">Jack's Bean</a>\n",
    "\n",
    "## Problem 847\n",
    "\n",
    "<p>\n",
    "Jack has three plates in front of him. The giant has $N$ beans that he distributes to the three plates. All the beans look the same, but one of them is a magic bean. Jack doesn't know which one it is, but the giant knows.</p>\n",
    "\n",
    "<p>\n",
    "Jack can ask the giant questions of the form: \"Does this subset of the beans contain the magic bean?\" In each question Jack may choose any subset of beans from a single plate, and the giant will respond truthfully.</p>\n",
    "\n",
    "<p>\n",
    "If the three plates contain $a$, $b$ and $c$ beans respectively, we let $h(a, b, c)$ be the minimal number of questions Jack needs to ask in order to guarantee he locates the magic bean. For example, $h(1, 2, 3) = 3$ and $h(2, 3, 3) = 4$.</p>\n",
    "\n",
    "<p>\n",
    "Let $H(N)$ be the sum of $h(a, b, c)$ over all triples of non-negative integers $a$, $b$, $c$ with $1 \\leq a + b + c \\leq N$.<br>\n",
    "You are given: $H(6) = 203$ and $H(20) = 7718$.</p>\n",
    "\n",
    "<p>\n",
    "A <strong>repunit</strong>, $R_n$, is a number made up with $n$ digits all '1'. For example, $R_3 = 111$ and $H(R_3) = 1634144$.</p>\n",
    "\n",
    "<p>\n",
    "Find $H(R_{19})$. Give your answer modulo  $1\\,000\\,000\\,007$.</p>\n"
   ]
  },
  {
   "cell_type": "markdown",
   "id": "1",
   "metadata": {},
   "source": [
    "# Solution\n"
   ]
  },
  {
   "cell_type": "code",
   "execution_count": null,
   "id": "2",
   "metadata": {},
   "outputs": [],
   "source": []
  }
 ],
 "metadata": {},
 "nbformat": 4,
 "nbformat_minor": 5
}
