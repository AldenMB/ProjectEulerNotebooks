{
 "cells": [
  {
   "cell_type": "markdown",
   "id": "0",
   "metadata": {},
   "source": [
    "# <a href=\"https://projecteuler.net/problem=454\">Diophantine reciprocals III</a>\n",
    "\n",
    "## Problem 454\n",
    "\n",
    "<p>In the following equation <var>x</var>, <var>y</var>, and <var>n</var> are positive integers.</p>\n",
    "$$\\dfrac{1}{x} + \\dfrac{1}{y} = \\dfrac{1}{n}$$\n",
    "<p>For a limit <var>L</var> we define F(<var>L</var>) as the number of solutions which satisfy <var>x</var> &lt; <var>y</var> ≤ <var>L</var>.</p>\n",
    "\n",
    "<p>We can verify that F(15) = 4 and F(1000) = 1069.<br />\n",
    "Find F(10<sup>12</sup>).</p>\n"
   ]
  },
  {
   "cell_type": "markdown",
   "id": "1",
   "metadata": {},
   "source": [
    "# Solution\n"
   ]
  },
  {
   "cell_type": "code",
   "execution_count": null,
   "id": "2",
   "metadata": {},
   "outputs": [],
   "source": []
  }
 ],
 "metadata": {},
 "nbformat": 4,
 "nbformat_minor": 5
}
