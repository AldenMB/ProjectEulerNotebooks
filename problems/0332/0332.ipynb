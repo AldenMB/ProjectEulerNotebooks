{
 "cells": [
  {
   "cell_type": "markdown",
   "id": "0",
   "metadata": {},
   "source": [
    "# <a href=\"https://projecteuler.net/problem=332\">Spherical triangles</a>\n",
    "\n",
    "## Problem 332\n",
    "\n",
    "<p>A <b>spherical triangle</b> is a figure formed on the surface of a sphere by three <b>great circular arcs</b> intersecting pairwise in three vertices.</p>\n",
    "\n",
    "<div align=\"center\"><img src=\"p332_spherical.jpg\" class=\"dark_img\" alt=\"p332_spherical.jpg\" /></div>\n",
    "\n",
    "\n",
    "<p>Let C(<var>r</var>) be the sphere with the centre (0,0,0) and radius <var>r</var>.<br />\n",
    "Let Z(<var>r</var>) be the set of points on the surface of C(<var>r</var>) with integer coordinates.<br />\n",
    "Let T(<var>r</var>) be the set of spherical triangles with vertices in Z(<var>r</var>).\n",
    "Degenerate spherical triangles, formed by three points on the same great arc, are <u>not</u> included in T(<var>r</var>).<br />\n",
    "Let A(<var>r</var>) be the area of the smallest spherical triangle in T(<var>r</var>).</p>\n",
    "\n",
    "<p>For example A(14) is 3.294040 rounded to six decimal places.</p>\n",
    "\n",
    "<p>Find $\\sum \\limits_{r = 1}^{50} {A(r)}$. Give your answer rounded to six decimal places.</p>\n",
    "\n"
   ]
  },
  {
   "cell_type": "markdown",
   "id": "1",
   "metadata": {},
   "source": [
    "# Solution\n"
   ]
  },
  {
   "cell_type": "code",
   "execution_count": null,
   "id": "2",
   "metadata": {},
   "outputs": [],
   "source": []
  }
 ],
 "metadata": {},
 "nbformat": 4,
 "nbformat_minor": 5
}
