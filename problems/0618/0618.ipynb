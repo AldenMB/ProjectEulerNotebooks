{
 "cells": [
  {
   "cell_type": "markdown",
   "id": "0",
   "metadata": {},
   "source": [
    "# <a href=\"https://projecteuler.net/problem=618\">Numbers with a given prime factor sum</a>\n",
    "\n",
    "## Problem 618\n",
    "\n",
    "<p>Consider the numbers 15, 16 and 18:<br />\n",
    "$15=3\\times 5$ and $3+5=8$.<br />\n",
    "$16 = 2\\times 2\\times 2\\times 2$ and $2+2+2+2=8$.<br />\n",
    "$18 = 2\\times 3\\times 3$ and $2+3+3=8$.<br /> \n",
    "\n",
    "15, 16 and 18 are the only numbers that have 8 as sum of the prime factors (counted with multiplicity).</p>\n",
    "<p>\n",
    "We define $S(k)$ to be the sum of all numbers $n$ where the sum of the prime factors (with multiplicity)  of $n$ is $k$.<br />\n",
    "Hence $S(8) = 15+16+18 = 49$.<br />\n",
    "Other examples: $S(1) = 0$, $S(2) = 2$, $S(3) = 3$, $S(5) = 5 + 6 = 11$.</p>\n",
    "<p>\n",
    "The Fibonacci sequence is $F_1 = 1, F_2 = 1, F_3 = 2, F_4 = 3, F_5 = 5$, ....<br />\n",
    "Find the last nine digits of $\\displaystyle\\sum_{k=2}^{24}{S(F_k)}$.</p>\n",
    "\n"
   ]
  },
  {
   "cell_type": "markdown",
   "id": "1",
   "metadata": {},
   "source": [
    "# Solution\n"
   ]
  },
  {
   "cell_type": "code",
   "execution_count": null,
   "id": "2",
   "metadata": {},
   "outputs": [],
   "source": []
  }
 ],
 "metadata": {},
 "nbformat": 4,
 "nbformat_minor": 5
}
