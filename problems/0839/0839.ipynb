{
 "cells": [
  {
   "cell_type": "markdown",
   "id": "0",
   "metadata": {},
   "source": [
    "# <a href=\"http://projecteuler.net/problem=839\">Beans in Bowls</a>\n",
    "\n",
    "## Problem 839\n",
    "\n",
    "<p>\n",
    "The sequence $S_n$ is defined by $S_0 = 290797$ and $S_n = S_{n - 1}^2 \\bmod 50515093$ for $n &gt; 0$.</p>\n",
    "\n",
    "<p>There are $N$ bowls indexed $0,1,\\dots ,N-1$. Initially there are $S_n$ beans in bowl $n$.</p>\n",
    "\n",
    "<p>\n",
    "At each step, the smallest index $n$ is found such that bowl $n$ has strictly more beans than bowl $n+1$. Then one bean is moved from bowl $n$ to bowl $n+1$.</p>\n",
    "\n",
    "<p>\n",
    "Let $B(N)$ be the number of steps needed to sort the bowls into non-descending order.<br>\n",
    "For example, $B(5) = 0$, $B(6) = 14263289$ and $B(100)=3284417556$.</p>\n",
    "\n",
    "<p>\n",
    "Find $B(10^7)$.</p>\n"
   ]
  },
  {
   "cell_type": "markdown",
   "id": "1",
   "metadata": {},
   "source": [
    "# Solution\n"
   ]
  },
  {
   "cell_type": "code",
   "execution_count": null,
   "id": "2",
   "metadata": {},
   "outputs": [],
   "source": []
  }
 ],
 "metadata": {},
 "nbformat": 4,
 "nbformat_minor": 5
}
