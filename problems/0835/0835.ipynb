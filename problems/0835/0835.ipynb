{
 "cells": [
  {
   "cell_type": "markdown",
   "id": "0",
   "metadata": {},
   "source": [
    "# <a href=\"http://projecteuler.net/problem=835\">Supernatural Triangles</a>\n",
    "\n",
    "## Problem 835\n",
    "\n",
    "<p>\n",
    "A <strong>Pythagorean triangle</strong> is called <dfn>supernatural</dfn> if two of its three sides are consecutive<span style=\"white-space:nowrap;\"> \n",
    " integers.</span>\n",
    "</p>\n",
    "<p>\n",
    "Let $S(N)$ be the sum of the perimeters of all distinct supernatural triangles with perimeters less than or equal <span style=\"white-space:nowrap;\"> to $N$.</span><br>\n",
    "For example, $S(100) = 258$ and <span style=\"white-space:nowrap;\"> $S(10000) = 172004$.</span>\n",
    "</p>\n",
    "<p>\n",
    "Find $S(10^{10^{10}})$. Give your answer modulo $1234567891$.\n",
    "</p>\n"
   ]
  },
  {
   "cell_type": "markdown",
   "id": "1",
   "metadata": {},
   "source": [
    "# Solution\n"
   ]
  },
  {
   "cell_type": "code",
   "execution_count": null,
   "id": "2",
   "metadata": {},
   "outputs": [],
   "source": []
  }
 ],
 "metadata": {},
 "nbformat": 4,
 "nbformat_minor": 5
}
