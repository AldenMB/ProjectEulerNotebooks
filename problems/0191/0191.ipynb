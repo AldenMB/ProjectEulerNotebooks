{
 "cells": [
  {
   "cell_type": "markdown",
   "id": "0",
   "metadata": {},
   "source": [
    "# <a href=\"https://projecteuler.net/problem=191\">Prize Strings</a>\n",
    "\n",
    "## Problem 191\n",
    "\n",
    "<p>A particular school offers cash rewards to children with good attendance and punctuality. If they are absent for three consecutive days or late on more than one occasion then they forfeit their prize.</p>\n",
    "\n",
    "<p>During an n-day period a trinary string is formed for each child consisting of L's (late), O's (on time), and A's (absent).</p>\n",
    "\n",
    "<p>Although there are eighty-one trinary strings for a 4-day period that can be formed, exactly forty-three strings would lead to a prize:</p>\n",
    "\n",
    "<p style=\"margin-left:50px;font-family:'Courier New', monospace;\">OOOO OOOA OOOL OOAO OOAA OOAL OOLO OOLA OAOO OAOA<br />\n",
    "OAOL OAAO OAAL OALO OALA OLOO OLOA OLAO OLAA AOOO<br />\n",
    "AOOA AOOL AOAO AOAA AOAL AOLO AOLA AAOO AAOA AAOL<br />\n",
    "AALO AALA ALOO ALOA ALAO ALAA LOOO LOOA LOAO LOAA<br />\n",
    "LAOO LAOA LAAO</p>\n",
    "\n",
    "<p>How many \"prize\" strings exist over a 30-day period?</p>\n"
   ]
  },
  {
   "cell_type": "markdown",
   "id": "1",
   "metadata": {},
   "source": [
    "# Solution\n"
   ]
  },
  {
   "cell_type": "code",
   "execution_count": null,
   "id": "2",
   "metadata": {},
   "outputs": [],
   "source": []
  }
 ],
 "metadata": {},
 "nbformat": 4,
 "nbformat_minor": 5
}
