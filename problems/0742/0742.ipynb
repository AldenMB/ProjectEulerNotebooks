{
 "cells": [
  {
   "cell_type": "markdown",
   "id": "0",
   "metadata": {},
   "source": [
    "# <a href=\"https://projecteuler.net/problem=742\">Minimum area of a convex grid polygon</a>\n",
    "\n",
    "## Problem 742\n",
    "\n",
    "<p>A <i>symmetrical convex grid polygon</i> is a polygon such that:</p>\n",
    "<ul><li>All its vertices have integer coordinates.</li>\n",
    "<li>All its internal angles are strictly smaller than $180°$.</li>\n",
    "<li>It has both horizontal and vertical symmetry.</li>\n",
    "</ul><p>For example, the left polygon is a convex grid polygon which has neither horizontal nor vertical symmetry, while the right one is a valid symmetrical convex grid polygon with six vertices:</p>\n",
    "<div style=\"text-align:center;\">\n",
    "<img src=\"p742_hexagons.jpg\" class=\"dark_img\" alt=\"\" /></div>\n",
    "\n",
    "<p>Define $A(N)$, the minimum area of a symmetrical convex grid polygon with $N$ vertices.</p>\n",
    "\n",
    "<p>You are given $A(4) = 1$, $A(8) = 7$, $A(40) = 1039$ and $A(100) = 17473$.</p>\n",
    "\n",
    "<p>Find $A(1000)$.</p>\n"
   ]
  },
  {
   "cell_type": "markdown",
   "id": "1",
   "metadata": {},
   "source": [
    "# Solution\n"
   ]
  },
  {
   "cell_type": "code",
   "execution_count": null,
   "id": "2",
   "metadata": {},
   "outputs": [],
   "source": []
  }
 ],
 "metadata": {},
 "nbformat": 4,
 "nbformat_minor": 5
}
