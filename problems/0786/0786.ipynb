{
 "cells": [
  {
   "cell_type": "markdown",
   "id": "0",
   "metadata": {},
   "source": [
    "# <a href=\"https://projecteuler.net/problem=786\">Billiard</a>\n",
    "\n",
    "## Problem 786\n",
    "\n",
    "<p>\n",
    "The following diagram shows a billiard table of a special quadrilateral shape.\n",
    "The four angles $A, B, C, D$ are $120^\\circ, 90^\\circ, 60^\\circ, 90^\\circ$ respectively, and the lengths $AB$ and $AD$ are equal.\n",
    "</p>\n",
    "\n",
    "<div style=\"text-align:center;\">\n",
    "<img src=\"p786_billiard_shape.jpg\" class=\"dark_img\" alt=\"\" height=\"160\" />\n",
    "</div>\n",
    "\n",
    "<p>\n",
    "The diagram on the left shows the trace of an infinitesimally small billiard ball, departing from point $A$, bouncing twice on the edges of the table, and finally returning back to point $A$. The diagram on the right shows another such trace, but this time bouncing eight times:\n",
    "</p>\n",
    "\n",
    "<div style=\"text-align:center;\">\n",
    "<img src=\"p786_billiard_traces.jpg\" class=\"dark_img\" alt=\"\" height=\"160\" />\n",
    "</div>\n",
    "\n",
    "<p>\n",
    "The table has no friction and all bounces are perfect elastic collisions.<br />\n",
    "Note that no bounce should happen on any of the corners, as the behaviour would be unpredictable.\n",
    "</p>\n",
    "\n",
    "<p>\n",
    "Let $B(N)$ be the number of possible traces of the ball, departing from point $A$, bouncing at most $N$ times on the edges and returning back to point $A$.\n",
    "</p>\n",
    "\n",
    "<p>\n",
    "For example, $B(10) = 6$, $B(100) = 478$, $B(1000) = 45790$.\n",
    "</p>\n",
    "\n",
    "<p>\n",
    "Find $B(10^9)$.\n",
    "</p>\n"
   ]
  },
  {
   "cell_type": "markdown",
   "id": "1",
   "metadata": {},
   "source": [
    "# Solution\n"
   ]
  },
  {
   "cell_type": "code",
   "execution_count": null,
   "id": "2",
   "metadata": {},
   "outputs": [],
   "source": []
  }
 ],
 "metadata": {},
 "nbformat": 4,
 "nbformat_minor": 5
}
