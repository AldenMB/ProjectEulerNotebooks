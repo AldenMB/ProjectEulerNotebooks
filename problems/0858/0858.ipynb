{
 "cells": [
  {
   "cell_type": "markdown",
   "id": "0",
   "metadata": {},
   "source": [
    "# <a href=\"http://projecteuler.net/problem=858\">LCM</a>\n",
    "\n",
    "## Problem 858\n",
    "\n",
    "<p>\n",
    "Define $G(N) = \\sum_S \\operatorname{lcm}(S)$ where $S$ ranges through all subsets of $\\{1, \\dots, N\\}$ and $\\operatorname{lcm}$ denotes the lowest common multiple. Note that the $\\operatorname{lcm}$ of the empty set is $1$.</p>\n",
    "\n",
    "<p>\n",
    "You are given $G(5) = 528$ and $G(20) = 8463108648960$.</p>\n",
    "\n",
    "<p>\n",
    "Find $G(800)$. Give your answer modulo $10^9 + 7$.</p>\n"
   ]
  },
  {
   "cell_type": "markdown",
   "id": "1",
   "metadata": {},
   "source": [
    "# Solution\n"
   ]
  },
  {
   "cell_type": "code",
   "execution_count": null,
   "id": "2",
   "metadata": {},
   "outputs": [],
   "source": []
  }
 ],
 "metadata": {},
 "nbformat": 4,
 "nbformat_minor": 5
}
