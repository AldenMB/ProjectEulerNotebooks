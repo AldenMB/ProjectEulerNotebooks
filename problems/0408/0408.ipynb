{
 "cells": [
  {
   "cell_type": "markdown",
   "id": "0",
   "metadata": {},
   "source": [
    "# <a href=\"https://projecteuler.net/problem=408\">Admissible paths through a grid</a>\n",
    "\n",
    "## Problem 408\n",
    "\n",
    "<p>Let's call a lattice point (<var>x</var>, <var>y</var>) <i>inadmissible</i> if <var>x</var>, <var>y</var> and <var>x</var> + <var>y</var> are all positive perfect squares.<br />\n",
    "For example, (9, 16) is inadmissible, while (0, 4), (3, 1) and (9, 4) are not.</p>\n",
    "\n",
    "<p>Consider a path from point (<var>x</var><sub>1</sub>, <var>y</var><sub>1</sub>) to point (<var>x</var><sub>2</sub>, <var>y</var><sub>2</sub>) using only unit steps north or east.<br />\n",
    "Let's call such a path <i>admissible</i> if none of its intermediate points are inadmissible.</p>\n",
    "\n",
    "<p>Let P(<var>n</var>) be the number of admissible paths from (0, 0) to (<var>n</var>, <var>n</var>).<br />\n",
    "It can be verified that P(5) = 252, P(16) = 596994440 and P(1000) mod 1 000 000 007 = 341920854.</p>\n",
    "\n",
    "<p>Find P(10 000 000) mod 1 000 000 007.</p>\n"
   ]
  },
  {
   "cell_type": "markdown",
   "id": "1",
   "metadata": {},
   "source": [
    "# Solution\n"
   ]
  },
  {
   "cell_type": "code",
   "execution_count": null,
   "id": "2",
   "metadata": {},
   "outputs": [],
   "source": []
  }
 ],
 "metadata": {},
 "nbformat": 4,
 "nbformat_minor": 5
}
