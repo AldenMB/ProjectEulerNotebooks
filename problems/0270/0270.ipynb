{
 "cells": [
  {
   "cell_type": "markdown",
   "id": "0",
   "metadata": {},
   "source": [
    "# <a href=\"https://projecteuler.net/problem=270\">Cutting Squares</a>\n",
    "\n",
    "## Problem 270\n",
    "\n",
    "<p>A square piece of paper with integer dimensions N×N is placed with a corner at the origin and two of its sides along the <var>x</var>- and <var>y</var>-axes. Then, we cut it up respecting the following rules:\n",
    "</p><ul><li>We only make straight cuts between two points lying on different sides of the square, and having integer coordinates.</li>\n",
    "<li>Two cuts cannot cross, but several cuts can meet at the same border point.</li>\n",
    "<li>Proceed until no more legal cuts can be made.</li>\n",
    "</ul><p>Counting any reflections or rotations as distinct, we call C(N) the number of ways to cut an N×N square. For example, C(1) = 2 and C(2) = 30 (shown below).</p>\n",
    "<div align=\"center\"><img src=\"p270_CutSquare.gif\" alt=\"p270_CutSquare.gif\" /></div>\n",
    "\n",
    "<p>What is C(30) mod 10<sup>8</sup> ?</p>\n"
   ]
  },
  {
   "cell_type": "markdown",
   "id": "1",
   "metadata": {},
   "source": [
    "# Solution\n"
   ]
  },
  {
   "cell_type": "code",
   "execution_count": null,
   "id": "2",
   "metadata": {},
   "outputs": [],
   "source": []
  }
 ],
 "metadata": {},
 "nbformat": 4,
 "nbformat_minor": 5
}
