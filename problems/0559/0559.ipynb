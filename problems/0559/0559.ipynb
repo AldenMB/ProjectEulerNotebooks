{
 "cells": [
  {
   "cell_type": "markdown",
   "id": "0",
   "metadata": {},
   "source": [
    "# <a href=\"https://projecteuler.net/problem=559\">Permuted Matrices</a>\n",
    "\n",
    "## Problem 559\n",
    "\n",
    "<p>An <b>ascent</b> of a column <var>j</var> in a matrix occurs if the value of column <var>j</var> is smaller than the value of column <var>j</var>+1 in all rows.\n",
    "</p><p>\n",
    "Let P(<var>k</var>, <var>r</var>, <var>n</var>) be the number of <var>r</var> x <var>n</var> matrices with the following properties:</p>\n",
    "\n",
    "<ul><li>The rows are permutations of {1, 2, 3, ... , <var>n</var>}.</li>\n",
    "<li> Numbering the first column as 1, a column ascent occurs at column <var>j</var>&lt;<var>n</var> <b>if and only if</b> <var>j</var> is not a multiple of <var>k</var>.</li>\n",
    "\n",
    "</ul><p>For example, P(1, 2, 3) = 19, P(2, 4, 6) = 65508751 and  P(7, 5, 30) mod 1000000123 = 161858102.</p>\n",
    "\n",
    "Let Q(<var>n</var>) =$\\,  \\displaystyle \\sum_{k=1}^n\\,$ P(<var>k</var>, <var>n</var>, <var>n</var>).<br />\n",
    "For example, Q(5) = 21879393751 and Q(50) mod 1000000123 = 819573537.\n",
    "\n",
    "<p>Find Q(50000) mod 1000000123.</p>\n"
   ]
  },
  {
   "cell_type": "markdown",
   "id": "1",
   "metadata": {},
   "source": [
    "# Solution\n"
   ]
  },
  {
   "cell_type": "code",
   "execution_count": null,
   "id": "2",
   "metadata": {},
   "outputs": [],
   "source": []
  }
 ],
 "metadata": {},
 "nbformat": 4,
 "nbformat_minor": 5
}
