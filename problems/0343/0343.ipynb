{
 "cells": [
  {
   "cell_type": "markdown",
   "id": "0",
   "metadata": {},
   "source": [
    "# <a href=\"https://projecteuler.net/problem=343\">Fractional Sequences</a>\n",
    "\n",
    "## Problem 343\n",
    "\n",
    "<p>For any positive integer <var>k</var>, a finite sequence a<sub><var>i</var></sub> of fractions x<sub><var>i</var></sub>/y<sub><var>i</var></sub> is defined by:<br />\n",
    "a<sub>1</sub> = 1/<var>k</var> and<br />\n",
    "a<sub><var>i</var></sub> = (x<sub><var>i</var>-1</sub>+1)/(y<sub><var>i</var>-1</sub>-1) reduced to lowest terms for <var>i</var>&gt;1.<br />\n",
    "When a<sub><var>i</var></sub> reaches some integer <var>n</var>, the sequence stops. (That is, when y<sub><var>i</var></sub>=1.)<br />\n",
    "Define f(<var>k</var>) = <var>n</var>. <br />\n",
    "For example, for <var>k</var> = 20:\n",
    "</p>\n",
    "\n",
    "<p>\n",
    "1/20 → 2/19 → 3/18 = 1/6 → 2/5 → 3/4 → 4/3 → 5/2 → 6/1 = 6\n",
    "</p>\n",
    "\n",
    "<p>\n",
    "So f(20) = 6.\n",
    "</p>\n",
    "\n",
    "<p>\n",
    "Also f(1) = 1, f(2) = 2, f(3) = 1 and <span style=\"font-size:larger;\"><span style=\"font-size:larger;\">∑</span></span> f(<var>k</var><sup>3</sup>) = 118937 for 1 ≤ <var>k</var> ≤ 100.\n",
    "</p>\n",
    "\n",
    "<p>\n",
    "Find <span style=\"font-size:larger;\"><span style=\"font-size:larger;\">∑</span></span> f(<var>k</var><sup>3</sup>) for 1 ≤ <var>k</var> ≤ 2×10<sup>6</sup>.\n",
    "</p>\n"
   ]
  },
  {
   "cell_type": "markdown",
   "id": "1",
   "metadata": {},
   "source": [
    "# Solution\n"
   ]
  },
  {
   "cell_type": "code",
   "execution_count": null,
   "id": "2",
   "metadata": {},
   "outputs": [],
   "source": []
  }
 ],
 "metadata": {},
 "nbformat": 4,
 "nbformat_minor": 5
}
