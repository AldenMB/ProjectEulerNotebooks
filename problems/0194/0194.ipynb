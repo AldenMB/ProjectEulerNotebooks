{
 "cells": [
  {
   "cell_type": "markdown",
   "id": "0",
   "metadata": {},
   "source": [
    "# <a href=\"https://projecteuler.net/problem=194\">Coloured Configurations</a>\n",
    "\n",
    "## Problem 194\n",
    "\n",
    "<p>Consider graphs built with the units A: <img src=\"p194_GraphA.png\" style=\"vertical-align:middle;\" class=\"dark_img\" alt=\"\" />\n",
    "and B: <img src=\"p194_GraphB.png\" style=\"vertical-align:middle;\" class=\"dark_img\" alt=\"\" />, where the units are glued along\n",
    "the vertical edges as in the graph <img src=\"p194_Fig.png\" class=\"dark_img\" style=\"vertical-align:middle;\" alt=\"\" />.</p>\n",
    "\n",
    "<p>A configuration of type (<var>a</var>,<var>b</var>,<var>c</var>) is a graph thus built of <var>a</var> units A and <var>b</var> units B, where the graph's vertices are coloured using up to <var>c</var> colours, so that no two adjacent vertices have the same colour.<br />\n",
    "The compound graph above is an example of a configuration of type (2,2,6), in fact of type (2,2,<var>c</var>) for all <var>c</var> ≥ 4.</p>\n",
    "\n",
    "<p>Let N(<var>a</var>,<var>b</var>,<var>c</var>) be the number of configurations of type (<var>a</var>,<var>b</var>,<var>c</var>).<br />\n",
    "For example, N(1,0,3) = 24, N(0,2,4) = 92928 and N(2,2,3) = 20736.</p>\n",
    "\n",
    "<p>Find the last 8 digits of N(25,75,1984).</p>\n"
   ]
  },
  {
   "cell_type": "markdown",
   "id": "1",
   "metadata": {},
   "source": [
    "# Solution\n"
   ]
  },
  {
   "cell_type": "code",
   "execution_count": null,
   "id": "2",
   "metadata": {},
   "outputs": [],
   "source": []
  }
 ],
 "metadata": {},
 "nbformat": 4,
 "nbformat_minor": 5
}
