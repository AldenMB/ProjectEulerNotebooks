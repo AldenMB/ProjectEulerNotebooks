{
 "cells": [
  {
   "cell_type": "markdown",
   "id": "0",
   "metadata": {},
   "source": [
    "# <a href=\"http://projecteuler.net/problem=808\">Reversible prime squares</a>\n",
    "\n",
    "## Problem 808\n",
    "\n",
    "<p>\n",
    "Both 169 and 961 are the square of a prime. 169 is the reverse of 961.\n",
    "</p>\n",
    "<p>\n",
    "We call a number a <i>reversible prime square </i> if:</p>\n",
    "<ol>\n",
    "<li>It is not a palindrome, and</li>\n",
    "<li>It is the square of a prime, and</li>\n",
    "<li>Its reverse is also the square of a prime.</li>\n",
    "</ol>\n",
    "<p>\n",
    "169 and 961 are not palindromes, so both are reversible prime squares.\n",
    "</p>\n",
    "<p>\n",
    "Find the sum of the first 50 reversible prime squares.\n",
    "</p>\n"
   ]
  },
  {
   "cell_type": "markdown",
   "id": "1",
   "metadata": {},
   "source": [
    "# Solution\n"
   ]
  },
  {
   "cell_type": "code",
   "execution_count": null,
   "id": "2",
   "metadata": {},
   "outputs": [],
   "source": []
  }
 ],
 "metadata": {},
 "nbformat": 4,
 "nbformat_minor": 5
}
