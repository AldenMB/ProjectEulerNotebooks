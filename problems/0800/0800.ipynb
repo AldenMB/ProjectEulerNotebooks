{
 "cells": [
  {
   "cell_type": "markdown",
   "id": "0",
   "metadata": {},
   "source": [
    "# <a href=\"https://projecteuler.net/problem=800\">Hybrid Integers</a>\n",
    "\n",
    "## Problem 800\n",
    "\n",
    "<p>\n",
    "An integer of the form $p^q q^p$ with prime numbers $p \\neq q$ is called a <i>hybrid-integer</i>.<br />\n",
    "For example, $800 = 2^5 5^2$ is a hybrid-integer.\n",
    "</p>\n",
    "<p>\n",
    "We define $C(n)$ to be the number of hybrid-integers less than or equal to $n$.<br />\n",
    "You are given $C(800) = 2$ and $C(800^{800}) = 10790$\n",
    "</p>\n",
    "<p>\n",
    "Find $C(800800^{800800})$\n",
    "</p>\n"
   ]
  },
  {
   "cell_type": "markdown",
   "id": "1",
   "metadata": {},
   "source": [
    "# Solution\n"
   ]
  },
  {
   "cell_type": "code",
   "execution_count": null,
   "id": "2",
   "metadata": {},
   "outputs": [],
   "source": []
  }
 ],
 "metadata": {},
 "nbformat": 4,
 "nbformat_minor": 5
}
