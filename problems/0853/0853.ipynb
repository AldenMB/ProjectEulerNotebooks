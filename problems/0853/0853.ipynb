{
 "cells": [
  {
   "cell_type": "markdown",
   "id": "0",
   "metadata": {},
   "source": [
    "# <a href=\"http://projecteuler.net/problem=853\">Pisano Periods 1</a>\n",
    "\n",
    "## Problem 853\n",
    "\n",
    "<p>\n",
    "For every positive integer $n$ the Fibonacci sequence modulo \n",
    "$n$ is periodic. The period depends on the value of $n$.\n",
    "This period is called the <strong>Pisano period</strong> for $n$, often shortened to $\\pi(n)$.</p>\n",
    "<p>\n",
    "There are three values of $n$ for which \n",
    "$\\pi(n)$ equals $18$: $19$, $38$ and $76$. The sum of those smaller than $50$ is $57$.\n",
    "</p>\n",
    "<p>\n",
    "Find the sum of the values of $n$ smaller than $1\\,000\\,000\\,000$ for which $\\pi(n)$ equals $120$.\n",
    "</p>\n"
   ]
  },
  {
   "cell_type": "markdown",
   "id": "1",
   "metadata": {},
   "source": [
    "# Solution\n"
   ]
  },
  {
   "cell_type": "code",
   "execution_count": null,
   "id": "2",
   "metadata": {},
   "outputs": [],
   "source": []
  }
 ],
 "metadata": {},
 "nbformat": 4,
 "nbformat_minor": 5
}
