{
 "cells": [
  {
   "cell_type": "markdown",
   "id": "0",
   "metadata": {},
   "source": [
    "# <a href=\"https://projecteuler.net/problem=767\">Window into a Matrix II</a>\n",
    "\n",
    "## Problem 767\n",
    "\n",
    "<p>A window into a matrix is a contiguous sub matrix.</p>\n",
    "\n",
    "<p>Consider a $16\\times n$ matrix where every entry is either 0 or 1.\n",
    "Let $B(k,n)$ be the total number of these matrices such that the sum of the entries in every $2\\times k$ window is $k$.</p>\n",
    "\n",
    "<p>You are given that $B(2,4) = 65550$ and $B(3,9) \\equiv 87273560 \\pmod{1\\,000\\,000\\,007}$.</p>\n",
    "\n",
    "<p>Find $B(10^5,10^{16})$. Give your answer modulo $1\\,000\\,000\\,007$.</p>\n"
   ]
  },
  {
   "cell_type": "markdown",
   "id": "1",
   "metadata": {},
   "source": [
    "# Solution\n"
   ]
  },
  {
   "cell_type": "code",
   "execution_count": null,
   "id": "2",
   "metadata": {},
   "outputs": [],
   "source": []
  }
 ],
 "metadata": {},
 "nbformat": 4,
 "nbformat_minor": 5
}
