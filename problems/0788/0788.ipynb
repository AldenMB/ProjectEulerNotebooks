{
 "cells": [
  {
   "cell_type": "markdown",
   "id": "0",
   "metadata": {},
   "source": [
    "# <a href=\"https://projecteuler.net/problem=788\">Dominating Numbers</a>\n",
    "\n",
    "## Problem 788\n",
    "\n",
    "<p>\n",
    "A <i>dominating number</i> is a positive integer that has more than half of its digits equal.\n",
    "</p>\n",
    "<p>\n",
    "For example, $2022$ is a dominating number because three of its four digits are equal to $2$. But $2021$ is not a dominating number.\n",
    "</p>\n",
    "<p>\n",
    "Let $D(N)$ be how many dominating numbers are less than $10^N$.\n",
    "For example, $D(4) = 603$ and $D(10) = 21893256$.\n",
    "</p>\n",
    "<p>\n",
    "Find $D(2022)$. Give your answer modulo $1\\,000\\,000\\,007$.\n",
    "</p>\n"
   ]
  },
  {
   "cell_type": "markdown",
   "id": "1",
   "metadata": {},
   "source": [
    "# Solution\n"
   ]
  },
  {
   "cell_type": "code",
   "execution_count": null,
   "id": "2",
   "metadata": {},
   "outputs": [],
   "source": []
  }
 ],
 "metadata": {},
 "nbformat": 4,
 "nbformat_minor": 5
}
