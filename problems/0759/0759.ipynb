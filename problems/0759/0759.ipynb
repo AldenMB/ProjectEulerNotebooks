{
 "cells": [
  {
   "cell_type": "markdown",
   "id": "0",
   "metadata": {},
   "source": [
    "# <a href=\"https://projecteuler.net/problem=759\">A squared recurrence relation</a>\n",
    "\n",
    "## Problem 759\n",
    "\n",
    "<p>The function $f$ is defined for all positive integers as follows:</p>\n",
    "\\begin{align*}\n",
    "f(1) &amp;=  1\\\\\n",
    "f(2n) &amp;= 2f(n)\\\\\n",
    "f(2n+1) &amp;= 2n+1 + 2f(n)+\\tfrac 1n f(n)\n",
    "\\end{align*}\n",
    "<p>It can be proven that $f(n)$ is integer for all values of $n$.</p>\n",
    "\n",
    "<p>The function $S(n)$ is defined as $S(n) = \\displaystyle \\sum_{i=1}^n f(i) ^2$.</p>\n",
    "<p>For example, $S(10)=1530$ and $S(10^2)=4798445$.</p>\n",
    "\n",
    "<p>Find $S(10^{16})$. Give your answer modulo $1\\,000\\,000\\,007$.</p>\n",
    "\n"
   ]
  },
  {
   "cell_type": "markdown",
   "id": "1",
   "metadata": {},
   "source": [
    "# Solution\n"
   ]
  },
  {
   "cell_type": "code",
   "execution_count": null,
   "id": "2",
   "metadata": {},
   "outputs": [],
   "source": []
  }
 ],
 "metadata": {},
 "nbformat": 4,
 "nbformat_minor": 5
}
