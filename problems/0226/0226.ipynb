{
 "cells": [
  {
   "cell_type": "markdown",
   "id": "0",
   "metadata": {},
   "source": [
    "# <a href=\"https://projecteuler.net/problem=226\">A Scoop of Blancmange</a>\n",
    "\n",
    "## Problem 226\n",
    "\n",
    "<p>The <i>blancmange curve</i> is the set of points $(x, y)$ such that $0 \\le x \\le 1$ and $y = \\sum \\limits_{n = 0}^{\\infty} {\\dfrac{s(2^n x)}{2^n}}$, where $s(x)$ is the distance from $x$ to the nearest integer.</p>\n",
    "\n",
    "<p>The area under the blancmange curve is equal to ½, shown in pink in the diagram below.</p>\n",
    "\n",
    "<div style=\"text-align: center !important\">\n",
    "<img src=\"p226_scoop2.gif\" class=\"dark_img\" alt=\"blancmange curve\" /></div>\n",
    "\n",
    "<p>Let <var>C</var> be the circle with centre $\\left ( \\frac{1}{4}, \\frac{1}{2} \\right )$ and radius $\\frac{1}{4}$, shown in black in the diagram.</p>\n",
    "\n",
    "<p>What area under the blancmange curve is enclosed by <var>C</var>?<br />Give your answer rounded to eight decimal places in the form <i>0.abcdefgh</i></p>\n",
    "\n"
   ]
  },
  {
   "cell_type": "markdown",
   "id": "1",
   "metadata": {},
   "source": [
    "# Solution\n"
   ]
  },
  {
   "cell_type": "code",
   "execution_count": null,
   "id": "2",
   "metadata": {},
   "outputs": [],
   "source": []
  }
 ],
 "metadata": {},
 "nbformat": 4,
 "nbformat_minor": 5
}
