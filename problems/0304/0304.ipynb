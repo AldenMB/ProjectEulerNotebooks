{
 "cells": [
  {
   "cell_type": "markdown",
   "id": "0",
   "metadata": {},
   "source": [
    "# <a href=\"https://projecteuler.net/problem=304\">Primonacci</a>\n",
    "\n",
    "## Problem 304\n",
    "\n",
    "<p>\n",
    "For any positive integer <var>n</var> the function next_prime(<var>n</var>) returns the smallest prime p <br /> such that p&gt;<var>n</var>.\n",
    "</p>\n",
    "<p>\n",
    "The sequence a(<var>n</var>) is defined by:<br />\n",
    "a(1)=next_prime(10<sup>14</sup>) and a(<var>n</var>)=next_prime(a(<var>n</var>-1)) for n&gt;1.\n",
    "</p><p></p>\n",
    "<p>\n",
    "The fibonacci sequence f(<var>n</var>) is defined by:\n",
    "f(0)=0, f(1)=1 and f(<var>n</var>)=f(<var>n</var>-1)+f(<var>n</var>-2) for <var>n</var>&gt;1.\n",
    "</p>\n",
    "<p>\n",
    "The sequence b(<var>n</var>) is defined as f(a(<var>n</var>)).\n",
    "</p>\n",
    "<p>\n",
    "Find <span style=\"font-size:larger;\"><span style=\"font-size:larger;\">∑</span></span> b(<var>n</var>) for 1≤<var>n</var>≤100 000. \n",
    "Give your answer mod 1234567891011. \n",
    "\n",
    "\n",
    "\n",
    "\n",
    "</p>\n"
   ]
  },
  {
   "cell_type": "markdown",
   "id": "1",
   "metadata": {},
   "source": [
    "# Solution\n"
   ]
  },
  {
   "cell_type": "code",
   "execution_count": null,
   "id": "2",
   "metadata": {},
   "outputs": [],
   "source": []
  }
 ],
 "metadata": {},
 "nbformat": 4,
 "nbformat_minor": 5
}
