{
 "cells": [
  {
   "cell_type": "markdown",
   "id": "0",
   "metadata": {},
   "source": [
    "# <a href=\"http://projecteuler.net/problem=821\">123-Separable</a>\n",
    "\n",
    "## Problem 821\n",
    "\n",
    "<p>\n",
    "A set, $S$, of integers is called <i>123-separable</i> if $S$, $2S$ and $3S$ are disjoint. Here $2S$ and $3S$ are obtained by multiplying all the elements in $S$ by $2$ and $3$ respectively.</p>\n",
    "\n",
    "<p>\n",
    "Define $F(n)$ to be the maximum number of elements of\n",
    "$$(S\\cup 2S \\cup 3S)\\cap \\{1,2,3,\\ldots,n\\}$$\n",
    "where $S$ ranges over all 123-separable sets.</p>\n",
    "\n",
    "<p>\n",
    "For example, $F(6) = 5$ can be achieved with either $S = \\{1,4,5\\}$ or $S = \\{1,5,6\\}$.<br />\n",
    "You are also given $F(20) = 19$.</p>\n",
    "\n",
    "<p>\n",
    "Find $F(10^{16})$.</p>\n"
   ]
  },
  {
   "cell_type": "markdown",
   "id": "1",
   "metadata": {},
   "source": [
    "# Solution\n"
   ]
  },
  {
   "cell_type": "code",
   "execution_count": null,
   "id": "2",
   "metadata": {},
   "outputs": [],
   "source": []
  }
 ],
 "metadata": {},
 "nbformat": 4,
 "nbformat_minor": 5
}
