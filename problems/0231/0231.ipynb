{
 "cells": [
  {
   "cell_type": "markdown",
   "id": "0",
   "metadata": {},
   "source": [
    "# <a href=\"https://projecteuler.net/problem=231\">The prime factorisation of binomial coefficients</a>\n",
    "\n",
    "## Problem 231\n",
    "\n",
    "<p>The binomial coefficient $\\displaystyle \\binom {10} 3 = 120$.<br />\n",
    "$120 = 2^3 \\times 3 \\times 5 = 2 \\times 2 \\times 2 \\times 3 \\times 5$, and $2 + 2 + 2 + 3 + 5 = 14$.<br />\n",
    "So the sum of the terms in the prime factorisation of $\\displaystyle \\binom {10} 3$ is $14$.\n",
    "<br /><br />\n",
    "Find the sum of the terms in the prime factorisation of $\\displaystyle \\binom {20\\,000\\,000} {15\\,000\\,000}$.\n",
    "</p>\n"
   ]
  },
  {
   "cell_type": "markdown",
   "id": "1",
   "metadata": {},
   "source": [
    "# Solution\n"
   ]
  },
  {
   "cell_type": "code",
   "execution_count": null,
   "id": "2",
   "metadata": {},
   "outputs": [],
   "source": []
  }
 ],
 "metadata": {},
 "nbformat": 4,
 "nbformat_minor": 5
}
