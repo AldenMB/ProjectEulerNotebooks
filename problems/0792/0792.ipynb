{
 "cells": [
  {
   "cell_type": "markdown",
   "id": "0",
   "metadata": {},
   "source": [
    "# <a href=\"https://projecteuler.net/problem=792\">Too Many Twos</a>\n",
    "\n",
    "## Problem 792\n",
    "\n",
    "<p>\n",
    "We define $\\nu_2(n)$ to be the largest integer $r$ such that $2^r$ divides $n$. For example, $\\nu_2(24) = 3$.\n",
    "</p>\n",
    "\n",
    "<p>\n",
    "Define $\\displaystyle S(n)  = \\sum_{k = 1}^n (-2)^k\\binom{2k}k$ and $u(n) = \\nu_2\\Big(3S(n)+4\\Big)$.\n",
    "</p>\n",
    "\n",
    "<p>\n",
    "For example, when $n = 4$ then $S(4) = 980$ and $3S(4) + 4 = 2944 = 2^7 \\cdot 23$, hence $u(4) = 7$.<br />\n",
    "You are also given $u(20) = 24$.\n",
    "</p>\n",
    "\n",
    "<p>\n",
    "Also define $\\displaystyle U(N) = \\sum_{n = 1}^N u(n^3)$. You are given $U(5) = 241$.\n",
    "</p>\n",
    "\n",
    "<p>\n",
    "Find $U(10^4)$.\n",
    "</p>\n"
   ]
  },
  {
   "cell_type": "markdown",
   "id": "1",
   "metadata": {},
   "source": [
    "# Solution\n"
   ]
  },
  {
   "cell_type": "code",
   "execution_count": null,
   "id": "2",
   "metadata": {},
   "outputs": [],
   "source": []
  }
 ],
 "metadata": {},
 "nbformat": 4,
 "nbformat_minor": 5
}
