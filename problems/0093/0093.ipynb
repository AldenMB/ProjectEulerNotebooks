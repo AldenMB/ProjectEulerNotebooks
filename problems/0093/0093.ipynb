{
 "cells": [
  {
   "cell_type": "markdown",
   "id": "0",
   "metadata": {},
   "source": [
    "# <a href=\"https://projecteuler.net/problem=93\">Arithmetic expressions</a>\n",
    "\n",
    "## Problem 93\n",
    "\n",
    "<p>By using each of the digits from the set, {1, 2, 3, 4}, exactly once, and making use of the four arithmetic operations (+, −, *, /) and brackets/parentheses, it is possible to form different positive integer targets.</p>\n",
    "<p>For example,</p>\n",
    "<p class=\"monospace margin_left\">8 = (4 * (1 + 3)) / 2<br />\n",
    "14 = 4 * (3 + 1 / 2)<br />\n",
    "19 = 4 * (2 + 3) − 1<br />\n",
    "36 = 3 * 4 * (2 + 1)</p>\n",
    "<p>Note that concatenations of the digits, like 12 + 34, are not allowed.</p>\n",
    "<p>Using the set, {1, 2, 3, 4}, it is possible to obtain thirty-one different target numbers of which 36 is the maximum, and each of the numbers 1 to 28 can be obtained before encountering the first non-expressible number.</p>\n",
    "<p>Find the set of four distinct digits, <i>a</i> &lt; <i>b</i> &lt; <i>c</i> &lt; <i>d</i>, for which the longest set of consecutive positive integers, 1 to <i>n</i>, can be obtained, giving your answer as a string: <i>abcd</i>.</p>\n",
    "\n"
   ]
  },
  {
   "cell_type": "markdown",
   "id": "1",
   "metadata": {},
   "source": [
    "# Solution\n"
   ]
  },
  {
   "cell_type": "code",
   "execution_count": null,
   "id": "2",
   "metadata": {},
   "outputs": [],
   "source": []
  }
 ],
 "metadata": {},
 "nbformat": 4,
 "nbformat_minor": 5
}
