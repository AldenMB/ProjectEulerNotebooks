{
 "cells": [
  {
   "cell_type": "markdown",
   "id": "0",
   "metadata": {},
   "source": [
    "# <a href=\"http://projecteuler.net/problem=871\">Drifting Subsets</a>\n",
    "\n",
    "## Problem 871\n",
    "\n",
    "<p>\n",
    "Let $f$ be a function from a finite set $S$ to itself. A <dfn>drifting subset</dfn> for $f$ is a subset $A$ of $S$ such that the number of elements in the union $A \\cup f(A)$ is equal to twice the number of elements of $A$.<br>\n",
    "We write $D(f)$ for the maximal number of elements among all drifting subsets for $f$.</p>\n",
    "\n",
    "<p>\n",
    "For a positive integer $n$, define $f_n$ as the function from $\\{0, 1, \\dots, n - 1\\}$ to itself sending $x$ to $x^3 + x + 1 \\bmod n$.<br>\n",
    "You are given $D(f_5) = 1$ and $D(f_{10}) = 3$.</p>\n",
    "\n",
    "<p>\n",
    "Find $\\displaystyle\\sum_{i = 1}^{100} D(f_{10^5 + i})$.</p>\n"
   ]
  },
  {
   "cell_type": "markdown",
   "id": "1",
   "metadata": {},
   "source": [
    "# Solution\n"
   ]
  },
  {
   "cell_type": "code",
   "execution_count": null,
   "id": "2",
   "metadata": {},
   "outputs": [],
   "source": []
  }
 ],
 "metadata": {},
 "nbformat": 4,
 "nbformat_minor": 5
}
