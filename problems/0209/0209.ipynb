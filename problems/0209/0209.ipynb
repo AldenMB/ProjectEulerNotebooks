{
 "cells": [
  {
   "cell_type": "markdown",
   "id": "0",
   "metadata": {},
   "source": [
    "# <a href=\"https://projecteuler.net/problem=209\">Circular Logic</a>\n",
    "\n",
    "## Problem 209\n",
    "\n",
    "<p>A <var>k</var>-input <i>binary truth table</i> is a map from <var>k</var> input bits\n",
    "(binary digits, 0 [false] or 1 [true]) to 1 output bit. For example, the 2-input binary truth tables for the logical AND and XOR functions are:</p>\n",
    "<div style=\"float:left;margin:10px 50px;text-align:center;\">\n",
    "<table class=\"grid\"><tr><th style=\"width:50px;\"><var>x</var></th>\n",
    "<th style=\"width:50px;\"><var>y</var></th>\n",
    "<th><var>x</var> AND <var>y</var></th></tr><tr><td align=\"center\">0</td><td align=\"center\">0</td><td align=\"center\">0</td></tr><tr><td align=\"center\">0</td><td align=\"center\">1</td><td align=\"center\">0</td></tr><tr><td align=\"center\">1</td><td align=\"center\">0</td><td align=\"center\">0</td></tr><tr><td align=\"center\">1</td><td align=\"center\">1</td><td align=\"center\">1</td></tr></table></div>\n",
    "<div style=\"float:left;margin:10px 50px;text-align:center;\">\n",
    "<table class=\"grid\"><tr><th style=\"width:50px;\"><var>x</var></th>\n",
    "<th style=\"width:50px;\"><var>y</var></th>\n",
    "<th><var>x</var> XOR <var>y</var></th></tr><tr><td align=\"center\">0</td><td align=\"center\">0</td><td align=\"center\">0</td></tr><tr><td align=\"center\">0</td><td align=\"center\">1</td><td align=\"center\">1</td></tr><tr><td align=\"center\">1</td><td align=\"center\">0</td><td align=\"center\">1</td></tr><tr><td align=\"center\">1</td><td align=\"center\">1</td><td align=\"center\">0</td></tr></table></div>\n",
    "<br clear=\"all\" /><p>How many 6-input binary truth tables, τ, satisfy the formula</p>\n",
    "<div style=\"text-align: center !important\">\n",
    "τ(<var>a</var>, <var>b</var>, <var>c</var>, <var>d</var>, <var>e</var>, <var>f</var>) AND τ(<var>b</var>, <var>c</var>, <var>d</var>, <var>e</var>, <var>f</var>, <var>a</var> XOR (<var>b</var> AND <var>c</var>)) = 0\n",
    "</div><br /><p>for all 6-bit inputs (<var>a</var>, <var>b</var>, <var>c</var>, <var>d</var>, <var>e</var>, <var>f</var>)?\n",
    "</p>\n"
   ]
  },
  {
   "cell_type": "markdown",
   "id": "1",
   "metadata": {},
   "source": [
    "# Solution\n"
   ]
  },
  {
   "cell_type": "code",
   "execution_count": null,
   "id": "2",
   "metadata": {},
   "outputs": [],
   "source": []
  }
 ],
 "metadata": {},
 "nbformat": 4,
 "nbformat_minor": 5
}
