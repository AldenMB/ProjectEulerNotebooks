{
 "cells": [
  {
   "cell_type": "markdown",
   "id": "0",
   "metadata": {},
   "source": [
    "# <a href=\"https://projecteuler.net/problem=482\">The incenter of a triangle</a>\n",
    "\n",
    "## Problem 482\n",
    "\n",
    "<p>\n",
    "ABC is an integer sided triangle with incenter I and perimeter p.<br />\n",
    "The segments IA, IB and IC have integral length as well. \n",
    "</p>\n",
    "<p>\n",
    "Let L = p + |IA| + |IB| + |IC|. \n",
    "</p>\n",
    "<p>\n",
    "Let S(P) = <span style=\"font-size:larger;\"><span style=\"font-size:larger;\">∑</span></span> L for all such triangles where p ≤ P. For example, S(10<sup>3</sup>) = 3619.\n",
    "</p>\n",
    "<p>\n",
    "Find S(10<sup>7</sup>).\n",
    "</p>\n",
    "\n"
   ]
  },
  {
   "cell_type": "markdown",
   "id": "1",
   "metadata": {},
   "source": [
    "# Solution\n"
   ]
  },
  {
   "cell_type": "code",
   "execution_count": null,
   "id": "2",
   "metadata": {},
   "outputs": [],
   "source": []
  }
 ],
 "metadata": {},
 "nbformat": 4,
 "nbformat_minor": 5
}
