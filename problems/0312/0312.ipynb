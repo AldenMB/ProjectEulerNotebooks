{
 "cells": [
  {
   "cell_type": "markdown",
   "id": "0",
   "metadata": {},
   "source": [
    "# <a href=\"https://projecteuler.net/problem=312\">Cyclic paths on Sierpiński graphs</a>\n",
    "\n",
    "## Problem 312\n",
    "\n",
    "<p>- A <b>Sierpiński graph</b> of order-1 (<var>S</var><sub>1</sub>) is an equilateral triangle.<br />\n",
    "- <var>S</var><sub><var>n</var>+1</sub> is obtained from <var>S</var><sub><var>n</var></sub> by positioning three copies of <var>S</var><sub><var>n</var></sub> so that every pair of copies has one common corner.\n",
    "</p>\n",
    "\n",
    "<div align=\"center\"><img src=\"p312_sierpinskyAt.gif\" class=\"dark_img\" alt=\"p312_sierpinskyAt.gif\" /></div>\n",
    "\n",
    "<p>Let C(<var>n</var>) be the number of cycles that pass exactly once through all the vertices of <var>S</var><sub><var>n</var></sub>.<br />\n",
    "For example, C(3) = 8 because eight such cycles can be drawn on <var>S</var><sub>3</sub>, as shown below:\n",
    "</p>\n",
    "\n",
    "<div align=\"center\"><img src=\"p312_sierpinsky8t.gif\" class=\"dark_img\" alt=\"p312_sierpinsky8t.gif\" /></div>\n",
    "\n",
    "<p>It can also be verified that :<br />\n",
    "C(1) = C(2) = 1<br />\n",
    "C(5) = 71328803586048<br />\n",
    "C(10 000) mod 10<sup>8</sup> = 37652224<br />\n",
    "C(10 000) mod 13<sup>8</sup> = 617720485<br /></p>\n",
    "\n",
    "<p>Find C(C(C(10 000))) mod 13<sup>8</sup>.\n",
    "</p>\n",
    "\n",
    "\n"
   ]
  },
  {
   "cell_type": "markdown",
   "id": "1",
   "metadata": {},
   "source": [
    "# Solution\n"
   ]
  },
  {
   "cell_type": "code",
   "execution_count": null,
   "id": "2",
   "metadata": {},
   "outputs": [],
   "source": []
  }
 ],
 "metadata": {},
 "nbformat": 4,
 "nbformat_minor": 5
}
