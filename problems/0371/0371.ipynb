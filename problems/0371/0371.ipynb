{
 "cells": [
  {
   "cell_type": "markdown",
   "id": "0",
   "metadata": {},
   "source": [
    "# <a href=\"https://projecteuler.net/problem=371\">Licence plates</a>\n",
    "\n",
    "## Problem 371\n",
    "\n",
    "<p>\n",
    "Oregon licence plates consist of three letters followed by a three digit number (each digit can be from [0..9]).<br />\n",
    "While driving to work Seth plays the following game:<br />\n",
    "Whenever the numbers of two licence plates seen on his trip add to 1000 that's a win.\n",
    "</p>\n",
    "<p>\n",
    "E.g. MIC-012 and HAN-988 is a win and RYU-500 and SET-500 too (as long as he sees them in the same trip). \n",
    "</p><p>\n",
    "</p><p>\n",
    "Find the expected number of plates he needs to see for a win.<br />\n",
    "Give your answer rounded to 8 decimal places behind the decimal point.\n",
    "</p>\n",
    "<p style=\"font-size:88%;\">\n",
    "<b>Note:</b> We assume that each licence plate seen is equally likely to have any three digit number on it.\n",
    "</p>\n",
    "\n",
    "\n",
    "\n",
    "\n"
   ]
  },
  {
   "cell_type": "markdown",
   "id": "1",
   "metadata": {},
   "source": [
    "# Solution\n"
   ]
  },
  {
   "cell_type": "code",
   "execution_count": null,
   "id": "2",
   "metadata": {},
   "outputs": [],
   "source": []
  }
 ],
 "metadata": {},
 "nbformat": 4,
 "nbformat_minor": 5
}
