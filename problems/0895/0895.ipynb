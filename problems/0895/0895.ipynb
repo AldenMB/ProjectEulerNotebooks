{
 "cells": [
  {
   "cell_type": "markdown",
   "id": "0",
   "metadata": {},
   "source": [
    "# <a href=\"http://projecteuler.net/problem=895\">Gold &amp; Silver Coin Game II</a>\n",
    "\n",
    "## Problem 895\n",
    "\n",
    "<p>\n",
    "Gary and Sally play a game using gold and silver coins arranged into a number of vertical stacks, alternating turns. On Gary's turn he chooses a gold coin and removes it from the game along with any other coins sitting on top. Sally does the same on her turn by removing a silver coin. The first player unable to make a move loses.</p>\n",
    "\n",
    "<p>\n",
    "An arrangement is called <dfn>fair</dfn> if the person moving first, whether it be Gary or Sally, will lose the game if both play optimally.</p>\n",
    "\n",
    "<p>\n",
    "An arrangement is called <dfn>balanced</dfn> if the number of gold and silver coins are equal.</p>\n",
    "\n",
    "<p>\n",
    "Define $G(m)$ to be the number of fair and balanced arrangements consisting of three non-empty stacks, each not exceeding $m$ in size. Different orderings of the stacks are to be counted separately, so $G(2)=6$ due to the following six arrangements:</p>\n",
    "\n",
    "<div style=\"text-align:center;\"><img src=\"resources/images/0895_G2.png?1714251811\" alt=\"0895_G2.png\"></div>\n",
    "\n",
    "<p>\n",
    "You are also given $G(5)=348$ and $G(20)=125825982708$.</p>\n",
    "\n",
    "<p>\n",
    "Find $G(9898)$ giving your answer modulo $989898989$.</p>\n"
   ]
  },
  {
   "cell_type": "markdown",
   "id": "1",
   "metadata": {},
   "source": [
    "# Solution\n"
   ]
  },
  {
   "cell_type": "code",
   "execution_count": null,
   "id": "2",
   "metadata": {},
   "outputs": [],
   "source": []
  }
 ],
 "metadata": {},
 "nbformat": 4,
 "nbformat_minor": 5
}
