{
 "cells": [
  {
   "cell_type": "markdown",
   "id": "0",
   "metadata": {},
   "source": [
    "# <a href=\"https://projecteuler.net/problem=457\">A polynomial modulo the square of a prime</a>\n",
    "\n",
    "## Problem 457\n",
    "\n",
    "<p>\n",
    "Let <var>f</var>(<var>n</var>) = <var>n</var><sup>2</sup> - 3<var>n</var> - 1.<br />\n",
    "Let <var>p</var> be a prime.<br />\n",
    "Let R(<var>p</var>) be the smallest positive integer <var>n</var> such that <var>f</var>(<var>n</var>) mod p<sup>2</sup> = 0 if such an integer <var>n</var> exists, otherwise R(<var>p</var>) = 0.\n",
    "</p>\n",
    "<p>\n",
    "Let SR(<var>L</var>) be <span style=\"font-size:larger;\"><span style=\"font-size:larger;\">∑</span></span> R(<var>p</var>) for all primes not exceeding <var>L</var>.\n",
    "</p>\n",
    "<p>\n",
    "Find SR(10<sup>7</sup>).\n",
    "</p>\n"
   ]
  },
  {
   "cell_type": "markdown",
   "id": "1",
   "metadata": {},
   "source": [
    "# Solution\n"
   ]
  },
  {
   "cell_type": "code",
   "execution_count": null,
   "id": "2",
   "metadata": {},
   "outputs": [],
   "source": []
  }
 ],
 "metadata": {},
 "nbformat": 4,
 "nbformat_minor": 5
}
