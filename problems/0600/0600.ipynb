{
 "cells": [
  {
   "cell_type": "markdown",
   "id": "0",
   "metadata": {},
   "source": [
    "# <a href=\"https://projecteuler.net/problem=600\">Integer sided equiangular hexagons</a>\n",
    "\n",
    "## Problem 600\n",
    "\n",
    "<p>Let <var>H</var>(<var>n</var>) be the number of distinct integer sided <b>equiangular</b> convex hexagons with perimeter not exceeding <var>n</var>.<br />\n",
    "Hexagons are distinct if and only if they are not <b>congruent</b>.</p>\n",
    "\n",
    "<p>You are given <var>H</var>(6) = 1, <var>H</var>(12) = 10, <var>H</var>(100) = 31248.<br />\n",
    "Find <var>H</var>(55106).</p>\n",
    "\n",
    "<div style=\"text-align: center !important\">\n",
    "<img src=\"p600_equiangular_hexagons.png\" alt=\"p600-equiangular-hexagons.png\" border=\"5\" /><p><i>Equiangular hexagons with perimeter not exceeding 12</i></p>\n",
    "</div>\n",
    "\n",
    "\n"
   ]
  },
  {
   "cell_type": "markdown",
   "id": "1",
   "metadata": {},
   "source": [
    "# Solution\n"
   ]
  },
  {
   "cell_type": "code",
   "execution_count": null,
   "id": "2",
   "metadata": {},
   "outputs": [],
   "source": []
  }
 ],
 "metadata": {},
 "nbformat": 4,
 "nbformat_minor": 5
}
