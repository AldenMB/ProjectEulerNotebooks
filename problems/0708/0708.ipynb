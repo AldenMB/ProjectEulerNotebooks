{
 "cells": [
  {
   "cell_type": "markdown",
   "id": "0",
   "metadata": {},
   "source": [
    "# <a href=\"https://projecteuler.net/problem=708\">Twos are all you need</a>\n",
    "\n",
    "## Problem 708\n",
    "\n",
    "<p>A positive integer, $n$, is factorised into prime factors. We define $f(n)$ to be the product when each prime factor is replaced with $2$. In addition we define $f(1)=1$.</p>\n",
    "\n",
    "<p>For example, $90 = 2\\times 3\\times 3\\times 5$, then replacing the primes, $2\\times 2\\times 2\\times 2 = 16$, hence $f(90) = 16$.</p> \n",
    " \n",
    "<p>Let $\\displaystyle S(N)=\\sum_{n=1}^{N} f(n)$. You are given $S(10^8)=9613563919$.</p> \n",
    "\n",
    "<p>Find $S(10^{14})$.</p>\n",
    "\n"
   ]
  },
  {
   "cell_type": "markdown",
   "id": "1",
   "metadata": {},
   "source": [
    "# Solution\n"
   ]
  },
  {
   "cell_type": "code",
   "execution_count": null,
   "id": "2",
   "metadata": {},
   "outputs": [],
   "source": []
  }
 ],
 "metadata": {},
 "nbformat": 4,
 "nbformat_minor": 5
}
