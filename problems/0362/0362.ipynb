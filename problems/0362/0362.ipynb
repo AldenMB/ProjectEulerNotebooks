{
 "cells": [
  {
   "cell_type": "markdown",
   "id": "0",
   "metadata": {},
   "source": [
    "# <a href=\"https://projecteuler.net/problem=362\">Squarefree factors</a>\n",
    "\n",
    "## Problem 362\n",
    "\n",
    "<p>\n",
    "Consider the number 54.<br />\n",
    "54 can be factored in 7 distinct ways into one or more factors larger than 1:<br />\n",
    "54, 2×27, 3×18, 6×9, 3×3×6, 2×3×9 and 2×3×3×3.<br />\n",
    "If we require that the factors are all squarefree only two ways remain: 3×3×6 and 2×3×3×3.\n",
    "</p>\n",
    "<p>\n",
    "Let's call Fsf(<var>n</var>) the number of ways <var>n</var> can be factored into one or more squarefree factors larger than 1, so\n",
    "Fsf(54)=2.\n",
    "</p>\n",
    "<p>\n",
    "Let S(<var>n</var>) be <span style=\"font-size:larger;\"><span style=\"font-size:larger;\">∑</span></span> Fsf(<var>k</var>) for <var>k</var>=2 to <var>n</var>.\n",
    "</p>\n",
    "<p>\n",
    "S(100)=193.\n",
    "</p>\n",
    "<p>\n",
    "Find S(10 000 000 000). \n",
    "</p>\n",
    "\n",
    "\n"
   ]
  },
  {
   "cell_type": "markdown",
   "id": "1",
   "metadata": {},
   "source": [
    "# Solution\n"
   ]
  },
  {
   "cell_type": "code",
   "execution_count": null,
   "id": "2",
   "metadata": {},
   "outputs": [],
   "source": []
  }
 ],
 "metadata": {},
 "nbformat": 4,
 "nbformat_minor": 5
}
