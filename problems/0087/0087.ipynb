{
 "cells": [
  {
   "cell_type": "markdown",
   "id": "0",
   "metadata": {},
   "source": [
    "# <a href=\"https://projecteuler.net/problem=87\">Prime power triples</a>\n",
    "\n",
    "## Problem 87\n",
    "\n",
    "\n",
    "<p>The smallest number expressible as the sum of a prime square, prime cube, and prime fourth power is 28. In fact, there are exactly four numbers below fifty that can be expressed in such a way:</p>\n",
    "<p class=\"margin_left\">28 = 2<sup>2</sup> + 2<sup>3</sup> + 2<sup>4</sup><br />\n",
    "33 = 3<sup>2</sup> + 2<sup>3</sup> + 2<sup>4</sup><br />\n",
    "49 = 5<sup>2</sup> + 2<sup>3</sup> + 2<sup>4</sup><br />\n",
    "47 = 2<sup>2</sup> + 3<sup>3</sup> + 2<sup>4</sup></p>\n",
    "<p>How many numbers below fifty million can be expressed as the sum of a prime square, prime cube, and prime fourth power?</p>\n",
    "\n"
   ]
  },
  {
   "cell_type": "markdown",
   "id": "1",
   "metadata": {},
   "source": [
    "# Solution\n"
   ]
  },
  {
   "cell_type": "code",
   "execution_count": null,
   "id": "2",
   "metadata": {},
   "outputs": [],
   "source": []
  }
 ],
 "metadata": {},
 "nbformat": 4,
 "nbformat_minor": 5
}
