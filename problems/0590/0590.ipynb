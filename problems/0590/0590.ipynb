{
 "cells": [
  {
   "cell_type": "markdown",
   "id": "0",
   "metadata": {},
   "source": [
    "# <a href=\"https://projecteuler.net/problem=590\">Sets with a given Least Common Multiple</a>\n",
    "\n",
    "## Problem 590\n",
    "\n",
    "<p>\n",
    "Let H(<var>n</var>) denote the number of sets of positive integers such that the least common multiple of the integers in the set equals <var>n</var>.<br />\n",
    "E.g.:<br />\n",
    "The integers in the following ten sets all have a least common multiple of 6:<br />\n",
    "{2,3}, {1,2,3}, {6}, {1,6}, {2,6} ,{1,2,6}, {3,6}, {1,3,6}, {2,3,6} and {1,2,3,6}.<br />\n",
    "Thus H(6)=10.\n",
    "</p>\n",
    "<p>\n",
    "Let L(<var>n</var>) denote the least common multiple of the numbers 1 through <var>n</var>.<br />\n",
    "E.g. L(6) is the least common multiple of the numbers 1,2,3,4,5,6 and L(6) equals 60.\n",
    "</p>\n",
    "<p>\n",
    "Let HL(<var>n</var>) denote H(L(<var>n</var>)).<br />\n",
    "You are given HL(4)=H(12)=44.\n",
    "</p>\n",
    "<p>\n",
    "Find HL(50000). Give your answer modulo 10<sup>9</sup>.\n",
    "</p>\n"
   ]
  },
  {
   "cell_type": "markdown",
   "id": "1",
   "metadata": {},
   "source": [
    "# Solution\n"
   ]
  },
  {
   "cell_type": "code",
   "execution_count": null,
   "id": "2",
   "metadata": {},
   "outputs": [],
   "source": []
  }
 ],
 "metadata": {},
 "nbformat": 4,
 "nbformat_minor": 5
}
