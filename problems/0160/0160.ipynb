{
 "cells": [
  {
   "cell_type": "markdown",
   "id": "0",
   "metadata": {},
   "source": [
    "# <a href=\"https://projecteuler.net/problem=160\">Factorial trailing digits</a>\n",
    "\n",
    "## Problem 160\n",
    "\n",
    "<p>For any N, let f(N) be the last five digits before the trailing zeroes in N!.<br />\n",
    "For example,</p>\n",
    "<p class=\"margin_left\">9! = 362880 so f(9)=36288<br />\n",
    "10! = 3628800 so f(10)=36288<br />\n",
    "20! = 2432902008176640000 so f(20)=17664</p>\n",
    "<p>Find f(1,000,000,000,000)</p>\n"
   ]
  },
  {
   "cell_type": "markdown",
   "id": "1",
   "metadata": {},
   "source": [
    "# Solution\n"
   ]
  },
  {
   "cell_type": "code",
   "execution_count": null,
   "id": "2",
   "metadata": {},
   "outputs": [],
   "source": []
  }
 ],
 "metadata": {},
 "nbformat": 4,
 "nbformat_minor": 5
}
