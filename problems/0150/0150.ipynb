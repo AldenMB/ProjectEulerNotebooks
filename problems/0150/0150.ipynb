{
 "cells": [
  {
   "cell_type": "markdown",
   "id": "0",
   "metadata": {},
   "source": [
    "# <a href=\"https://projecteuler.net/problem=150\">Searching a triangular array for a sub-triangle having minimum-sum</a>\n",
    "\n",
    "## Problem 150\n",
    "\n",
    "<p>In a triangular array of positive and negative integers, we wish to find a sub-triangle such that the sum of the numbers it contains is the smallest possible.</p>\n",
    "<p>In the example below, it can be easily verified that the marked triangle satisfies this condition having a sum of −42.</p>\n",
    "<div style=\"text-align: center !important\">\n",
    "<img src=\"p150.gif\" class=\"dark_img\" alt=\"\" /></div>\n",
    "<p>We wish to make such a triangular array with one thousand rows, so we generate 500500 pseudo-random numbers <span style=\"font-style:italic;\">s<sub>k</sub></span> in the range ±2<sup>19</sup>, using a type of random number generator (known as a Linear Congruential Generator) as follows:</p>\n",
    "<p class=\"margin_left\"><span style=\"font-style:italic;\">t</span> := 0\n",
    "<br />\n",
    "for k = 1 up to k = 500500:\n",
    "<br />\n",
    "    <span style=\"font-style:italic;\">t</span> := (615949*<span style=\"font-style:italic;\">t</span> + 797807) modulo 2<sup>20</sup><br />\n",
    "    <span style=\"font-style:italic;\">s<sub>k</sub></span> := <span style=\"font-style:italic;\">t</span>−2<sup>19</sup></p>\n",
    "<p>Thus: <span style=\"font-style:italic;\">s<sub>1</sub></span> = 273519, <span style=\"font-style:italic;\">s<sub>2</sub></span> = −153582, <span style=\"font-style:italic;\">s<sub>3</sub></span> = 450905 etc</p>\n",
    "<p>Our triangular array is then formed using the pseudo-random numbers thus:</p>\n",
    "<div style=\"text-align:center;font-style:italic;\">\n",
    "s<sub>1</sub><br />\n",
    "s<sub>2</sub>  s<sub>3</sub><br />\n",
    "s<sub>4</sub>  s<sub>5</sub>  s<sub>6</sub>  \n",
    "<br />\n",
    "s<sub>7</sub>  s<sub>8</sub>  s<sub>9</sub>  s<sub>10</sub><br />\n",
    "...\n",
    "</div>\n",
    "<p>Sub-triangles can start at any element of the array and extend down as far as we like (taking-in the two elements directly below it from the next row, the three elements directly below from the row after that, and so on).\n",
    "<br />\n",
    "The \"sum of a sub-triangle\" is defined as the sum of all the elements it contains.\n",
    "<br />\n",
    "Find the smallest possible sub-triangle sum.</p>\n"
   ]
  },
  {
   "cell_type": "markdown",
   "id": "1",
   "metadata": {},
   "source": [
    "# Solution\n"
   ]
  },
  {
   "cell_type": "code",
   "execution_count": null,
   "id": "2",
   "metadata": {},
   "outputs": [],
   "source": []
  }
 ],
 "metadata": {},
 "nbformat": 4,
 "nbformat_minor": 5
}
