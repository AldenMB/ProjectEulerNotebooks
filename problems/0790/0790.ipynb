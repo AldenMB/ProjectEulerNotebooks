{
 "cells": [
  {
   "cell_type": "markdown",
   "id": "0",
   "metadata": {},
   "source": [
    "# <a href=\"https://projecteuler.net/problem=790\">Clock Grid</a>\n",
    "\n",
    "## Problem 790\n",
    "\n",
    "<p>There is a grid of length and width 50515093 points. A clock is placed on each grid point. The clocks are all analogue showing a single hour hand initially pointing at 12.</p>  \n",
    "\n",
    "<p>A sequence $S_t$ is created where:\n",
    "$$\n",
    "\\begin{align}\n",
    "S_0 &amp;= 290797\\\\\n",
    "S_t &amp;= S_{t-1}^2 \\bmod 50515093 &amp;t&gt;0\n",
    "\\end{align}\n",
    "$$\n",
    "The four numbers $N_t = (S_{4t-4}, S_{4t-3}, S_{4t-2}, S_{4t-1})$ represent a range within the grid, with the first pair of numbers representing the x-bounds and the second pair representing the y-bounds. For example, if $N_t = (3,9,47,20)$, the range would be $3\\le x\\le 9$ and $20\\le y\\le47$, and would include 196 clocks.</p>\n",
    "\n",
    "<p>For each $t$ $(t&gt;0)$, the clocks within the range represented by $N_t$ are moved to the next hour $12\\rightarrow 1\\rightarrow 2\\rightarrow \\cdots $.</p>\n",
    "\n",
    "<p>We define $C(t)$ to be the sum of the hours that the clock hands are pointing to after timestep $t$.<br />\n",
    "You are given $C(0) = 30621295449583788$, $C(1) =  30613048345941659$, $C(10) = 21808930308198471$ and $C(100) = 16190667393984172$.</p>\n",
    "\n",
    "<p>Find $C(10^5)$.</p>\n",
    "\n"
   ]
  },
  {
   "cell_type": "markdown",
   "id": "1",
   "metadata": {},
   "source": [
    "# Solution\n"
   ]
  },
  {
   "cell_type": "code",
   "execution_count": null,
   "id": "2",
   "metadata": {},
   "outputs": [],
   "source": []
  }
 ],
 "metadata": {},
 "nbformat": 4,
 "nbformat_minor": 5
}
