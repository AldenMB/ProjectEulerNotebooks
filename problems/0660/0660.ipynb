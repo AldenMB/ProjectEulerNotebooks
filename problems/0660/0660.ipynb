{
 "cells": [
  {
   "cell_type": "markdown",
   "id": "0",
   "metadata": {},
   "source": [
    "# <a href=\"https://projecteuler.net/problem=660\">Pandigital Triangles</a>\n",
    "\n",
    "## Problem 660\n",
    "\n",
    "<p>We call an integer sided triangle <i>$n$-pandigital</i> if it contains one angle of 120 degrees and, when the sides of the triangle are written in base $n$, together they use all $n$ digits of that base exactly once.</p>\n",
    "\n",
    "<p>\n",
    "For example, the triangle (217, 248, 403) is 9-pandigital because it contains one angle of 120 degrees and the sides written in base 9 are $261_9, 305_9, 487_9$ using each of the 9 digits of that base once.</p>\n",
    "\n",
    "<p>Find the sum of the largest sides of all n-pandigital triangles with $9 \\le n \\le 18$.</p>\n"
   ]
  },
  {
   "cell_type": "markdown",
   "id": "1",
   "metadata": {},
   "source": [
    "# Solution\n"
   ]
  },
  {
   "cell_type": "code",
   "execution_count": null,
   "id": "2",
   "metadata": {},
   "outputs": [],
   "source": []
  }
 ],
 "metadata": {},
 "nbformat": 4,
 "nbformat_minor": 5
}
