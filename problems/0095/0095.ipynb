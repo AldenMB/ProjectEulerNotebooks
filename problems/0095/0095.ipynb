{
 "cells": [
  {
   "cell_type": "markdown",
   "id": "0",
   "metadata": {},
   "source": [
    "# <a href=\"https://projecteuler.net/problem=95\">Amicable chains</a>\n",
    "\n",
    "## Problem 95\n",
    "\n",
    "<p>The proper divisors of a number are all the divisors excluding the number itself. For example, the proper divisors of 28 are 1, 2, 4, 7, and 14. As the sum of these divisors is equal to 28, we call it a perfect number.</p>\n",
    "<p>Interestingly the sum of the proper divisors of 220 is 284 and the sum of the proper divisors of 284 is 220, forming a chain of two numbers. For this reason, 220 and 284 are called an amicable pair.</p>\n",
    "<p>Perhaps less well known are longer chains. For example, starting with 12496, we form a chain of five numbers:</p>\n",
    "<p style=\"text-align: center !important\">12496 → 14288 → 15472 → 14536 → 14264 (→ 12496 → ...)</p>\n",
    "<p>Since this chain returns to its starting point, it is called an amicable chain.</p>\n",
    "<p>Find the smallest member of the longest amicable chain with no element exceeding one million.</p>\n",
    "\n"
   ]
  },
  {
   "cell_type": "markdown",
   "id": "1",
   "metadata": {},
   "source": [
    "# Solution\n"
   ]
  },
  {
   "cell_type": "code",
   "execution_count": null,
   "id": "2",
   "metadata": {},
   "outputs": [],
   "source": []
  }
 ],
 "metadata": {},
 "nbformat": 4,
 "nbformat_minor": 5
}
