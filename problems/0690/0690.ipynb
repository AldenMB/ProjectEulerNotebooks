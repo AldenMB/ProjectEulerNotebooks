{
 "cells": [
  {
   "cell_type": "markdown",
   "id": "0",
   "metadata": {},
   "source": [
    "# <a href=\"https://projecteuler.net/problem=690\">Tom and Jerry</a>\n",
    "\n",
    "## Problem 690\n",
    "\n",
    "<p>\n",
    "Tom (the cat) and Jerry (the mouse) are playing on a simple graph $G$.\n",
    "</p>\n",
    "<p>\n",
    "Every vertex of $G$ is a mousehole, and every edge of $G$ is a tunnel connecting two mouseholes.\n",
    "</p>\n",
    "<p>\n",
    "Originally, Jerry is hiding in one of the mouseholes.<br />\n",
    "Every morning, Tom can check one (and only one) of the mouseholes. If Jerry happens to be hiding there then Tom catches Jerry and the game is over.<br />\n",
    "Every evening, if the game continues, Jerry moves to a mousehole which is adjacent (i.e. connected by a tunnel, if there is one available) to his current hiding place. The next morning Tom checks again and the game continues like this.\n",
    "</p>\n",
    "<p>\n",
    "Let us call a graph $G$ a <i>Tom graph</i>, if our super-smart Tom, who knows the configuration of the graph but does not know the location of Jerry, can <i>guarantee</i> to catch Jerry in finitely many days.\n",
    "For example consider all graphs on 3 nodes:\n",
    "</p>\n",
    "<div style=\"text-align: center !important\">\n",
    "<img src=\"p690_graphs.jpg\" alt=\"Graphs on 3 nodes\" /></div>\n",
    "<p>\n",
    "For graphs 1 and 2, Tom will catch Jerry in at most three days. For graph 3 Tom can check the middle connection on two consecutive days and hence guarantee to catch Jerry in at most two days. These three graphs are therefore Tom Graphs. However, graph 4 is not a Tom Graph because the game could potentially continue forever.\n",
    "</p>\n",
    "<p>\n",
    "Let $T(n)$ be the number of different Tom graphs with $n$ vertices. Two graphs are considered the same if there is a bijection $f$ between their vertices, such that $(v,w)$ is an edge if and only if $(f(v),f(w))$ is an edge.\n",
    "</p>\n",
    "<p>\n",
    "We have $T(3) = 3$, $T(7) = 37$, $T(10) = 328$ and $T(20) = 1416269$.\n",
    "</p>\n",
    "<p>\n",
    "Find $T(2019)$ giving your answer modulo $1\\,000\\,000\\,007$.\n",
    "</p>\n"
   ]
  },
  {
   "cell_type": "markdown",
   "id": "1",
   "metadata": {},
   "source": [
    "# Solution\n"
   ]
  },
  {
   "cell_type": "code",
   "execution_count": null,
   "id": "2",
   "metadata": {},
   "outputs": [],
   "source": []
  }
 ],
 "metadata": {},
 "nbformat": 4,
 "nbformat_minor": 5
}
