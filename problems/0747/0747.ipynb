{
 "cells": [
  {
   "cell_type": "markdown",
   "id": "0",
   "metadata": {},
   "source": [
    "# <a href=\"https://projecteuler.net/problem=747\">Triangular Pizza</a>\n",
    "\n",
    "## Problem 747\n",
    "\n",
    "<p>Mamma Triangolo baked a triangular pizza. She wants to cut the pizza into $n$ pieces. She first chooses a point $P$ in the interior (not boundary) of the triangle pizza, and then performs $n$ cuts, which all start from $P$ and extend straight to the boundary of the pizza so that the $n$ pieces are all triangles and all have the same area.</p>\n",
    "\n",
    "<p>Let $\\psi(n)$ be the number of different ways for Mamma Triangolo to cut the pizza, subject to the constraints.<br />\n",
    "For example, $\\psi(3)=7$.</p>\n",
    "\n",
    "<div style=\"text-align:center;\">\n",
    "<img src=\"p747_PizzaDiag.jpg\" class=\"dark_img\" alt=\"\" /></div>\n",
    "\n",
    "<p>Also $\\psi(6)=34$, and $\\psi(10)=90$.</p>\n",
    "\n",
    "<p>Let $\\Psi(m)=\\displaystyle\\sum_{n=3}^m \\psi(n)$. You are given $\\Psi(10)=345$ and $\\Psi(1000)=172166601$.</p>\n",
    "\n",
    "<p>Find $\\Psi(10^8)$. Give your answer modulo $1\\,000\\,000\\,007$.</p>\n"
   ]
  },
  {
   "cell_type": "markdown",
   "id": "1",
   "metadata": {},
   "source": [
    "# Solution\n"
   ]
  },
  {
   "cell_type": "code",
   "execution_count": null,
   "id": "2",
   "metadata": {},
   "outputs": [],
   "source": []
  }
 ],
 "metadata": {},
 "nbformat": 4,
 "nbformat_minor": 5
}
