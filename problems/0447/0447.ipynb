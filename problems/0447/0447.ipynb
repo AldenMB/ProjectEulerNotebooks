{
 "cells": [
  {
   "cell_type": "markdown",
   "id": "0",
   "metadata": {},
   "source": [
    "# <a href=\"https://projecteuler.net/problem=447\">Retractions C</a>\n",
    "\n",
    "## Problem 447\n",
    "\n",
    "<p>\n",
    "For every integer $n&gt;1$, the family of functions $f_{n,a,b}$ is defined \n",
    "by  <br />\n",
    "$f_{n,a,b}(x)\\equiv a x + b \\mod n\\,\\,\\, $ for $a,b,x$ integer and  $0&lt; a &lt;n, 0 \\le b &lt; n,0 \\le x &lt; n$. </p>\n",
    "<p>\n",
    "We will call $f_{n,a,b}$ a <i>retraction</i> if $\\,\\,\\, f_{n,a,b}(f_{n,a,b}(x)) \\equiv f_{n,a,b}(x) \\mod n \\,\\,\\,$ for every $0 \\le x &lt; n$.<br />\n",
    "Let $R(n)$ be the number of retractions for $n$.\n",
    "</p>\n",
    "<p>\n",
    "$\\displaystyle F(N)=\\sum_{n=2}^N R(n)$. <br /> \n",
    "$F(10^7)\\equiv 638042271 \\mod 1\\,000\\,000\\,007$.<br /></p>\n",
    "<p>\n",
    "Find $F(10^{14})$.<br />\n",
    "Give your answer modulo $1\\,000\\,000\\,007$.\n",
    "</p>\n",
    "\n",
    "\n"
   ]
  },
  {
   "cell_type": "markdown",
   "id": "1",
   "metadata": {},
   "source": [
    "# Solution\n"
   ]
  },
  {
   "cell_type": "code",
   "execution_count": null,
   "id": "2",
   "metadata": {},
   "outputs": [],
   "source": []
  }
 ],
 "metadata": {},
 "nbformat": 4,
 "nbformat_minor": 5
}
