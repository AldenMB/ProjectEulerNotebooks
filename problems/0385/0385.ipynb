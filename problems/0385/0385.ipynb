{
 "cells": [
  {
   "cell_type": "markdown",
   "id": "0",
   "metadata": {},
   "source": [
    "# <a href=\"https://projecteuler.net/problem=385\">Ellipses inside triangles</a>\n",
    "\n",
    "## Problem 385\n",
    "\n",
    "<p>\n",
    "For any triangle <var>T</var> in the plane, it can be shown that there is a unique ellipse with largest area that is completely inside <var>T</var>.\n",
    "</p><p align=\"center\">\n",
    "<img src=\"p385_ellipsetriangle.png\" alt=\"p385_ellipsetriangle.png\" /></p>\n",
    "<p>\n",
    "For a given <var>n</var>, consider triangles <var>T</var> such that:<br />\n",
    "- the vertices of <var>T</var> have integer coordinates with absolute value ≤ n, and <br />\n",
    "- the <b>foci</b><sup>1</sup> of the largest-area ellipse inside <var>T</var> are (√13,0) and (-√13,0).<br />\n",
    "Let A(<var>n</var>) be the sum of the areas of all such triangles.\n",
    "</p>\n",
    "<p>\n",
    "For example, if <var>n</var> = 8, there are two such triangles. Their vertices are (-4,-3),(-4,3),(8,0) and (4,3),(4,-3),(-8,0), and the area of each triangle is 36. Thus A(8) = 36 + 36 = 72.\n",
    "</p>\n",
    "<p>\n",
    "It can be verified that A(10) = 252, A(100) = 34632 and A(1000) = 3529008.\n",
    "</p>\n",
    "<p>\n",
    "Find A(1 000 000 000).\n",
    "</p>\n",
    "<p>\n",
    "\n",
    "<span style=\"font-size:smaller;\"><sup>1</sup>The <b>foci</b> (plural of <b>focus</b>) of an ellipse are two points A and B such that for every point P on the boundary of the ellipse, <var>AP</var> + <var>PB</var> is constant.</span>\n",
    "\n",
    "\n",
    "</p>\n",
    "\n",
    "\n",
    "\n"
   ]
  },
  {
   "cell_type": "markdown",
   "id": "1",
   "metadata": {},
   "source": [
    "# Solution\n"
   ]
  },
  {
   "cell_type": "code",
   "execution_count": null,
   "id": "2",
   "metadata": {},
   "outputs": [],
   "source": []
  }
 ],
 "metadata": {},
 "nbformat": 4,
 "nbformat_minor": 5
}
