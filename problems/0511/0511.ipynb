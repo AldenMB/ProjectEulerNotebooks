{
 "cells": [
  {
   "cell_type": "markdown",
   "id": "0",
   "metadata": {},
   "source": [
    "# <a href=\"https://projecteuler.net/problem=511\">Sequences with nice divisibility properties</a>\n",
    "\n",
    "## Problem 511\n",
    "\n",
    "<p>Let <var>Seq</var>(<var>n</var>,<var>k</var>) be the number of positive-integer sequences {<var>a<sub>i</sub></var>}<sub>1≤i≤<var>n</var></sub> of length <var>n</var> such that:</p>\n",
    "<ul style=\"list-style-type:disc;\"><li><var>n</var> is divisible by <var>a<sub>i</sub></var> for 1 ≤ <var>i</var> ≤ <var>n</var>, and</li>\n",
    "  <li><var>n</var> + <var>a</var><sub>1</sub> + <var>a</var><sub>2</sub> + ... + <var>a<sub>n</sub></var> is divisible by <var>k</var>.</li>\n",
    "</ul><p>Examples:</p>\n",
    "<p><var>Seq</var>(3,4) = 4, and the 4 sequences are:<br />\n",
    "{1, 1, 3}<br />\n",
    "{1, 3, 1}<br />\n",
    "{3, 1, 1}<br />\n",
    "{3, 3, 3}</p>\n",
    "<p><var>Seq</var>(4,11) = 8, and the 8 sequences are:<br />\n",
    "{1, 1, 1, 4}<br />\n",
    "{1, 1, 4, 1}<br />\n",
    "{1, 4, 1, 1}<br />\n",
    "{4, 1, 1, 1}<br />\n",
    "{2, 2, 2, 1}<br />\n",
    "{2, 2, 1, 2}<br />\n",
    "{2, 1, 2, 2}<br />\n",
    "{1, 2, 2, 2}</p>\n",
    "<p>The last nine digits of <var>Seq</var>(1111,24) are 840643584.</p>\n",
    "<p>Find the last nine digits of <var>Seq</var>(1234567898765,4321).</p>\n"
   ]
  },
  {
   "cell_type": "markdown",
   "id": "1",
   "metadata": {},
   "source": [
    "# Solution\n"
   ]
  },
  {
   "cell_type": "code",
   "execution_count": null,
   "id": "2",
   "metadata": {},
   "outputs": [],
   "source": []
  }
 ],
 "metadata": {},
 "nbformat": 4,
 "nbformat_minor": 5
}
