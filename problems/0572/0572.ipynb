{
 "cells": [
  {
   "cell_type": "markdown",
   "id": "0",
   "metadata": {},
   "source": [
    "# <a href=\"https://projecteuler.net/problem=572\">Idempotent matrices</a>\n",
    "\n",
    "## Problem 572\n",
    "\n",
    "<p>\n",
    "A matrix $M$ is called idempotent if $M^2 = M$.<br />\n",
    "Let $M$ be a three by three matrix : \n",
    "$M=\\begin{pmatrix} \n",
    "  a &amp; b &amp; c\\\\ \n",
    "  d &amp; e &amp; f\\\\\n",
    "  g &amp;h &amp;i\\\\\n",
    "\\end{pmatrix}$.<br />\n",
    "Let C(<var>n</var>) be the number of  idempotent three by three matrices $M$ with integer elements such that<br />\n",
    "$ -n \\le a,b,c,d,e,f,g,h,i \\le n$.</p>\n",
    "<p>\n",
    "C(1)=164 and C(2)=848.\n",
    "</p>\n",
    "<p>\n",
    "Find C(200).\n",
    "</p>\n"
   ]
  },
  {
   "cell_type": "markdown",
   "id": "1",
   "metadata": {},
   "source": [
    "# Solution\n"
   ]
  },
  {
   "cell_type": "code",
   "execution_count": null,
   "id": "2",
   "metadata": {},
   "outputs": [],
   "source": []
  }
 ],
 "metadata": {},
 "nbformat": 4,
 "nbformat_minor": 5
}
