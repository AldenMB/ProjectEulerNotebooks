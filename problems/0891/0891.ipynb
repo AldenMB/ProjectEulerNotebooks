{
 "cells": [
  {
   "cell_type": "markdown",
   "id": "0",
   "metadata": {},
   "source": [
    "# <a href=\"http://projecteuler.net/problem=891\">Ambiguous Clock</a>\n",
    "\n",
    "## Problem 891\n",
    "\n",
    "<p>\n",
    "A round clock only has three hands: hour, minute, second. All hands look identical and move continuously. Moreover, there is no number or reference mark so that the \"upright position\" is unknown. The clock functions the same as a normal 12-hour analogue clock.</p>\n",
    "\n",
    "<p>\n",
    "Despite the inconvenient design, for most time it is possible to tell the correct time (within a 12-hour cycle) from the clock, just by measuring accurately the angles between the hands. For example, if all three hands coincide, then the time must be 12:00:00.</p>\n",
    "\n",
    "<p>\n",
    "Nevertheless, there are several moments where the clock shows an ambiguous reading. For example, the following moment could be either 1:30:00 or 7:30:00 (with the clock rotated $180^\\circ$). Thus both 1:30:00 and 7:30:00 are ambiguous moments.<br>\n",
    "Note that even if two hands perfectly coincide, we can still see them as two distinct hands in the same position. Thus for example 3:00:00 and 9:00:00 are not ambiguous moments.\n",
    "</p>\n",
    "\n",
    "<div style=\"text-align:center;\"><img src=\"resources/images/0891_clock.png?1714250610\" alt=\"0891_clock.png\"></div>\n",
    "\n",
    "<p>\n",
    "How many ambiguous moments are there within a 12-hour cycle?</p>\n"
   ]
  },
  {
   "cell_type": "markdown",
   "id": "1",
   "metadata": {},
   "source": [
    "# Solution\n"
   ]
  },
  {
   "cell_type": "code",
   "execution_count": null,
   "id": "2",
   "metadata": {},
   "outputs": [],
   "source": []
  }
 ],
 "metadata": {},
 "nbformat": 4,
 "nbformat_minor": 5
}
