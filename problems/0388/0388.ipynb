{
 "cells": [
  {
   "cell_type": "markdown",
   "id": "0",
   "metadata": {},
   "source": [
    "# <a href=\"https://projecteuler.net/problem=388\">Distinct Lines</a>\n",
    "\n",
    "## Problem 388\n",
    "\n",
    "<p>\n",
    "Consider all lattice points (a,b,c) with 0 ≤ a,b,c ≤ N.\n",
    "</p>\n",
    "<p>\n",
    "From the origin O(0,0,0) all lines are drawn to the other lattice points.<br />\n",
    "Let D(N) be the number of <i>distinct</i> such lines.\n",
    "</p>\n",
    "<p>\n",
    "You are given that D(1 000 000) = 831909254469114121.\n",
    "</p><p>\n",
    "Find D(10<sup>10</sup>). Give as your answer the first nine digits followed by the last nine digits.\n",
    "</p>\n",
    "\n",
    "\n",
    "\n"
   ]
  },
  {
   "cell_type": "markdown",
   "id": "1",
   "metadata": {},
   "source": [
    "# Solution\n"
   ]
  },
  {
   "cell_type": "code",
   "execution_count": null,
   "id": "2",
   "metadata": {},
   "outputs": [],
   "source": []
  }
 ],
 "metadata": {},
 "nbformat": 4,
 "nbformat_minor": 5
}
