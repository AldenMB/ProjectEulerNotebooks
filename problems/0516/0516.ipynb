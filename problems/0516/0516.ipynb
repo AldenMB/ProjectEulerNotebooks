{
 "cells": [
  {
   "cell_type": "markdown",
   "id": "0",
   "metadata": {},
   "source": [
    "# <a href=\"https://projecteuler.net/problem=516\">5-smooth totients</a>\n",
    "\n",
    "## Problem 516\n",
    "\n",
    "<p>\n",
    "5-smooth numbers are numbers whose largest prime factor doesn't exceed 5.<br />\n",
    "5-smooth numbers are also called Hamming numbers.<br />\n",
    "Let S(L) be the sum of the numbers n not exceeding L such that Euler's totient function φ(n) is a Hamming number.<br />\n",
    "S(100)=3728.\n",
    "</p>\n",
    "<p>\n",
    "Find S(10<sup>12</sup>). Give your answer modulo 2<sup>32</sup>.\n",
    "</p>\n",
    "\n"
   ]
  },
  {
   "cell_type": "markdown",
   "id": "1",
   "metadata": {},
   "source": [
    "# Solution\n"
   ]
  },
  {
   "cell_type": "code",
   "execution_count": null,
   "id": "2",
   "metadata": {},
   "outputs": [],
   "source": []
  }
 ],
 "metadata": {},
 "nbformat": 4,
 "nbformat_minor": 5
}
