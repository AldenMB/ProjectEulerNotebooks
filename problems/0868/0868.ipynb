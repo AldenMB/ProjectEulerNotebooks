{
 "cells": [
  {
   "cell_type": "markdown",
   "id": "0",
   "metadata": {},
   "source": [
    "# <a href=\"http://projecteuler.net/problem=868\">Belfry Maths</a>\n",
    "\n",
    "## Problem 868\n",
    "\n",
    "<p>\n",
    "There is a method that is used by Bell ringers to generate all variations of the order that bells are rung.</p>\n",
    "\n",
    "<p>\n",
    "The same method can be used to create all permutations of a set of letters. Consider the letters to be permuted initially in order from smallest to largest. At each step swap the largest letter with the letter on its left or right whichever generates a permutation that has not yet been seen. If neither gives a new permutation then try the next largest letter and so on. This procedure continues until all permutations have been generated.</p><p>\n",
    "\n",
    "</p><p>\n",
    "For example, $3$ swaps are required to reach the permutation CBA when starting with ABC.<br>\n",
    "The swaps are ABC $\\to$ ACB $\\to$ CAB $\\to$ CBA.<br>\n",
    "Also $59$ swaps are required to reach BELFRY when starting with these letters in alphabetical order.</p>\n",
    "\n",
    "<p>\n",
    "Find the number of swaps that are required to reach NOWPICKBELFRYMATHS when starting with these letters in alphabetical order.</p>\n"
   ]
  },
  {
   "cell_type": "markdown",
   "id": "1",
   "metadata": {},
   "source": [
    "# Solution\n"
   ]
  },
  {
   "cell_type": "code",
   "execution_count": null,
   "id": "2",
   "metadata": {},
   "outputs": [],
   "source": []
  }
 ],
 "metadata": {},
 "nbformat": 4,
 "nbformat_minor": 5
}
