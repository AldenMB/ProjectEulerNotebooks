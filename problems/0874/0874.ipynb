{
 "cells": [
  {
   "cell_type": "markdown",
   "id": "0",
   "metadata": {},
   "source": [
    "# <a href=\"http://projecteuler.net/problem=874\">Maximal Prime Score</a>\n",
    "\n",
    "## Problem 874\n",
    "\n",
    "<p>\n",
    "Let $p(t)$ denote the $(t+1)$th prime number. So that $p(0) = 2$, $p(1) = 3$, etc.<br>\n",
    "We define the <dfn>prime score</dfn> of a list of nonnegative integers $[a_1, \\dots, a_n]$ as the sum $\\sum_{i = 1}^n p(a_i)$.<br>\n",
    "Let $M(k, n)$ be the maximal prime score among all lists $[a_1, \\dots, a_n]$ such that:</p>\n",
    "\n",
    "<ul>\n",
    "<li> $0 \\leq a_i &lt; k$ for each $i$;\n",
    "</li><li> the sum $\\sum_{i = 1}^n a_i$ is a multiple of $k$.\n",
    "</li></ul>\n",
    "\n",
    "<p>\n",
    "For example, $M(2, 5) = 14$ as $[0, 1, 1, 1, 1]$ attains a maximal prime score of $14$.</p>\n",
    "\n",
    "<p>\n",
    "Find $M(7000, p(7000))$.</p>\n"
   ]
  },
  {
   "cell_type": "markdown",
   "id": "1",
   "metadata": {},
   "source": [
    "# Solution\n"
   ]
  },
  {
   "cell_type": "code",
   "execution_count": null,
   "id": "2",
   "metadata": {},
   "outputs": [],
   "source": []
  }
 ],
 "metadata": {},
 "nbformat": 4,
 "nbformat_minor": 5
}
