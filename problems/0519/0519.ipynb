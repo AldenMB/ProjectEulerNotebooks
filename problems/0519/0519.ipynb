{
 "cells": [
  {
   "cell_type": "markdown",
   "id": "0",
   "metadata": {},
   "source": [
    "# <a href=\"https://projecteuler.net/problem=519\">Tricoloured Coin Fountains</a>\n",
    "\n",
    "## Problem 519\n",
    "\n",
    "<p>An arrangement of coins in one or more rows with the bottom row being a block without gaps and every coin in a higher row touching exactly two coins in the row below is called a <b>fountain</b> of coins. Let <var>f</var>(<var>n</var>) be the number of possible fountains with <var>n</var> coins. For 4 coins there are three possible arrangements:</p>\n",
    "<div align=\"center\"><img src=\"p519_coin_fountain.png\" alt=\"p519_coin_fountain.png\" /></div>\n",
    "<p>Therefore <var>f</var>(4) = 3 while <var>f</var>(10) = 78.</p>\n",
    "<p>Let <var>T</var>(<var>n</var>) be the number of all possible colourings with three colours for all <var>f</var>(<var>n</var>) different fountains with <var>n</var> coins, given the condition that no two touching coins have the same colour. Below you see the possible colourings for one of the three valid fountains for 4 coins:</p>\n",
    "<div align=\"center\"><img src=\"p519_tricolored_coin_fountain.png\" alt=\"p519_tricolored_coin_fountain.png\" /></div>\n",
    "<p>You are given that <var>T</var>(4) = 48 and <var>T</var>(10) = 17760.</p>\n",
    "<p>Find the last 9 digits of <var>T</var>(20000).</p>\n",
    "\n"
   ]
  },
  {
   "cell_type": "markdown",
   "id": "1",
   "metadata": {},
   "source": [
    "# Solution\n"
   ]
  },
  {
   "cell_type": "code",
   "execution_count": null,
   "id": "2",
   "metadata": {},
   "outputs": [],
   "source": []
  }
 ],
 "metadata": {},
 "nbformat": 4,
 "nbformat_minor": 5
}
