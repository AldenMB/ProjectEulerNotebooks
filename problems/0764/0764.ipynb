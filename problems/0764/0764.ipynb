{
 "cells": [
  {
   "cell_type": "markdown",
   "id": "0",
   "metadata": {},
   "source": [
    "# <a href=\"https://projecteuler.net/problem=764\">Asymmetric Diophantine Equation</a>\n",
    "\n",
    "## Problem 764\n",
    "\n",
    "<p>\n",
    "Consider the following Diophantine equation:\n",
    "$$16x^2+y^4=z^2$$\n",
    "where $x$, $y$ and $z$ are positive integers.\n",
    "</p>\n",
    "<p>\n",
    "Let $S(N) = \\displaystyle{\\sum(x+y+z)}$ where the sum is over all solutions $(x,y,z)$ such that $1 \\leq x,y,z \\leq N$ and $\\gcd(x,y,z)=1$. \n",
    "</p>\n",
    "<p>\n",
    "For $N=100$, there are only two such solutions: $(3,4,20)$ and $(10,3,41)$. So $S(10^2)=81$.\n",
    "</p>\n",
    "<p>\n",
    "You are also given that $S(10^4)=112851$ (with 26 solutions), and $S(10^7)\\equiv 248876211 \\pmod{10^9}$.\n",
    "</p>\n",
    "<p>\n",
    "Find $S(10^{16})$. Give your answer modulo $10^9$.\n",
    "</p>\n"
   ]
  },
  {
   "cell_type": "markdown",
   "id": "1",
   "metadata": {},
   "source": [
    "# Solution\n"
   ]
  },
  {
   "cell_type": "code",
   "execution_count": null,
   "id": "2",
   "metadata": {},
   "outputs": [],
   "source": []
  }
 ],
 "metadata": {},
 "nbformat": 4,
 "nbformat_minor": 5
}
