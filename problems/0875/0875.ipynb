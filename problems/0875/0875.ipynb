{
 "cells": [
  {
   "cell_type": "markdown",
   "id": "0",
   "metadata": {},
   "source": [
    "# <a href=\"http://projecteuler.net/problem=875\">Quadruple Congruence</a>\n",
    "\n",
    "## Problem 875\n",
    "\n",
    "<p>\n",
    "For a positive integer $n$ we define $q(n)$ to be the number of solutions to:</p>\n",
    "$$a_1^2+a_2^2+a_3^2+a_4^2 \\equiv b_1^2+b_2^2+b_3^2+b_4^2 \\pmod n$$\n",
    "<p>where $0 \\leq a_i, b_i \\lt n$. For example, $q(4)= 18432$.</p>\n",
    "\n",
    "<p>\n",
    "Define $\\displaystyle Q(n)=\\sum_{i=1}^{n}q(i)$. You are given $Q(10)=18573381$.</p>\n",
    "\n",
    "<p>\n",
    "Find $Q(12345678)$. Give your answer modulo $1001961001$.</p>\n",
    "\n",
    "\n"
   ]
  },
  {
   "cell_type": "markdown",
   "id": "1",
   "metadata": {},
   "source": [
    "# Solution\n"
   ]
  },
  {
   "cell_type": "code",
   "execution_count": null,
   "id": "2",
   "metadata": {},
   "outputs": [],
   "source": []
  }
 ],
 "metadata": {},
 "nbformat": 4,
 "nbformat_minor": 5
}
