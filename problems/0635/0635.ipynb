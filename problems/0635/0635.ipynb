{
 "cells": [
  {
   "cell_type": "markdown",
   "id": "0",
   "metadata": {},
   "source": [
    "# <a href=\"https://projecteuler.net/problem=635\">Subset sums</a>\n",
    "\n",
    "## Problem 635\n",
    "\n",
    "<p>\n",
    "Let $A_q(n)$ be the number of subsets, $B$, of the set $\\{1, 2, ..., q \\cdot n\\}$ that satisfy two conditions:<br />\n",
    "1) $B$ has exactly $n$ elements;<br />\n",
    "2) the sum of the elements of $B$ is divisible by $n$.\n",
    "</p>\n",
    "<p>\n",
    "E.g. $A_2(5)=52$ and $A_3(5)=603$.\n",
    "</p>\n",
    "Let $S_q(L)$ be $\\sum A_q(p)$ where the sum is taken over all primes $p \\le L$.<br />\n",
    "E.g. $S_2(10)=554$, $S_2(100)$ mod $1\\,000\\,000\\,009=100433628$ and<br /> $S_3(100)$ mod $1\\,000\\,000\\,009=855618282$.\n",
    "\n",
    "<p>\n",
    "Find $S_2(10^8)+S_3(10^8)$. Give your answer modulo $1\\,000\\,000\\,009$.\n",
    "</p>\n",
    "\n",
    "\n"
   ]
  },
  {
   "cell_type": "markdown",
   "id": "1",
   "metadata": {},
   "source": [
    "# Solution\n"
   ]
  },
  {
   "cell_type": "code",
   "execution_count": null,
   "id": "2",
   "metadata": {},
   "outputs": [],
   "source": []
  }
 ],
 "metadata": {},
 "nbformat": 4,
 "nbformat_minor": 5
}
