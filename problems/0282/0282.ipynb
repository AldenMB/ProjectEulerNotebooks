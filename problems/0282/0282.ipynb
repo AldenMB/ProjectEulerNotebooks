{
 "cells": [
  {
   "cell_type": "markdown",
   "id": "0",
   "metadata": {},
   "source": [
    "# <a href=\"https://projecteuler.net/problem=282\">The Ackermann function</a>\n",
    "\n",
    "## Problem 282\n",
    "\n",
    "$\\def\\htmltext#1{\\style{font-family:inherit;}{\\text{#1}}}$\n",
    "<p>\n",
    "For non-negative integers $m$, $n$, the Ackermann function $A(m,n)$ is defined as follows:\n",
    "\n",
    "$$\n",
    "A(m,n) = \\cases{\n",
    "n+1 &amp;$\\htmltext{ if  }m=0$\\cr\n",
    "A(m-1,1) &amp;$\\htmltext{ if   }m&gt;0 \\htmltext{  and  } n=0$\\cr\n",
    "A(m-1,A(m,n-1)) &amp;$\\htmltext{ if   }m&gt;0 \\htmltext{  and  } n&gt;0$\\cr\n",
    "}$$\n",
    "</p>\n",
    "<p>\n",
    "For example $A(1,0) = 2$, $A(2,2) = 7$ and $A(3,4) = 125$.\n",
    "</p>\n",
    "<p>\n",
    "Find $\\displaystyle\\sum_{n=0}^6 A(n,n)$ and give your answer mod $14^8$.</p>\n"
   ]
  },
  {
   "cell_type": "markdown",
   "id": "1",
   "metadata": {},
   "source": [
    "# Solution\n"
   ]
  },
  {
   "cell_type": "code",
   "execution_count": null,
   "id": "2",
   "metadata": {},
   "outputs": [],
   "source": []
  }
 ],
 "metadata": {},
 "nbformat": 4,
 "nbformat_minor": 5
}
