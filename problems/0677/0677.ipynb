{
 "cells": [
  {
   "cell_type": "markdown",
   "id": "0",
   "metadata": {},
   "source": [
    "# <a href=\"https://projecteuler.net/problem=677\">Coloured Graphs</a>\n",
    "\n",
    "## Problem 677\n",
    "\n",
    "<p>Let $g(n)$ be the number of <b>undirected graphs</b> with $n$ nodes satisfying the following properties:</p>\n",
    "<ul><li>The graph is connected and has no cycles or multiple edges.</li>\n",
    "<li>Each node is either red, blue, or yellow.</li>\n",
    "<li>A red node may have no more than 4 edges connected to it.</li>\n",
    "<li>A blue or yellow node may have no more than 3 edges connected to it.</li>\n",
    "<li>An edge may not directly connect a yellow node to a yellow node.</li>\n",
    "</ul><p>For example, $g(2)=5$, $g(3)=15$, and $g(4) = 57$.<br />\n",
    "You are also given that $g(10) = 710249$ and $g(100) \\equiv 919747298 \\pmod{1\\,000\\,000\\,007}$.</p>\n",
    "\n",
    "<p>Find $g(10\\,000) \\bmod 1\\,000\\,000\\,007$.</p>\n"
   ]
  },
  {
   "cell_type": "markdown",
   "id": "1",
   "metadata": {},
   "source": [
    "# Solution\n"
   ]
  },
  {
   "cell_type": "code",
   "execution_count": null,
   "id": "2",
   "metadata": {},
   "outputs": [],
   "source": []
  }
 ],
 "metadata": {},
 "nbformat": 4,
 "nbformat_minor": 5
}
