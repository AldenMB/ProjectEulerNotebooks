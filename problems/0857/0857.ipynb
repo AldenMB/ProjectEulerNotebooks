{
 "cells": [
  {
   "cell_type": "markdown",
   "id": "0",
   "metadata": {},
   "source": [
    "# <a href=\"http://projecteuler.net/problem=857\">Beautiful Graphs</a>\n",
    "\n",
    "## Problem 857\n",
    "\n",
    "<p>\n",
    "A graph is made up of vertices and coloured edges. \n",
    "Between every two distinct vertices there must be exactly one of the following:</p>\n",
    "\n",
    "<ul>\n",
    "<li>A red directed edge one way, and a blue directed edge the other way</li>\n",
    "<li>A green undirected edge</li>\n",
    "<li>A brown undirected edge</li>\n",
    "</ul>\n",
    "\n",
    "Such a graph is called <i>beautiful</i> if \n",
    "\n",
    "<ul>\n",
    "<li>A cycle of edges contains a red edge <b>if and only if</b> it also contains a blue edge</li>\n",
    "<li>No triangle of edges is made up of entirely green or entirely brown edges</li>\n",
    "</ul>\n",
    "\n",
    "<p>\n",
    "Below are four distinct examples of beautiful graphs on three vertices:\n",
    "</p>\n",
    "<img src=\"resources/images/0857_GoodGraphs.jpg?1692412187\" alt=\"0857_GoodGraphs.jpg\">\n",
    "\n",
    "<p>\n",
    "Below are four examples of graphs that are not beautiful:</p>\n",
    "<img src=\"resources/images/0857_BadGraphs.jpg?1692412205\" alt=\"0857_BadGraphs.jpg\">\n",
    "\n",
    "<p>\n",
    "Let $G(n)$ be the number of beautiful graphs on the labelled vertices: $1,2,\\ldots,n$.\n",
    "You are given $G(3)=24$, $G(4)=186$ and $G(15)=12472315010483328$.</p>\n",
    "\n",
    "<p>\n",
    "Find $G(10^7)$. Give your answer modulo $10^9+7$.</p>\n",
    "\n",
    "\n",
    "\n"
   ]
  },
  {
   "cell_type": "markdown",
   "id": "1",
   "metadata": {},
   "source": [
    "# Solution\n"
   ]
  },
  {
   "cell_type": "code",
   "execution_count": null,
   "id": "2",
   "metadata": {},
   "outputs": [],
   "source": []
  }
 ],
 "metadata": {},
 "nbformat": 4,
 "nbformat_minor": 5
}
