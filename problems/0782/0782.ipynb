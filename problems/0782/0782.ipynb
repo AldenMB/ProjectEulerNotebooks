{
 "cells": [
  {
   "cell_type": "markdown",
   "id": "0",
   "metadata": {},
   "source": [
    "# <a href=\"https://projecteuler.net/problem=782\">Distinct Rows and Columns</a>\n",
    "\n",
    "## Problem 782\n",
    "\n",
    "<p>The <i>complexity</i> of an $n\\times n$ binary matrix is the number of distinct rows and columns.</p>\n",
    "<p>\n",
    "For example, consider the $3\\times 3$ matrices\n",
    "$$\t\t\\mathbf{A} = \\begin{pmatrix} 1&amp;0&amp;1\\\\0&amp;0&amp;0\\\\1&amp;0&amp;1\\end{pmatrix}\t\\quad\n",
    "\t\t\\mathbf{B} = \\begin{pmatrix} 0&amp;0&amp;0\\\\0&amp;0&amp;0\\\\1&amp;1&amp;1\\end{pmatrix}\t$$\n",
    "$\\mathbf{A}$ has complexity 2 because the set of rows and columns is $\\{000,101\\}$.\n",
    "$\\mathbf{B}$ has complexity 3 because the set of rows and columns is $\\{000,001,111\\}$.</p>\n",
    "<p>\n",
    "For $0 \\le k \\le n^2$, let $c(n, k)$ be the <b>minimum</b> complexity of an $n\\times n$ binary matrix with exactly $k$ ones.</p>\n",
    "<p>\n",
    "Let\n",
    "$$C(n) = \\sum_{k=0}^{n^2} c(n, k)$$\n",
    "For example, $C(2) = c(2, 0) + c(2, 1) + c(2, 2) + c(2, 3) + c(2, 4) = 1 + 2 + 2 + 2 + 1 = 8$.<br />\n",
    "You are given $C(5) = 64$, $C(10) = 274$ and $C(20) = 1150$.</p>\n",
    "<p>\n",
    "Find $C(10^4)$.</p>\n"
   ]
  },
  {
   "cell_type": "markdown",
   "id": "1",
   "metadata": {},
   "source": [
    "# Solution\n"
   ]
  },
  {
   "cell_type": "code",
   "execution_count": null,
   "id": "2",
   "metadata": {},
   "outputs": [],
   "source": []
  }
 ],
 "metadata": {},
 "nbformat": 4,
 "nbformat_minor": 5
}
