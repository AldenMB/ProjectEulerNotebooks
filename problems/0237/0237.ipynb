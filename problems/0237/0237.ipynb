{
 "cells": [
  {
   "cell_type": "markdown",
   "id": "0",
   "metadata": {},
   "source": [
    "# <a href=\"https://projecteuler.net/problem=237\">Tours on a 4 x n playing board</a>\n",
    "\n",
    "## Problem 237\n",
    "\n",
    "<p>Let T(<i>n</i>) be the number of tours over a 4 × <i>n</i> playing board such that:</p>\n",
    "<ul><li>The tour starts in the top left corner.</li>\n",
    "<li>The tour consists of moves that are up, down, left, or right one square.</li>\n",
    "<li>The tour visits each square exactly once.</li>\n",
    "<li>The tour ends in the bottom left corner.</li>\n",
    "</ul><p>The diagram shows one tour over a 4 × 10 board:</p>\n",
    "\n",
    "<div style=\"text-align: center !important\">\n",
    "<img src=\"p237.gif\" class=\"dark_img\" alt=\"\" /></div>\n",
    "\n",
    "<p>T(10) is 2329. What is T(10<sup>12</sup>) modulo 10<sup>8</sup>?</p>\n"
   ]
  },
  {
   "cell_type": "markdown",
   "id": "1",
   "metadata": {},
   "source": [
    "# Solution\n"
   ]
  },
  {
   "cell_type": "code",
   "execution_count": null,
   "id": "2",
   "metadata": {},
   "outputs": [],
   "source": []
  }
 ],
 "metadata": {},
 "nbformat": 4,
 "nbformat_minor": 5
}
