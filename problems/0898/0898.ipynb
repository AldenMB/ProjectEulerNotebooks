{
 "cells": [
  {
   "cell_type": "markdown",
   "id": "0",
   "metadata": {},
   "source": [
    "# <a href=\"http://projecteuler.net/problem=898\">Claire Voyant</a>\n",
    "\n",
    "## Problem 898\n",
    "\n",
    "<p>\n",
    "Claire Voyant is a teacher playing a game with a class of students.\n",
    "A fair coin is tossed on the table. All the students can see the outcome of the toss, but Claire cannot.\n",
    "Each student then tells Claire whether the outcome is head or tail. The students may lie, but Claire knows the probability that each individual student lies. Moreover, the students lie independently.\n",
    "After that, Claire attempts to guess the outcome using optimal strategy.\n",
    "</p>\n",
    "<p>\n",
    "For example, for a class of four students with lying probabilities $20\\%,40\\%,60\\%,80\\%$, Claire guesses correctly with probability 0.832.\n",
    "</p>\n",
    "<p>\n",
    "Find the probability that Claire guesses correctly for a class of 51 students each lying with a probability of $25\\%, 26\\%, \\dots, 75\\%$\n",
    " respectively.\n",
    "</p>\n",
    "<p>\n",
    "Give your answer rounded to 10 digits after the decimal point.\n",
    "</p>\n"
   ]
  },
  {
   "cell_type": "markdown",
   "id": "1",
   "metadata": {},
   "source": [
    "# Solution\n"
   ]
  },
  {
   "cell_type": "code",
   "execution_count": null,
   "id": "2",
   "metadata": {},
   "outputs": [],
   "source": []
  }
 ],
 "metadata": {},
 "nbformat": 4,
 "nbformat_minor": 5
}
