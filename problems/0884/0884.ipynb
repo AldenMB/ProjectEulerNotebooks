{
 "cells": [
  {
   "cell_type": "markdown",
   "id": "0",
   "metadata": {},
   "source": [
    "# <a href=\"http://projecteuler.net/problem=884\">Removing Cubes</a>\n",
    "\n",
    "## Problem 884\n",
    "\n",
    "<p>\n",
    "Starting from a positive integer $n$, at each step we subtract from $n$ the largest perfect cube not exceeding $n$, until $n$ becomes $0$.<br>\n",
    "For example, with $n = 100$ the procedure ends in $4$ steps:\n",
    "$$100 \\xrightarrow{-4^3} 36 \\xrightarrow{-3^3} 9 \\xrightarrow{-2^3} 1 \\xrightarrow{-1^3} 0.$$\n",
    "Let $D(n)$ denote the number of steps of the procedure. Thus $D(100) = 4$.</p>\n",
    "\n",
    "<p>\n",
    "Let $S(N)$ denote the sum of $D(n)$ for all positive integers $n$ <b>strictly less</b> than $N$.<br>\n",
    "For example, $S(100) = 512$.</p>\n",
    "\n",
    "<p>\n",
    "Find $S(10^{17})$.</p>\n"
   ]
  },
  {
   "cell_type": "markdown",
   "id": "1",
   "metadata": {},
   "source": [
    "# Solution\n"
   ]
  },
  {
   "cell_type": "code",
   "execution_count": null,
   "id": "2",
   "metadata": {},
   "outputs": [],
   "source": []
  }
 ],
 "metadata": {},
 "nbformat": 4,
 "nbformat_minor": 5
}
