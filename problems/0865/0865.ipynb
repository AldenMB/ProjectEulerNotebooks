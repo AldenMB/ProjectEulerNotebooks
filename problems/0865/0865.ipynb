{
 "cells": [
  {
   "cell_type": "markdown",
   "id": "0",
   "metadata": {},
   "source": [
    "# <a href=\"http://projecteuler.net/problem=865\">Triplicate Numbers</a>\n",
    "\n",
    "## Problem 865\n",
    "\n",
    "<p>\n",
    "A <dfn>triplicate number</dfn> is a positive integer such that, after repeatedly removing three consecutive identical digits from it, all its digits can be removed.</p>\n",
    "\n",
    "<p>\n",
    "For example, the integer $122555211$ is a triplicate number:\n",
    "$$122{\\color{red}555}211 \\rightarrow 1{\\color{red}222}11\\rightarrow{\\color{red}111}\\rightarrow.$$\n",
    "On the other hand, neither $663633$ nor $9990$ are triplicate numbers.</p>\n",
    "\n",
    "<p>\n",
    "Let $T(n)$ be how many triplicate numbers are less than $10^n$.</p>\n",
    "\n",
    "<p>\n",
    "For example, $T(6) = 261$ and $T(30) = 5576195181577716$.</p>\n",
    "\n",
    "<p>\n",
    "Find $T(10^4)$. Give your answer modulo $998244353$.</p>\n"
   ]
  },
  {
   "cell_type": "markdown",
   "id": "1",
   "metadata": {},
   "source": [
    "# Solution\n"
   ]
  },
  {
   "cell_type": "code",
   "execution_count": null,
   "id": "2",
   "metadata": {},
   "outputs": [],
   "source": []
  }
 ],
 "metadata": {},
 "nbformat": 4,
 "nbformat_minor": 5
}
