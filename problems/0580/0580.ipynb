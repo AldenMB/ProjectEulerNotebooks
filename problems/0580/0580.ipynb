{
 "cells": [
  {
   "cell_type": "markdown",
   "id": "0",
   "metadata": {},
   "source": [
    "# <a href=\"https://projecteuler.net/problem=580\">Squarefree Hilbert numbers</a>\n",
    "\n",
    "## Problem 580\n",
    "\n",
    "<p>\n",
    "A <b>Hilbert number</b> is any positive integer of the form $4k+1$ for integer $k\\geq 0$.  We shall define a <i>squarefree Hilbert number</i> as a Hilbert number which is not divisible by the square of any Hilbert number other than one.  For example, $117$ is a squarefree Hilbert number, equaling $9\\times13$.  However $6237$ is a Hilbert number that is not squarefree in this sense, as it is divisible by $9^2$.  The number $3969$ is also not squarefree, as it is divisible by both $9^2$ and $21^2$.  \n",
    "</p>\n",
    "<p>\n",
    "There are $2327192$ squarefree Hilbert numbers below $10^7$. <br />\n",
    "How many squarefree Hilbert numbers are there below $10^{16}$?\n",
    "</p>\n"
   ]
  },
  {
   "cell_type": "markdown",
   "id": "1",
   "metadata": {},
   "source": [
    "# Solution\n"
   ]
  },
  {
   "cell_type": "code",
   "execution_count": null,
   "id": "2",
   "metadata": {},
   "outputs": [],
   "source": []
  }
 ],
 "metadata": {},
 "nbformat": 4,
 "nbformat_minor": 5
}
