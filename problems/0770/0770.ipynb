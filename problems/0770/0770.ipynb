{
 "cells": [
  {
   "cell_type": "markdown",
   "id": "0",
   "metadata": {},
   "source": [
    "# <a href=\"https://projecteuler.net/problem=770\">Delphi Flip</a>\n",
    "\n",
    "## Problem 770\n",
    "\n",
    "<p>\n",
    "A and B play a game. A has originally $1$ gram of gold and B has an unlimited amount.\n",
    "Each round goes as follows:\n",
    "</p>\n",
    "<ul>\n",
    "<li>\n",
    "A chooses and displays, $x$, a nonnegative real number no larger than the amount of gold that A has.</li>\n",
    "<li>\n",
    "Either B chooses to TAKE. Then A gives B $x$ grams of gold.</li>\n",
    "<li>\n",
    "Or B chooses to GIVE. Then B gives A $x$ grams of gold.</li>\n",
    "</ul>\n",
    "<p>\n",
    "B TAKEs $n$ times and GIVEs $n$ times after which the game finishes.</p>\n",
    "<p>\n",
    "Define $g(X)$ to be the smallest value of $n$ so that A can guarantee to have at least $X$ grams of gold at the end of the game. You are given $g(1.7) = 10$.\n",
    "</p>\n",
    "<p>\n",
    "Find $g(1.9999)$.\n",
    "</p>\n"
   ]
  },
  {
   "cell_type": "markdown",
   "id": "1",
   "metadata": {},
   "source": [
    "# Solution\n"
   ]
  },
  {
   "cell_type": "code",
   "execution_count": null,
   "id": "2",
   "metadata": {},
   "outputs": [],
   "source": []
  }
 ],
 "metadata": {},
 "nbformat": 4,
 "nbformat_minor": 5
}
