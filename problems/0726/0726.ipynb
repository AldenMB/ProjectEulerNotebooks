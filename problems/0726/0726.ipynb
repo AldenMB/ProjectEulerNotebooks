{
 "cells": [
  {
   "cell_type": "markdown",
   "id": "0",
   "metadata": {},
   "source": [
    "# <a href=\"https://projecteuler.net/problem=726\">Falling bottles</a>\n",
    "\n",
    "## Problem 726\n",
    "\n",
    "<p>\n",
    "Consider a stack of bottles of wine. There are $n$ layers in the stack with the top layer containing only one bottle and the bottom layer containing $n$ bottles. For $n=4$ the stack looks like the picture below.\n",
    "</p>\n",
    "<div style=\"text-align: center !important\">\n",
    "<img src=\"p726_FallingBottles.jpg\" class=\"dark_img\" alt=\"\" /></div>\n",
    "<p>\n",
    "The <i>collapsing process</i> happens every time a bottle is taken. A space is created in the stack and that space is filled according to the following recursive steps:\n",
    "</p><ul><li>No bottle touching from above: nothing happens. For example, taking $F$.</li>\n",
    "<li>One bottle touching from above: that will drop down to fill the space creating another space. For example, taking $D$.</li>\n",
    "<li>Two bottles touching from above: one will drop down to fill the space creating another space. For example, taking $C$.</li>\n",
    "</ul><p>\n",
    "This process happens recursively; for example, taking bottle $A$ in the diagram above. Its place can be filled with either $B$ or $C$. If it is filled with $C$ then the space that $C$ creates can be filled with $D$ or $E$. So there are 3 different collapsing processes that can happen if $A$ is taken, although the final shape (in this case) is the same.\n",
    "</p>\n",
    "<p>\n",
    "Define $f(n)$ to be the number of ways that we can take all the bottles from a stack with $n$ layers. \n",
    "Two ways are considered different if at any step we took a different bottle or the collapsing process went differently.\n",
    "</p>\n",
    "<p>\n",
    "You are given $f(1) = 1$, $f(2) = 6$ and $f(3) = 1008$.\n",
    "</p>\n",
    "Also define\n",
    "<div style=\"text-align: center !important\">\n",
    "$\\displaystyle\tS(n) = \\sum_{k=1}^n f(k)$</div>\n",
    "<p>\n",
    "Find $S(10^4)$ and give your answer modulo $1\\,000\\,000\\,033$.\n",
    "</p>\n"
   ]
  },
  {
   "cell_type": "markdown",
   "id": "1",
   "metadata": {},
   "source": [
    "# Solution\n"
   ]
  },
  {
   "cell_type": "code",
   "execution_count": null,
   "id": "2",
   "metadata": {},
   "outputs": [],
   "source": []
  }
 ],
 "metadata": {},
 "nbformat": 4,
 "nbformat_minor": 5
}
