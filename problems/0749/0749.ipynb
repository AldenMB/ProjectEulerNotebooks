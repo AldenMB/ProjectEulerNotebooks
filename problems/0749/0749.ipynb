{
 "cells": [
  {
   "cell_type": "markdown",
   "id": "0",
   "metadata": {},
   "source": [
    "# <a href=\"https://projecteuler.net/problem=749\">Near Power Sums</a>\n",
    "\n",
    "## Problem 749\n",
    "\n",
    "<p>\n",
    "A positive integer, $n$, is a <i>near power sum</i> if there exists a positive integer, $k$, such that the sum of the $k$th powers of the digits in its decimal representation is equal to either $n+1$ or $n-1$. For example 35 is a near power sum number because $3^2+5^2 = 34$.\n",
    "</p>\n",
    "<p>\n",
    "Define $S(d)$ to be the sum of all near power sum numbers of $d$ digits or less. \n",
    "Then $S(2) = 110$ and $S(6) = 2562701$.\n",
    "</p>\n",
    "<p>\n",
    "Find $S(16)$.\n",
    "</p>\n"
   ]
  },
  {
   "cell_type": "markdown",
   "id": "1",
   "metadata": {},
   "source": [
    "# Solution\n"
   ]
  },
  {
   "cell_type": "code",
   "execution_count": null,
   "id": "2",
   "metadata": {},
   "outputs": [],
   "source": []
  }
 ],
 "metadata": {},
 "nbformat": 4,
 "nbformat_minor": 5
}
