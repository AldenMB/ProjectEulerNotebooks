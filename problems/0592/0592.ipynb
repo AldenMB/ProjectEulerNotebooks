{
 "cells": [
  {
   "cell_type": "markdown",
   "id": "0",
   "metadata": {},
   "source": [
    "# <a href=\"https://projecteuler.net/problem=592\">Factorial trailing digits 2</a>\n",
    "\n",
    "## Problem 592\n",
    "\n",
    "<p>For any <var>N</var>, let <var>f</var>(<var>N</var>) be the last twelve hexadecimal digits before the trailing zeroes in <var>N</var>!.</p>\n",
    "\n",
    "<p>For example, the hexadecimal representation of 20! is 21C3677C82B40000,<br />\n",
    "so <var>f</var>(20) is the digit sequence 21C3677C82B4.</p>\n",
    "\n",
    "<p>Find <var>f</var>(20!). Give your answer as twelve hexadecimal digits, using uppercase for the digits A to F.</p>\n"
   ]
  },
  {
   "cell_type": "markdown",
   "id": "1",
   "metadata": {},
   "source": [
    "# Solution\n"
   ]
  },
  {
   "cell_type": "code",
   "execution_count": null,
   "id": "2",
   "metadata": {},
   "outputs": [],
   "source": []
  }
 ],
 "metadata": {},
 "nbformat": 4,
 "nbformat_minor": 5
}
