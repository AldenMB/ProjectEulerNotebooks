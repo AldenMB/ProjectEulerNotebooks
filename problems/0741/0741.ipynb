{
 "cells": [
  {
   "cell_type": "markdown",
   "id": "0",
   "metadata": {},
   "source": [
    "# <a href=\"https://projecteuler.net/problem=741\">Binary grid colouring</a>\n",
    "\n",
    "## Problem 741\n",
    "\n",
    "<p>\n",
    "Let $f(n)$ be the number of ways an $n\\times n$ square grid can be coloured, each cell either black or white, such that each row and each column contains exactly two black cells.<br />\n",
    "For example, $f(4)=90$, $f(7) = 3110940$ and $f(8) = 187530840$.\n",
    "</p>\n",
    "<p>\n",
    "Let $g(n)$ be the number of colourings in $f(n)$ that are unique up to rotations and reflections.<br />\n",
    "You are given $g(4)=20$, $g(7) = 390816$ and $g(8) = 23462347$ giving $g(7)+g(8) = 23853163$.\n",
    "</p>\n",
    "<p>\n",
    "Find $g(7^7) + g(8^8)$. Give your answer modulo $1\\,000\\,000\\,007$.\n",
    "</p>\n",
    "\n",
    "\n"
   ]
  },
  {
   "cell_type": "markdown",
   "id": "1",
   "metadata": {},
   "source": [
    "# Solution\n"
   ]
  },
  {
   "cell_type": "code",
   "execution_count": null,
   "id": "2",
   "metadata": {},
   "outputs": [],
   "source": []
  }
 ],
 "metadata": {},
 "nbformat": 4,
 "nbformat_minor": 5
}
