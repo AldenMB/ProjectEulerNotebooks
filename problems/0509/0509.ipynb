{
 "cells": [
  {
   "cell_type": "markdown",
   "id": "0",
   "metadata": {},
   "source": [
    "# <a href=\"https://projecteuler.net/problem=509\">Divisor Nim</a>\n",
    "\n",
    "## Problem 509\n",
    "\n",
    "<p>\n",
    "Anton and Bertrand love to play three pile Nim.<br />\n",
    "However, after a lot of games of Nim they got bored and changed the rules somewhat.<br />\n",
    "They may only take a number of stones from a pile that is a <dfn title=\"a proper divisor of n is a divisor of n smaller than n\">proper divisor</dfn> of the number of stones present in the pile.<br /> E.g. if a pile at a certain moment contains 24 stones they may take only 1,2,3,4,6,8 or 12 stones from that pile.<br />\n",
    "So if a pile contains one stone they can't take the last stone from it as 1 isn't a proper divisor of 1.<br />\n",
    "The first player that can't make a valid move loses the game.<br />\n",
    "Of course both Anton and Bertrand play optimally.</p>\n",
    "<p>\n",
    "The triple (<var>a</var>,<var>b</var>,<var>c</var>) indicates the number of stones in the three piles.<br />\n",
    "Let <var>S</var>(<var>n</var>) be the number of winning positions for the next player for 1 ≤ <var>a</var>, <var>b</var>, <var>c</var> ≤ <var>n</var>.<br /><var>S</var>(10) = 692 and <var>S</var>(100) = 735494.</p>\n",
    "<p>\n",
    "Find <var>S</var>(123456787654321) modulo 1234567890.\n",
    "</p>\n"
   ]
  },
  {
   "cell_type": "markdown",
   "id": "1",
   "metadata": {},
   "source": [
    "# Solution\n"
   ]
  },
  {
   "cell_type": "code",
   "execution_count": null,
   "id": "2",
   "metadata": {},
   "outputs": [],
   "source": []
  }
 ],
 "metadata": {},
 "nbformat": 4,
 "nbformat_minor": 5
}
