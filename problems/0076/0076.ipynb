{
 "cells": [
  {
   "cell_type": "markdown",
   "id": "0",
   "metadata": {},
   "source": [
    "# <a href=\"https://projecteuler.net/problem=76\">Counting summations</a>\n",
    "\n",
    "## Problem 76\n",
    "\n",
    "\n",
    "<p>It is possible to write five as a sum in exactly six different ways:</p>\n",
    "<p class=\"margin_left\">4 + 1<br />\n",
    "3 + 2<br />\n",
    "3 + 1 + 1<br />\n",
    "2 + 2 + 1<br />\n",
    "2 + 1 + 1 + 1<br />\n",
    "1 + 1 + 1 + 1 + 1</p>\n",
    "<p>How many different ways can one hundred be written as a sum of at least two positive integers?</p>\n",
    "\n"
   ]
  },
  {
   "cell_type": "markdown",
   "id": "1",
   "metadata": {},
   "source": [
    "# Solution\n"
   ]
  },
  {
   "cell_type": "code",
   "execution_count": null,
   "id": "2",
   "metadata": {},
   "outputs": [],
   "source": []
  }
 ],
 "metadata": {},
 "nbformat": 4,
 "nbformat_minor": 5
}
