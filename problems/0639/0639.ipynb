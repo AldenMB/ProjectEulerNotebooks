{
 "cells": [
  {
   "cell_type": "markdown",
   "id": "0",
   "metadata": {},
   "source": [
    "# <a href=\"https://projecteuler.net/problem=639\">Summing a multiplicative function</a>\n",
    "\n",
    "## Problem 639\n",
    "\n",
    "<p>A <b>multiplicative function</b> $f(x)$ is a function over positive integers satisfying $f(1)=1$ and $f(a b)=f(a) f(b)$ for any two coprime positive integers $a$ and $b$.</p>\n",
    "\n",
    "<p>For integer $k$ let $f_k(n)$ be a multiplicative function additionally satisfying $f_k(p^e)=p^k$ for any prime $p$ and any integer $e&gt;0$.<br /> \n",
    "For example, $f_1(2)=2$, $f_1(4)=2$, $f_1(18)=6$ and $f_2(18)=36$.</p>\n",
    "\n",
    "<p>Let $\\displaystyle S_k(n)=\\sum_{i=1}^{n} f_k(i)$.\n",
    "For example, $S_1(10)=41$, $S_1(100)=3512$, $S_2(100)=208090$, $S_1(10000)=35252550$ and $\\displaystyle \\sum_{k=1}^{3} S_k(10^{8}) \\equiv 338787512 \\pmod{ 1\\,000\\,000\\,007}$.</p>\n",
    "\n",
    "<p>Find $\\displaystyle \\sum_{k=1}^{50} S_k(10^{12}) \\bmod 1\\,000\\,000\\,007$.</p>\n",
    "\n"
   ]
  },
  {
   "cell_type": "markdown",
   "id": "1",
   "metadata": {},
   "source": [
    "# Solution\n"
   ]
  },
  {
   "cell_type": "code",
   "execution_count": null,
   "id": "2",
   "metadata": {},
   "outputs": [],
   "source": []
  }
 ],
 "metadata": {},
 "nbformat": 4,
 "nbformat_minor": 5
}
