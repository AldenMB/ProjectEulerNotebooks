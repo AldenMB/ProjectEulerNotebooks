{
 "cells": [
  {
   "cell_type": "markdown",
   "id": "0",
   "metadata": {},
   "source": [
    "# <a href=\"https://projecteuler.net/problem=464\">Möbius function and intervals</a>\n",
    "\n",
    "## Problem 464\n",
    "\n",
    "<p>\n",
    "The <b>Möbius function</b>, denoted <var>μ</var>(<var>n</var>), is defined as:\n",
    "</p><ul><li><var>μ</var>(<var>n</var>) = (-1)<sup><var>ω</var>(<var>n</var>)</sup> if <var>n</var> is squarefree (where <var>ω</var>(<var>n</var>) is the number of distinct prime factors of <var>n</var>)</li>\n",
    "<li><var>μ</var>(<var>n</var>) = 0 if <var>n</var> is not squarefree.</li>\n",
    "</ul><p>\n",
    "Let P(<var>a</var>,<var>b</var>) be the number of integers <var>n</var> in the interval [<var>a</var>,<var>b</var>] such that <var>μ</var>(<var>n</var>) = 1.<br />\n",
    "Let N(<var>a</var>,<var>b</var>) be the number of integers <var>n</var> in the interval [<var>a</var>,<var>b</var>] such that <var>μ</var>(<var>n</var>) = -1.<br />\n",
    "For example, P(2,10) = 2 and N(2,10) = 4.\n",
    "</p>\n",
    "\n",
    "<p>\n",
    "Let C(<var>n</var>) be the number of integer pairs (<var>a</var>,<var>b</var>) such that:\n",
    "</p><ul><li> 1 ≤ <var>a</var> ≤ <var>b</var> ≤ <var>n</var>,</li>\n",
    "<li> 99·N(<var>a</var>,<var>b</var>) ≤ 100·P(<var>a</var>,<var>b</var>), and</li>\n",
    "<li> 99·P(<var>a</var>,<var>b</var>) ≤ 100·N(<var>a</var>,<var>b</var>).</li>\n",
    "</ul><p>\n",
    "For example, C(10) = 13, C(500) = 16676 and C(10 000) = 20155319.\n",
    "</p>\n",
    "\n",
    "<p>\n",
    "Find C(20 000 000).\n",
    "</p>\n",
    "\n"
   ]
  },
  {
   "cell_type": "markdown",
   "id": "1",
   "metadata": {},
   "source": [
    "# Solution\n"
   ]
  },
  {
   "cell_type": "code",
   "execution_count": null,
   "id": "2",
   "metadata": {},
   "outputs": [],
   "source": []
  }
 ],
 "metadata": {},
 "nbformat": 4,
 "nbformat_minor": 5
}
