{
 "cells": [
  {
   "cell_type": "markdown",
   "id": "0",
   "metadata": {},
   "source": [
    "# <a href=\"https://projecteuler.net/problem=730\">Shifted Pythagorean Triples</a>\n",
    "\n",
    "## Problem 730\n",
    "\n",
    "<p>\n",
    "For a non-negative integer $k$, the triple $(p,q,r)$ of positive integers is called a <dfn>$k$-shifted Pythagorean triple</dfn> if $$p^2 + q^2 + k = r^2$$\n",
    "</p>\n",
    "<p>\n",
    "$(p, q, r)$ is said to be primitive if $\\gcd(p, q, r)=1$.\n",
    "</p>\n",
    "<p>\n",
    "Let $P_k(n)$ be the number of primitive k-shifted Pythagorean triples such that $1 \\le p \\le q \\le r$ and $p + q + r \\le n$. <br /> For example, $P_0(10^4) = 703$ and $P_{20}(10^4) = 1979$. \n",
    "</p>\n",
    "<p>\n",
    "Define \n",
    "$$\\displaystyle S(m,n)=\\sum_{k=0}^{m}P_k(n)$$\n",
    "You are given that $S(10,10^4) = 10956$. \n",
    "</p>\n",
    "<p>\n",
    "Find $S(10^2,10^8)$\n",
    "</p>\n"
   ]
  },
  {
   "cell_type": "markdown",
   "id": "1",
   "metadata": {},
   "source": [
    "# Solution\n"
   ]
  },
  {
   "cell_type": "code",
   "execution_count": null,
   "id": "2",
   "metadata": {},
   "outputs": [],
   "source": []
  }
 ],
 "metadata": {},
 "nbformat": 4,
 "nbformat_minor": 5
}
