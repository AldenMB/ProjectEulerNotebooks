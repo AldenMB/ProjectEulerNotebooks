{
 "cells": [
  {
   "cell_type": "markdown",
   "id": "0",
   "metadata": {},
   "source": [
    "# <a href=\"https://projecteuler.net/problem=606\">Gozinta Chains II</a>\n",
    "\n",
    "## Problem 606\n",
    "\n",
    "<p>\n",
    "A <b>gozinta chain</b> for <var>n</var> is a sequence {1,a,b,...,<var>n</var>} where each element properly divides the next. <br />\n",
    "For example, there are eight distinct gozinta chains for 12: <br />\n",
    "{1,12}, {1,2,12}, {1,2,4,12}, {1,2,6,12}, {1,3,12}, {1,3,6,12}, {1,4,12} and {1,6,12}.\n",
    "</p>\n",
    "<p>\n",
    "Let S(<var>n</var>) be the sum of all numbers, <var>k</var>, not exceeding <var>n</var>, which have 252 distinct gozinta chains. <br />\n",
    "You are given S(10<sup>6</sup>)=8462952 and S(10<sup>12</sup>)=623291998881978.\n",
    "</p>\n",
    "<p>\n",
    "Find S(10<sup>36</sup>), giving the last nine digits of your answer.\n",
    "</p>\n"
   ]
  },
  {
   "cell_type": "markdown",
   "id": "1",
   "metadata": {},
   "source": [
    "# Solution\n"
   ]
  },
  {
   "cell_type": "code",
   "execution_count": null,
   "id": "2",
   "metadata": {},
   "outputs": [],
   "source": []
  }
 ],
 "metadata": {},
 "nbformat": 4,
 "nbformat_minor": 5
}
