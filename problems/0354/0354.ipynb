{
 "cells": [
  {
   "cell_type": "markdown",
   "id": "0",
   "metadata": {},
   "source": [
    "# <a href=\"https://projecteuler.net/problem=354\">Distances in a bee's honeycomb </a>\n",
    "\n",
    "## Problem 354\n",
    "\n",
    "<p>Consider a honey bee's honeycomb where each cell is a perfect regular hexagon with side length $1$.</p>\n",
    "\n",
    "<div align=\"center\">\n",
    "<img src=\"p354_bee_honeycomb.png\" alt=\"p354_bee_honeycomb.png\" /></div>\n",
    "\n",
    "\n",
    "<p>\n",
    "One particular cell is occupied by the queen bee.<br />\n",
    "For a positive real number $L$, let $\\text{B}(L)$ count the cells with distance $L$ from the queen bee cell (all distances are measured from centre to centre); you may assume that the honeycomb is large enough to accommodate for any distance we wish to consider. <br />\n",
    "For example, $\\text{B}(\\sqrt 3)=6$, $\\text{B}(\\sqrt {21}) = 12$ and $\\text{B}(111\\,111\\,111) = 54$.</p>\n",
    "\n",
    "<p>Find the number of $L \\le 5 \\times 10^{11}$ such that $\\text{B}(L) = 450$.</p>\n"
   ]
  },
  {
   "cell_type": "markdown",
   "id": "1",
   "metadata": {},
   "source": [
    "# Solution\n"
   ]
  },
  {
   "cell_type": "code",
   "execution_count": null,
   "id": "2",
   "metadata": {},
   "outputs": [],
   "source": []
  }
 ],
 "metadata": {},
 "nbformat": 4,
 "nbformat_minor": 5
}
