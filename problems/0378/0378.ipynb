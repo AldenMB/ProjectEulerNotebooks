{
 "cells": [
  {
   "cell_type": "markdown",
   "id": "0",
   "metadata": {},
   "source": [
    "# <a href=\"https://projecteuler.net/problem=378\">Triangle Triples</a>\n",
    "\n",
    "## Problem 378\n",
    "\n",
    "<p>Let $T(n)$ be the n<sup>th</sup> triangle number, so $T(n) = \\dfrac{n(n + 1)}{2}$.</p>\n",
    "\n",
    "<p>Let $dT(n)$ be the number of divisors of $T(n)$.<br />\n",
    "E.g.: $T(7) = 28$ and $dT(7) = 6$.</p>\n",
    "\n",
    "<p>Let $Tr(n)$ be the number of triples $(i, j, k)$ such that $1 \\le i \\lt j \\lt k \\le n$ and $dT(i) \\gt dT(j) \\gt dT(k)$.<br />\n",
    "$Tr(20) = 14$, $Tr(100) = 5772$, and $Tr(1000) = 11174776$.</p>\n",
    "\n",
    "<p>Find $Tr(60 000 000)$. <br />\n",
    "Give the last 18 digits of your answer.</p>\n",
    "\n"
   ]
  },
  {
   "cell_type": "markdown",
   "id": "1",
   "metadata": {},
   "source": [
    "# Solution\n"
   ]
  },
  {
   "cell_type": "code",
   "execution_count": null,
   "id": "2",
   "metadata": {},
   "outputs": [],
   "source": []
  }
 ],
 "metadata": {},
 "nbformat": 4,
 "nbformat_minor": 5
}
