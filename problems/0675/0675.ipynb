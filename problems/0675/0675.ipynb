{
 "cells": [
  {
   "cell_type": "markdown",
   "id": "0",
   "metadata": {},
   "source": [
    "# <a href=\"https://projecteuler.net/problem=675\">$2^{\\omega(n)}$</a>\n",
    "\n",
    "## Problem 675\n",
    "\n",
    "<p>\n",
    "Let $\\omega(n)$ denote the number of distinct prime divisors of a positive integer $n$.<br />\n",
    "So  $\\omega(1) = 0$ and  $\\omega(360) = \\omega(2^{3} \\times 3^{2} \\times 5) = 3$.\n",
    "</p>\n",
    "<p>\n",
    "Let $S(n)$ be $ \\Sigma_{d | n} 2^{\\omega(d)}  $.\n",
    "<br />\n",
    "E.g. $S(6) = 2^{\\omega(1)}+2^{\\omega(2)}+2^{\\omega(3)}+2^{\\omega(6)} = 2^0+2^1+2^1+2^2 = 9$.\n",
    "</p>\n",
    "<p>\n",
    "Let $F(n)=\\Sigma_{i=2}^n S(i!)$.\n",
    "$F(10)=4821.$\n",
    "</p>\n",
    "<p>\n",
    "Find $F(10\\,000\\,000)$. Give your answer modulo  $1\\,000\\,000\\,087$.\n",
    "</p>\n",
    "\n"
   ]
  },
  {
   "cell_type": "markdown",
   "id": "1",
   "metadata": {},
   "source": [
    "# Solution\n"
   ]
  },
  {
   "cell_type": "code",
   "execution_count": null,
   "id": "2",
   "metadata": {},
   "outputs": [],
   "source": []
  }
 ],
 "metadata": {},
 "nbformat": 4,
 "nbformat_minor": 5
}
