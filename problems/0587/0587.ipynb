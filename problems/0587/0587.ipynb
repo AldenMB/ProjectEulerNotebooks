{
 "cells": [
  {
   "cell_type": "markdown",
   "id": "0",
   "metadata": {},
   "source": [
    "# <a href=\"https://projecteuler.net/problem=587\">Concave triangle</a>\n",
    "\n",
    "## Problem 587\n",
    "\n",
    "<p>\n",
    "A square is drawn around a circle as shown in the diagram below on the left.<br />\n",
    "We shall call the blue shaded region the L-section.<br />\n",
    "A line is drawn from the bottom left of the square to the top right as shown in the diagram on the right.<br />\n",
    "We shall call the orange shaded region a concave triangle.\n",
    "</p>\n",
    "<div style=\"text-align: center !important\">\n",
    "<img src=\"p587_concave_triangle_1.png\" class=\"dark_img\" alt=\"p587_concave_triangle_1.png\" /></div>\n",
    "<p>\n",
    "It should be clear that the concave triangle occupies exactly half of the L-section.\n",
    "</p>\n",
    "<p>\n",
    "\n",
    "Two circles are placed next to each other horizontally, a rectangle is drawn around both circles, and a line is drawn from the bottom left to the top right as shown in the diagram below.\n",
    "</p>\n",
    "<div style=\"text-align: center !important\">\n",
    "<img src=\"p587_concave_triangle_2.png\" class=\"dark_img\" alt=\"p587_concave_triangle_2.png\" /></div>\n",
    "<p>\n",
    "This time the concave triangle occupies approximately 36.46% of the L-section.\n",
    "</p>\n",
    "<p>\n",
    "If <var>n</var> circles are placed next to each other horizontally, a rectangle is drawn around the <var>n</var> circles, and a line is drawn from the bottom left to the top right, then it can be shown that the least value of <var>n</var> for which the concave triangle occupies less than 10% of the L-section is <var>n</var> = 15.\n",
    "</p>\n",
    "<p>\n",
    "What is the least value of <var>n</var> for which the concave triangle occupies less than 0.1% of the L-section?\n",
    "</p>\n",
    "\n"
   ]
  },
  {
   "cell_type": "markdown",
   "id": "1",
   "metadata": {},
   "source": [
    "# Solution\n"
   ]
  },
  {
   "cell_type": "code",
   "execution_count": null,
   "id": "2",
   "metadata": {},
   "outputs": [],
   "source": []
  }
 ],
 "metadata": {},
 "nbformat": 4,
 "nbformat_minor": 5
}
