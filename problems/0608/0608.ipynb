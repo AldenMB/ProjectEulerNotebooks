{
 "cells": [
  {
   "cell_type": "markdown",
   "id": "0",
   "metadata": {},
   "source": [
    "# <a href=\"https://projecteuler.net/problem=608\">Divisor Sums</a>\n",
    "\n",
    "## Problem 608\n",
    "\n",
    "<p>Let $D(m,n)=\\displaystyle\\sum_{d|m}\\sum_{k=1}^n\\sigma_{\\small 0}(kd)$ where $d$ runs through all divisors of $m$ and $\\sigma_{\\small 0}(n)$ is the number of divisors of $n$.<br />\n",
    "You are given $D(3!,10^2)=3398$ and $D(4!,10^6)=268882292$.</p>\n",
    "\n",
    "<p>Find $D(200!,10^{12}) \\text{ mod } (10^9 + 7)$.</p>\n"
   ]
  },
  {
   "cell_type": "markdown",
   "id": "1",
   "metadata": {},
   "source": [
    "# Solution\n"
   ]
  },
  {
   "cell_type": "code",
   "execution_count": null,
   "id": "2",
   "metadata": {},
   "outputs": [],
   "source": []
  }
 ],
 "metadata": {},
 "nbformat": 4,
 "nbformat_minor": 5
}
