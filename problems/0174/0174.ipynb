{
 "cells": [
  {
   "cell_type": "markdown",
   "id": "0",
   "metadata": {},
   "source": [
    "# <a href=\"https://projecteuler.net/problem=174\">Counting the number of \"hollow\" square laminae that can form one, two, three, ... distinct arrangements</a>\n",
    "\n",
    "## Problem 174\n",
    "\n",
    "<p>We shall define a square lamina to be a square outline with a square \"hole\" so that the shape possesses vertical and horizontal symmetry.</p>\n",
    "<p>Given eight tiles it is possible to form a lamina in only one way: 3x3 square with a 1x1 hole in the middle. However, using thirty-two tiles it is possible to form two distinct laminae.</p>\n",
    "<div style=\"text-align: center !important\">\n",
    "<img src=\"p173_square_laminas.gif\" alt=\"\" /></div>\n",
    "<p>If <var>t</var> represents the number of tiles used, we shall say that <var>t</var> = 8 is type L(1) and <var>t</var> = 32 is type L(2).</p>\n",
    "<p>Let N(<var>n</var>) be the number of <var>t</var> ≤ 1000000 such that <var>t</var> is type L(<var>n</var>); for example, N(15) = 832.</p>\n",
    "<p>What is <span style=\"font-size:larger;\"><span style=\"font-size:larger;\">∑</span></span> N(<var>n</var>) for 1 ≤ <var>n</var> ≤ 10?</p>\n"
   ]
  },
  {
   "cell_type": "markdown",
   "id": "1",
   "metadata": {},
   "source": [
    "# Solution\n"
   ]
  },
  {
   "cell_type": "code",
   "execution_count": null,
   "id": "2",
   "metadata": {},
   "outputs": [],
   "source": []
  }
 ],
 "metadata": {},
 "nbformat": 4,
 "nbformat_minor": 5
}
