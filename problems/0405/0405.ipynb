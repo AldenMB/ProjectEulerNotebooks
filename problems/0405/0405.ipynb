{
 "cells": [
  {
   "cell_type": "markdown",
   "id": "0",
   "metadata": {},
   "source": [
    "# <a href=\"https://projecteuler.net/problem=405\">A rectangular tiling</a>\n",
    "\n",
    "## Problem 405\n",
    "\n",
    "<p>\n",
    "We wish to tile a rectangle whose length is twice its width.<br />\n",
    "Let <var>T</var>(0) be the tiling consisting of a single rectangle.<br />\n",
    "For <var>n</var> &gt; 0, let <var>T</var>(<var>n</var>) be obtained from <var>T</var>(<var>n</var>-1) by replacing all tiles in the following manner:\n",
    "</p>\n",
    "\n",
    "<div align=\"center\">\n",
    "<img src=\"p405_tile1.png\" alt=\"p405_tile1.png\" /></div>\n",
    "\n",
    "<p>\n",
    "The following animation demonstrates the tilings <var>T</var>(<var>n</var>) for <var>n</var> from 0 to 5:\n",
    "</p>\n",
    "\n",
    "<div align=\"center\">\n",
    "<img src=\"p405_tile2.gif\" alt=\"p405_tile2.gif\" /></div>\n",
    "\n",
    "<p>\n",
    "Let <var>f</var>(<var>n</var>) be the number of points where four tiles meet in <var>T</var>(<var>n</var>).<br />\n",
    "For example, <var>f</var>(1) = 0, <var>f</var>(4) = 82 and <var>f</var>(10<sup>9</sup>) mod 17<sup>7</sup> = 126897180.\n",
    "</p>\n",
    "\n",
    "<p>\n",
    "Find <var>f</var>(10<sup><var>k</var></sup>) for <var>k</var> = 10<sup>18</sup>, give your answer modulo 17<sup>7</sup>.\n",
    "</p>\n"
   ]
  },
  {
   "cell_type": "markdown",
   "id": "1",
   "metadata": {},
   "source": [
    "# Solution\n"
   ]
  },
  {
   "cell_type": "code",
   "execution_count": null,
   "id": "2",
   "metadata": {},
   "outputs": [],
   "source": []
  }
 ],
 "metadata": {},
 "nbformat": 4,
 "nbformat_minor": 5
}
