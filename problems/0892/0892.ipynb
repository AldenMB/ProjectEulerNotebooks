{
 "cells": [
  {
   "cell_type": "markdown",
   "id": "0",
   "metadata": {},
   "source": [
    "# <a href=\"http://projecteuler.net/problem=892\">Zebra Circles</a>\n",
    "\n",
    "## Problem 892\n",
    "\n",
    "<p>\n",
    "Consider a circle where $2n$ distinct points have been marked on its circumference.</p>\n",
    "\n",
    "<p>\n",
    "A <i>cutting</i> $C$ consists of connecting the $2n$ points with $n$ line segments, so that no two line segments intersect, including on their end points. The $n$ line segments then cut the circle into $n + 1$ pieces.\n",
    "Each piece is painted either black or white, so that adjacent pieces are opposite colours.\n",
    "Let $d(C)$ be the absolute difference between the numbers of black and white pieces under the cutting $C$.</p>\n",
    "\n",
    "<p>\n",
    "Let $D(n)$ be the sum of $d(C)$ over all different cuttings $C$.\n",
    "For example, there are five different cuttings with $n = 3$.</p>\n",
    "\n",
    "<div style=\"text-align:center;\">\n",
    "<img src=\"resources/images/0892_Zebra.png?1714876283\" alt=\"0892_Zebra.png\"></div>\n",
    "\n",
    "<p>\n",
    "The upper three cuttings all have $d = 0$ because there are two black and two white pieces; the lower two cuttings both have $d = 2$ because there are three black and one white pieces.\n",
    "Therefore $D(3) = 0 + 0 + 0 + 2 + 2 = 4$. \n",
    "You are also given $D(100) \\equiv 1172122931\\pmod{1234567891}$.</p>\n",
    "\n",
    "<p>\n",
    "Find $\\displaystyle \\sum_{n=1}^{10^7} D(n)$. Give your answer modulo $1234567891$.</p>\n",
    "\n"
   ]
  },
  {
   "cell_type": "markdown",
   "id": "1",
   "metadata": {},
   "source": [
    "# Solution\n"
   ]
  },
  {
   "cell_type": "code",
   "execution_count": null,
   "id": "2",
   "metadata": {},
   "outputs": [],
   "source": []
  }
 ],
 "metadata": {},
 "nbformat": 4,
 "nbformat_minor": 5
}
