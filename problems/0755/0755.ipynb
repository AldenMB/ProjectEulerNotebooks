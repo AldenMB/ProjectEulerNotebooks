{
 "cells": [
  {
   "cell_type": "markdown",
   "id": "0",
   "metadata": {},
   "source": [
    "# <a href=\"https://projecteuler.net/problem=755\">Not Zeckendorf</a>\n",
    "\n",
    "## Problem 755\n",
    "\n",
    "<p>\n",
    "Consider the Fibonacci sequence $\\{1,2,3,5,8,13,21,\\ldots\\}$.\n",
    "</p>\n",
    "<p>\n",
    "We let $f(n)$ be the number of ways of representing an integer $n\\ge 0$ as the sum of different Fibonacci numbers.<br />\n",
    "For example, $16 = 3+13 = 1+2+13 = 3+5+8 = 1+2+5+8$ and hence $f(16) = 4$. \n",
    "By convention $f(0) = 1$.\n",
    "</p>\n",
    "<p>\n",
    "Further we define\n",
    "$$\\displaystyle S(n) = \\sum_{k=0}^n f(k)$$\n",
    "You are given $S(100) = 415$ and $S(10^4) = 312807$.\n",
    "</p>\n",
    "<p>\n",
    "Find $\\displaystyle S(10^{13})$.\n",
    "</p>\n"
   ]
  },
  {
   "cell_type": "markdown",
   "id": "1",
   "metadata": {},
   "source": [
    "# Solution\n"
   ]
  },
  {
   "cell_type": "code",
   "execution_count": null,
   "id": "2",
   "metadata": {},
   "outputs": [],
   "source": []
  }
 ],
 "metadata": {},
 "nbformat": 4,
 "nbformat_minor": 5
}
