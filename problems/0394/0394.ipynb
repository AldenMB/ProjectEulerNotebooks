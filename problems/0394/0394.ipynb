{
 "cells": [
  {
   "cell_type": "markdown",
   "id": "0",
   "metadata": {},
   "source": [
    "# <a href=\"https://projecteuler.net/problem=394\">Eating pie</a>\n",
    "\n",
    "## Problem 394\n",
    "\n",
    "<p>\n",
    "Jeff eats a pie in an unusual way.<br />\n",
    "The pie is circular. He starts with slicing an initial cut in the pie along a radius.<br />\n",
    "While there is at least a given fraction <var>F</var> of pie left, he performs the following procedure:<br />\n",
    "- He makes two slices from the pie centre to any point of what is remaining of the pie border, any point on the remaining pie border equally likely. This will divide the remaining pie into three pieces.<br /> \n",
    "- Going counterclockwise from the initial cut, he takes the first two pie pieces and eats them.<br />\n",
    "When less than a fraction <var>F</var> of pie remains, he does not repeat this procedure. Instead, he eats all of the remaining pie.\n",
    "</p>\n",
    "<p align=\"center\">\n",
    "<img src=\"p394_eatpie.gif\" alt=\"p394_eatpie.gif\" /></p>\n",
    "\n",
    "\n",
    "<p>\n",
    "For <var>x</var> ≥ 1, let E(<var>x</var>) be the expected number of times Jeff repeats the procedure above with <var>F</var> = <sup>1</sup>/<sub><var>x</var></sub>.<br />\n",
    "It can be verified that  E(1) = 1, E(2) ≈ 1.2676536759, and E(7.5) ≈ 2.1215732071.\n",
    "</p>\n",
    "<p>\n",
    "Find E(40) rounded to 10 decimal places behind the decimal point.\n",
    "</p>\n",
    "\n",
    "\n"
   ]
  },
  {
   "cell_type": "markdown",
   "id": "1",
   "metadata": {},
   "source": [
    "# Solution\n"
   ]
  },
  {
   "cell_type": "code",
   "execution_count": null,
   "id": "2",
   "metadata": {},
   "outputs": [],
   "source": []
  }
 ],
 "metadata": {},
 "nbformat": 4,
 "nbformat_minor": 5
}
