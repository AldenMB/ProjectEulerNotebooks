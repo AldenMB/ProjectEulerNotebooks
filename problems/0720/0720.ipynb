{
 "cells": [
  {
   "cell_type": "markdown",
   "id": "0",
   "metadata": {},
   "source": [
    "# <a href=\"https://projecteuler.net/problem=720\">Unpredictable Permutations</a>\n",
    "\n",
    "## Problem 720\n",
    "\n",
    "<p>Consider all permutations of $\\{1, 2, \\ldots N\\}$, listed in lexicographic order.<br />For example, for $N=4$, the list starts as follows:</p>\n",
    "<div>\n",
    "$$\\displaylines{\n",
    "(1, 2, 3, 4) \\\\\n",
    "(1, 2, 4, 3) \\\\\n",
    "(1, 3, 2, 4) \\\\\n",
    "(1, 3, 4, 2) \\\\\n",
    "(1, 4, 2, 3) \\\\\n",
    "(1, 4, 3, 2) \\\\\n",
    "(2, 1, 3, 4) \\\\\n",
    "\\vdots\n",
    "}$$\n",
    "</div>\n",
    "<p>\n",
    "Let us call a permutation $P$ <i>unpredictable</i> if there is no choice of three indices $i \\lt j \\lt k$ such that $P(i)$, $P(j)$ and $P(k)$ constitute an arithmetic progression.<br /> For example, $P=(3, 4, 2, 1)$ is <i>not</i> unpredictable because $P(1), P(3), P(4)$ is an arithmetic progression.\n",
    "</p>\n",
    "<p>\n",
    "Let $S(N)$ be the position within the list of the first unpredictable permutation.\n",
    "</p>\n",
    "\n",
    "<p>\n",
    "For example, given $N = 4$, the first unpredictable permutation is $(1, 3, 2, 4)$ so $S(4) = 3$.<br />\n",
    "You are also given that $S(8) = 2295$ and $S(32) \\equiv 641839205 \\pmod{1\\,000\\,000\\,007}$.\n",
    "</p>\n",
    "<p>\n",
    "Find $S(2^{25})$. Give your answer modulo $1\\,000\\,000\\,007$.\n",
    "</p>\n"
   ]
  },
  {
   "cell_type": "markdown",
   "id": "1",
   "metadata": {},
   "source": [
    "# Solution\n"
   ]
  },
  {
   "cell_type": "code",
   "execution_count": null,
   "id": "2",
   "metadata": {},
   "outputs": [],
   "source": []
  }
 ],
 "metadata": {},
 "nbformat": 4,
 "nbformat_minor": 5
}
