{
 "cells": [
  {
   "cell_type": "markdown",
   "id": "0",
   "metadata": {},
   "source": [
    "# <a href=\"https://projecteuler.net/problem=112\">Bouncy numbers</a>\n",
    "\n",
    "## Problem 112\n",
    "\n",
    "<p>Working from left-to-right if no digit is exceeded by the digit to its left it is called an increasing number; for example, 134468.</p>\n",
    "<p>Similarly if no digit is exceeded by the digit to its right it is called a decreasing number; for example, 66420.</p>\n",
    "<p>We shall call a positive integer that is neither increasing nor decreasing a \"bouncy\" number; for example, 155349.</p>\n",
    "<p>Clearly there cannot be any bouncy numbers below one-hundred, but just over half of the numbers below one-thousand (525) are bouncy. In fact, the least number for which the proportion of bouncy numbers first reaches 50% is 538.</p>\n",
    "<p>Surprisingly, bouncy numbers become more and more common and by the time we reach 21780 the proportion of bouncy numbers is equal to 90%.</p>\n",
    "<p>Find the least number for which the proportion of bouncy numbers is exactly 99%.</p>\n",
    "\n"
   ]
  },
  {
   "cell_type": "markdown",
   "id": "1",
   "metadata": {},
   "source": [
    "# Solution\n"
   ]
  },
  {
   "cell_type": "code",
   "execution_count": null,
   "id": "2",
   "metadata": {},
   "outputs": [],
   "source": []
  }
 ],
 "metadata": {},
 "nbformat": 4,
 "nbformat_minor": 5
}
