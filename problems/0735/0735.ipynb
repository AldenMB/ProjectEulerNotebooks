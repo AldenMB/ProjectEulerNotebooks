{
 "cells": [
  {
   "cell_type": "markdown",
   "id": "0",
   "metadata": {},
   "source": [
    "# <a href=\"https://projecteuler.net/problem=735\">Divisors of $2n^2$</a>\n",
    "\n",
    "## Problem 735\n",
    "\n",
    "<p>Let $f(n)$ be the number of divisors of $2n^2$ that are no greater than n. For example, $f(15)=8$ because there are 8 such divisors: 1,2,3,5,6,9,10,15. Note that 18 is also a divisor of $2\\times 15^2$ but it is not counted because it is greater than 15.</p>\n",
    "\n",
    "<p>Let $\\displaystyle F(N) = \\sum_{n=1}^N f(n)$. You are given $F(15)=63$, and $F(1000)=15066$.</p>\n",
    "\n",
    "<p>Find $F(10^{12})$.</p>\n",
    "\n"
   ]
  },
  {
   "cell_type": "markdown",
   "id": "1",
   "metadata": {},
   "source": [
    "# Solution\n"
   ]
  },
  {
   "cell_type": "code",
   "execution_count": null,
   "id": "2",
   "metadata": {},
   "outputs": [],
   "source": []
  }
 ],
 "metadata": {},
 "nbformat": 4,
 "nbformat_minor": 5
}
