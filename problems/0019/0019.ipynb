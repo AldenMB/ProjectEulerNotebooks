{
 "cells": [
  {
   "cell_type": "markdown",
   "id": "0",
   "metadata": {},
   "source": [
    "# <a href=\"https://projecteuler.net/problem=19\">Counting Sundays</a>\n",
    "\n",
    "## Problem 19\n",
    "\n",
    "\n",
    "<p>You are given the following information, but you may prefer to do some research for yourself.</p>\n",
    "<ul><li>1 Jan 1900 was a Monday.</li>\n",
    "<li>Thirty days has September,<br />\n",
    "April, June and November.<br />\n",
    "All the rest have thirty-one,<br />\n",
    "Saving February alone,<br />\n",
    "Which has twenty-eight, rain or shine.<br />\n",
    "And on leap years, twenty-nine.</li>\n",
    "<li>A leap year occurs on any year evenly divisible by 4, but not on a century unless it is divisible by 400.</li>\n",
    "</ul><p>How many Sundays fell on the first of the month during the twentieth century (1 Jan 1901 to 31 Dec 2000)?</p>\n",
    "\n"
   ]
  },
  {
   "cell_type": "markdown",
   "id": "1",
   "metadata": {},
   "source": [
    "# Solution\n"
   ]
  },
  {
   "cell_type": "code",
   "execution_count": null,
   "id": "2",
   "metadata": {},
   "outputs": [],
   "source": []
  }
 ],
 "metadata": {},
 "nbformat": 4,
 "nbformat_minor": 5
}
