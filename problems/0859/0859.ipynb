{
 "cells": [
  {
   "cell_type": "markdown",
   "id": "0",
   "metadata": {},
   "source": [
    "# <a href=\"http://projecteuler.net/problem=859\">Cookie Game</a>\n",
    "\n",
    "## Problem 859\n",
    "\n",
    "<p>\n",
    "Odd and Even are playing a game with $N$ cookies.</p>\n",
    "\n",
    "<p>\n",
    "The game begins with the $N$ cookies divided into one or more piles, not necessarily of the same size. They then make moves in turn, starting with Odd.<br>\n",
    "Odd's turn: Odd may choose any pile with an <b>odd</b> number of cookies, eat one and divide the remaining (if any) into two equal piles.<br>\n",
    "Even's turn: Even may choose any pile with an <b>even</b> number of cookies, eat two of them and divide the remaining (if any) into two equal piles.<br>\n",
    "The player that does not have a valid move loses the game.</p>\n",
    "\n",
    "<p>\n",
    "Let $C(N)$ be the number of ways that $N$ cookies can be divided so that Even has a winning strategy.<br>\n",
    "For example, $C(5) = 2$ because there are two winning configurations for Even: a single pile containing all five cookies; three piles containing one, two and two cookies.<br>\n",
    "You are also given $C(16) = 64$.</p>\n",
    "\n",
    "<p>\n",
    "Find $C(300)$.</p>\n"
   ]
  },
  {
   "cell_type": "markdown",
   "id": "1",
   "metadata": {},
   "source": [
    "# Solution\n"
   ]
  },
  {
   "cell_type": "code",
   "execution_count": null,
   "id": "2",
   "metadata": {},
   "outputs": [],
   "source": []
  }
 ],
 "metadata": {},
 "nbformat": 4,
 "nbformat_minor": 5
}
