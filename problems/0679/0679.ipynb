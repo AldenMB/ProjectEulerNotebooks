{
 "cells": [
  {
   "cell_type": "markdown",
   "id": "0",
   "metadata": {},
   "source": [
    "# <a href=\"https://projecteuler.net/problem=679\">Freefarea</a>\n",
    "\n",
    "## Problem 679\n",
    "\n",
    "<p>Let $S$ be the set consisting of the four letters $\\{\\texttt{`A'},\\texttt{`E'},\\texttt{`F'},\\texttt{`R'}\\}$.<br />\n",
    "For $n\\ge 0$, let $S^*(n)$ denote the set of words of length $n$ consisting of letters belonging to $S$.<br />\n",
    "We designate the words $\\texttt{FREE}, \\texttt{FARE}, \\texttt{AREA}, \\texttt{REEF}$ as <i>keywords</i>.</p>\n",
    "\n",
    "<p>Let $f(n)$ be the number of words in $S^*(n)$ that contains all four keywords exactly once.</p>\n",
    "\n",
    "<p>This first happens for $n=9$, and indeed there is a unique 9 lettered word that contain each of the keywords once: $\\texttt{FREEFAREA}$<br />\n",
    "So, $f(9)=1$.</p>\n",
    "\n",
    "<p>You are also given that $f(15)=72863$.</p>\n",
    "\n",
    "<p>Find $f(30)$.</p>\n",
    "\n"
   ]
  },
  {
   "cell_type": "markdown",
   "id": "1",
   "metadata": {},
   "source": [
    "# Solution\n"
   ]
  },
  {
   "cell_type": "code",
   "execution_count": null,
   "id": "2",
   "metadata": {},
   "outputs": [],
   "source": []
  }
 ],
 "metadata": {},
 "nbformat": 4,
 "nbformat_minor": 5
}
