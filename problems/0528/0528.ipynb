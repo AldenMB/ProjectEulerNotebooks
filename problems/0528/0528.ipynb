{
 "cells": [
  {
   "cell_type": "markdown",
   "id": "0",
   "metadata": {},
   "source": [
    "# <a href=\"https://projecteuler.net/problem=528\">Constrained Sums</a>\n",
    "\n",
    "## Problem 528\n",
    "\n",
    "<p>Let S(<var>n</var>,<var>k</var>,<var>b</var>) represent the number of valid solutions to <var>x</var><sub>1</sub> + <var>x</var><sub>2</sub> + ... + <var>x</var><sub><var>k</var></sub> ≤ <var>n</var>, where 0 ≤ <var>x</var><sub><var>m</var></sub> ≤ <var>b</var><sup><var>m</var></sup> for all 1 ≤ <var>m</var> ≤ <var>k</var>.</p>\n",
    "\n",
    "<p>For example, S(14,3,2) = 135, S(200,5,3) = 12949440, and S(1000,10,5) mod 1 000 000 007 = 624839075.</p>\n",
    "\n",
    "<p>Find (<span style=\"font-size:larger;\">∑</span><sub>10 ≤ <var>k</var> ≤ 15</sub> S(10<sup><var>k</var></sup>,<var>k</var>,<var>k</var>)) mod 1 000 000 007.</p>\n"
   ]
  },
  {
   "cell_type": "markdown",
   "id": "1",
   "metadata": {},
   "source": [
    "# Solution\n"
   ]
  },
  {
   "cell_type": "code",
   "execution_count": null,
   "id": "2",
   "metadata": {},
   "outputs": [],
   "source": []
  }
 ],
 "metadata": {},
 "nbformat": 4,
 "nbformat_minor": 5
}
