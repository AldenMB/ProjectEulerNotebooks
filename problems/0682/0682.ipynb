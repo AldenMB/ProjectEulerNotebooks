{
 "cells": [
  {
   "cell_type": "markdown",
   "id": "0",
   "metadata": {},
   "source": [
    "# <a href=\"https://projecteuler.net/problem=682\">5-Smooth Pairs</a>\n",
    "\n",
    "## Problem 682\n",
    "\n",
    "<p>5-smooth numbers are numbers whose largest prime factor doesn't exceed 5.<br />\n",
    "5-smooth numbers are also called Hamming numbers.</p>\n",
    "\n",
    "<p>Let $\\Omega(a)$ be the count of prime factors of $a$ (counted with multiplicity).<br />\n",
    "Let $s(a)$ be the sum of the prime factors of $a$ (with multiplicity).<br />\n",
    "For example, $\\Omega(300) = 5$ and $s(300) = 2+2+3+5+5 = 17$.</p>\n",
    "\n",
    "<p>Let $f(n)$ be the number of pairs, $(p,q)$, of Hamming numbers such that $\\Omega(p)=\\Omega(q)$ and $s(p)+s(q)=n$.<br />\n",
    "You are given $f(10)=4$ (the pairs are $(4,9),(5,5),(6,6),(9,4)$) and $f(10^2)=3629$.</p>\n",
    "\n",
    "<p>Find $f(10^7) \\bmod 1\\,000\\,000\\,007$.</p>\n",
    "\n"
   ]
  },
  {
   "cell_type": "markdown",
   "id": "1",
   "metadata": {},
   "source": [
    "# Solution\n"
   ]
  },
  {
   "cell_type": "code",
   "execution_count": null,
   "id": "2",
   "metadata": {},
   "outputs": [],
   "source": []
  }
 ],
 "metadata": {},
 "nbformat": 4,
 "nbformat_minor": 5
}
