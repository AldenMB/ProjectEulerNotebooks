{
 "cells": [
  {
   "cell_type": "markdown",
   "id": "0",
   "metadata": {},
   "source": [
    "# <a href=\"http://projecteuler.net/problem=894\">Spiral of Circles</a>\n",
    "\n",
    "## Problem 894\n",
    "\n",
    "<p>Consider a <strong class=\"tooltip\">unit circle<span class=\"tooltiptext\">circle with radius 1</span></strong> $C_0$ on the plane that does not enclose the origin. For $k\\ge 1$, a circle $C_k$ is created by scaling and rotating $C_{k - 1}$ <b>with respect to the origin</b>. That is, both the radius and the distance to the origin are scaled by the same factor, and the centre of rotation is the origin. The scaling factor is positive and strictly less than one. Both it and the rotation angle remain constant for each $k$.</p>\n",
    "\n",
    "<p>It is given that $C_0$ is externally tangent to $C_1$, $C_7$ and $C_8$, as shown in the diagram below, and no two circles overlap.</p>\n",
    "<div style=\"text-align:center;\"><img src=\"resources/images/0894_circle_spiral.jpg?1714305246\" alt=\"0894_circle_spiral.jpg\"></div>\n",
    "\n",
    "<p>Find the total area of all the <strong class=\"tooltip\">circular triangles<span class=\"tooltiptext\">A circular triangle is a triangle with circular arc edges</span></strong> in the diagram, i.e. the area painted green above.<br>\n",
    "Give your answer rounded to $10$ places after the decimal point.</p>\n"
   ]
  },
  {
   "cell_type": "markdown",
   "id": "1",
   "metadata": {},
   "source": [
    "# Solution\n"
   ]
  },
  {
   "cell_type": "code",
   "execution_count": null,
   "id": "2",
   "metadata": {},
   "outputs": [],
   "source": []
  }
 ],
 "metadata": {},
 "nbformat": 4,
 "nbformat_minor": 5
}
