{
 "cells": [
  {
   "cell_type": "markdown",
   "id": "0",
   "metadata": {},
   "source": [
    "# <a href=\"https://projecteuler.net/problem=208\">Robot Walks</a>\n",
    "\n",
    "## Problem 208\n",
    "\n",
    "<p>A robot moves in a series of one-fifth circular arcs (72°), with a free choice of a clockwise or an anticlockwise arc for each step, but no turning on the spot.</p>\n",
    "\n",
    "<p>One of 70932 possible closed paths of 25 arcs starting northward is</p>\n",
    "<div style=\"text-align: center !important\">\n",
    "<img src=\"p208_robotwalk.gif\" class=\"dark_img\" alt=\"\" /></div>\n",
    "\n",
    "<p>Given that the robot starts facing North, how many journeys of 70 arcs in length can it take that return it, after the final arc, to its starting position?<br />\n",
    "(Any arc may be traversed multiple times.) \n",
    "</p>\n",
    "\n"
   ]
  },
  {
   "cell_type": "markdown",
   "id": "1",
   "metadata": {},
   "source": [
    "# Solution\n"
   ]
  },
  {
   "cell_type": "code",
   "execution_count": null,
   "id": "2",
   "metadata": {},
   "outputs": [],
   "source": []
  }
 ],
 "metadata": {},
 "nbformat": 4,
 "nbformat_minor": 5
}
