{
 "cells": [
  {
   "cell_type": "markdown",
   "id": "0",
   "metadata": {},
   "source": [
    "# <a href=\"https://projecteuler.net/problem=513\">Integral median</a>\n",
    "\n",
    "## Problem 513\n",
    "\n",
    "<p>\n",
    "ABC is an integral sided triangle with sides a≤b≤c.<br />\n",
    "m<sub>c</sub> is the median connecting C and the midpoint of AB. <br />\n",
    "F(n) is the number of such triangles with  c≤n for which m<sub>c</sub> has integral length as well.<br />\n",
    "F(10)=3 and F(50)=165.</p>\n",
    "<p>\n",
    "Find F(100000).\n",
    "</p>\n",
    "\n",
    "\n"
   ]
  },
  {
   "cell_type": "markdown",
   "id": "1",
   "metadata": {},
   "source": [
    "# Solution\n"
   ]
  },
  {
   "cell_type": "code",
   "execution_count": null,
   "id": "2",
   "metadata": {},
   "outputs": [],
   "source": []
  }
 ],
 "metadata": {},
 "nbformat": 4,
 "nbformat_minor": 5
}
