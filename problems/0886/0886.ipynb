{
 "cells": [
  {
   "cell_type": "markdown",
   "id": "0",
   "metadata": {},
   "source": [
    "# <a href=\"http://projecteuler.net/problem=886\">Coprime Permutations</a>\n",
    "\n",
    "## Problem 886\n",
    "\n",
    "<p>A permutation of $\\{2,3,\\ldots,n\\}$ is a rearrangement of these numbers. A <i>coprime permutation</i> is a rearrangement such that all pairs of adjacent numbers are coprime.</p>\n",
    "\n",
    "<p>Let $P(n)$ be the number of coprime permutations of $\\{2,3,\\ldots,n\\}$.</p>\n",
    "\n",
    "<p>For example, $P(4)=2$ as there are two coprime permutations, $(2,3,4)$ and $(4,3,2)$. You are also given $P(10)=576$.</p>\n",
    "\n",
    "<p>Find $P(34)$ and give your answer modulo $83\\,456\\,729$.</p>\n"
   ]
  },
  {
   "cell_type": "markdown",
   "id": "1",
   "metadata": {},
   "source": [
    "# Solution\n"
   ]
  },
  {
   "cell_type": "code",
   "execution_count": null,
   "id": "2",
   "metadata": {},
   "outputs": [],
   "source": []
  }
 ],
 "metadata": {},
 "nbformat": 4,
 "nbformat_minor": 5
}
