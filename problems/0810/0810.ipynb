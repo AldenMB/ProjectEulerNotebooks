{
 "cells": [
  {
   "cell_type": "markdown",
   "id": "0",
   "metadata": {},
   "source": [
    "# <a href=\"http://projecteuler.net/problem=810\">XOR-Primes</a>\n",
    "\n",
    "## Problem 810\n",
    "\n",
    "<p>We use $x\\oplus y$ for the bitwise XOR of $x$ and $y$.</p>\n",
    "\n",
    "<p>Define the <i>XOR-product</i> of $x$ and $y$, denoted by $x \\otimes y$, similar to a long multiplication in base $2$, except that the intermediate results are XORed instead of the usual integer addition.</p>\n",
    "\n",
    "<p>For example, $7 \\otimes 3 = 9$, or in base $2$, $111_2 \\otimes 11_2 = 1001_2$:</p>\n",
    "$$\n",
    "\\begin{align*}\n",
    "\\phantom{\\otimes 111} 111_2 \\\\\n",
    "\\otimes \\phantom{1111} 11_2 \\\\\n",
    "\\hline\n",
    "\\phantom{\\otimes 111} 111_2 \\\\\n",
    "\\oplus \\phantom{11} 111_2  \\phantom{9} \\\\\n",
    "\\hline\n",
    "\\phantom{\\otimes 11} 1001_2 \\\\\n",
    "\\end{align*}\n",
    "$$\n",
    "\n",
    "<p>An <i>XOR-prime</i> is an integer $n$ greater than $1$ that is not an XOR-product of two integers greater than $1$. The above example shows that $9$ is not an XOR-prime. Similarly, $5 = 3 \\otimes 3$ is not an XOR-prime. The first few XOR-primes are $2, 3, 7, 11, 13, ...$ and the 10th XOR-prime is $41$.</p>\n",
    "\n",
    "<p>Find the $5\\,000\\,000$th XOR-prime.</p>\n"
   ]
  },
  {
   "cell_type": "markdown",
   "id": "1",
   "metadata": {},
   "source": [
    "# Solution\n"
   ]
  },
  {
   "cell_type": "code",
   "execution_count": null,
   "id": "2",
   "metadata": {},
   "outputs": [],
   "source": []
  }
 ],
 "metadata": {},
 "nbformat": 4,
 "nbformat_minor": 5
}
