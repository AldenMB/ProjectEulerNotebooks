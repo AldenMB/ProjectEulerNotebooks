{
 "cells": [
  {
   "cell_type": "markdown",
   "id": "0",
   "metadata": {},
   "source": [
    "# <a href=\"https://projecteuler.net/problem=688\">Piles of Plates</a>\n",
    "\n",
    "## Problem 688\n",
    "\n",
    "<p>\n",
    "We stack $n$ plates into $k$ non-empty piles where each pile is a different size. Define $f(n,k)$ to be the maximum number of plates possible in the smallest pile. For example when $n = 10$ and $k = 3$ the piles $2,3,5$ is the best that can be done and so $f(10,3) = 2$. It is impossible to divide 10 into 5 non-empty differently-sized piles and hence $f(10,5) = 0$.\n",
    "</p>\n",
    "<p>\n",
    "Define $F(n)$ to be the sum of $f(n,k)$ for all possible pile sizes $k\\ge 1$. For example $F(100) = 275$.\n",
    "</p>\n",
    "<p>\n",
    "Further define $S(N) = \\displaystyle\\sum_{n=1}^N F(n)$. You are given $S(100) = 12656$.\n",
    "</p>\n",
    "<p>\n",
    "Find $S(10^{16})$ giving your answer modulo $1\\,000\\,000\\,007$.\n",
    "</p>\n"
   ]
  },
  {
   "cell_type": "markdown",
   "id": "1",
   "metadata": {},
   "source": [
    "# Solution\n"
   ]
  },
  {
   "cell_type": "code",
   "execution_count": null,
   "id": "2",
   "metadata": {},
   "outputs": [],
   "source": []
  }
 ],
 "metadata": {},
 "nbformat": 4,
 "nbformat_minor": 5
}
