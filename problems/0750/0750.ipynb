{
 "cells": [
  {
   "cell_type": "markdown",
   "id": "0",
   "metadata": {},
   "source": [
    "# <a href=\"https://projecteuler.net/problem=750\">Optimal Card Stacking</a>\n",
    "\n",
    "## Problem 750\n",
    "\n",
    "<p>\n",
    "Card Stacking is a game on a computer starting with an array of $N$ cards labelled $1,2,\\ldots,N$.\n",
    "A stack of cards can be moved by dragging horizontally with the mouse to another stack but only when the resulting stack is in sequence. The goal of the game is to combine the cards into a single stack using minimal total drag distance.\n",
    "</p>\n",
    "\n",
    "<div style=\"text-align:center;\">\n",
    "<img src=\"p750_optimal_card_stacking.png\" class=\"dark_img\" alt=\"\" /></div>\n",
    "\n",
    "<p>\n",
    "For the given arrangement of 6 cards the minimum total distance is $1 + 3 + 1 + 1 + 2 = 8$.\n",
    "</p>\n",
    "\n",
    "<p>\n",
    "For $N$ cards, the cards are arranged so that the card at position $n$ is $3^n\\bmod(N+1), 1\\le n\\le N$.\n",
    "</p>\n",
    "<p>\n",
    "We define $G(N)$ to be the minimal total drag distance to arrange these cards into a single sequence.<br />\n",
    "For example, when $N = 6$ we get the sequence $3,2,6,4,5,1$ and $G(6) = 8$.<br />\n",
    "You are given $G(16) = 47$.\n",
    "</p>\n",
    "\n",
    "<p>\n",
    "Find $G(976)$.\n",
    "</p>\n",
    "\n",
    "<p>\n",
    "Note: $G(N)$ is not defined for all values of $N$.\n",
    "</p>\n"
   ]
  },
  {
   "cell_type": "markdown",
   "id": "1",
   "metadata": {},
   "source": [
    "# Solution\n"
   ]
  },
  {
   "cell_type": "code",
   "execution_count": null,
   "id": "2",
   "metadata": {},
   "outputs": [],
   "source": []
  }
 ],
 "metadata": {},
 "nbformat": 4,
 "nbformat_minor": 5
}
