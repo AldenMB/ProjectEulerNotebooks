{
 "cells": [
  {
   "cell_type": "markdown",
   "id": "0",
   "metadata": {},
   "source": [
    "# <a href=\"https://projecteuler.net/problem=293\">Pseudo-Fortunate Numbers</a>\n",
    "\n",
    "## Problem 293\n",
    "\n",
    "<p>\n",
    "An even positive integer N will be called admissible, if it is a power of 2 or its distinct prime factors are consecutive primes.<br />\n",
    "The first twelve admissible numbers are 2,4,6,8,12,16,18,24,30,32,36,48.\n",
    "</p>\n",
    "<p>\n",
    "If N is admissible, the smallest integer M &gt; 1 such that N+M is prime, will be called the pseudo-Fortunate number for N.\n",
    "</p>\n",
    "<p>\n",
    "For example, N=630 is admissible since it is even and its distinct prime factors are the consecutive primes 2,3,5 and 7.<br /> \n",
    "The next prime number after 631 is 641; hence, the pseudo-Fortunate number for 630 is M=11.<br />\n",
    "It can also be seen that the pseudo-Fortunate number for 16 is 3.\n",
    "</p>\n",
    "<p>\n",
    "Find the sum of all distinct pseudo-Fortunate numbers for admissible numbers N less than 10<sup>9</sup>.\n",
    "</p>\n",
    "\n",
    "\n",
    "\n"
   ]
  },
  {
   "cell_type": "markdown",
   "id": "1",
   "metadata": {},
   "source": [
    "# Solution\n"
   ]
  },
  {
   "cell_type": "code",
   "execution_count": null,
   "id": "2",
   "metadata": {},
   "outputs": [],
   "source": []
  }
 ],
 "metadata": {},
 "nbformat": 4,
 "nbformat_minor": 5
}
