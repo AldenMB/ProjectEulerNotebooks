{
 "cells": [
  {
   "cell_type": "markdown",
   "id": "0",
   "metadata": {},
   "source": [
    "# <a href=\"https://projecteuler.net/problem=266\">Pseudo Square Root</a>\n",
    "\n",
    "## Problem 266\n",
    "\n",
    "<p>\n",
    "The divisors of 12 are: 1,2,3,4,6 and 12.<br />\n",
    "The largest divisor of 12 that does not exceed the square root of 12 is 3.<br />\n",
    "We shall call the largest divisor of an integer <var>n</var> that does not exceed the square root of <var>n</var> the pseudo square root (PSR) of <var>n</var>.<br />\n",
    "It can be seen that PSR(3102)=47.\n",
    "</p>\n",
    "<p>\n",
    "Let <var>p</var> be the product of the primes below 190.<br />\n",
    "Find PSR(<var>p</var>) mod 10<sup>16</sup>.\n",
    "</p>\n",
    "\n",
    "\n",
    "\n",
    "\n"
   ]
  },
  {
   "cell_type": "markdown",
   "id": "1",
   "metadata": {},
   "source": [
    "# Solution\n"
   ]
  },
  {
   "cell_type": "code",
   "execution_count": null,
   "id": "2",
   "metadata": {},
   "outputs": [],
   "source": []
  }
 ],
 "metadata": {},
 "nbformat": 4,
 "nbformat_minor": 5
}
