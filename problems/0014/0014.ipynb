{
 "cells": [
  {
   "cell_type": "markdown",
   "id": "0",
   "metadata": {},
   "source": [
    "# <a href=\"https://projecteuler.net/problem=14\">Longest Collatz sequence</a>\n",
    "\n",
    "## Problem 14\n",
    "\n",
    "<p>The following iterative sequence is defined for the set of positive integers:</p>\n",
    "<p class=\"margin_left\"><var>n</var> → <var>n</var>/2 (<var>n</var> is even)<br /><var>n</var> → 3<var>n</var> + 1 (<var>n</var> is odd)</p>\n",
    "<p>Using the rule above and starting with 13, we generate the following sequence:</p>\n",
    "<div style=\"text-align: center !important\">13 → 40 → 20 → 10 → 5 → 16 → 8 → 4 → 2 → 1</div>\n",
    "<p>It can be seen that this sequence (starting at 13 and finishing at 1) contains 10 terms. Although it has not been proved yet (Collatz Problem), it is thought that all starting numbers finish at 1.</p>\n",
    "<p>Which starting number, under one million, produces the longest chain?</p>\n",
    "<p class=\"note\"><b>NOTE:</b> Once the chain starts the terms are allowed to go above one million.</p>\n",
    "\n"
   ]
  },
  {
   "cell_type": "markdown",
   "id": "1",
   "metadata": {},
   "source": [
    "# Solution\n"
   ]
  },
  {
   "cell_type": "code",
   "execution_count": null,
   "id": "2",
   "metadata": {},
   "outputs": [],
   "source": []
  }
 ],
 "metadata": {},
 "nbformat": 4,
 "nbformat_minor": 5
}
