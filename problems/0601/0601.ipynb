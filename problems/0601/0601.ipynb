{
 "cells": [
  {
   "cell_type": "markdown",
   "id": "0",
   "metadata": {},
   "source": [
    "# <a href=\"https://projecteuler.net/problem=601\">Divisibility streaks</a>\n",
    "\n",
    "## Problem 601\n",
    "\n",
    "<p>\n",
    "For every positive number $n$ we define the function  $streak(n)=k$   as the smallest positive integer $k$ such that $n+k$ is not divisible by $k+1$.<br />\n",
    "E.g:<br />\n",
    "13 is divisible by 1 <br />\n",
    "14 is divisible by 2 <br />\n",
    "15 is divisible by 3 <br />\n",
    "16 is divisible by 4 <br />\n",
    "17 is NOT divisible by 5 <br />\n",
    "So $streak(13) = 4$. <br /> \n",
    "Similarly:<br />\n",
    "120 is divisible by 1 <br />\n",
    "121 is NOT divisible by 2 <br />\n",
    "So $streak(120) = 1$.</p>\n",
    "<p>\n",
    "\n",
    "Define $P(s, N)$ to be the number of integers $n$, $1 &lt; n &lt; N$, for which $streak(n) = s$.<br />\n",
    "So $P(3, 14) = 1$ and $P(6, 10^6) = 14286$.\n",
    "</p>\n",
    "<p>\n",
    "Find the sum, as $i$ ranges from 1 to 31, of $P(i, 4^i)$.\n",
    "</p>\n",
    "\n",
    "\n"
   ]
  },
  {
   "cell_type": "markdown",
   "id": "1",
   "metadata": {},
   "source": [
    "# Solution\n"
   ]
  },
  {
   "cell_type": "code",
   "execution_count": null,
   "id": "2",
   "metadata": {},
   "outputs": [],
   "source": []
  }
 ],
 "metadata": {},
 "nbformat": 4,
 "nbformat_minor": 5
}
