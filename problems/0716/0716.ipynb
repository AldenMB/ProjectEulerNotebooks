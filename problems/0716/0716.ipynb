{
 "cells": [
  {
   "cell_type": "markdown",
   "id": "0",
   "metadata": {},
   "source": [
    "# <a href=\"https://projecteuler.net/problem=716\">Grid Graphs</a>\n",
    "\n",
    "## Problem 716\n",
    "\n",
    "<p>\n",
    "Consider a directed graph made from an orthogonal lattice of $H\\times W$ nodes. \n",
    "The edges are the horizontal and vertical connections between adjacent nodes.\n",
    "$W$ vertical directed lines are drawn and all the edges on these lines inherit that direction. Similarly, $H$ horizontal directed lines are drawn and all the edges on these lines inherit that direction.\n",
    "</p>\n",
    "<p>\n",
    "Two nodes, $A$ and $B$ in a directed graph, are <b>strongly connected</b> if there is both a path, along the directed edges, from $A$ to $B$ as well as from $B$ to $A$. Note that every node is strongly connected to itself.\n",
    "</p>\n",
    "<p>\n",
    "A <b>strongly connected component</b> in a directed graph is a non-empty set $M$ of nodes satisfying the following two properties:\n",
    "</p>\n",
    "<ul><li>All nodes in $M$ are strongly connected to each other.</li>\n",
    "<li>$M$ is maximal, in the sense that no node in $M$ is strongly connected to any node outside of $M$.</li>\n",
    "</ul><p>\n",
    "There are $2^H\\times 2^W$ ways of drawing the directed lines. Each way gives a directed graph $\\mathcal{G}$. We define $S(\\mathcal{G})$ to be the number of strongly connected components in $\\mathcal{G}$.\n",
    "</p>\n",
    "<p>\n",
    "The illustration below shows a directed graph with $H=3$ and $W=4$ that consists of four different strongly connected components (indicated by the different colours).\n",
    "</p>\n",
    "<div style=\"text-align: center !important\">\n",
    "<img src=\"p716_gridgraphics.jpg\" class=\"dark_img\" alt=\"\" /></div>\n",
    "<p>\n",
    "Define $C(H,W)$ to be the sum of $S(\\mathcal{G})$ for all possible graphs on a grid of $H\\times W$. You are given $C(3,3) = 408$, $C(3,6) = 4696$ and $C(10,20) \\equiv 988971143 \\pmod{1\\,000\\,000\\,007}$.\n",
    "</p>\n",
    "<p>\n",
    "Find $C(10\\,000,20\\,000)$ giving your answer modulo $1\\,000\\,000\\,007$.\n",
    "</p>\n"
   ]
  },
  {
   "cell_type": "markdown",
   "id": "1",
   "metadata": {},
   "source": [
    "# Solution\n"
   ]
  },
  {
   "cell_type": "code",
   "execution_count": null,
   "id": "2",
   "metadata": {},
   "outputs": [],
   "source": []
  }
 ],
 "metadata": {},
 "nbformat": 4,
 "nbformat_minor": 5
}
