{
 "cells": [
  {
   "cell_type": "markdown",
   "id": "0",
   "metadata": {},
   "source": [
    "# <a href=\"https://projecteuler.net/problem=476\">Circle Packing II</a>\n",
    "\n",
    "## Problem 476\n",
    "\n",
    "<p>Let <var>R</var>(<var>a</var>, <var>b</var>, <var>c</var>) be the maximum area covered by three non-overlapping circles inside a triangle with edge lengths <var>a</var>, <var>b</var> and <var>c</var>.</p>\n",
    "<p>Let <var>S</var>(<var>n</var>) be the average value of <var>R</var>(<var>a</var>, <var>b</var>, <var>c</var>) over all integer triplets (<var>a</var>, <var>b</var>, <var>c</var>) such that 1 ≤ <var>a</var> ≤ <var>b</var> ≤ <var>c</var> &lt; <var>a</var> + <var>b</var> ≤ <var>n</var></p>\n",
    "<p>You are given <var>S</var>(2) = <var>R</var>(1, 1, 1) ≈ 0.31998, <var>S</var>(5) ≈ 1.25899.</p>\n",
    "<p>Find <var>S</var>(1803) rounded to 5 decimal places behind the decimal point.</p>\n"
   ]
  },
  {
   "cell_type": "markdown",
   "id": "1",
   "metadata": {},
   "source": [
    "# Solution\n"
   ]
  },
  {
   "cell_type": "code",
   "execution_count": null,
   "id": "2",
   "metadata": {},
   "outputs": [],
   "source": []
  }
 ],
 "metadata": {},
 "nbformat": 4,
 "nbformat_minor": 5
}
