{
 "cells": [
  {
   "cell_type": "markdown",
   "id": "0",
   "metadata": {},
   "source": [
    "# <a href=\"https://projecteuler.net/problem=154\">Exploring Pascal's pyramid</a>\n",
    "\n",
    "## Problem 154\n",
    "\n",
    "<p>A triangular pyramid is constructed using spherical balls so that each ball rests on exactly three balls of the next lower level.</p>\n",
    "<div style=\"text-align: center !important\"><img src=\"p154_pyramid.png\" class=\"dark_img\" alt=\"\" /></div>\n",
    "<p>Then, we calculate the number of paths leading from the apex to each position:</p>\n",
    "<p>A path starts at the apex and progresses downwards to any of the three spheres directly below the current position.</p>\n",
    "<p>Consequently, the number of paths to reach a certain position is the sum of the numbers immediately above it (depending on the position, there are up to three numbers above it).</p>\n",
    "<p>The result is <i>Pascal's pyramid</i> and the numbers at each level <var>n</var> are the coefficients of the trinomial expansion \n",
    "(<var>x + y + z</var>)<sup><var>n</var></sup>.</p>\n",
    "<p>How many coefficients in the expansion of (<var>x + y + z</var>)<sup>200000</sup> are multiples of 10<sup>12</sup>?</p>\n"
   ]
  },
  {
   "cell_type": "markdown",
   "id": "1",
   "metadata": {},
   "source": [
    "# Solution\n"
   ]
  },
  {
   "cell_type": "code",
   "execution_count": null,
   "id": "2",
   "metadata": {},
   "outputs": [],
   "source": []
  }
 ],
 "metadata": {},
 "nbformat": 4,
 "nbformat_minor": 5
}
