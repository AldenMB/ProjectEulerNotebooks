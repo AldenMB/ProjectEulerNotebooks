{
 "cells": [
  {
   "cell_type": "markdown",
   "id": "0",
   "metadata": {},
   "source": [
    "# <a href=\"https://projecteuler.net/problem=469\">Empty chairs</a>\n",
    "\n",
    "## Problem 469\n",
    "\n",
    "<p>\n",
    "In a room <var>N</var> chairs are placed around a round table.<br />\n",
    "Knights enter the room one by one and choose at random an available empty chair.<br />\n",
    "To have enough elbow room the knights always leave at least one empty chair between each other.\n",
    "</p>\n",
    "<p>\n",
    "When there aren't any suitable chairs left, the fraction <var>C</var> of empty chairs is determined.<br />\n",
    "We also define E(<var>N</var>) as the expected value of <var>C</var>.<br />\n",
    "We can verify that E(4) = 1/2 and E(6) = 5/9.\n",
    "</p>\n",
    "<p>\n",
    "Find E(10<sup>18</sup>). Give your answer rounded to fourteen decimal places in the form 0.abcdefghijklmn.\n",
    "</p>\n"
   ]
  },
  {
   "cell_type": "markdown",
   "id": "1",
   "metadata": {},
   "source": [
    "# Solution\n"
   ]
  },
  {
   "cell_type": "code",
   "execution_count": null,
   "id": "2",
   "metadata": {},
   "outputs": [],
   "source": []
  }
 ],
 "metadata": {},
 "nbformat": 4,
 "nbformat_minor": 5
}
