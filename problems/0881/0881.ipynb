{
 "cells": [
  {
   "cell_type": "markdown",
   "id": "0",
   "metadata": {},
   "source": [
    "# <a href=\"http://projecteuler.net/problem=881\">Divisor Graph Width</a>\n",
    "\n",
    "## Problem 881\n",
    "\n",
    "<p>\n",
    "For a positive integer $n$ create a graph using its divisors as vertices. An edge is drawn between two vertices $a \\lt b$ if their quotient $b/a$ is prime. The graph can be arranged into levels where vertex $n$ is at level $0$ and vertices that are a distance $k$ from $n$ are on level $k$. Define $g(n)$ to be the maximum number of vertices in a single level. </p>\n",
    "\n",
    "<img src=\"resources/images/0881_example45.jpg?1707508801\" alt=\"0881_example45.jpg\">\n",
    "\n",
    "<p>\n",
    "The example above shows that $g(45) = 2$. You are also given $g(5040) = 12$.</p>\n",
    "<p>\n",
    "Find the smallest number, $n$, such that $g(n) \\ge 10^4$.</p>\n",
    "\n"
   ]
  },
  {
   "cell_type": "markdown",
   "id": "1",
   "metadata": {},
   "source": [
    "# Solution\n"
   ]
  },
  {
   "cell_type": "code",
   "execution_count": null,
   "id": "2",
   "metadata": {},
   "outputs": [],
   "source": []
  }
 ],
 "metadata": {},
 "nbformat": 4,
 "nbformat_minor": 5
}
