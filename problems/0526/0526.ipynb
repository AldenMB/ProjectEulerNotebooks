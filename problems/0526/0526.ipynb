{
 "cells": [
  {
   "cell_type": "markdown",
   "id": "0",
   "metadata": {},
   "source": [
    "# <a href=\"https://projecteuler.net/problem=526\">Largest prime factors of consecutive numbers</a>\n",
    "\n",
    "## Problem 526\n",
    "\n",
    "<p>Let <var>f</var>(<var>n</var>) be the largest prime factor of <var>n</var>.</p>\n",
    "<p>Let <var>g</var>(<var>n</var>) = <var>f</var>(<var>n</var>) + <var>f</var>(<var>n</var>+1) + <var>f</var>(<var>n</var>+2) + <var>f</var>(<var>n</var>+3) + <var>f</var>(<var>n</var>+4) + <var>f</var>(<var>n</var>+5) + <var>f</var>(<var>n</var>+6) + <var>f</var>(<var>n</var>+7) + <var>f</var>(<var>n</var>+8), the sum of the largest prime factor of each of nine consecutive numbers starting with <var>n</var>.</p>\n",
    "<p>Let <var>h</var>(<var>n</var>) be the maximum value of <var>g</var>(<var>k</var>) for 2 ≤ <var>k</var> ≤ <var>n</var>.</p>\n",
    "<p>You are given:</p>\n",
    "<ul><li><var>f</var>(100) = 5</li>\n",
    "<li><var>f</var>(101) = 101</li>\n",
    "<li><var>g</var>(100) = 409</li>\n",
    "<li><var>h</var>(100) = 417</li>\n",
    "<li><var>h</var>(10<sup>9</sup>) = 4896292593</li></ul><p>Find <var>h</var>(10<sup>16</sup>).</p>\n"
   ]
  },
  {
   "cell_type": "markdown",
   "id": "1",
   "metadata": {},
   "source": [
    "# Solution\n"
   ]
  },
  {
   "cell_type": "code",
   "execution_count": null,
   "id": "2",
   "metadata": {},
   "outputs": [],
   "source": []
  }
 ],
 "metadata": {},
 "nbformat": 4,
 "nbformat_minor": 5
}
