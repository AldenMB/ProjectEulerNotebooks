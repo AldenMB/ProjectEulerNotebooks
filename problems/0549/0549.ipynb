{
 "cells": [
  {
   "cell_type": "markdown",
   "id": "0",
   "metadata": {},
   "source": [
    "# <a href=\"https://projecteuler.net/problem=549\">Divisibility of factorials</a>\n",
    "\n",
    "## Problem 549\n",
    "\n",
    "<p>\n",
    "The smallest number m such that 10 divides m! is m=5.<br />\n",
    "The smallest number m such that 25 divides m! is m=10.<br /></p>\n",
    "<p>\n",
    "Let s(<var>n</var>) be the smallest number m such that <var>n</var> divides m!.<br />\n",
    "So s(10)=5 and s(25)=10.<br />\n",
    "Let S(<var>n</var>) be ∑s(<var>i</var>) for 2 ≤ <var>i</var> ≤ <var>n</var>.<br />\n",
    "S(100)=2012.\n",
    "</p>\n",
    "<p>\n",
    "Find S(10<sup>8</sup>).\n",
    "</p>\n",
    "\n"
   ]
  },
  {
   "cell_type": "markdown",
   "id": "1",
   "metadata": {},
   "source": [
    "# Solution\n"
   ]
  },
  {
   "cell_type": "code",
   "execution_count": null,
   "id": "2",
   "metadata": {},
   "outputs": [],
   "source": []
  }
 ],
 "metadata": {},
 "nbformat": 4,
 "nbformat_minor": 5
}
