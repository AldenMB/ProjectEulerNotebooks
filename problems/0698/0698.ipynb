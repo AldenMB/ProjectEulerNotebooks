{
 "cells": [
  {
   "cell_type": "markdown",
   "id": "0",
   "metadata": {},
   "source": [
    "# <a href=\"https://projecteuler.net/problem=698\">123 Numbers</a>\n",
    "\n",
    "## Problem 698\n",
    "\n",
    "<p>\n",
    "We define <i>123-numbers</i> as follows:\n",
    "</p>\n",
    "\n",
    "<ul><li>1 is the smallest 123-number.</li>\n",
    "<li>When written in base 10 the only digits that can be present are \"1\", \"2\" and \"3\" and if present the number of times they each occur is also a 123-number.</li>\n",
    "</ul><p>\n",
    "So 2 is a 123-number, since it consists of one  digit \"2\" and 1 is a 123-number. Therefore, 33 is a 123-number as well since it consists of two digits \"3\" and 2 is a 123-number.<br />\n",
    "On the other hand, 1111 is not a 123-number, since it contains 4 digits \"1\" and 4 is not a 123-number.\n",
    "</p>\n",
    "<p>\n",
    "In ascending order, the first 123-numbers are:<br />\n",
    "$1, 2, 3, 11, 12, 13, 21, 22, 23, 31, 32, 33, 111, 112, 113, 121, 122, 123, 131, \\ldots$\n",
    "</p>\n",
    "<p>\n",
    "Let $F(n)$ be the $n$-th 123-number. For example $F(4)=11$, $F(10)=31$, $F(40)=1112$, $F(1000)=1223321$ and $F(6000)= 2333333333323$.\n",
    "</p>\n",
    "<p>\n",
    "Find $F(111\\,111\\,111\\,111\\,222\\,333)$. Give your answer modulo $123\\,123\\,123$.\n",
    "</p>\n"
   ]
  },
  {
   "cell_type": "markdown",
   "id": "1",
   "metadata": {},
   "source": [
    "# Solution\n"
   ]
  },
  {
   "cell_type": "code",
   "execution_count": null,
   "id": "2",
   "metadata": {},
   "outputs": [],
   "source": []
  }
 ],
 "metadata": {},
 "nbformat": 4,
 "nbformat_minor": 5
}
