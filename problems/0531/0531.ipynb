{
 "cells": [
  {
   "cell_type": "markdown",
   "id": "0",
   "metadata": {},
   "source": [
    "# <a href=\"https://projecteuler.net/problem=531\">Chinese leftovers</a>\n",
    "\n",
    "## Problem 531\n",
    "\n",
    "<p>\n",
    "Let g(<var>a,n,b,m</var>) be the smallest non-negative solution <var>x</var> to the system:<br /><var>x = a</var> mod <var>n</var><br /><var>x = b</var> mod <var>m</var><br />\n",
    "if such a solution exists, otherwise 0.\n",
    "</p>\n",
    "<p>\n",
    "E.g. g(2,4,4,6)=10, but g(3,4,4,6)=0.\n",
    "</p>\n",
    "<p>\n",
    "Let φ(<var>n</var>) be Euler's totient function.\n",
    "</p>\n",
    "<p>\n",
    "Let f(n,m)=g(φ(n),n,φ(m),m)\n",
    "</p>\n",
    "<p>\n",
    "Find <span style=\"font-size:larger;\"><span style=\"font-size:larger;\">∑</span></span> f(n,m) for 1000000 ≤ n &lt; m &lt; 1005000\n",
    "</p>\n"
   ]
  },
  {
   "cell_type": "markdown",
   "id": "1",
   "metadata": {},
   "source": [
    "# Solution\n"
   ]
  },
  {
   "cell_type": "code",
   "execution_count": null,
   "id": "2",
   "metadata": {},
   "outputs": [],
   "source": []
  }
 ],
 "metadata": {},
 "nbformat": 4,
 "nbformat_minor": 5
}
