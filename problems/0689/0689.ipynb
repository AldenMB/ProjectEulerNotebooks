{
 "cells": [
  {
   "cell_type": "markdown",
   "id": "0",
   "metadata": {},
   "source": [
    "# <a href=\"https://projecteuler.net/problem=689\">Binary Series</a>\n",
    "\n",
    "## Problem 689\n",
    "\n",
    "<p>For $0 \\le x \\lt 1$, define $d_i(x)$ to be the $i$th digit after the binary point of the binary representation of $x$.<br />\n",
    "For example $d_2(0.25) = 1$, $d_i(0.25) = 0$ for $i \\ne 2$.</p>\n",
    "\n",
    "<p>Let $f(x) = \\displaystyle{\\sum_{i=1}^{\\infty}\\frac{d_i(x)}{i^2}}$.</p>\n",
    "\n",
    "<p>Let $p(a)$ be probability that $f(x) \\gt a$, given that $x$ is uniformly distributed between 0 and 1.</p>\n",
    "\n",
    "<p>Find $p(0.5)$. Give your answer rounded to 8 digits after the decimal point.</p>\n",
    "\n"
   ]
  },
  {
   "cell_type": "markdown",
   "id": "1",
   "metadata": {},
   "source": [
    "# Solution\n"
   ]
  },
  {
   "cell_type": "code",
   "execution_count": null,
   "id": "2",
   "metadata": {},
   "outputs": [],
   "source": []
  }
 ],
 "metadata": {},
 "nbformat": 4,
 "nbformat_minor": 5
}
