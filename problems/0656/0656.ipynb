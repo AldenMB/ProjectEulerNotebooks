{
 "cells": [
  {
   "cell_type": "markdown",
   "id": "0",
   "metadata": {},
   "source": [
    "# <a href=\"https://projecteuler.net/problem=656\">Palindromic sequences</a>\n",
    "\n",
    "## Problem 656\n",
    "\n",
    "<p>\n",
    "Given an irrational number $\\alpha$, let $S_\\alpha(n)$ be the sequence $S_\\alpha(n)=\\lfloor {\\alpha \\cdot n} \\rfloor - \\lfloor {\\alpha \\cdot (n-1)} \\rfloor$ for $n \\ge 1$.<br /> \n",
    "($\\lfloor ... \\rfloor$ is the floor-function.)\n",
    "</p>\n",
    "<p>\n",
    "It can be proven that for any irrational $\\alpha$ there exist infinitely many values of $n$ such that the subsequence $ \\{S_\\alpha(1),S_\\alpha(2)...S_\\alpha(n) \\} $ is palindromic.</p>\n",
    "<p>\n",
    "The first 20 values of $n$  that give a palindromic subsequence for $\\alpha = \\sqrt{31}$ are:\n",
    "1, 3, 5, 7, 44, 81, 118, 273, 3158, 9201, 15244, 21287, 133765, 246243, 358721, 829920, 9600319, 27971037, 46341755, 64712473.</p>\n",
    "<p>\n",
    "Let $H_g(\\alpha)$ be the sum of the first $g$ values of $n$  for which the corresponding subsequence is palindromic.<br />\n",
    "So $H_{20}(\\sqrt{31})=150243655$.\n",
    "</p><p>\n",
    "Let $T=\\{2,3,5,6,7,8,10,...,1000\\}$ be the set of positive integers, not exceeding 1000, excluding perfect squares.<br />\n",
    "Calculate the sum of $H_{100}(\\sqrt \\beta)$ for  $\\beta \\in T$. Give the last 15 digits of your answer.\n",
    "</p>\n",
    "\n"
   ]
  },
  {
   "cell_type": "markdown",
   "id": "1",
   "metadata": {},
   "source": [
    "# Solution\n"
   ]
  },
  {
   "cell_type": "code",
   "execution_count": null,
   "id": "2",
   "metadata": {},
   "outputs": [],
   "source": []
  }
 ],
 "metadata": {},
 "nbformat": 4,
 "nbformat_minor": 5
}
