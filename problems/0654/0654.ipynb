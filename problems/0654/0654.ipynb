{
 "cells": [
  {
   "cell_type": "markdown",
   "id": "0",
   "metadata": {},
   "source": [
    "# <a href=\"https://projecteuler.net/problem=654\">Neighbourly Constraints</a>\n",
    "\n",
    "## Problem 654\n",
    "\n",
    "<p>\n",
    "Let $T(n, m)$ be the number of $m$-tuples of positive integers such that the sum of any two neighbouring elements of the tuple is $\\le n$.\n",
    "</p>\n",
    "<p>\n",
    "For example, $T(3, 4)=8$, via the following eight $4$-tuples:<br />\n",
    "$(1, 1, 1, 1)$<br />\n",
    "$(1, 1, 1, 2)$<br />\n",
    "$(1, 1, 2, 1)$<br />\n",
    "$(1, 2, 1, 1)$<br />\n",
    "$(1, 2, 1, 2)$<br />\n",
    "$(2, 1, 1, 1)$<br />\n",
    "$(2, 1, 1, 2)$<br />\n",
    "$(2, 1, 2, 1)$<br /></p>\n",
    "<p>\n",
    "You are also given that $T(5, 5)=246$, $T(10, 10^{2}) \\equiv 862820094 \\pmod{1\\,000\\,000\\,007}$ and  $T(10^2, 10) \\equiv 782136797 \\pmod{1\\,000\\,000\\,007}$.\n",
    "</p>\n",
    "<p>\n",
    "Find $T(5000, 10^{12}) \\bmod 1\\,000\\,000\\,007$.\n",
    "</p>\n"
   ]
  },
  {
   "cell_type": "markdown",
   "id": "1",
   "metadata": {},
   "source": [
    "# Solution\n"
   ]
  },
  {
   "cell_type": "code",
   "execution_count": null,
   "id": "2",
   "metadata": {},
   "outputs": [],
   "source": []
  }
 ],
 "metadata": {},
 "nbformat": 4,
 "nbformat_minor": 5
}
