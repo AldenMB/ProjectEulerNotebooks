{
 "cells": [
  {
   "cell_type": "markdown",
   "id": "0",
   "metadata": {},
   "source": [
    "# <a href=\"https://projecteuler.net/problem=598\">Split Divisibilities</a>\n",
    "\n",
    "## Problem 598\n",
    "\n",
    "<p>\n",
    "Consider the number 48.<br />\n",
    "There are five pairs of integers $a$ and $b$ ($a \\leq b$) such that $a \\times b=48$: (1,48), (2,24), (3,16), (4,12) and (6,8).<br />\n",
    "It can be seen that both 6 and 8 have 4 divisors.<br />\n",
    "So of those five pairs one consists of two integers with the same number of divisors.</p>\n",
    "<p>\n",
    "In general:<br />\n",
    "Let $C(n)$ be the number of pairs of positive integers $a \\times b=n$, ($a \\leq b$) such that $a$ and $b$ have the same number of divisors; <br />so $C(48)=1$.\n",
    "</p>\n",
    "<p>\n",
    "You are given $C(10!)=3$: (1680, 2160), (1800, 2016) and (1890,1920).</p><p> \n",
    "Find $C(100!)$</p>\n",
    "\n",
    "\n"
   ]
  },
  {
   "cell_type": "markdown",
   "id": "1",
   "metadata": {},
   "source": [
    "# Solution\n"
   ]
  },
  {
   "cell_type": "code",
   "execution_count": null,
   "id": "2",
   "metadata": {},
   "outputs": [],
   "source": []
  }
 ],
 "metadata": {},
 "nbformat": 4,
 "nbformat_minor": 5
}
