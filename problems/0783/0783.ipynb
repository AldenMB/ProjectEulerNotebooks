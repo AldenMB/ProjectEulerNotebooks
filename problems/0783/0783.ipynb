{
 "cells": [
  {
   "cell_type": "markdown",
   "id": "0",
   "metadata": {},
   "source": [
    "# <a href=\"https://projecteuler.net/problem=783\">Urns</a>\n",
    "\n",
    "## Problem 783\n",
    "\n",
    "<p>\n",
    "Given $n$ and $k$ two positive integers we begin with an urn that contains $kn$ white balls. We then proceed through $n$ turns where on each turn $k$ black balls are added to the urn and then $2k$ random balls are removed from the urn.</p>\n",
    "<p>\n",
    "We let $B_t(n,k)$ be the number of black balls that are removed on turn $t$.</p>\n",
    "<p>\n",
    "Further define $E(n,k)$ as the expectation of $\\displaystyle \\sum_{t=1}^n B_t(n,k)^2$.</p>\n",
    "<p>\n",
    "You are given $E(2,2) = 9.6$</p>\n",
    "<p>\n",
    "Find $E(10^6,10)$. Round your answer to the nearest whole number.</p>\n",
    "\n"
   ]
  },
  {
   "cell_type": "markdown",
   "id": "1",
   "metadata": {},
   "source": [
    "# Solution\n"
   ]
  },
  {
   "cell_type": "code",
   "execution_count": null,
   "id": "2",
   "metadata": {},
   "outputs": [],
   "source": []
  }
 ],
 "metadata": {},
 "nbformat": 4,
 "nbformat_minor": 5
}
