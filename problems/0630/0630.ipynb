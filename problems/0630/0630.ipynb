{
 "cells": [
  {
   "cell_type": "markdown",
   "id": "0",
   "metadata": {},
   "source": [
    "# <a href=\"https://projecteuler.net/problem=630\">Crossed lines</a>\n",
    "\n",
    "## Problem 630\n",
    "\n",
    "<p>\n",
    "Given a set, $L$, of unique lines, let $M(L)$ be the number of lines in the set and let $S(L)$ be the sum over every line of the number of times that line is crossed by another line in the set.  For example, two sets of three lines are shown below:\n",
    "</p>\n",
    "<div align=\"center\"><img src=\"p630_threelines.png\" alt=\"crossed lines\" /></div>\n",
    "<p>\n",
    "In both cases M(L) is 3 and S(L) is 6: each of the three lines is crossed by two other lines.  Note that even if the lines cross at a single point, all of the separate crossings of lines are counted.\n",
    "</p>\n",
    "<p>\n",
    "Consider points ($T_{2k−1}$, $T_{2k}$), for integer $k &gt;= 1$, generated in the following way:\n",
    "</p>\n",
    "<p>\n",
    "$S_0 \t=  \t290797$<br /> \n",
    "$S_{n+1} \t=  \t{S_n}^2 \\:\\: \\rm{mod} \\:\\: 50515093$<br />\n",
    "$T_n \t=  \t( S_n \\:\\: \\rm{mod} \\:\\: 2000 ) − 1000$\n",
    "</p>\n",
    "<p>\n",
    "For example, the first three points are: (527, 144), (−488, 732), (−454, −947).  Given the first $n$ points generated in this manner, let $L_n$ be the set of <b>unique</b> lines that can be formed by joining each point with every other point, the lines being extended indefinitely in both directions.  We can then define $M(L_n)$ and $S(L_n)$ as described above.\n",
    "</p>\n",
    "<p>\n",
    "For example, $M(L_3) = 3$ and $S(L_3) = 6$.  Also $M(L_{100}) = 4948$ and $S(L_{100}) = 24477690$.\n",
    "</p><p>\n",
    "Find $S(L_{2500})$.\n",
    "</p>\n",
    "\n",
    "\n"
   ]
  },
  {
   "cell_type": "markdown",
   "id": "1",
   "metadata": {},
   "source": [
    "# Solution\n"
   ]
  },
  {
   "cell_type": "code",
   "execution_count": null,
   "id": "2",
   "metadata": {},
   "outputs": [],
   "source": []
  }
 ],
 "metadata": {},
 "nbformat": 4,
 "nbformat_minor": 5
}
