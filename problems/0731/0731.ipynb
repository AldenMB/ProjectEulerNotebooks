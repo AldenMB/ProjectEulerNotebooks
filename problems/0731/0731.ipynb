{
 "cells": [
  {
   "cell_type": "markdown",
   "id": "0",
   "metadata": {},
   "source": [
    "# <a href=\"https://projecteuler.net/problem=731\">A Stoneham Number</a>\n",
    "\n",
    "## Problem 731\n",
    "\n",
    "<p>\n",
    "$$A=\\sum_{i=1}^{\\infty} \\frac{1}{3^i 10^{3^i}}$$\n",
    "</p>\n",
    "<p>\n",
    "Define $A(n)$ to be the 10 decimal digits from the $n$th digit onward. \n",
    "For example, $A(100) = 4938271604$ and $A(10^8)=2584642393$.\n",
    "</p>\n",
    "<p>\n",
    "Find $A(10^{16})$\n",
    "</p>\n"
   ]
  },
  {
   "cell_type": "markdown",
   "id": "1",
   "metadata": {},
   "source": [
    "# Solution\n"
   ]
  },
  {
   "cell_type": "code",
   "execution_count": null,
   "id": "2",
   "metadata": {},
   "outputs": [],
   "source": []
  }
 ],
 "metadata": {},
 "nbformat": 4,
 "nbformat_minor": 5
}
