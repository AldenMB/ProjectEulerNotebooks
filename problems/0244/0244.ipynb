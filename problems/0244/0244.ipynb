{
 "cells": [
  {
   "cell_type": "markdown",
   "id": "0",
   "metadata": {},
   "source": [
    "# <a href=\"https://projecteuler.net/problem=244\">Sliders</a>\n",
    "\n",
    "## Problem 244\n",
    "\n",
    "<p>You probably know the game <i>Fifteen Puzzle</i>. Here, instead of numbered tiles, we have seven red tiles and eight blue tiles.</p>\n",
    "<p>A move is denoted by the uppercase initial of the direction (Left, Right, Up, Down) in which the tile is slid, e.g. starting from configuration (<b>S</b>), by the sequence <b>LULUR</b> we reach the configuration (<b>E</b>):</p>\n",
    "<p></p><div style=\"text-align: center !important\">\n",
    "<table cellspacing=\"0\" cellpadding=\"2\" border=\"0\" align=\"center\"><tr><td width=\"25\">(<b>S</b>)</td><td width=\"100\"><img src=\"p244_start.gif\" class=\"dark_img\" alt=\"p244_start.gif\" /></td><td width=\"25\">, (<b>E</b>)</td><td width=\"100\"><img src=\"p244_example.gif\" class=\"dark_img\" alt=\"p244_example.gif\" /></td>\n",
    "</tr></table></div>\n",
    "\n",
    "<p>For each path, its checksum is calculated by (pseudocode):\n",
    "</p><div style=\"margin-left:100px;\">\n",
    "checksum = 0<br />\n",
    "checksum = (checksum × 243 + <var>m</var><sub>1</sub>) mod 100 000 007<br />\n",
    "checksum = (checksum × 243 + <var>m</var><sub>2</sub>) mod 100 000 007<br />\n",
    "   …<br />\n",
    "checksum = (checksum × 243 + <var>m</var><sub><var>n</var></sub>) mod 100 000 007<br /></div>\n",
    "where <var>m</var><sub><var>k</var></sub> is the ASCII value of the <var>k</var><sup><var>th</var></sup> letter in the move sequence and the ASCII values for the moves are:\n",
    "\n",
    "<div style=\"text-align: center !important\">\n",
    "<table cellspacing=\"0\" cellpadding=\"2\" border=\"1\" align=\"center\"><tr><td width=\"30\"><b>L</b></td><td width=\"30\">76</td></tr><tr><td><b>R</b></td><td>82</td></tr><tr><td><b>U</b></td><td>85</td></tr><tr><td><b>D</b></td><td>68</td></tr></table></div>\n",
    "\n",
    "<p>For the sequence <b>LULUR</b> given above, the checksum would be 19761398.</p>\n",
    "<p>Now, starting from configuration (<b>S</b>),\n",
    "find all shortest ways to reach configuration (<b>T</b>).</p>\n",
    "<p></p><div style=\"text-align: center !important\">\n",
    "<table cellspacing=\"0\" cellpadding=\"2\" border=\"0\" align=\"center\"><tr><td width=\"25\">(<b>S</b>)</td><td width=\"100\"><img src=\"p244_start.gif\" class=\"dark_img\" alt=\"p244_start.gif\" /></td><td width=\"25\">, (<b>T</b>)</td><td width=\"100\"><img src=\"p244_target.gif\" class=\"dark_img\" alt=\"p244_target.gif\" /></td>\n",
    "</tr></table></div>\n",
    "\n",
    "<p>What is the sum of all checksums for the paths having the minimal length?</p>\n"
   ]
  },
  {
   "cell_type": "markdown",
   "id": "1",
   "metadata": {},
   "source": [
    "# Solution\n"
   ]
  },
  {
   "cell_type": "code",
   "execution_count": null,
   "id": "2",
   "metadata": {},
   "outputs": [],
   "source": []
  }
 ],
 "metadata": {},
 "nbformat": 4,
 "nbformat_minor": 5
}
