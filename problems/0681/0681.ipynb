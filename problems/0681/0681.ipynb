{
 "cells": [
  {
   "cell_type": "markdown",
   "id": "0",
   "metadata": {},
   "source": [
    "# <a href=\"https://projecteuler.net/problem=681\">Maximal Area</a>\n",
    "\n",
    "## Problem 681\n",
    "\n",
    "<p>\n",
    "Given positive integers $a \\le b \\le c \\le d$, it may be possible to form quadrilaterals with edge lengths $a,b,c,d$ (in any order). When this is the case, let $M(a,b,c,d)$ denote the maximal area of such a quadrilateral.<br /> For example, $M(2,2,3,3)=6$, attained e.g. by a $2\\times 3$ rectangle.\n",
    "</p>\n",
    "<p>\n",
    "Let $SP(n)$ be the sum of $a+b+c+d$ over all choices $a \\le b \\le c \\le d$ for which $M(a,b,c,d)$ is a positive integer not exceeding $n$.<br />\n",
    "$SP(10)=186$ and $SP(100)=23238$.\n",
    "</p>\n",
    "<p>\n",
    "Find $SP(1\\,000\\,000)$.\n",
    "</p>\n",
    "\n",
    "\n"
   ]
  },
  {
   "cell_type": "markdown",
   "id": "1",
   "metadata": {},
   "source": [
    "# Solution\n"
   ]
  },
  {
   "cell_type": "code",
   "execution_count": null,
   "id": "2",
   "metadata": {},
   "outputs": [],
   "source": []
  }
 ],
 "metadata": {},
 "nbformat": 4,
 "nbformat_minor": 5
}
