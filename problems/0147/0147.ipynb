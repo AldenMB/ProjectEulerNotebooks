{
 "cells": [
  {
   "cell_type": "markdown",
   "id": "0",
   "metadata": {},
   "source": [
    "# <a href=\"https://projecteuler.net/problem=147\">Rectangles in cross-hatched grids</a>\n",
    "\n",
    "## Problem 147\n",
    "\n",
    "<p>In a 3x2 cross-hatched grid, a total of 37 different rectangles could be situated within that grid as indicated in the sketch.</p>\n",
    "<div style=\"text-align: center !important\"><img src=\"p147.png\" class=\"dark_img\" alt=\"\" /></div>\n",
    "<p>There are 5 grids smaller than 3x2, vertical and horizontal dimensions being important, i.e. 1x1, 2x1, 3x1, 1x2 and 2x2. If each of them is cross-hatched, the following number of different rectangles could be situated within those smaller grids:</p>\n",
    "<table class=\"grid\" style=\"margin:0 auto;\"><tr><td style=\"width:50px;\">1x1</td><td style=\"width:50px;\">1</td></tr><tr><td>2x1</td><td>4</td></tr><tr><td>3x1</td><td>8</td></tr><tr><td>1x2</td><td>4</td></tr><tr><td>2x2</td><td>18</td></tr></table><p>Adding those to the 37 of the 3x2 grid, a total of 72 different rectangles could be situated within 3x2 and smaller grids.</p>\n",
    "\n",
    "<p>How many different rectangles could be situated within 47x43 and smaller grids?</p>\n"
   ]
  },
  {
   "cell_type": "markdown",
   "id": "1",
   "metadata": {},
   "source": [
    "# Solution\n"
   ]
  },
  {
   "cell_type": "code",
   "execution_count": null,
   "id": "2",
   "metadata": {},
   "outputs": [],
   "source": []
  }
 ],
 "metadata": {},
 "nbformat": 4,
 "nbformat_minor": 5
}
