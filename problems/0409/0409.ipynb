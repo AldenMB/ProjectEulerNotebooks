{
 "cells": [
  {
   "cell_type": "markdown",
   "id": "0",
   "metadata": {},
   "source": [
    "# <a href=\"https://projecteuler.net/problem=409\">Nim Extreme</a>\n",
    "\n",
    "## Problem 409\n",
    "\n",
    "<p>Let <var>n</var> be a positive integer. Consider <b>nim</b> positions where:</p><ul><li>There are <var>n</var> non-empty piles.\n",
    "</li><li>Each pile has size less than 2<sup><var>n</var></sup>.\n",
    "</li><li>No two piles have the same size.\n",
    "</li></ul><p>Let W(<var>n</var>) be the number of winning nim positions satisfying the above\n",
    "conditions (a position is winning if the first player has a winning strategy). For example, W(1) = 1, W(2) = 6, W(3) = 168, W(5) = 19764360 and W(100) mod 1 000 000 007 = 384777056.\n",
    "</p>\n",
    "<p>Find W(10 000 000) mod 1 000 000 007.\n",
    "</p>\n",
    "\n"
   ]
  },
  {
   "cell_type": "markdown",
   "id": "1",
   "metadata": {},
   "source": [
    "# Solution\n"
   ]
  },
  {
   "cell_type": "code",
   "execution_count": null,
   "id": "2",
   "metadata": {},
   "outputs": [],
   "source": []
  }
 ],
 "metadata": {},
 "nbformat": 4,
 "nbformat_minor": 5
}
