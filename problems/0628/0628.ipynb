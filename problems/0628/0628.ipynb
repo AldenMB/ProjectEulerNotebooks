{
 "cells": [
  {
   "cell_type": "markdown",
   "id": "0",
   "metadata": {},
   "source": [
    "# <a href=\"https://projecteuler.net/problem=628\">Open chess positions</a>\n",
    "\n",
    "## Problem 628\n",
    "\n",
    "<p>\n",
    "A position in chess is an (orientated) arrangement of chess pieces placed on a chessboard of given size. In the following, we consider all positions in which $n$ pawns are placed on a  $n \\times n$  \n",
    "board in such a way, that there is a single pawn in every row and every column.\n",
    "\n",
    "</p>\n",
    "<p>\n",
    "We call such a position an <i>open</i> position, if a rook, starting at the (empty) lower left corner and using only moves towards the right or upwards, can reach the upper right corner without moving onto any field occupied by a pawn. \n",
    "</p>\n",
    "<p>Let $f(n)$ be the number of open positions for a $n \\times n$ chessboard.<br />\n",
    "For example, $f(3)=2$, illustrated by the two open positions for a $3  \\times 3$ chessboard below.\n",
    "\n",
    "</p>\n",
    "<table align=\"center\"><tr><td><img src=\"p628_chess4.png\" alt=\"Open position 1\" /></td><td width=\"60\"></td><td><img src=\"p628_chess5.png\" alt=\"Open position 2\" /></td>\n",
    "</tr></table><p>\n",
    "You are also given $f(5)=70$.</p>\n",
    "<p>Find $f(10^8)$ modulo $1\\,008\\,691\\,207$.</p>\n",
    "\n",
    "\n",
    "\n",
    "\n"
   ]
  },
  {
   "cell_type": "markdown",
   "id": "1",
   "metadata": {},
   "source": [
    "# Solution\n"
   ]
  },
  {
   "cell_type": "code",
   "execution_count": null,
   "id": "2",
   "metadata": {},
   "outputs": [],
   "source": []
  }
 ],
 "metadata": {},
 "nbformat": 4,
 "nbformat_minor": 5
}
