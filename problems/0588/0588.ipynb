{
 "cells": [
  {
   "cell_type": "markdown",
   "id": "0",
   "metadata": {},
   "source": [
    "# <a href=\"https://projecteuler.net/problem=588\">Quintinomial coefficients</a>\n",
    "\n",
    "## Problem 588\n",
    "\n",
    "<p>\n",
    "The coefficients in the expansion of $(x+1)^k$ are called <b>binomial coefficients</b>.<br />\n",
    "Analoguously the coefficients in the expansion of $(x^4+x^3+x^2+x+1)^k$ are called <b>quintinomial coefficients</b>.<br /> (quintus= Latin for fifth).\n",
    "</p>\n",
    "<p>\n",
    "Consider the expansion of $(x^4+x^3+x^2+x+1)^3$:<br />\n",
    "$x^{12}+3x^{11}+6x^{10}+10x^9+15x^8+18x^7+19x^6+18x^5+15x^4+10x^3+6x^2+3x+1$<br />\n",
    "As we can see 7 out of the 13 quintinomial coefficients for $k=3$ are odd.\n",
    "</p>\n",
    "<p>\n",
    "Let $Q(k)$ be the number of odd coefficients in the expansion of $(x^4+x^3+x^2+x+1)^k$.<br />\n",
    "So $Q(3)=7$.\n",
    "</p>\n",
    "<p>\n",
    "You are given $Q(10)=17$ and $Q(100)=35$.\n",
    "</p>\n",
    "<p>Find  $\\sum_{k=1}^{18}Q(10^k) $.\n",
    "</p>\n",
    "\n",
    "\n"
   ]
  },
  {
   "cell_type": "markdown",
   "id": "1",
   "metadata": {},
   "source": [
    "# Solution\n"
   ]
  },
  {
   "cell_type": "code",
   "execution_count": null,
   "id": "2",
   "metadata": {},
   "outputs": [],
   "source": []
  }
 ],
 "metadata": {},
 "nbformat": 4,
 "nbformat_minor": 5
}
