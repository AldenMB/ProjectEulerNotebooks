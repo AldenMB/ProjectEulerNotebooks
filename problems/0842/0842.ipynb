{
 "cells": [
  {
   "cell_type": "markdown",
   "id": "0",
   "metadata": {},
   "source": [
    "# <a href=\"http://projecteuler.net/problem=842\">Irregular Star Polygons</a>\n",
    "\n",
    "## Problem 842\n",
    "\n",
    "<p>\n",
    "Define an <dfn>$n$-star polygon</dfn> as an $n$-gon whose vertices are $n$ equally spaced points on a circle. Two $n$-star polygons differing by a rotation/reflection are considered <strong>different</strong>.</p>\n",
    "\n",
    "<p>\n",
    "For example, there are twelve $5$-star polygons shown below.</p>\n",
    "<img src=\"resources/images/0842_5-agons.jpg?1680461480\" alt=\"0842_5-agons.jpg\">\n",
    "<p>\n",
    "For an $n$-star polygon $S$, let $I(S)$ be the number of its self intersection points.<br>\n",
    "Let $T(n)$ be the sum of $I(S)$ over all $n$-star polygons $S$.<br>\n",
    "For the example above $T(5) = 20$ because in total there are $20$ self intersection points.</p>\n",
    "\n",
    "<p>\n",
    "Some star polygons may have intersection points made from more than two lines. These are only counted once. For example, <span style=\"white-space:nowrap;\">$S$,</span> shown below is one of the sixty $6$-star polygons. This one has $I(S) = 4$.</p>\n",
    "<img src=\"resources/images/0842_6-agon.jpg?1680461493\" alt=\"0842_6-agon.jpg\">\n",
    "<p>\n",
    "You are also given that $T(8) = 14640$.</p>\n",
    "\n",
    "<p>\n",
    "Find $\\displaystyle \\sum_{n = 3}^{60}T(n)$. Give your answer modulo $(10^9 + 7)$.</p>\n"
   ]
  },
  {
   "cell_type": "markdown",
   "id": "1",
   "metadata": {},
   "source": [
    "# Solution\n"
   ]
  },
  {
   "cell_type": "code",
   "execution_count": null,
   "id": "2",
   "metadata": {},
   "outputs": [],
   "source": []
  }
 ],
 "metadata": {},
 "nbformat": 4,
 "nbformat_minor": 5
}
