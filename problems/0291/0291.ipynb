{
 "cells": [
  {
   "cell_type": "markdown",
   "id": "0",
   "metadata": {},
   "source": [
    "# <a href=\"https://projecteuler.net/problem=291\">Panaitopol Primes</a>\n",
    "\n",
    "## Problem 291\n",
    "\n",
    "<p>\n",
    "A prime number $p$ is called a Panaitopol prime if $p = \\dfrac{x^4 - y^4}{x^3 + y^3}$ for some positive integers $x$ and $y$.</p>\n",
    "<p>\n",
    "Find how many Panaitopol primes are less than 5×10<sup>15</sup>.\n",
    "</p>\n",
    "\n",
    "  \n"
   ]
  },
  {
   "cell_type": "markdown",
   "id": "1",
   "metadata": {},
   "source": [
    "# Solution\n"
   ]
  },
  {
   "cell_type": "code",
   "execution_count": null,
   "id": "2",
   "metadata": {},
   "outputs": [],
   "source": []
  }
 ],
 "metadata": {},
 "nbformat": 4,
 "nbformat_minor": 5
}
