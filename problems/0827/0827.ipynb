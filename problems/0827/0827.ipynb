{
 "cells": [
  {
   "cell_type": "markdown",
   "id": "0",
   "metadata": {},
   "source": [
    "# <a href=\"http://projecteuler.net/problem=827\">Pythagorean Triple Occurrence</a>\n",
    "\n",
    "## Problem 827\n",
    "\n",
    "<p>\n",
    "Define $Q(n)$ to be the smallest number that occurs in exactly $n$ <b>Pythagorean triples</b> $(a,b,c)$ where $a \\lt b \\lt c$.</p>\n",
    "\n",
    "<p>\n",
    "For example, 15 is the smallest number occurring in exactly 5 Pythagorean triples:\n",
    "$$(9,12,\\mathbf{15})\\quad (8,\\mathbf{15},17)\\quad (\\mathbf{15},20,25)\\quad (\\mathbf{15},36,39)\\quad (\\mathbf{15},112,113)$$\n",
    "and so $Q(5) = 15$</p>\n",
    "\n",
    "<p>\n",
    "You are also given $Q(10)=48$ and $Q(10^3)=8064000$.</p>\n",
    "\n",
    "<p>\n",
    "Find $\\displaystyle \\sum_{k=1}^{18} Q(10^k)$. Give your answer modulo $409120391$.</p>\n",
    "\n",
    "\n"
   ]
  },
  {
   "cell_type": "markdown",
   "id": "1",
   "metadata": {},
   "source": [
    "# Solution\n"
   ]
  },
  {
   "cell_type": "code",
   "execution_count": null,
   "id": "2",
   "metadata": {},
   "outputs": [],
   "source": []
  }
 ],
 "metadata": {},
 "nbformat": 4,
 "nbformat_minor": 5
}
