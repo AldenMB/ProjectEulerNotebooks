{
 "cells": [
  {
   "cell_type": "markdown",
   "id": "0",
   "metadata": {},
   "source": [
    "# <a href=\"https://projecteuler.net/problem=25\">1000-digit Fibonacci number</a>\n",
    "\n",
    "## Problem 25\n",
    "\n",
    "<p>The Fibonacci sequence is defined by the recurrence relation:</p>\n",
    "<blockquote>F<sub><i>n</i></sub> = F<sub><i>n</i>−1</sub> + F<sub><i>n</i>−2</sub>, where F<sub>1</sub> = 1 and F<sub>2</sub> = 1.</blockquote>\n",
    "<p>Hence the first 12 terms will be:</p>\n",
    "<blockquote>F<sub>1</sub> = 1<br />\n",
    "F<sub>2</sub> = 1<br />\n",
    "F<sub>3</sub> = 2<br />\n",
    "F<sub>4</sub> = 3<br />\n",
    "F<sub>5</sub> = 5<br />\n",
    "F<sub>6</sub> = 8<br />\n",
    "F<sub>7</sub> = 13<br />\n",
    "F<sub>8</sub> = 21<br />\n",
    "F<sub>9</sub> = 34<br />\n",
    "F<sub>10</sub> = 55<br />\n",
    "F<sub>11</sub> = 89<br />\n",
    "F<sub>12</sub> = 144</blockquote>\n",
    "<p>The 12th term, F<sub>12</sub>, is the first term to contain three digits.</p>\n",
    "<p>What is the index of the first term in the Fibonacci sequence to contain 1000 digits?</p>\n",
    "\n"
   ]
  },
  {
   "cell_type": "markdown",
   "id": "1",
   "metadata": {},
   "source": [
    "# Solution\n"
   ]
  },
  {
   "cell_type": "code",
   "execution_count": null,
   "id": "2",
   "metadata": {},
   "outputs": [],
   "source": []
  }
 ],
 "metadata": {},
 "nbformat": 4,
 "nbformat_minor": 5
}
