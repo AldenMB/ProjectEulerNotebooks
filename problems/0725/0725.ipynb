{
 "cells": [
  {
   "cell_type": "markdown",
   "id": "0",
   "metadata": {},
   "source": [
    "# <a href=\"https://projecteuler.net/problem=725\">Digit sum numbers</a>\n",
    "\n",
    "## Problem 725\n",
    "\n",
    "<p>\n",
    "A number where one digit is the sum of the <b>other</b> digits is called a <i>digit sum number</i> or DS-number for short. For example, 352, 3003 and 32812 are DS-numbers.\n",
    "</p>\n",
    "<p>\n",
    "We define $S(n)$ to be the sum of all DS-numbers of $n$ digits or less.\n",
    "</p>\n",
    "<p>\n",
    "You are given $S(3) = 63270$ and $S(7) = 85499991450$.\n",
    "</p>\n",
    "<p>\n",
    "Find $S(2020)$. Give your answer modulo $10^{16}$.\n",
    "</p>\n"
   ]
  },
  {
   "cell_type": "markdown",
   "id": "1",
   "metadata": {},
   "source": [
    "# Solution\n"
   ]
  },
  {
   "cell_type": "code",
   "execution_count": null,
   "id": "2",
   "metadata": {},
   "outputs": [],
   "source": []
  }
 ],
 "metadata": {},
 "nbformat": 4,
 "nbformat_minor": 5
}
