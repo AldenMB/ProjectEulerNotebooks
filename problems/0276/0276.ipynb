{
 "cells": [
  {
   "cell_type": "markdown",
   "id": "0",
   "metadata": {},
   "source": [
    "# <a href=\"https://projecteuler.net/problem=276\">Primitive Triangles</a>\n",
    "\n",
    "## Problem 276\n",
    "\n",
    "<p>Consider the triangles with integer sides a, b and c with a ≤ b ≤ c.<br />\n",
    "An integer sided triangle (a,b,c) is called primitive if <dfn title=\"gcd(a,b,c)=gcd(a,gcd(b,c))\"> gcd(a,b,c)</dfn>=1. <br />\n",
    "How many primitive integer sided triangles exist with a perimeter not exceeding 10 000 000?\n",
    "</p>\n",
    "\n",
    "\n",
    "\n",
    "\n",
    "\n"
   ]
  },
  {
   "cell_type": "markdown",
   "id": "1",
   "metadata": {},
   "source": [
    "# Solution\n"
   ]
  },
  {
   "cell_type": "code",
   "execution_count": null,
   "id": "2",
   "metadata": {},
   "outputs": [],
   "source": []
  }
 ],
 "metadata": {},
 "nbformat": 4,
 "nbformat_minor": 5
}
