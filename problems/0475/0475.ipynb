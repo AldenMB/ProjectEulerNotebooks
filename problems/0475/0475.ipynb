{
 "cells": [
  {
   "cell_type": "markdown",
   "id": "0",
   "metadata": {},
   "source": [
    "# <a href=\"https://projecteuler.net/problem=475\">Music festival</a>\n",
    "\n",
    "## Problem 475\n",
    "\n",
    "<p>12<var>n</var> musicians participate at a music festival. On the first day, they form 3<var>n</var> quartets and practice all day.</p>\n",
    "<p>It is a disaster. At the end of the day, all musicians decide they will never again agree to play with any member of their quartet.</p>\n",
    "<p>On the second day, they form 4<var>n</var> trios, with every musician avoiding any previous quartet partners.</p>\n",
    "\n",
    "<p>Let <var>f</var>(12<var>n</var>) be the number of ways to organize the trios amongst the 12<var>n</var> musicians.</p>\n",
    "<p>You are given <var>f</var>(12) = 576 and <var>f</var>(24) mod 1 000 000 007 = 509089824.</p>\n",
    "\n",
    "<p>Find <var>f</var>(600) mod 1 000 000 007.</p>\n",
    "\n"
   ]
  },
  {
   "cell_type": "markdown",
   "id": "1",
   "metadata": {},
   "source": [
    "# Solution\n"
   ]
  },
  {
   "cell_type": "code",
   "execution_count": null,
   "id": "2",
   "metadata": {},
   "outputs": [],
   "source": []
  }
 ],
 "metadata": {},
 "nbformat": 4,
 "nbformat_minor": 5
}
