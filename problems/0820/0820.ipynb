{
 "cells": [
  {
   "cell_type": "markdown",
   "id": "0",
   "metadata": {},
   "source": [
    "# <a href=\"http://projecteuler.net/problem=820\">$N$<sup>th</sup> digit of Reciprocals</a>\n",
    "\n",
    "## Problem 820\n",
    "\n",
    "<p>Let $d_n(x)$ be the $n$<sup>th</sup> decimal digit of the fractional part of $x$, or $0$ if the fractional part has fewer than $n$ digits.</p>\n",
    "<p>For example:</p>\n",
    "<ul>\n",
    "<li>$d_7 \\mathopen{}\\left( 1 \\right)\\mathclose{} = d_7 \\mathopen{}\\left( \\frac 1 2 \\right)\\mathclose{} = d_7 \\mathopen{}\\left( \\frac 1 4 \\right)\\mathclose{} = d_7 \\mathopen{}\\left( \\frac 1 5 \\right)\\mathclose{} = 0$</li>\n",
    "<li>$d_7 \\mathopen{}\\left( \\frac 1 3 \\right)\\mathclose{} = 3$ since $\\frac 1 3 =$ 0.333333<span style=\"color:#FF0000;font-weight:bold;\">3</span>333...</li>\n",
    "<li>$d_7 \\mathopen{}\\left( \\frac 1 6 \\right)\\mathclose{} = 6$ since $\\frac 1 6 =$ 0.166666<span style=\"color:#FF0000;font-weight:bold;\">6</span>666...</li>\n",
    "<li>$d_7 \\mathopen{}\\left( \\frac 1 7 \\right)\\mathclose{} = 1$ since $\\frac 1 7 =$ 0.142857<span style=\"color:#FF0000;font-weight:bold;\">1</span>428...</li>\n",
    "</ul>\n",
    "<p>Let $\\displaystyle  S(n) = \\sum_{k=1}^n d_n \\mathopen{}\\left( \\frac 1 k \\right)\\mathclose{}$.</p>\n",
    "<p>You are given:</p>\n",
    "<ul>\n",
    "<li>$S(7) = 0 + 0 + 3 + 0 + 0 + 6 + 1 = 10$</li>\n",
    "<li>$S(100) = 418$</li>\n",
    "</ul>\n",
    "<p>Find $S(10^7)$.</p>\n",
    "\n"
   ]
  },
  {
   "cell_type": "markdown",
   "id": "1",
   "metadata": {},
   "source": [
    "# Solution\n"
   ]
  },
  {
   "cell_type": "code",
   "execution_count": null,
   "id": "2",
   "metadata": {},
   "outputs": [],
   "source": []
  }
 ],
 "metadata": {},
 "nbformat": 4,
 "nbformat_minor": 5
}
