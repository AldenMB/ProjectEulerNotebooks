{
 "cells": [
  {
   "cell_type": "markdown",
   "id": "0",
   "metadata": {},
   "source": [
    "# <a href=\"https://projecteuler.net/problem=751\">Concatenation Coincidence</a>\n",
    "\n",
    "## Problem 751\n",
    "\n",
    "<p>A non-decreasing sequence of integers $a_n$ can be generated from any positive real value $\\theta$ by the following procedure:\n",
    "\\begin{align}\n",
    "\\begin{split}\n",
    "b_1 &amp;= \\theta \\\\\n",
    "b_n &amp;= \\left\\lfloor b_{n-1} \\right\\rfloor \\left(b_{n-1} - \\left\\lfloor b_{n-1} \\right\\rfloor + 1\\right)~~~\\forall ~ n \\geq 2 \\\\\n",
    "a_n &amp;= \\left\\lfloor b_{n} \\right\\rfloor\n",
    "\\end{split}\n",
    "\\end{align}\n",
    "Where $\\left\\lfloor . \\right\\rfloor$ is the floor function.</p>\n",
    "\n",
    "<p>For example, $\\theta=2.956938891377988...$ generates the Fibonacci sequence: $2, 3, 5, 8, 13, 21, 34, 55, 89, ...$</p>\n",
    "\n",
    "<p>The <i>concatenation</i> of a sequence of positive integers $a_n$ is a real value denoted $\\tau$ constructed by concatenating the elements of the sequence after the decimal point, starting at $a_1$: $a_1.a_2a_3a_4...$</p>\n",
    "\n",
    "<p>For example, the Fibonacci sequence constructed from $\\theta=2.956938891377988...$ yields the concatenation $\\tau=2.3581321345589...$ Clearly, $\\tau \\neq \\theta$ for this value of $\\theta$.</p>\n",
    "\n",
    "<p>Find the only value of $\\theta$ for which the generated sequence starts at $a_1=2$ and the concatenation of the generated sequence equals the original value: $\\tau = \\theta$. Give your answer rounded to 24 places after the decimal point.</p>\n"
   ]
  },
  {
   "cell_type": "markdown",
   "id": "1",
   "metadata": {},
   "source": [
    "# Solution\n"
   ]
  },
  {
   "cell_type": "code",
   "execution_count": null,
   "id": "2",
   "metadata": {},
   "outputs": [],
   "source": []
  }
 ],
 "metadata": {},
 "nbformat": 4,
 "nbformat_minor": 5
}
