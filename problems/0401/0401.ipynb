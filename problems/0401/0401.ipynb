{
 "cells": [
  {
   "cell_type": "markdown",
   "id": "0",
   "metadata": {},
   "source": [
    "# <a href=\"https://projecteuler.net/problem=401\">Sum of squares of divisors</a>\n",
    "\n",
    "## Problem 401\n",
    "\n",
    "<p>\n",
    "The divisors of 6 are 1,2,3 and 6.<br />\n",
    "The sum of the squares of these numbers is 1+4+9+36=50.\n",
    "</p>\n",
    "<p>\n",
    "Let sigma2(n) represent the sum of the squares of the divisors of n.\n",
    "Thus sigma2(6)=50.\n",
    "</p>\n",
    "Let SIGMA2 represent the summatory function of sigma2, that is SIGMA2(n)=<span style=\"font-size:larger;\"><span style=\"font-size:larger;\">∑</span></span> sigma2(i) for i=1 to n.<br />\n",
    "The first 6 values of SIGMA2 are: 1,6,16,37,63 and 113.\n",
    "\n",
    "<p>\n",
    "Find SIGMA2(10<sup>15</sup>) modulo 10<sup>9</sup>. \n",
    "</p>\n"
   ]
  },
  {
   "cell_type": "markdown",
   "id": "1",
   "metadata": {},
   "source": [
    "# Solution\n"
   ]
  },
  {
   "cell_type": "code",
   "execution_count": null,
   "id": "2",
   "metadata": {},
   "outputs": [],
   "source": []
  }
 ],
 "metadata": {},
 "nbformat": 4,
 "nbformat_minor": 5
}
