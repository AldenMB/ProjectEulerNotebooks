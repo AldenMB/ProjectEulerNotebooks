{
 "cells": [
  {
   "cell_type": "markdown",
   "id": "0",
   "metadata": {},
   "source": [
    "# <a href=\"https://projecteuler.net/problem=341\">Golomb's self-describing sequence</a>\n",
    "\n",
    "## Problem 341\n",
    "\n",
    "<p>The <b>Golomb's self-describing sequence</b> $(G(n))$ is the only nondecreasing sequence of natural numbers such that $n$ appears exactly $G(n)$ times in the sequence. The values of $G(n)$ for the first few $n$ are</p>\n",
    "\n",
    "<p></p><div align=\"center\">\n",
    "\\[\n",
    "\\begin{matrix}\n",
    "n &amp; 1 &amp; 2 &amp; 3 &amp; 4 &amp; 5 &amp; 6 &amp; 7 &amp; 8 &amp; 9 &amp; 10 &amp; 11 &amp; 12 &amp; 13 &amp; 14 &amp; 15 &amp; \\ldots \\\\\n",
    "G(n) &amp; 1 &amp; 2 &amp; 2 &amp; 3 &amp; 3 &amp; 4 &amp; 4 &amp; 4 &amp; 5 &amp; 5 &amp; 5 &amp; 6 &amp; 6 &amp; 6 &amp; 6 &amp; \\ldots\n",
    "\\end{matrix}\n",
    "\\]\n",
    "</div>\n",
    "\n",
    "<p>You are given that $G(10^3) = 86$, $G(10^6) = 6137$.<br />\n",
    "You are also given that $\\sum G(n^3) = 153506976$ for $1 \\le n \\lt 10^3$.</p>\n",
    "\n",
    "<p>Find $\\sum G(n^3)$ for $1 \\le n \\lt 10^6$.</p>\n",
    "\n",
    "\n"
   ]
  },
  {
   "cell_type": "markdown",
   "id": "1",
   "metadata": {},
   "source": [
    "# Solution\n"
   ]
  },
  {
   "cell_type": "code",
   "execution_count": null,
   "id": "2",
   "metadata": {},
   "outputs": [],
   "source": []
  }
 ],
 "metadata": {},
 "nbformat": 4,
 "nbformat_minor": 5
}
