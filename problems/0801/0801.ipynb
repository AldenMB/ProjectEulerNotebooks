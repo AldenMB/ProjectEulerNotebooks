{
 "cells": [
  {
   "cell_type": "markdown",
   "id": "0",
   "metadata": {},
   "source": [
    "# <a href=\"https://projecteuler.net/problem=801\">$x^y \\equiv y^x$</a>\n",
    "\n",
    "## Problem 801\n",
    "\n",
    "<p>The positive integral solutions of the equation $x^y=y^x$ are $(2,4)$, $(4,2)$ and $(k,k)$ for all $k &gt; 0$.</p>\n",
    "\n",
    "<p>For a given positive integer $n$, let $f(n)$ be the number of integral values $0 &lt; x,y \\leq n^2-n$ such that\n",
    "$$x^y\\equiv y^x \\pmod n$$\n",
    "For example, $f(5)=104$ and $f(97)=1614336$.</p>\n",
    "\n",
    "<p>Let $S(M,N)=\\sum f(p)$ where the sum is taken over all primes $p$ satisfying $M\\le p\\le N$.</p>\n",
    "\n",
    "<p>You are given $S(1,10^2)=7381000$ and $S(1,10^5) \\equiv 701331986 \\pmod{993353399}$.</p>\n",
    "\n",
    "<p>Find $S(10^{16}, 10^{16}+10^6)$. Give your answer modulo $993353399$.</p>\n"
   ]
  },
  {
   "cell_type": "markdown",
   "id": "1",
   "metadata": {},
   "source": [
    "# Solution\n"
   ]
  },
  {
   "cell_type": "code",
   "execution_count": null,
   "id": "2",
   "metadata": {},
   "outputs": [],
   "source": []
  }
 ],
 "metadata": {},
 "nbformat": 4,
 "nbformat_minor": 5
}
