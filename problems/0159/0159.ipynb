{
 "cells": [
  {
   "cell_type": "markdown",
   "id": "0",
   "metadata": {},
   "source": [
    "# <a href=\"https://projecteuler.net/problem=159\">Digital root sums of factorisations</a>\n",
    "\n",
    "## Problem 159\n",
    "\n",
    "<p>A composite number can be factored many different ways.  \n",
    "For instance, not including multiplication by one, 24 can be factored in 7 distinct ways:</p>\n",
    "<div class=\"margin_left\">\n",
    "24 = 2x2x2x3<br />\n",
    "24 = 2x3x4<br />\n",
    "24 = 2x2x6<br />\n",
    "24 = 4x6<br />\n",
    "24 = 3x8<br />\n",
    "24 = 2x12<br />\n",
    "24 = 24\n",
    "</div>\n",
    "<p>Recall that the digital root of a number, in base 10, is found by adding together the digits of that number, \n",
    "and repeating that process until a number is arrived at that is less than 10.  \n",
    "Thus the digital root of 467 is 8.</p>\n",
    "<p>We shall call a Digital Root Sum (DRS) the sum of the digital roots of the individual factors of our number.<br />\n",
    " The chart below demonstrates all of the DRS values for 24.</p>\n",
    "<table class=\"grid center\"><tr><th>Factorisation</th><th>Digital Root Sum</th></tr><tr><td>2x2x2x3</td><td>9</td></tr><tr><td>2x3x4</td><td>9</td></tr><tr><td>2x2x6</td><td>10</td></tr><tr><td>4x6</td><td>10</td></tr><tr><td>3x8</td><td>11</td></tr><tr><td>2x12</td><td>5</td></tr><tr><td>24</td><td>6</td></tr></table><p>The maximum Digital Root Sum  of 24 is 11.<br />\n",
    "The function mdrs(<var>n</var>) gives the maximum Digital Root Sum of <var>n</var>. So  mdrs(24)=11.<br />\n",
    "Find <span style=\"font-size:larger;\"><span style=\"font-size:larger;\">∑</span></span> mdrs(<var>n</var>) for 1 &lt; <var>n</var> &lt; 1,000,000.</p>\n"
   ]
  },
  {
   "cell_type": "markdown",
   "id": "1",
   "metadata": {},
   "source": [
    "# Solution\n"
   ]
  },
  {
   "cell_type": "code",
   "execution_count": null,
   "id": "2",
   "metadata": {},
   "outputs": [],
   "source": []
  }
 ],
 "metadata": {},
 "nbformat": 4,
 "nbformat_minor": 5
}
