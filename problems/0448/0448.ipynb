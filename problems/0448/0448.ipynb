{
 "cells": [
  {
   "cell_type": "markdown",
   "id": "0",
   "metadata": {},
   "source": [
    "# <a href=\"https://projecteuler.net/problem=448\">Average least common multiple</a>\n",
    "\n",
    "## Problem 448\n",
    "\n",
    "<p>\n",
    "The function <b>lcm</b>(a,b) denotes the least common multiple of a and b.<br />\n",
    "Let A(n) be the average of the values of lcm(n,i) for 1≤i≤n.<br />\n",
    "E.g: A(2)=(2+2)/2=2 and A(10)=(10+10+30+20+10+30+70+40+90+10)/10=32. \n",
    "</p>\n",
    "Let S(n)=<span style=\"font-size:larger;\"><span style=\"font-size:larger;\">∑</span></span> A(k) for 1≤k≤n.<br />\n",
    "S(100)=122726.\n",
    "\n",
    "<p>\n",
    "Find S(99999999019) mod 999999017.\n",
    "</p>\n"
   ]
  },
  {
   "cell_type": "markdown",
   "id": "1",
   "metadata": {},
   "source": [
    "# Solution\n"
   ]
  },
  {
   "cell_type": "code",
   "execution_count": null,
   "id": "2",
   "metadata": {},
   "outputs": [],
   "source": []
  }
 ],
 "metadata": {},
 "nbformat": 4,
 "nbformat_minor": 5
}
