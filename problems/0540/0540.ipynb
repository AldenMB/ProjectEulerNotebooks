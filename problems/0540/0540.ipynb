{
 "cells": [
  {
   "cell_type": "markdown",
   "id": "0",
   "metadata": {},
   "source": [
    "# <a href=\"https://projecteuler.net/problem=540\">Counting primitive Pythagorean triples</a>\n",
    "\n",
    "## Problem 540\n",
    "\n",
    "<p>\n",
    "A <b>Pythagorean triple</b> consists of three positive integers $a, b$ and $c$ satisfying $a^2+b^2=c^2$.<br />\n",
    "The triple is called primitive if $a, b$ and $c$ are relatively prime.<br />\n",
    "Let P($n$) be the number of <b>primitive Pythagorean triples</b> with $a &lt; b &lt; c \\le n$.<br />\n",
    "For example P(20) = 3, since there are three triples: (3,4,5), (5,12,13) and (8,15,17).\n",
    "</p>\n",
    "<p>\n",
    "You are given that P(10<sup>6</sup>) = 159139.<br />\n",
    "Find P(3141592653589793).\n",
    "</p>\n"
   ]
  },
  {
   "cell_type": "markdown",
   "id": "1",
   "metadata": {},
   "source": [
    "# Solution\n"
   ]
  },
  {
   "cell_type": "code",
   "execution_count": null,
   "id": "2",
   "metadata": {},
   "outputs": [],
   "source": []
  }
 ],
 "metadata": {},
 "nbformat": 4,
 "nbformat_minor": 5
}
