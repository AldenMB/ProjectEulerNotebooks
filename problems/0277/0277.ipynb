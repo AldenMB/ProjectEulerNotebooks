{
 "cells": [
  {
   "cell_type": "markdown",
   "id": "0",
   "metadata": {},
   "source": [
    "# <a href=\"https://projecteuler.net/problem=277\">A Modified Collatz sequence</a>\n",
    "\n",
    "## Problem 277\n",
    "\n",
    "<p>\n",
    "A modified Collatz sequence of integers is obtained from a starting value $a_1$ in the following way:</p>\n",
    "<p>\n",
    "$a_{n+1} = \\, \\,\\, \\frac {a_n} 3 \\quad$ if $a_n$ is divisible by $3$. We shall denote this as a large downward step, \"D\".</p>\n",
    "<p>\n",
    "$a_{n+1} = \\frac {4 a_n+2} 3 \\, \\,$ if $a_n$ divided by $3$ gives a remainder of $1$. We shall denote this as an upward step, \"U\".\n",
    "</p>\n",
    "<p>\n",
    "$a_{n+1} = \\frac {2 a_n -1} 3 \\, \\,$ if $a_n$ divided by $3$ gives a remainder of $2$. We shall denote this as a small downward step, \"d\".\n",
    "</p>\n",
    "\n",
    "\n",
    "<p>\n",
    "The sequence terminates when some $a_n = 1$.\n",
    "</p>\n",
    "<p>\n",
    "Given any integer, we can list out the sequence of steps.<br />\n",
    "For instance if $a_1=231$, then the sequence $\\{a_n\\}=\\{231,77,51,17,11,7,10,14,9,3,1\\}$ corresponds to the steps \"DdDddUUdDD\".\n",
    "</p>\n",
    "<p>\n",
    "Of course, there are other sequences that begin with that same sequence \"DdDddUUdDD....\".<br />\n",
    "For instance, if $a_1=1004064$, then the sequence is DdDddUUdDDDdUDUUUdDdUUDDDUdDD.<br />\n",
    "In fact, $1004064$ is the smallest possible $a_1 &gt; 10^6$ that begins with the sequence DdDddUUdDD.\n",
    "</p>\n",
    "<p>\n",
    "What is the smallest $a_1 &gt; 10^{15}$ that begins with the sequence \"UDDDUdddDDUDDddDdDddDDUDDdUUDd\"?\n",
    "</p>\n",
    "\n",
    "\n",
    "\n",
    "\n",
    "\n",
    "\n",
    "\n",
    "\n",
    "\n"
   ]
  },
  {
   "cell_type": "markdown",
   "id": "1",
   "metadata": {},
   "source": [
    "# Solution\n"
   ]
  },
  {
   "cell_type": "code",
   "execution_count": null,
   "id": "2",
   "metadata": {},
   "outputs": [],
   "source": []
  }
 ],
 "metadata": {},
 "nbformat": 4,
 "nbformat_minor": 5
}
