{
 "cells": [
  {
   "cell_type": "markdown",
   "id": "0",
   "metadata": {},
   "source": [
    "# <a href=\"https://projecteuler.net/problem=355\">Maximal coprime subset</a>\n",
    "\n",
    "## Problem 355\n",
    "\n",
    "<p>\n",
    "Define Co(<var>n</var>) to be the maximal possible sum of a set of mutually co-prime elements from {1, 2, ..., <var>n</var>}.<br /> For example Co(10) is 30 and hits that maximum on the subset {1, 5, 7, 8, 9}.\n",
    "</p>\n",
    "\n",
    "<p>\n",
    "You are given that Co(30) = 193 and Co(100) = 1356. \n",
    "</p>\n",
    "\n",
    "<p>Find Co(200000).\n",
    "</p>\n",
    "\n"
   ]
  },
  {
   "cell_type": "markdown",
   "id": "1",
   "metadata": {},
   "source": [
    "# Solution\n"
   ]
  },
  {
   "cell_type": "code",
   "execution_count": null,
   "id": "2",
   "metadata": {},
   "outputs": [],
   "source": []
  }
 ],
 "metadata": {},
 "nbformat": 4,
 "nbformat_minor": 5
}
