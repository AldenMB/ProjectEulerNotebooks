{
 "cells": [
  {
   "cell_type": "markdown",
   "id": "0",
   "metadata": {},
   "source": [
    "# <a href=\"https://projecteuler.net/problem=757\">Stealthy Numbers</a>\n",
    "\n",
    "## Problem 757\n",
    "\n",
    "<p>\n",
    "A positive integer $N$ is <dfn>stealthy</dfn>, if there exist positive integers $a$, $b$, $c$, $d$ such that $ab = cd = N$ and $a+b = c+d+1$.<br />\n",
    "For example, $36 = 4\\times 9 = 6\\times 6$ is stealthy.\n",
    "</p>\n",
    "<p>\n",
    "You are also given that there are 2851 stealthy numbers not exceeding $10^6$.\n",
    "</p>\n",
    "<p>\n",
    "How many stealthy numbers  are there that don't exceed $10^{14}$?\n",
    "</p>\n"
   ]
  },
  {
   "cell_type": "markdown",
   "id": "1",
   "metadata": {},
   "source": [
    "# Solution\n"
   ]
  },
  {
   "cell_type": "code",
   "execution_count": null,
   "id": "2",
   "metadata": {},
   "outputs": [],
   "source": []
  }
 ],
 "metadata": {},
 "nbformat": 4,
 "nbformat_minor": 5
}
