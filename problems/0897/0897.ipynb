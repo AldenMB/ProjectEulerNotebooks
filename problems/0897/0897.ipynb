{
 "cells": [
  {
   "cell_type": "markdown",
   "id": "0",
   "metadata": {},
   "source": [
    "# <a href=\"http://projecteuler.net/problem=897\">Maximal $n$-gon in a region</a>\n",
    "\n",
    "## Problem 897\n",
    "\n",
    "<p>\n",
    "Let $G(n)$ denote the largest possible area of an <strong class=\"tooltip\">$n$-gon<span class=\"tooltiptext\">a polygon with $n$ sides</span></strong> contained in the region $\\{(x, y) \\in \\Bbb R^2: x^4 \\leq y \\leq 1\\}$.<br>\n",
    "For example, $G(3) = 1$ and $G(5)\\approx 1.477309771$.<br>\n",
    "Find $G(101)$ rounded to nine digits after the decimal point.</p>\n"
   ]
  },
  {
   "cell_type": "markdown",
   "id": "1",
   "metadata": {},
   "source": [
    "# Solution\n"
   ]
  },
  {
   "cell_type": "code",
   "execution_count": null,
   "id": "2",
   "metadata": {},
   "outputs": [],
   "source": []
  }
 ],
 "metadata": {},
 "nbformat": 4,
 "nbformat_minor": 5
}
