{
 "cells": [
  {
   "cell_type": "markdown",
   "id": "0",
   "metadata": {},
   "source": [
    "# <a href=\"http://projecteuler.net/problem=867\">Tiling Dodecagon</a>\n",
    "\n",
    "## Problem 867\n",
    "\n",
    "<p>\n",
    "There are 5 ways to tile a regular dodecagon of side 1 with regular polygons of side 1.</p>\n",
    "\n",
    "<img src=\"resources/images/0867_DodecaDiagram.jpg?1700512497\" alt=\"0867_DodecaDiagram.jpg\">\n",
    "\n",
    "<p>\n",
    "Let $T(n)$ be the number of ways to tile a regular dodecagon of side $n$ with regular polygons of side 1. Then $T(1) = 5$. You are also given $T(2) = 48$.</p>\n",
    "\n",
    "<p>\n",
    "Find $T(10)$. Give your answer modulo $10^9+7$.</p>\n"
   ]
  },
  {
   "cell_type": "markdown",
   "id": "1",
   "metadata": {},
   "source": [
    "# Solution\n"
   ]
  },
  {
   "cell_type": "code",
   "execution_count": null,
   "id": "2",
   "metadata": {},
   "outputs": [],
   "source": []
  }
 ],
 "metadata": {},
 "nbformat": 4,
 "nbformat_minor": 5
}
