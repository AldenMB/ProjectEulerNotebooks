{
 "cells": [
  {
   "cell_type": "markdown",
   "id": "0",
   "metadata": {},
   "source": [
    "# <a href=\"https://projecteuler.net/problem=748\">Upside down Diophantine equation</a>\n",
    "\n",
    "## Problem 748\n",
    "\n",
    "<p>\n",
    "Upside Down is a modification of the famous Pythagorean equation:\n",
    "\\begin{align}\n",
    "\\frac{1}{x^2}+\\frac{1}{y^2}=\\frac{13}{z^2}\n",
    "\\end{align}\n",
    "</p>\n",
    "<p>\n",
    "A solution $(x,y,z)$  to this equation with $x,y$ and $z$ positive integers is a primitive solution if $\\gcd(x,y,z)=1$.\n",
    "</p>\n",
    "<p>\n",
    "Let $S(N)$ be the sum of $x+y+z$ over primitive Upside Down solutions such that $1 \\leq x,y,z \\leq N$ and $x \\le y$. <br />\n",
    "For $N=100$ the primitive solutions are $(2,3,6)$ and $(5,90,18)$, thus $S(10^2)=124$.<br />\n",
    "It can be checked that $S(10^3)=1470$ and $S(10^5)=2340084$.\n",
    "</p>\n",
    "<p>\n",
    "Find $S(10^{16})$ and give the last 9 digits as your answer.\n",
    "</p>\n"
   ]
  },
  {
   "cell_type": "markdown",
   "id": "1",
   "metadata": {},
   "source": [
    "# Solution\n"
   ]
  },
  {
   "cell_type": "code",
   "execution_count": null,
   "id": "2",
   "metadata": {},
   "outputs": [],
   "source": []
  }
 ],
 "metadata": {},
 "nbformat": 4,
 "nbformat_minor": 5
}
