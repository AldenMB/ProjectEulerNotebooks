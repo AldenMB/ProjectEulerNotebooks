{
 "cells": [
  {
   "cell_type": "markdown",
   "id": "0",
   "metadata": {},
   "source": [
    "# <a href=\"https://projecteuler.net/problem=311\">Biclinic Integral Quadrilaterals</a>\n",
    "\n",
    "## Problem 311\n",
    "\n",
    "<p>ABCD is a convex, integer sided quadrilateral with 1 ≤ AB &lt; BC &lt; CD &lt; AD.<br />\n",
    "BD has integer length. O is the midpoint of BD. AO has integer length.<br />\n",
    "We'll call ABCD a <i>biclinic integral quadrilateral</i> if AO = CO ≤ BO = DO.<br /></p>\n",
    "\n",
    "<p>For example, the following quadrilateral is a biclinic integral quadrilateral:<br />\n",
    "AB = 19, BC = 29, CD = 37, AD = 43, BD = 48 and AO = CO = 23.\n",
    "</p>\n",
    "\n",
    "<div align=\"center\"><img src=\"p311_biclinic.gif\" class=\"dark_img\" alt=\"p311_biclinic.gif\" /></div>\n",
    "\n",
    "<p>Let B(<var>N</var>) be the number of distinct biclinic integral quadrilaterals ABCD that satisfy AB<sup>2</sup>+BC<sup>2</sup>+CD<sup>2</sup>+AD<sup>2</sup> ≤ <var>N</var>.<br />\n",
    "We can verify that B(10 000) = 49 and B(1 000 000) = 38239.\n",
    "</p>\n",
    "\n",
    "<p>Find B(10 000 000 000).\n",
    "</p>\n",
    "\n"
   ]
  },
  {
   "cell_type": "markdown",
   "id": "1",
   "metadata": {},
   "source": [
    "# Solution\n"
   ]
  },
  {
   "cell_type": "code",
   "execution_count": null,
   "id": "2",
   "metadata": {},
   "outputs": [],
   "source": []
  }
 ],
 "metadata": {},
 "nbformat": 4,
 "nbformat_minor": 5
}
