{
 "cells": [
  {
   "cell_type": "markdown",
   "id": "0",
   "metadata": {},
   "source": [
    "# <a href=\"https://projecteuler.net/problem=778\">Freshman's Product</a>\n",
    "\n",
    "## Problem 778\n",
    "\n",
    "<p>\n",
    "If $a,b$ are two nonnegative integers with decimal representations $a=(\\dots a_2a_1a_0)$ and $b=(\\dots b_2b_1b_0)$ respectively, then the <i>freshman's product</i> of $a$ and $b$, denoted $a\\boxtimes b$, is the integer $c$ with decimal representation $c=(\\dots c_2c_1c_0)$ such that $c_i$ is the last digit of $a_i\\cdot b_i$.<br />\n",
    "For example, $234 \\boxtimes 765 = 480$.\n",
    "</p>\n",
    "<p>\n",
    "Let $F(R,M)$ be the sum of $x_1 \\boxtimes \\dots \\boxtimes x_R$ for all sequences of integers $(x_1,\\dots,x_R)$ with $0\\leq x_i \\leq M$.<br />\n",
    "For example, $F(2, 7) = 204$, and $F(23, 76) \\equiv 5870548 \\pmod{ 1\\,000\\,000\\,009}$.\n",
    "</p>\n",
    "<p>\n",
    "Find $F(234567,765432)$, give your answer modulo $1\\,000\\,000\\,009$\n",
    "</p>\n"
   ]
  },
  {
   "cell_type": "markdown",
   "id": "1",
   "metadata": {},
   "source": [
    "# Solution\n"
   ]
  },
  {
   "cell_type": "code",
   "execution_count": null,
   "id": "2",
   "metadata": {},
   "outputs": [],
   "source": []
  }
 ],
 "metadata": {},
 "nbformat": 4,
 "nbformat_minor": 5
}
