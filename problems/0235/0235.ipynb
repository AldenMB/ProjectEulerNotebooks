{
 "cells": [
  {
   "cell_type": "markdown",
   "id": "0",
   "metadata": {},
   "source": [
    "# <a href=\"https://projecteuler.net/problem=235\">An Arithmetic Geometric sequence</a>\n",
    "\n",
    "## Problem 235\n",
    "\n",
    "<p>\n",
    "Given is the arithmetic-geometric sequence u(<var>k</var>) = (900-3<var>k</var>)<var>r</var><sup><var>k</var>-1</sup>.<br />\n",
    "Let s(<var>n</var>) = Σ<sub><var>k</var>=1...<var>n</var></sub>u(<var>k</var>).\n",
    "</p>\n",
    "<p>\n",
    "Find the value of <var>r</var> for which s(5000) = -600,000,000,000.\n",
    "</p>\n",
    "<p>\n",
    "Give your answer rounded to 12 places behind the decimal point.\n",
    "</p>\n",
    "\n",
    "\n",
    "\n"
   ]
  },
  {
   "cell_type": "markdown",
   "id": "1",
   "metadata": {},
   "source": [
    "# Solution\n"
   ]
  },
  {
   "cell_type": "code",
   "execution_count": null,
   "id": "2",
   "metadata": {},
   "outputs": [],
   "source": []
  }
 ],
 "metadata": {},
 "nbformat": 4,
 "nbformat_minor": 5
}
