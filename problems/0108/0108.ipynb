{
 "cells": [
  {
   "cell_type": "markdown",
   "id": "0",
   "metadata": {},
   "source": [
    "# <a href=\"https://projecteuler.net/problem=108\">Diophantine reciprocals I</a>\n",
    "\n",
    "## Problem 108\n",
    "\n",
    "<p>In the following equation <var>x</var>, <var>y</var>, and <var>n</var> are positive integers.</p>\n",
    "$$\\dfrac{1}{x} + \\dfrac{1}{y} = \\dfrac{1}{n}$$\n",
    "<p>For <var>n</var> = 4 there are exactly three distinct solutions:</p>\n",
    "$$\\begin{align}\n",
    "\\dfrac{1}{5} + \\dfrac{1}{20} &amp;= \\dfrac{1}{4}\\\\\n",
    "\\dfrac{1}{6} + \\dfrac{1}{12} &amp;= \\dfrac{1}{4}\\\\\n",
    "\\dfrac{1}{8} + \\dfrac{1}{8} &amp;= \\dfrac{1}{4}\n",
    "\\end{align}\n",
    "$$\n",
    "\n",
    "<p>What is the least value of <var>n</var> for which the number of distinct solutions exceeds one-thousand?</p>\n",
    "<p class=\"note\">NOTE: This problem is an easier version of <a href=\"problem=110\">Problem 110</a>; it is strongly advised that you solve this one first.</p>\n"
   ]
  },
  {
   "cell_type": "markdown",
   "id": "1",
   "metadata": {},
   "source": [
    "# Solution\n"
   ]
  },
  {
   "cell_type": "code",
   "execution_count": null,
   "id": "2",
   "metadata": {},
   "outputs": [],
   "source": []
  }
 ],
 "metadata": {},
 "nbformat": 4,
 "nbformat_minor": 5
}
