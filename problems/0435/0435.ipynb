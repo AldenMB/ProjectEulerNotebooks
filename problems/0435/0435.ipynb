{
 "cells": [
  {
   "cell_type": "markdown",
   "id": "0",
   "metadata": {},
   "source": [
    "# <a href=\"https://projecteuler.net/problem=435\">Polynomials of Fibonacci numbers</a>\n",
    "\n",
    "## Problem 435\n",
    "\n",
    "<p>The <strong>Fibonacci numbers</strong> $\\{f_n, n \\ge 0\\}$ are defined recursively as $f_n = f_{n-1} + f_{n-2}$ with base cases $f_0 = 0$ and $f_1 = 1$.</p>\n",
    "<p>Define the polynomials $\\{F_n, n \\ge 0\\}$ as $F_n(x) = \\displaystyle{\\sum_{i=0}^n f_i x^i}$.</p>\n",
    "<p>For example, $F_7(x) = x + x^2 + 2x^3 + 3x^4 + 5x^5 + 8x^6 + 13x^7$, and $F_7(11) = 268\\,357\\,683$.</p>\n",
    "<p>Let $n = 10^{15}$. Find the sum $\\displaystyle{\\sum_{x=0}^{100} F_n(x)}$ and give your answer modulo $1\\,307\\,674\\,368\\,000 \\ (= 15!)$.</p>\n",
    "\n",
    "\n"
   ]
  },
  {
   "cell_type": "markdown",
   "id": "1",
   "metadata": {},
   "source": [
    "# Solution\n"
   ]
  },
  {
   "cell_type": "code",
   "execution_count": null,
   "id": "2",
   "metadata": {},
   "outputs": [],
   "source": []
  }
 ],
 "metadata": {},
 "nbformat": 4,
 "nbformat_minor": 5
}
