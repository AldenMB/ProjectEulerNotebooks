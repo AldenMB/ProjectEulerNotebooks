{
 "cells": [
  {
   "cell_type": "markdown",
   "id": "0",
   "metadata": {},
   "source": [
    "# <a href=\"https://projecteuler.net/problem=204\">Generalised Hamming Numbers</a>\n",
    "\n",
    "## Problem 204\n",
    "\n",
    "<p>A Hamming number is a positive number which has no prime factor larger than 5.<br />\n",
    "So the first few Hamming numbers are 1, 2, 3, 4, 5, 6, 8, 9, 10, 12, 15.<br />\n",
    "There are 1105 Hamming numbers not exceeding 10<sup>8</sup>.</p>\n",
    "\n",
    "<p>We will call a positive number a generalised Hamming number of type <var>n</var>, if it has no prime factor larger than <var>n</var>.<br />\n",
    "Hence the Hamming numbers are the generalised Hamming numbers of type 5.</p>\n",
    "\n",
    "<p>How many generalised Hamming numbers of type 100 are there which don't exceed 10<sup>9</sup>?</p>\n"
   ]
  },
  {
   "cell_type": "markdown",
   "id": "1",
   "metadata": {},
   "source": [
    "# Solution\n"
   ]
  },
  {
   "cell_type": "code",
   "execution_count": null,
   "id": "2",
   "metadata": {},
   "outputs": [],
   "source": []
  }
 ],
 "metadata": {},
 "nbformat": 4,
 "nbformat_minor": 5
}
