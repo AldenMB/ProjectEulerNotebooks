{
 "cells": [
  {
   "cell_type": "markdown",
   "id": "0",
   "metadata": {},
   "source": [
    "# <a href=\"https://projecteuler.net/problem=372\">Pencils of rays</a>\n",
    "\n",
    "## Problem 372\n",
    "\n",
    "<p>\n",
    "Let $R(M, N)$ be the number of lattice points $(x, y)$ which satisfy $M\\!\\lt\\!x\\!\\le\\!N$, $M\\!\\lt\\!y\\!\\le\\!N$ and $\\large\\left\\lfloor\\!\\frac{y^2}{x^2}\\!\\right\\rfloor$ is odd.<br />\n",
    "We can verify that $R(0, 100) = 3019$ and $R(100, 10000) = 29750422$.<br />\n",
    "Find $R(2\\cdot10^6, 10^9)$.\n",
    "</p>\n",
    "\n",
    "<p>\n",
    "<u><i>Note</i></u>: $\\lfloor x\\rfloor$ represents the floor function.</p>\n",
    "\n"
   ]
  },
  {
   "cell_type": "markdown",
   "id": "1",
   "metadata": {},
   "source": [
    "# Solution\n"
   ]
  },
  {
   "cell_type": "code",
   "execution_count": null,
   "id": "2",
   "metadata": {},
   "outputs": [],
   "source": []
  }
 ],
 "metadata": {},
 "nbformat": 4,
 "nbformat_minor": 5
}
