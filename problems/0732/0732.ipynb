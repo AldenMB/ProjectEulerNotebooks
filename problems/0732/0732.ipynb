{
 "cells": [
  {
   "cell_type": "markdown",
   "id": "0",
   "metadata": {},
   "source": [
    "# <a href=\"https://projecteuler.net/problem=732\">Standing on the shoulders of trolls</a>\n",
    "\n",
    "## Problem 732\n",
    "\n",
    "<p>\n",
    "$N$ trolls are in a hole that is $D_N$ cm deep. The $n$-th troll is characterized by:\n",
    "</p>\n",
    "<ul><li>the distance from his feet to his shoulders in cm, $h_n$</li>\n",
    "<li>the length of his arms in cm, $l_n$</li>\n",
    "<li>his IQ (Irascibility Quotient), $q_n$.</li>\n",
    "</ul><p>\n",
    "Trolls can pile up on top of each other, with each troll standing on the shoulders of the one below him. A troll can climb out of the hole and escape if his hands can reach to the surface. Once a troll escapes he cannot participate any further in the escaping effort.\n",
    "</p>\n",
    "<p>\n",
    "The trolls execute an optimal strategy for maximizing the total IQ of the escaping trolls, defined as $Q(N)$.\n",
    "</p>\n",
    "<p>\n",
    "Let<br />\n",
    "$r_n = \\left[ \\left( 5^n \\bmod (10^9 + 7) \\right) \\bmod 101 \\right] + 50$\n",
    "<br />\n",
    "$h_n = r_{3n}$\n",
    "<br />\n",
    "$l_n = r_{3n+1}$\n",
    "<br />\n",
    "$q_n = r_{3n+2}$\n",
    "<br />\n",
    "$D_N = \\frac{1}{\\sqrt{2}} \\sum_{n=0}^{N-1} h_n$.\n",
    "</p>\n",
    "<p>\n",
    "For example, the first troll ($n=0$) is 51cm tall to his shoulders, has 55cm long arms, and has an IQ of 75.\n",
    "</p>\n",
    "<p>\n",
    "You are given that $Q(5) = 401$ and $Q(15)=941$.\n",
    "</p>\n",
    "<p>\n",
    "Find $Q(1000)$.</p>\n"
   ]
  },
  {
   "cell_type": "markdown",
   "id": "1",
   "metadata": {},
   "source": [
    "# Solution\n"
   ]
  },
  {
   "cell_type": "code",
   "execution_count": null,
   "id": "2",
   "metadata": {},
   "outputs": [],
   "source": []
  }
 ],
 "metadata": {},
 "nbformat": 4,
 "nbformat_minor": 5
}
