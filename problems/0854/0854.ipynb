{
 "cells": [
  {
   "cell_type": "markdown",
   "id": "0",
   "metadata": {},
   "source": [
    "# <a href=\"http://projecteuler.net/problem=854\">Pisano Periods 2</a>\n",
    "\n",
    "## Problem 854\n",
    "\n",
    "<p>\n",
    "For every positive integer $n$ the Fibonacci sequence modulo $n$ is periodic. The period depends on the value of $n$.\n",
    "This period is called the <strong>Pisano period</strong> for $n$, often shortened to $\\pi(n)$.</p>\n",
    "\n",
    "<p>\n",
    "Define $M(p)$ as the largest integer $n$ such that $\\pi(n) = p$, and define $M(p) = 1$ if there is no such $n$.<br>\n",
    "For example, there are three values of $n$ for which $\\pi(n)$ equals $18$: $19, 38, 76$. Therefore $M(18) = 76$.</p>\n",
    "\n",
    "<p>\n",
    "Let the product function $P(n)$ be: $$P(n)=\\prod_{p = 1}^{n}M(p).$$\n",
    "You are given: $P(10)=264$.</p>\n",
    "\n",
    "<p>\n",
    "Find $P(1\\,000\\,000)\\bmod 1\\,234\\,567\\,891$.</p>\n"
   ]
  },
  {
   "cell_type": "markdown",
   "id": "1",
   "metadata": {},
   "source": [
    "# Solution\n"
   ]
  },
  {
   "cell_type": "code",
   "execution_count": null,
   "id": "2",
   "metadata": {},
   "outputs": [],
   "source": []
  }
 ],
 "metadata": {},
 "nbformat": 4,
 "nbformat_minor": 5
}
