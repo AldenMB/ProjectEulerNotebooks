{
 "cells": [
  {
   "cell_type": "markdown",
   "id": "0",
   "metadata": {},
   "source": [
    "# <a href=\"https://projecteuler.net/problem=668\">Square root smooth Numbers</a>\n",
    "\n",
    "## Problem 668\n",
    "\n",
    "<p>\n",
    "A positive integer is called <i>square root smooth</i> if all of its prime factors are strictly less than its square root.<br />\n",
    "Including the number $1$, there are $29$ square root smooth numbers not exceeding $100$.\n",
    "</p>\n",
    "<p>\n",
    "How many square root smooth numbers are there not exceeding $10\\,000\\,000\\,000$?</p>\n"
   ]
  },
  {
   "cell_type": "markdown",
   "id": "1",
   "metadata": {},
   "source": [
    "# Solution\n"
   ]
  },
  {
   "cell_type": "code",
   "execution_count": null,
   "id": "2",
   "metadata": {},
   "outputs": [],
   "source": []
  }
 ],
 "metadata": {},
 "nbformat": 4,
 "nbformat_minor": 5
}
