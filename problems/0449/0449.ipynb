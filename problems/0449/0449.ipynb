{
 "cells": [
  {
   "cell_type": "markdown",
   "id": "0",
   "metadata": {},
   "source": [
    "# <a href=\"https://projecteuler.net/problem=449\">Chocolate covered candy</a>\n",
    "\n",
    "## Problem 449\n",
    "\n",
    "<p>Phil the confectioner is making a new batch of chocolate covered candy. Each candy centre is shaped like an ellipsoid of revolution defined by the equation:\n",
    "$b^2 x^2 + b^2 y^2 + a^2 z^2 = a^2 b^2$.</p>\n",
    "\n",
    "<p>Phil wants to know how much chocolate is needed to cover one candy centre with a uniform coat of chocolate one millimeter thick.\n",
    "</p>\n",
    "\n",
    "<p>If $a = 1$ mm and $b = 1$ mm, the amount of chocolate required is $\\dfrac{28}{3} \\pi$ mm<sup>3</sup></p>\n",
    "\n",
    "<p>If $a = 2$ mm and $b = 1$ mm, the amount of chocolate required is approximately 60.35475635 mm<sup>3</sup>.</p>\n",
    "\n",
    "<p>Find the amount of chocolate in mm<sup>3</sup> required if $a = 3$ mm and $b  =1$ mm. Give your answer as the number rounded to 8 decimal places behind the decimal point.</p>\n",
    " \n"
   ]
  },
  {
   "cell_type": "markdown",
   "id": "1",
   "metadata": {},
   "source": [
    "# Solution\n"
   ]
  },
  {
   "cell_type": "code",
   "execution_count": null,
   "id": "2",
   "metadata": {},
   "outputs": [],
   "source": []
  }
 ],
 "metadata": {},
 "nbformat": 4,
 "nbformat_minor": 5
}
