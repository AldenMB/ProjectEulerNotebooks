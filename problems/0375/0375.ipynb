{
 "cells": [
  {
   "cell_type": "markdown",
   "id": "0",
   "metadata": {},
   "source": [
    "# <a href=\"https://projecteuler.net/problem=375\">Minimum of subsequences</a>\n",
    "\n",
    "## Problem 375\n",
    "\n",
    "<p>Let $S_n$ be an integer sequence produced with the following pseudo-random number generator:</p>\n",
    "\\[\n",
    "\\begin{equation}\n",
    "\\begin{split}\n",
    "S_0 &amp; = 290797 \\\\\n",
    "S_{n+1} &amp; = S_n^2 \\bmod 50515093\n",
    "\\end{split}\n",
    "\\end{equation}\n",
    "\\]\n",
    "\n",
    "<p>\n",
    "Let $A(i, j)$ be the minimum of the numbers $S_i, S_{i+1}, \\ldots, S_j$ for $i\\le j$.<br />\n",
    "Let $M(N) = \\sum A(i, j)$ for $1 \\le i \\le j \\le N$.<br />\n",
    "We can verify that $M(10) = 432256955$ and $M(10\\,000) = 3264567774119$.</p>\n",
    "\n",
    "<p>\n",
    "Find $M(2\\,000\\,000\\,000)$.\n",
    "</p>\n"
   ]
  },
  {
   "cell_type": "markdown",
   "id": "1",
   "metadata": {},
   "source": [
    "# Solution\n"
   ]
  },
  {
   "cell_type": "code",
   "execution_count": null,
   "id": "2",
   "metadata": {},
   "outputs": [],
   "source": []
  }
 ],
 "metadata": {},
 "nbformat": 4,
 "nbformat_minor": 5
}
