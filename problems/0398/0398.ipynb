{
 "cells": [
  {
   "cell_type": "markdown",
   "id": "0",
   "metadata": {},
   "source": [
    "# <a href=\"https://projecteuler.net/problem=398\">Cutting rope</a>\n",
    "\n",
    "## Problem 398\n",
    "\n",
    "<p>\n",
    "Inside a rope of length <var>n</var>, <var>n</var>-1 points are placed with distance 1 from each other and from the endpoints. Among these points, we choose <var>m</var>-1 points at random and cut the rope at these points to create <var>m</var> segments.\n",
    "</p>\n",
    "<p>\n",
    "Let E(<var>n</var>, <var>m</var>) be the expected length of the second-shortest segment.\n",
    "For example, E(3, 2) = 2 and E(8, 3) = 16/7.\n",
    "Note that if multiple segments have the same shortest length the length of the second-shortest segment is defined as the same as the shortest length.\n",
    "</p>\n",
    "<p>\n",
    "Find E(10<sup>7</sup>, 100).\n",
    "Give your answer rounded to 5 decimal places behind the decimal point.\n",
    "</p>\n"
   ]
  },
  {
   "cell_type": "markdown",
   "id": "1",
   "metadata": {},
   "source": [
    "# Solution\n"
   ]
  },
  {
   "cell_type": "code",
   "execution_count": null,
   "id": "2",
   "metadata": {},
   "outputs": [],
   "source": []
  }
 ],
 "metadata": {},
 "nbformat": 4,
 "nbformat_minor": 5
}
