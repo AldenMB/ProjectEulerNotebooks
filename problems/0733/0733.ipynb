{
 "cells": [
  {
   "cell_type": "markdown",
   "id": "0",
   "metadata": {},
   "source": [
    "# <a href=\"https://projecteuler.net/problem=733\">Ascending subsequences</a>\n",
    "\n",
    "## Problem 733\n",
    "\n",
    "<p>\n",
    "Let $a_i$ be the sequence defined by $a_i=153^i \\bmod 10\\,000\\,019$ for $i \\ge 1$.<br />\n",
    "The first terms of $a_i$ are:\n",
    "$153, 23409, 3581577, 7980255, 976697, 9434375, \\dots$\n",
    "</p>\n",
    "<p>\n",
    "Consider the subsequences consisting of 4 terms in ascending order. For the part of the sequence shown above, these are:<br />\n",
    "$153, 23409, 3581577, 7980255$<br />\n",
    "$153, 23409, 3581577, 9434375$<br />\n",
    "$153, 23409, 7980255, 9434375$<br />\n",
    "$153, 23409, 976697, 9434375$<br />\n",
    "$153, 3581577, 7980255, 9434375$ and<br />\n",
    "$23409, 3581577, 7980255, 9434375$.\n",
    "</p>\n",
    "<p>\n",
    "Define $S(n)$ to be the sum of the terms for all such subsequences within the first $n$ terms of $a_i$. Thus $S(6)=94513710$.<br />\n",
    "You are given that $S(100)=4465488724217$.\n",
    "</p>\n",
    "<p>\n",
    "Find $S(10^6)$ modulo $1\\,000\\,000\\,007$.\n",
    "</p>\n"
   ]
  },
  {
   "cell_type": "markdown",
   "id": "1",
   "metadata": {},
   "source": [
    "# Solution\n"
   ]
  },
  {
   "cell_type": "code",
   "execution_count": null,
   "id": "2",
   "metadata": {},
   "outputs": [],
   "source": []
  }
 ],
 "metadata": {},
 "nbformat": 4,
 "nbformat_minor": 5
}
