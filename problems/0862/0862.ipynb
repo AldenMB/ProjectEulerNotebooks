{
 "cells": [
  {
   "cell_type": "markdown",
   "id": "0",
   "metadata": {},
   "source": [
    "# <a href=\"http://projecteuler.net/problem=862\">Larger Digit Permutation</a>\n",
    "\n",
    "## Problem 862\n",
    "\n",
    "<p>\n",
    "For a positive integer $n$ define $T(n)$ to be the number of strictly larger integers which can be formed by permuting the digits of $n$.</p>\n",
    "\n",
    "<p>\n",
    "Leading zeros are not allowed and so for $n = 2302$ the total list of permutations would be:</p>\n",
    "<div style=\"text-align:center;\">\n",
    "$2023,2032,2203,2230,\\mathbf{2302},2320,3022,32 02,3220$</div>\n",
    "<p>\n",
    "giving $T(2302)=4$.</p>\n",
    "\n",
    "<p>\n",
    "Further define $S(k)$ to be the sum of $T(n)$ for all $k$-digit numbers $n$. You are given $S(3) = 1701$.</p>\n",
    "\n",
    "<p>\n",
    "Find $S(12)$.</p>\n"
   ]
  },
  {
   "cell_type": "markdown",
   "id": "1",
   "metadata": {},
   "source": [
    "# Solution\n"
   ]
  },
  {
   "cell_type": "code",
   "execution_count": null,
   "id": "2",
   "metadata": {},
   "outputs": [],
   "source": []
  }
 ],
 "metadata": {},
 "nbformat": 4,
 "nbformat_minor": 5
}
