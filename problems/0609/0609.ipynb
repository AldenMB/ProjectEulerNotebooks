{
 "cells": [
  {
   "cell_type": "markdown",
   "id": "0",
   "metadata": {},
   "source": [
    "# <a href=\"https://projecteuler.net/problem=609\">π sequences</a>\n",
    "\n",
    "## Problem 609\n",
    "\n",
    "<p>\n",
    "For every $n \\ge 1$ the <b>prime-counting</b> function $\\pi(n)$ is equal to the number of primes\n",
    "not exceeding $n$.<br />\n",
    "E.g. $\\pi(6)=3$ and $\\pi(100)=25$.\n",
    "</p>\n",
    "<p>\n",
    "We say that a sequence of integers $u  = (u_0,\\cdots,u_m)$ is a <i>$\\pi$ sequence</i> if \n",
    "</p><ul><li> $u_n \\ge 1$ for every $n$\n",
    "</li><li> $u_{n+1}= \\pi(u_n)$\n",
    "</li><li> $u$ has two or more elements\n",
    "</li></ul><p>\n",
    "For $u_0=10$ there are three distinct $\\pi$ sequences: (10,4),  (10,4,2) and (10,4,2,1).\n",
    "</p>\n",
    "<p>\n",
    "Let  $c(u)$ be the number of elements of $u$ that are not prime.<br />\n",
    "Let $p(n,k)$ be the number of $\\pi$ sequences $u$  for which $u_0\\le n$ and $c(u)=k$.<br />\n",
    "Let $P(n)$ be the product of all $p(n,k)$ that are larger than 0.<br />\n",
    "You are given: P(10)=3×8×9×3=648 and P(100)=31038676032.\n",
    "</p>\n",
    "<p>\n",
    "Find $P(10^8)$. Give your answer modulo 1000000007. \n",
    "</p>\n",
    "\n",
    "\n",
    "\n"
   ]
  },
  {
   "cell_type": "markdown",
   "id": "1",
   "metadata": {},
   "source": [
    "# Solution\n"
   ]
  },
  {
   "cell_type": "code",
   "execution_count": null,
   "id": "2",
   "metadata": {},
   "outputs": [],
   "source": []
  }
 ],
 "metadata": {},
 "nbformat": 4,
 "nbformat_minor": 5
}
