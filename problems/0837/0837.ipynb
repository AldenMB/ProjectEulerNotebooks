{
 "cells": [
  {
   "cell_type": "markdown",
   "id": "0",
   "metadata": {},
   "source": [
    "# <a href=\"http://projecteuler.net/problem=837\">Amidakuji</a>\n",
    "\n",
    "## Problem 837\n",
    "\n",
    "<p>\n",
    "<a href=\"https://en.wikipedia.org/wiki/Amidakuji\">Amidakuji</a> (Japanese: 阿弥陀籤) is a method for producing a random permutation of a set of objects.</p>\n",
    "\n",
    "<p>\n",
    "In the beginning, a number of parallel vertical lines are drawn, one for each object. Then a specified number of horizontal rungs are added, each lower than any previous rungs. Each rung is drawn as a line segment spanning a randomly select pair of adjacent vertical lines.</p>\n",
    "\n",
    "<p>\n",
    "For example, the following diagram depicts an Amidakuji with three objects ($A$, $B$, $C$) and six rungs:</p>\n",
    "<div style=\"text-align:center;\">\n",
    "<img src=\"resources/images/0837_amidakuji.png?1678992054\" alt=\"0837_amidakuji.png\">\n",
    "</div>\n",
    "\n",
    "<p>\n",
    "The coloured lines in the diagram illustrate how to form the permutation. For each object, starting from the top of its vertical line, trace downwards but follow any rung encountered along the way, and record which vertical we end up on. In this example, the resulting permutation happens to be the identity: $A\\mapsto A$, $B\\mapsto B$, $C\\mapsto C$.</p>\n",
    "\n",
    "<p>\n",
    "Let $a(m, n)$ be the number of different three-object Amidakujis that have $m$ rungs between $A$ and $B$, and $n$ rungs between $B$ and $C$, and whose outcome is the identity permutation. For example, $a(3, 3) = 2$, because the Amidakuji shown above and its mirror image are the only ones with the required property.</p>\n",
    "\n",
    "<p>\n",
    "You are also given that $a(123, 321) \\equiv 172633303 \\pmod{1234567891}$.</p>\n",
    "\n",
    "<p>\n",
    "Find $a(123456789, 987654321)$. Give your answer modulo $1234567891$.</p>\n"
   ]
  },
  {
   "cell_type": "markdown",
   "id": "1",
   "metadata": {},
   "source": [
    "# Solution\n"
   ]
  },
  {
   "cell_type": "code",
   "execution_count": null,
   "id": "2",
   "metadata": {},
   "outputs": [],
   "source": []
  }
 ],
 "metadata": {},
 "nbformat": 4,
 "nbformat_minor": 5
}
