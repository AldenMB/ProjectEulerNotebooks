{
 "cells": [
  {
   "cell_type": "markdown",
   "id": "0",
   "metadata": {},
   "source": [
    "# <a href=\"https://projecteuler.net/problem=283\">Integer sided triangles for which the  area/perimeter ratio is integral</a>\n",
    "\n",
    "## Problem 283\n",
    "\n",
    "<p>\n",
    "Consider the triangle with sides 6, 8 and 10. It can be seen that the perimeter and the area are both equal to 24. \n",
    "So the area/perimeter ratio is equal to 1.<br />\n",
    "Consider also the triangle with sides 13, 14 and 15. The perimeter equals 42 while the area is equal to 84. \n",
    "So for this triangle the area/perimeter ratio is equal to 2.\n",
    "</p>\n",
    "<p>\n",
    "Find the sum of the perimeters of all integer sided triangles for which the area/perimeter ratios are equal to positive integers not exceeding 1000.\n",
    "</p>\n",
    "\n"
   ]
  },
  {
   "cell_type": "markdown",
   "id": "1",
   "metadata": {},
   "source": [
    "# Solution\n"
   ]
  },
  {
   "cell_type": "code",
   "execution_count": null,
   "id": "2",
   "metadata": {},
   "outputs": [],
   "source": []
  }
 ],
 "metadata": {},
 "nbformat": 4,
 "nbformat_minor": 5
}
