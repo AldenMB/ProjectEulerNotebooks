{
 "cells": [
  {
   "cell_type": "markdown",
   "id": "0",
   "metadata": {},
   "source": [
    "# <a href=\"https://projecteuler.net/problem=356\">Largest roots of cubic polynomials</a>\n",
    "\n",
    "## Problem 356\n",
    "\n",
    "<p>\n",
    "Let <var>a</var><sub><var>n</var></sub> be the largest real root of a polynomial <var>g</var>(x) = x<sup>3</sup> - 2<sup><var>n</var></sup>·x<sup>2</sup> + <var>n</var>.<br />\n",
    "For example, <var>a</var><sub>2</sub> = 3.86619826...</p>\n",
    "\n",
    "<p>\n",
    "Find the last eight digits of $\\sum \\limits_{i = 1}^{30} {\\left \\lfloor a_i^{987654321} \\right \\rfloor}$.</p>\n",
    "\n",
    "<p>\n",
    "<u><i>Note</i></u>: $\\lfloor a \\rfloor$ represents the floor function.</p>\n",
    "\n"
   ]
  },
  {
   "cell_type": "markdown",
   "id": "1",
   "metadata": {},
   "source": [
    "# Solution\n"
   ]
  },
  {
   "cell_type": "code",
   "execution_count": null,
   "id": "2",
   "metadata": {},
   "outputs": [],
   "source": []
  }
 ],
 "metadata": {},
 "nbformat": 4,
 "nbformat_minor": 5
}
