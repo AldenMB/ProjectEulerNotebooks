{
 "cells": [
  {
   "cell_type": "markdown",
   "id": "0",
   "metadata": {},
   "source": [
    "# <a href=\"https://projecteuler.net/problem=712\">Exponent Difference</a>\n",
    "\n",
    "## Problem 712\n",
    "\n",
    "<p>\n",
    "For any integer $n&gt;0$ and prime number $p,$ define $\\nu_p(n)$ as the greatest integer $r$ such that $p^r$ divides $n$. \n",
    "</p>\n",
    "<p>\n",
    "Define $$D(n, m)  = \\sum_{p \\text{ prime}} \\left| \\nu_p(n) - \\nu_p(m)\\right|.$$ For example, $D(14,24) = 4$.\n",
    "</p>\n",
    "<p>\n",
    "Furthermore, define $$S(N) = \\sum_{1 \\le n, m \\le N} D(n, m).$$ You are given $S(10) = 210$ and $S(10^2) = 37018$.\n",
    "</p>\n",
    "<p>\n",
    "Find $S(10^{12})$. Give your answer modulo $1\\,000\\,000\\,007$.\n",
    "</p>\n"
   ]
  },
  {
   "cell_type": "markdown",
   "id": "1",
   "metadata": {},
   "source": [
    "# Solution\n"
   ]
  },
  {
   "cell_type": "code",
   "execution_count": null,
   "id": "2",
   "metadata": {},
   "outputs": [],
   "source": []
  }
 ],
 "metadata": {},
 "nbformat": 4,
 "nbformat_minor": 5
}
