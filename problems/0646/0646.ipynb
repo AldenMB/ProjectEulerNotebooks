{
 "cells": [
  {
   "cell_type": "markdown",
   "id": "0",
   "metadata": {},
   "source": [
    "# <a href=\"https://projecteuler.net/problem=646\">Bounded Divisors</a>\n",
    "\n",
    "## Problem 646\n",
    "\n",
    "<p>\n",
    "Let $n$ be a natural number and  $p_1^{\\alpha_1}\\cdot p_2^{\\alpha_2}...p_k^{\\alpha_k}$ its prime factorisation.<br />\n",
    "Define the <b>Liouville function</b> $\\lambda(n)$ as $\\lambda(n) = (-1)^{\\sum\\limits_{i=1}^{k}\\alpha_i}$.<br />\n",
    "(i.e. $-1$ if the sum of the exponents $\\alpha_i$ is odd and $1$ if the sum of the exponents is even. )<br />\n",
    "Let $S(n,L,H)$  be the sum $\\lambda(d) \\cdot d$ over all divisors $d$ of $n$ for which $L \\leq d \\leq H$.\n",
    "</p>\n",
    "<p>\n",
    "You are given:<br />\n",
    "$\\bullet\\, S(10! , 100, 1000) = 1457$<br />\n",
    "$\\bullet\\, S(15!,  10^3, 10^5) = -107974$<br />\n",
    "$\\bullet\\, S(30!,10^8, 10^{12}) = 9766732243224$.<br /></p>\n",
    "<p>\n",
    "Find $S(70!,10^{20}, 10^{60})$ and give your answer modulo $1\\,000\\,000\\,007$.\n",
    "</p>\n",
    "\n"
   ]
  },
  {
   "cell_type": "markdown",
   "id": "1",
   "metadata": {},
   "source": [
    "# Solution\n"
   ]
  },
  {
   "cell_type": "code",
   "execution_count": null,
   "id": "2",
   "metadata": {},
   "outputs": [],
   "source": []
  }
 ],
 "metadata": {},
 "nbformat": 4,
 "nbformat_minor": 5
}
