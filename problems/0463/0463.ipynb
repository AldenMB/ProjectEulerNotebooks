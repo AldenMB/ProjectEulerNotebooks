{
 "cells": [
  {
   "cell_type": "markdown",
   "id": "0",
   "metadata": {},
   "source": [
    "# <a href=\"https://projecteuler.net/problem=463\">A weird recurrence relation</a>\n",
    "\n",
    "## Problem 463\n",
    "\n",
    "<p>\n",
    "The function $f$ is defined for all positive integers as follows:\n",
    "</p><ul><li>$f(1)=1$\n",
    "</li><li>$f(3)=3$\n",
    "</li><li>$f(2n)=f(n)$\n",
    "</li><li>$f(4n + 1)=2f(2n + 1) - f(n)$\n",
    "</li><li>$f(4n + 3)=3f(2n + 1) - 2f(n)$\n",
    "</li>\n",
    "</ul><p>The function $S(n)$ is defined as $\\sum_{i=1}^{n}f(i)$.</p>\n",
    "<p>$S(8)=22$ and $S(100)=3604$.</p>\n",
    "<p>Find $S(3^{37})$. Give the last 9 digits of your answer.</p>\n",
    "\n",
    "\n"
   ]
  },
  {
   "cell_type": "markdown",
   "id": "1",
   "metadata": {},
   "source": [
    "# Solution\n"
   ]
  },
  {
   "cell_type": "code",
   "execution_count": null,
   "id": "2",
   "metadata": {},
   "outputs": [],
   "source": []
  }
 ],
 "metadata": {},
 "nbformat": 4,
 "nbformat_minor": 5
}
