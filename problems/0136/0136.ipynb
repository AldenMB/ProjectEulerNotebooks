{
 "cells": [
  {
   "cell_type": "markdown",
   "id": "0",
   "metadata": {},
   "source": [
    "# <a href=\"https://projecteuler.net/problem=136\">Singleton difference</a>\n",
    "\n",
    "## Problem 136\n",
    "\n",
    "<p>The positive integers, <i>x</i>, <i>y</i>, and <i>z</i>, are consecutive terms of an arithmetic progression. Given that <i>n</i> is a positive integer, the equation, <i>x</i><sup>2</sup> − <i>y</i><sup>2</sup> − <i>z</i><sup>2</sup> = <i>n</i>, has exactly one solution when <i>n</i> = 20:</p>\n",
    "<p style=\"text-align: center !important\">13<sup>2</sup> − 10<sup>2</sup> − 7<sup>2</sup> = 20</p>\n",
    "<p>In fact there are twenty-five values of <i>n</i> below one hundred for which the equation has a unique solution.</p>\n",
    "<p>How many values of <i>n</i> less than fifty million have exactly one solution?</p>\n",
    "\n"
   ]
  },
  {
   "cell_type": "markdown",
   "id": "1",
   "metadata": {},
   "source": [
    "# Solution\n"
   ]
  },
  {
   "cell_type": "code",
   "execution_count": null,
   "id": "2",
   "metadata": {},
   "outputs": [],
   "source": []
  }
 ],
 "metadata": {},
 "nbformat": 4,
 "nbformat_minor": 5
}
