{
 "cells": [
  {
   "cell_type": "markdown",
   "id": "0",
   "metadata": {},
   "source": [
    "# <a href=\"https://projecteuler.net/problem=367\">Bozo sort</a>\n",
    "\n",
    "## Problem 367\n",
    "\n",
    "<p>\n",
    "<b>Bozo sort</b>, not to be confused with the slightly less efficient <b>bogo sort</b>, consists out of checking if the input sequence is sorted and if not swapping randomly two elements. This is repeated until eventually the sequence is sorted.\n",
    "</p>\n",
    "<p>\n",
    "If we consider all permutations of the first 4 natural numbers as input the expectation value of the number of swaps, averaged over all 4! input sequences is 24.75.<br />\n",
    "The already sorted sequence takes 0 steps. \n",
    "</p>\n",
    "<p>\n",
    "In this problem we consider the following variant on bozo sort.<br />\n",
    "If the sequence is not in order we pick three elements at random and shuffle these three elements randomly.<br />\n",
    "All 3!=6 permutations of those three elements are equally likely. <br />\n",
    "The already sorted sequence will take 0 steps.<br />\n",
    "If we consider all permutations of the first 4 natural numbers as input the expectation value of the number of shuffles, averaged over all 4! input sequences is 27.5. <br />\n",
    "Consider as input sequences the permutations of the first 11 natural numbers.<br />\n",
    "Averaged over all 11! input sequences, what is the expected number of shuffles this sorting algorithm will perform?\n",
    "</p>\n",
    "<p>\n",
    "Give your answer rounded to the nearest integer.\n",
    "</p>\n"
   ]
  },
  {
   "cell_type": "markdown",
   "id": "1",
   "metadata": {},
   "source": [
    "# Solution\n"
   ]
  },
  {
   "cell_type": "code",
   "execution_count": null,
   "id": "2",
   "metadata": {},
   "outputs": [],
   "source": []
  }
 ],
 "metadata": {},
 "nbformat": 4,
 "nbformat_minor": 5
}
