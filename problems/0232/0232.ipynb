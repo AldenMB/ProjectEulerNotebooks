{
 "cells": [
  {
   "cell_type": "markdown",
   "id": "0",
   "metadata": {},
   "source": [
    "# <a href=\"https://projecteuler.net/problem=232\">The Race</a>\n",
    "\n",
    "## Problem 232\n",
    "\n",
    "<p>Two players share an unbiased coin and take it in turns to play <dfn>The Race</dfn>.</p>\n",
    "\n",
    "<p>On Player 1's turn, the coin is tossed once. If it comes up Heads, then Player 1 scores one point; if it comes up Tails, then no points are scored.</p>\n",
    "\n",
    "<p>On Player 2's turn, a positive integer, $T$, is chosen by Player 2 and the coin is tossed $T$ times. If it comes up all Heads, then Player 2 scores $2^{T-1}$ points; otherwise, no points are scored.</p>\n",
    "\n",
    "<p>Player 1 goes first and the winner is the first to 100 or more points.</p>\n",
    "\n",
    "<p>Player 2 will always selects the number, $T$, of coin tosses that maximises the probability of winning.</p>\n",
    "\n",
    "<p>What is the probability that Player 2 wins?</p>\n",
    "\n",
    "<p>Give your answer rounded to eight decimal places in the form $0.abcdefgh$.</p>\n"
   ]
  },
  {
   "cell_type": "markdown",
   "id": "1",
   "metadata": {},
   "source": [
    "# Solution\n"
   ]
  },
  {
   "cell_type": "code",
   "execution_count": null,
   "id": "2",
   "metadata": {},
   "outputs": [],
   "source": []
  }
 ],
 "metadata": {},
 "nbformat": 4,
 "nbformat_minor": 5
}
