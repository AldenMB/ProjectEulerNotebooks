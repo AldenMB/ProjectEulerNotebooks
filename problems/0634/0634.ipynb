{
 "cells": [
  {
   "cell_type": "markdown",
   "id": "0",
   "metadata": {},
   "source": [
    "# <a href=\"https://projecteuler.net/problem=634\">Numbers of the form $a^2b^3$</a>\n",
    "\n",
    "## Problem 634\n",
    "\n",
    "<p>\n",
    "Define $F(n)$ to be the number of integers $x≤n$ that can be written in the form $x=a^2b^3$, where $a$ and $b$ are integers not necessarily different and both greater than 1.</p>\n",
    "<p>\n",
    "For example, $32=2^2\\times 2^3$  and $72=3^2\\times 2^3$ are the only two integers less than 100 that can be written in this form. Hence, $F(100)=2$.\n",
    "</p>\n",
    "<p>\n",
    "Further you are given $F(2\\times 10^4)=130$ and $F(3\\times 10^6)=2014$.\n",
    "</p>\n",
    "<p>\n",
    "Find $F(9\\times 10^{18})$.\n",
    "</p>\n"
   ]
  },
  {
   "cell_type": "markdown",
   "id": "1",
   "metadata": {},
   "source": [
    "# Solution\n"
   ]
  },
  {
   "cell_type": "code",
   "execution_count": null,
   "id": "2",
   "metadata": {},
   "outputs": [],
   "source": []
  }
 ],
 "metadata": {},
 "nbformat": 4,
 "nbformat_minor": 5
}
