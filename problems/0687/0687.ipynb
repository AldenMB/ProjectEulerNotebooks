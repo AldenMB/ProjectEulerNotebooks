{
 "cells": [
  {
   "cell_type": "markdown",
   "id": "0",
   "metadata": {},
   "source": [
    "# <a href=\"https://projecteuler.net/problem=687\">Shuffling Cards</a>\n",
    "\n",
    "## Problem 687\n",
    "\n",
    "<p>A standard deck of 52 playing cards, which consists of thirteen ranks (Ace, Two, ..., Ten, King, Queen and Jack) each in four suits (Clubs, Diamonds, Hearts and Spades), is randomly shuffled.  Let us call a rank <i>perfect</i> if no two cards of that same rank appear next to each other after the shuffle.</p>\n",
    "<p>\n",
    "It can be seen that the expected number of ranks that are perfect after a random shuffle equals $\\frac {4324} {425} \\approx 10.1741176471$.</p>\n",
    "<p>\n",
    "Find the probability that the number of perfect ranks is prime. Give your answer rounded to 10 decimal places.</p>\n"
   ]
  },
  {
   "cell_type": "markdown",
   "id": "1",
   "metadata": {},
   "source": [
    "# Solution\n"
   ]
  },
  {
   "cell_type": "code",
   "execution_count": null,
   "id": "2",
   "metadata": {},
   "outputs": [],
   "source": []
  }
 ],
 "metadata": {},
 "nbformat": 4,
 "nbformat_minor": 5
}
