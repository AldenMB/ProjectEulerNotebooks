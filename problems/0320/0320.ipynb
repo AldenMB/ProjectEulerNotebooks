{
 "cells": [
  {
   "cell_type": "markdown",
   "id": "0",
   "metadata": {},
   "source": [
    "# <a href=\"https://projecteuler.net/problem=320\">Factorials divisible by a huge integer</a>\n",
    "\n",
    "## Problem 320\n",
    "\n",
    "<p>\n",
    "Let N(<var>i</var>) be the smallest integer <var>n</var> such that <var>n</var>! is divisible by (<var>i</var>!)<sup>1234567890</sup></p>\n",
    "<p>\n",
    "Let S(<var>u</var>)=<span style=\"font-size:larger;\"><span style=\"font-size:larger;\">∑</span></span> N(<var>i</var>) for 10 ≤ <var>i</var> ≤ <var>u</var>.\n",
    "</p>\n",
    "<p>\n",
    "S(1000)=614538266565663.\n",
    "</p>\n",
    "<p>\n",
    "Find S(1 000 000) mod 10<sup>18</sup>.\n",
    "</p>\n",
    "\n",
    "\n"
   ]
  },
  {
   "cell_type": "markdown",
   "id": "1",
   "metadata": {},
   "source": [
    "# Solution\n"
   ]
  },
  {
   "cell_type": "code",
   "execution_count": null,
   "id": "2",
   "metadata": {},
   "outputs": [],
   "source": []
  }
 ],
 "metadata": {},
 "nbformat": 4,
 "nbformat_minor": 5
}
