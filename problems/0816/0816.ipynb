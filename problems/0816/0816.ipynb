{
 "cells": [
  {
   "cell_type": "markdown",
   "id": "0",
   "metadata": {},
   "source": [
    "# <a href=\"http://projecteuler.net/problem=816\">Shortest distance among points</a>\n",
    "\n",
    "## Problem 816\n",
    "\n",
    "<p>We create an array of points  $P_n$ in a two dimensional plane using the following random number generator:<br />\n",
    "$s_0=290797$<br />\n",
    "$s_{n+1}={s_n}^2 \\bmod 50515093$\n",
    "<br /> <br />\n",
    "$P_n=(s_{2n},s_{2n+1})$</p>\n",
    "<p>\n",
    "Let $d(k)$  be the shortest distance of any two (distinct) points among $P_0, \\cdots, P_{k - 1}$.<br />\n",
    "E.g. $d(14)=546446.466846479$\n",
    "</p>\n",
    "<p>\n",
    "Find $d(2000000)$. Give your answer rounded to 9 places after the decimal point.\n",
    "</p>\n"
   ]
  },
  {
   "cell_type": "markdown",
   "id": "1",
   "metadata": {},
   "source": [
    "# Solution\n"
   ]
  },
  {
   "cell_type": "code",
   "execution_count": null,
   "id": "2",
   "metadata": {},
   "outputs": [],
   "source": []
  }
 ],
 "metadata": {},
 "nbformat": 4,
 "nbformat_minor": 5
}
