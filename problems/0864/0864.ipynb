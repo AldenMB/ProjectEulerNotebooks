{
 "cells": [
  {
   "cell_type": "markdown",
   "id": "0",
   "metadata": {},
   "source": [
    "# <a href=\"http://projecteuler.net/problem=864\">Square + 1 = Squarefree</a>\n",
    "\n",
    "## Problem 864\n",
    "\n",
    "<p>Let $C(n)$ be the number of squarefree integers of the form $x^2 + 1$ such that $1 \\le x \\le n$.</p>\n",
    "\n",
    "<p>For example, $C(10) = 9$ and $C(1000) = 895$.</p>\n",
    "\n",
    "<p>Find $C(123567101113)$.</p>\n"
   ]
  },
  {
   "cell_type": "markdown",
   "id": "1",
   "metadata": {},
   "source": [
    "# Solution\n"
   ]
  },
  {
   "cell_type": "code",
   "execution_count": null,
   "id": "2",
   "metadata": {},
   "outputs": [],
   "source": []
  }
 ],
 "metadata": {},
 "nbformat": 4,
 "nbformat_minor": 5
}
