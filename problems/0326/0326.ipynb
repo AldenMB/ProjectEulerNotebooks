{
 "cells": [
  {
   "cell_type": "markdown",
   "id": "0",
   "metadata": {},
   "source": [
    "# <a href=\"https://projecteuler.net/problem=326\">Modulo Summations</a>\n",
    "\n",
    "## Problem 326\n",
    "\n",
    "<p>\n",
    "Let $a_n$ be a sequence recursively defined by:$\\quad a_1=1,\\quad\\displaystyle a_n=\\biggl(\\sum_{k=1}^{n-1}k\\cdot a_k\\biggr)\\bmod n$.\n",
    "</p>\n",
    "<p>\n",
    "So the first 10 elements of $a_n$ are: 1,1,0,3,0,3,5,4,1,9.\n",
    "</p>\n",
    "<p>Let <var>f</var>(<var>N,M</var>) represent the number of pairs (<var>p,q</var>) such that: </p>\n",
    "<p>\n",
    "$$\n",
    "\\def\\htmltext#1{\\style{font-family:inherit;}{\\text{#1}}}\n",
    "1\\le p\\le q\\le N \\quad\\htmltext{and}\\quad\\biggl(\\sum_{i=p}^qa_i\\biggr)\\bmod M=0\n",
    "$$\n",
    "</p>\n",
    "<p>\n",
    "It can be seen that <var>f</var>(10,10)=4 with the pairs (3,3), (5,5), (7,9) and (9,10).\n",
    "</p>\n",
    "<p>\n",
    "You are also given that <var>f</var>(10<sup>4</sup>,10<sup>3</sup>)=97158.</p>\n",
    "<p>\n",
    "Find <var>f</var>(10<sup>12</sup>,10<sup>6</sup>).\n",
    "</p>\n",
    "\n",
    "\n",
    "\n",
    " \n",
    "\n",
    "\n",
    "\n"
   ]
  },
  {
   "cell_type": "markdown",
   "id": "1",
   "metadata": {},
   "source": [
    "# Solution\n"
   ]
  },
  {
   "cell_type": "code",
   "execution_count": null,
   "id": "2",
   "metadata": {},
   "outputs": [],
   "source": []
  }
 ],
 "metadata": {},
 "nbformat": 4,
 "nbformat_minor": 5
}
