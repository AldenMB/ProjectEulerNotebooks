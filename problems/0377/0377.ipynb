{
 "cells": [
  {
   "cell_type": "markdown",
   "id": "0",
   "metadata": {},
   "source": [
    "# <a href=\"https://projecteuler.net/problem=377\">Sum of digits - experience #13</a>\n",
    "\n",
    "## Problem 377\n",
    "\n",
    "<p>\n",
    "There are 16 positive integers that do not have a zero in their digits and that have a digital sum equal to 5, namely: <br />\n",
    "5, 14, 23, 32, 41, 113, 122, 131, 212, 221, 311, 1112, 1121, 1211, 2111 and 11111.<br />\n",
    "Their sum is 17891.\n",
    "</p>\n",
    "<p>\n",
    "Let <var>f</var>(<var>n</var>) be the sum of all positive integers that do not have a zero in their digits and have a digital sum equal to <var>n</var>.\n",
    "</p>\n",
    "<p>\n",
    "Find $\\displaystyle \\sum_{i=1}^{17} f(13^i)$.<br />\n",
    "Give the last 9 digits as your answer.\n",
    "</p>\n",
    "\n"
   ]
  },
  {
   "cell_type": "markdown",
   "id": "1",
   "metadata": {},
   "source": [
    "# Solution\n"
   ]
  },
  {
   "cell_type": "code",
   "execution_count": null,
   "id": "2",
   "metadata": {},
   "outputs": [],
   "source": []
  }
 ],
 "metadata": {},
 "nbformat": 4,
 "nbformat_minor": 5
}
