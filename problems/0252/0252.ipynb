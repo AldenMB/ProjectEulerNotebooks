{
 "cells": [
  {
   "cell_type": "markdown",
   "id": "0",
   "metadata": {},
   "source": [
    "# <a href=\"https://projecteuler.net/problem=252\">Convex Holes</a>\n",
    "\n",
    "## Problem 252\n",
    "\n",
    "<p>\n",
    "Given a set of points on a plane, we define a convex hole to be a convex polygon having as vertices any of the given points and not containing any of the given points in its interior (in addition to the vertices, other given points may lie on the perimeter of the polygon). \n",
    "</p>\n",
    "<p>\n",
    "As an example, the image below shows a set of twenty points and a few such convex holes. \n",
    "The convex hole shown as a red heptagon has an area equal to 1049694.5 square units, which is the highest possible area for a convex hole on the given set of points.\n",
    "</p>\n",
    "<div style=\"text-align: center !important\">\n",
    "<img src=\"p252_convexhole.gif\" class=\"dark_img\" alt=\"\" /></div>\n",
    "<p>\n",
    "</p><p>For our example, we used the first 20 points (<var>T</var><sub>2<var>k</var>−1</sub>, <var>T</var><sub>2<var>k</var></sub>), for <var>k</var> = 1,2,…,20, produced with the pseudo-random number generator:</p>\n",
    "\n",
    "<center><table class=\"p252\"><tr><td style=\"text-align:right;\"><var>S</var><sub>0</sub></td>\n",
    "    <td>=<sub> </sub></td>\n",
    "    <td>290797<sub> </sub></td>\n",
    "  </tr><tr><td><var>S</var><sub><var>n</var>+1</sub></td>\n",
    "    <td>=<sub> </sub></td>\n",
    "    <td><var>S</var><sub><var>n</var></sub><sup>2</sup> mod 50515093</td>\n",
    "  </tr><tr><td style=\"text-align:right;\"><var>T</var><sub><var>n</var></sub></td>\n",
    "    <td>=<sub> </sub></td>\n",
    "    <td>( <var>S</var><sub><var>n</var></sub> mod 2000 ) − 1000<sup> </sup></td>\n",
    "  </tr></table></center>\n",
    "\n",
    "<p>\n",
    "<i>i.e.</i> (527, 144), (−488, 732), (−454, −947), …\n",
    "</p>\n",
    "<p>\n",
    "What is the maximum area for a convex hole on the set containing the first 500 points in the pseudo-random sequence?<br /> Specify your answer including one digit after the decimal point.\n",
    "</p>\n",
    "\n",
    "\n",
    "\n",
    "\n",
    "\n"
   ]
  },
  {
   "cell_type": "markdown",
   "id": "1",
   "metadata": {},
   "source": [
    "# Solution\n"
   ]
  },
  {
   "cell_type": "code",
   "execution_count": null,
   "id": "2",
   "metadata": {},
   "outputs": [],
   "source": []
  }
 ],
 "metadata": {},
 "nbformat": 4,
 "nbformat_minor": 5
}
