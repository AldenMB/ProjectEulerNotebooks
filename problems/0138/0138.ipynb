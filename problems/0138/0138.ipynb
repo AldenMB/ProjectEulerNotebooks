{
 "cells": [
  {
   "cell_type": "markdown",
   "id": "0",
   "metadata": {},
   "source": [
    "# <a href=\"https://projecteuler.net/problem=138\">Special isosceles triangles</a>\n",
    "\n",
    "## Problem 138\n",
    "\n",
    "<p>Consider the isosceles triangle with base length, $b = 16$, and legs, $L = 17$.</p>\n",
    "<div style=\"text-align: center !important\">\n",
    "<img src=\"p138.png\" width=\"230\" height=\"228\" class=\"dark_img\" alt=\"\" /></div>\n",
    "<p>By using the Pythagorean theorem it can be seen that the height of the triangle, $h = \\sqrt{17^2 - 8^2} = 15$, which is one less than the base length.</p>\n",
    "<p>With $b = 272$ and $L = 305$, we get $h = 273$, which is one more than the base length, and this is the second smallest isosceles triangle with the property that $h = b \\pm 1$.</p>\n",
    "<p>Find $\\sum L$ for the twelve smallest isosceles triangles for which $h = b \\pm 1$ and $b$, $L$ are positive integers.</p>\n",
    "\n"
   ]
  },
  {
   "cell_type": "markdown",
   "id": "1",
   "metadata": {},
   "source": [
    "# Solution\n"
   ]
  },
  {
   "cell_type": "code",
   "execution_count": null,
   "id": "2",
   "metadata": {},
   "outputs": [],
   "source": []
  }
 ],
 "metadata": {},
 "nbformat": 4,
 "nbformat_minor": 5
}
