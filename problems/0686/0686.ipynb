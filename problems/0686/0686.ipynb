{
 "cells": [
  {
   "cell_type": "markdown",
   "id": "0",
   "metadata": {},
   "source": [
    "# <a href=\"https://projecteuler.net/problem=686\">Powers of Two</a>\n",
    "\n",
    "## Problem 686\n",
    "\n",
    "<p>$2^7=128$ is the first power of two whose leading digits are \"12\".<br />\n",
    "The next power of two whose leading digits are \"12\" is $2^{80}$.</p>\n",
    "\n",
    "<p>Define $p(L, n)$ to be the $n$th-smallest value of $j$ such that the base 10 representation of $2^j$ begins with the digits of $L$.<br />\n",
    "So $p(12, 1) = 7$ and $p(12, 2) = 80$.</p>\n",
    "\n",
    "<p>You are also given that $p(123, 45) = 12710$.</p>\n",
    "\n",
    "<p>Find $p(123, 678910)$.</p>\n",
    "\n"
   ]
  },
  {
   "cell_type": "markdown",
   "id": "1",
   "metadata": {},
   "source": [
    "# Solution\n"
   ]
  },
  {
   "cell_type": "code",
   "execution_count": null,
   "id": "2",
   "metadata": {},
   "outputs": [],
   "source": []
  }
 ],
 "metadata": {},
 "nbformat": 4,
 "nbformat_minor": 5
}
