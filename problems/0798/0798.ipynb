{
 "cells": [
  {
   "cell_type": "markdown",
   "id": "0",
   "metadata": {},
   "source": [
    "# <a href=\"https://projecteuler.net/problem=798\">Card Stacking Game</a>\n",
    "\n",
    "## Problem 798\n",
    "\n",
    "<p>\n",
    "Two players play a game with a deck of cards which contains $s$ suits with each suit containing $n$ cards numbered from $1$ to $n$.</p>\n",
    "\n",
    "<p>\n",
    "Before the game starts, a set of cards (which may be empty) is picked from the deck and placed face-up on the table, with no overlap. These are called the visible cards.</p>\n",
    "\n",
    "<p>\n",
    "The players then make moves in turn.<br />\n",
    "A move consists of choosing a card X from the rest of the deck and placing it face-up on top of a visible card Y, subject to the following restrictions:</p>\n",
    "<ul>\n",
    "<li>X and Y must be the same suit;</li>\n",
    "<li>the value of X must be larger than the value of Y.</li>\n",
    "</ul>\n",
    "<p>\n",
    "The card X then covers the card Y and replaces Y as a visible card.<br />\n",
    "The player unable to make a valid move loses and play stops.</p>\n",
    "\n",
    "<p>\n",
    "Let $C(n, s)$ be the number of different initial sets of cards for which the first player will lose given best play for both players.</p>\n",
    "\n",
    "<p>\n",
    "For example, $C(3, 2) = 26$ and $C(13, 4) \\equiv 540318329 \\pmod {1\\,000\\,000\\,007}$.</p>\n",
    "\n",
    "<p>\n",
    "Find $C(10^7, 10^7)$. Give your answer modulo $1\\,000\\,000\\,007$.</p>\n"
   ]
  },
  {
   "cell_type": "markdown",
   "id": "1",
   "metadata": {},
   "source": [
    "# Solution\n"
   ]
  },
  {
   "cell_type": "code",
   "execution_count": null,
   "id": "2",
   "metadata": {},
   "outputs": [],
   "source": []
  }
 ],
 "metadata": {},
 "nbformat": 4,
 "nbformat_minor": 5
}
