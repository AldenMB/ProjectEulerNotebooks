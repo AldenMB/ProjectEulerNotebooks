{
 "cells": [
  {
   "cell_type": "markdown",
   "id": "0",
   "metadata": {},
   "source": [
    "# <a href=\"https://projecteuler.net/problem=379\">Least common multiple count</a>\n",
    "\n",
    "## Problem 379\n",
    "\n",
    "<p>\n",
    "Let <var>f</var>(<var>n</var>) be the number of couples (<var>x</var>,<var>y</var>) with <var>x</var> and <var>y</var> positive integers, <var>x</var> ≤ <var>y</var> and the least common multiple of <var>x</var> and <var>y</var> equal to <var>n</var>.\n",
    "</p>\n",
    "<p>\n",
    "Let <var>g</var> be the <b>summatory function</b> of <var>f</var>, i.e.: \n",
    "<var>g</var>(<var>n</var>) = ∑ <var>f</var>(<var>i</var>)  for 1 ≤ <var>i</var> ≤ <var>n</var>.\n",
    "</p><p>\n",
    "</p><p>\n",
    "You are given that <var>g</var>(10<sup>6</sup>) = 37429395.\n",
    "</p>\n",
    "<p>\n",
    "Find <var>g</var>(10<sup>12</sup>).\n",
    "</p>\n",
    "\n",
    "\n",
    "\n",
    "\n",
    "\n",
    "\n"
   ]
  },
  {
   "cell_type": "markdown",
   "id": "1",
   "metadata": {},
   "source": [
    "# Solution\n"
   ]
  },
  {
   "cell_type": "code",
   "execution_count": null,
   "id": "2",
   "metadata": {},
   "outputs": [],
   "source": []
  }
 ],
 "metadata": {},
 "nbformat": 4,
 "nbformat_minor": 5
}
