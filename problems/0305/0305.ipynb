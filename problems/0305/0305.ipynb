{
 "cells": [
  {
   "cell_type": "markdown",
   "id": "0",
   "metadata": {},
   "source": [
    "# <a href=\"https://projecteuler.net/problem=305\">Reflexive Position</a>\n",
    "\n",
    "## Problem 305\n",
    "\n",
    "<p>\n",
    "Let's call S the (infinite) string that is made by concatenating the consecutive positive integers (starting from 1)  written down in base 10.<br /> \n",
    "Thus, S = 1234567891011121314151617181920212223242...\n",
    "</p>\n",
    "<p>\n",
    "It's easy to see that any number will show up an infinite number of times in S.\n",
    "</p>\n",
    "<p>\n",
    "Let's call f(n) the starting position of the n<sup>th</sup> occurrence of n in S.<br /> \n",
    "For example, f(1)=1, f(5)=81, f(12)=271 and f(7780)=111111365.\n",
    "</p>\n",
    "<p>\n",
    "Find <span style=\"font-size:larger;\"><span style=\"font-size:larger;\">∑</span></span> f(3<sup>k</sup>) for 1≤k≤13.\n",
    "</p>\n",
    "\n"
   ]
  },
  {
   "cell_type": "markdown",
   "id": "1",
   "metadata": {},
   "source": [
    "# Solution\n"
   ]
  },
  {
   "cell_type": "code",
   "execution_count": null,
   "id": "2",
   "metadata": {},
   "outputs": [],
   "source": []
  }
 ],
 "metadata": {},
 "nbformat": 4,
 "nbformat_minor": 5
}
