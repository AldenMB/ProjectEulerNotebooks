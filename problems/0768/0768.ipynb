{
 "cells": [
  {
   "cell_type": "markdown",
   "id": "0",
   "metadata": {},
   "source": [
    "# <a href=\"https://projecteuler.net/problem=768\">Chandelier</a>\n",
    "\n",
    "## Problem 768\n",
    "\n",
    "<p>A certain type of chandelier contains a circular ring of $n$ evenly spaced candleholders.<br />\n",
    "If only one candle is fitted, then the chandelier will be imbalanced. However, if a second identical candle is placed in the opposite candleholder (assuming $n$ is even) then perfect balance will be achieved and the chandelier will hang level.</p>\n",
    "\n",
    "<p>Let $f(n,m)$ be the number of ways of arranging $m$ identical candles in distinct sockets of a chandelier with $n$ candleholders such that the chandelier is perfectly balanced.</p>\n",
    "\n",
    "<p>For example, $f(4, 2) = 2$: assuming the chandelier's four candleholders are aligned with the compass points, the two valid arrangements are \"North &amp; South\" and \"East &amp; West\". Note that these are considered to be different arrangements even though they are related by rotation.</p>\n",
    "\n",
    "<p>You are given that $f(12,4) = 15$ and $f(36, 6) = 876$.</p>\n",
    "\n",
    "<p>Find $f(360, 20)$.</p>\n"
   ]
  },
  {
   "cell_type": "markdown",
   "id": "1",
   "metadata": {},
   "source": [
    "# Solution\n"
   ]
  },
  {
   "cell_type": "code",
   "execution_count": null,
   "id": "2",
   "metadata": {},
   "outputs": [],
   "source": []
  }
 ],
 "metadata": {},
 "nbformat": 4,
 "nbformat_minor": 5
}
