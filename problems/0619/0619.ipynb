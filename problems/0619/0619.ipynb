{
 "cells": [
  {
   "cell_type": "markdown",
   "id": "0",
   "metadata": {},
   "source": [
    "# <a href=\"https://projecteuler.net/problem=619\">Square subsets</a>\n",
    "\n",
    "## Problem 619\n",
    "\n",
    "<p>For a set of positive integers $\\{a, a+1, a+2, \\dots , b\\}$, let $C(a,b)$ be the number of non-empty subsets in which the product of all elements is a perfect square.</p>\n",
    "<p>For example $C(5,10)=3$, since the products of all elements of $\\{5, 8, 10\\}$, $\\{5, 8, 9, 10\\}$ and $\\{9\\}$ are perfect squares, and no other subsets of $\\{5, 6, 7, 8, 9, 10\\}$ have this property.</p>\n",
    "<p>You are given that $C(40,55) =15$, and $C(1000,1234) \\text{ mod } 1000000007=975523611$.</p>\n",
    "\n",
    "<p>Find $C(1000000,1234567) \\text{ mod } 1000000007$.</p>\n",
    "\n"
   ]
  },
  {
   "cell_type": "markdown",
   "id": "1",
   "metadata": {},
   "source": [
    "# Solution\n"
   ]
  },
  {
   "cell_type": "code",
   "execution_count": null,
   "id": "2",
   "metadata": {},
   "outputs": [],
   "source": []
  }
 ],
 "metadata": {},
 "nbformat": 4,
 "nbformat_minor": 5
}
