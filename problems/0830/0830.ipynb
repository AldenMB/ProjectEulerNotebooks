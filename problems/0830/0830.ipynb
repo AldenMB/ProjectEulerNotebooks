{
 "cells": [
  {
   "cell_type": "markdown",
   "id": "0",
   "metadata": {},
   "source": [
    "# <a href=\"http://projecteuler.net/problem=830\">Binomials and Powers</a>\n",
    "\n",
    "## Problem 830\n",
    "\n",
    "<p>\n",
    "Let $\\displaystyle S(n)=\\sum\\limits_{k=0}^{n}\\binom{n}{k}k^n$.</p>\n",
    "\n",
    "<p>\n",
    "You are given, $S(10)=142469423360$.</p>\n",
    "\n",
    "<p>\n",
    "Find $S(10^{18})$. Submit your answer modulo $83^3 89^3 97^3$.</p>\n",
    "\n"
   ]
  },
  {
   "cell_type": "markdown",
   "id": "1",
   "metadata": {},
   "source": [
    "# Solution\n"
   ]
  },
  {
   "cell_type": "code",
   "execution_count": null,
   "id": "2",
   "metadata": {},
   "outputs": [],
   "source": []
  }
 ],
 "metadata": {},
 "nbformat": 4,
 "nbformat_minor": 5
}
