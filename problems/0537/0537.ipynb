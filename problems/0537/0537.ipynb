{
 "cells": [
  {
   "cell_type": "markdown",
   "id": "0",
   "metadata": {},
   "source": [
    "# <a href=\"https://projecteuler.net/problem=537\">Counting tuples</a>\n",
    "\n",
    "## Problem 537\n",
    "\n",
    "<p>\n",
    "Let <var>π</var>(<var>x</var>) be the prime counting function, i.e. the number of prime numbers less than or equal to <var>x</var>.<br />\n",
    "For example, <var>π</var>(1)=0, <var>π</var>(2)=1, <var>π</var>(100)=25.\n",
    "</p>\n",
    "<p>\n",
    "Let <var>T</var>(<var>n</var>,<var>k</var>) be the number of <var>k</var>-tuples (<var>x</var><sub>1</sub>,…,<var>x<sub>k</sub></var>) which satisfy:<br />\n",
    "1. every <var>x<sub>i</sub></var> is a positive integer;<br />\n",
    "2. $\\displaystyle \\sum_{i=1}^k \\pi(x_i)=n$\n",
    "</p>\n",
    "<p>\n",
    "For example <var>T</var>(3,3)=19.<br />\n",
    "The 19 tuples are (1,1,5), (1,5,1), (5,1,1), (1,1,6), (1,6,1), (6,1,1), (1,2,3), (1,3,2), (2,1,3), (2,3,1), (3,1,2), (3,2,1), (1,2,4), (1,4,2), (2,1,4), (2,4,1), (4,1,2), (4,2,1), (2,2,2).\n",
    "</p>\n",
    "<p>\n",
    "You are given <var>T</var>(10,10) = 869 985 and <var>T</var>(10<sup>3</sup>,10<sup>3</sup>) ≡ 578 270 566 (mod 1 004 535 809).\n",
    "</p><p>\n",
    "Find <var>T</var>(20 000, 20 000) mod 1 004 535 809.\n",
    "</p>\n",
    "\n",
    "\n",
    "\n"
   ]
  },
  {
   "cell_type": "markdown",
   "id": "1",
   "metadata": {},
   "source": [
    "# Solution\n"
   ]
  },
  {
   "cell_type": "code",
   "execution_count": null,
   "id": "2",
   "metadata": {},
   "outputs": [],
   "source": []
  }
 ],
 "metadata": {},
 "nbformat": 4,
 "nbformat_minor": 5
}
