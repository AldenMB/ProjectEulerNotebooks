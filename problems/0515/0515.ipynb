{
 "cells": [
  {
   "cell_type": "markdown",
   "id": "0",
   "metadata": {},
   "source": [
    "# <a href=\"https://projecteuler.net/problem=515\">Dissonant Numbers</a>\n",
    "\n",
    "## Problem 515\n",
    "\n",
    "<p>Let <var>d</var>(<var>p</var>,<var>n</var>,0) be the multiplicative inverse of <var>n</var> modulo prime <var>p</var>, defined as <var>n</var> × <var>d</var>(<var>p</var>,<var>n</var>,0) = 1 mod <var>p</var>.<br />\n",
    "Let <var>d</var>(<var>p</var>,<var>n</var>,<var>k</var>) = $\\sum_{i=1}^n$<var>d</var>(<var>p</var>,<var>i</var>,<var>k</var>−1) for <var>k</var> ≥ 1.<br />\n",
    "Let <var>D</var>(<var>a</var>,<var>b</var>,<var>k</var>) = $\\sum$(<var>d</var>(<var>p</var>,<var>p</var>-1,<var>k</var>) mod <var>p</var>) for all primes <var>a</var> ≤ <var>p</var> &lt; <var>a</var> + <var>b</var>.</p>\n",
    "<p>You are given:</p>\n",
    "<ul><li><var>D</var>(101,1,10) = 45</li>\n",
    "<li><var>D</var>(10<sup>3</sup>,10<sup>2</sup>,10<sup>2</sup>) = 8334</li>\n",
    "<li><var>D</var>(10<sup>6</sup>,10<sup>3</sup>,10<sup>3</sup>) = 38162302</li></ul><p>Find <var>D</var>(10<sup>9</sup>,10<sup>5</sup>,10<sup>5</sup>).</p>\n"
   ]
  },
  {
   "cell_type": "markdown",
   "id": "1",
   "metadata": {},
   "source": [
    "# Solution\n"
   ]
  },
  {
   "cell_type": "code",
   "execution_count": null,
   "id": "2",
   "metadata": {},
   "outputs": [],
   "source": []
  }
 ],
 "metadata": {},
 "nbformat": 4,
 "nbformat_minor": 5
}
