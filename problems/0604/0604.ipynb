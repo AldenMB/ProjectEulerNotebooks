{
 "cells": [
  {
   "cell_type": "markdown",
   "id": "0",
   "metadata": {},
   "source": [
    "# <a href=\"https://projecteuler.net/problem=604\">Convex path in square</a>\n",
    "\n",
    "## Problem 604\n",
    "\n",
    "<p>\n",
    "Let $F(N)$ be the maximum number of lattice points in an axis-aligned $N\\times N$ square that the graph of a single <b>strictly convex</b> increasing function can pass through.\n",
    "</p>\n",
    "<p>\n",
    "You are given that $F(1) = 2$, $F(3) = 3$,  $F(9) = 6$, $F(11) = 7$, $F(100) = 30$ and $F(50000) = 1898$.<br /> \n",
    "Below is the graph of a function reaching the maximum 3 for $N=3$:\n",
    "</p>\n",
    "<div style=\"text-align: center !important\">\n",
    "<img src=\"p604_convex3.png\" alt=\"p604_convex3.png\" /></div>\n",
    "<p>\n",
    "Find $F(10^{18})$.\n",
    "</p>\n",
    "\n"
   ]
  },
  {
   "cell_type": "markdown",
   "id": "1",
   "metadata": {},
   "source": [
    "# Solution\n"
   ]
  },
  {
   "cell_type": "code",
   "execution_count": null,
   "id": "2",
   "metadata": {},
   "outputs": [],
   "source": []
  }
 ],
 "metadata": {},
 "nbformat": 4,
 "nbformat_minor": 5
}
