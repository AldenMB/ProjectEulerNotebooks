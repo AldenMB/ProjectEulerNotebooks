{
 "cells": [
  {
   "cell_type": "markdown",
   "id": "0",
   "metadata": {},
   "source": [
    "# <a href=\"https://projecteuler.net/problem=496\">Incenter and circumcenter of triangle</a>\n",
    "\n",
    "## Problem 496\n",
    "\n",
    "<p>Given an integer sided triangle ABC:<br />\n",
    "Let I be the incenter of ABC.<br />\n",
    "Let D be the intersection between the line AI and the circumcircle of ABC (A ≠ D).</p>\n",
    "\n",
    "<p>We define F(<var>L</var>) as the sum of BC for the triangles ABC that satisfy AC = DI and BC ≤ <var>L</var>.</p>\n",
    "\n",
    "<p>For example, F(15) = 45 because the triangles ABC with (BC,AC,AB) = (6,4,5), (12,8,10), (12,9,7), (15,9,16) satisfy the conditions.</p>\n",
    "\n",
    "<p>Find F(10<sup>9</sup>).</p>\n"
   ]
  },
  {
   "cell_type": "markdown",
   "id": "1",
   "metadata": {},
   "source": [
    "# Solution\n"
   ]
  },
  {
   "cell_type": "code",
   "execution_count": null,
   "id": "2",
   "metadata": {},
   "outputs": [],
   "source": []
  }
 ],
 "metadata": {},
 "nbformat": 4,
 "nbformat_minor": 5
}
