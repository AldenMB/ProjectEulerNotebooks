{
 "cells": [
  {
   "cell_type": "markdown",
   "id": "0",
   "metadata": {},
   "source": [
    "# <a href=\"https://projecteuler.net/problem=181\">Investigating in how many ways objects of two different colours can be grouped</a>\n",
    "\n",
    "## Problem 181\n",
    "\n",
    "<p>Having three black objects B and one white object W they can be grouped in 7 ways like this:</p>\n",
    "<table cellpadding=\"10\" align=\"center\"><tr><td>(BBBW)</td><td>(B,BBW)</td><td>(B,B,BW)</td><td>(B,B,B,W)</td>\n",
    "<td>(B,BB,W)</td><td>(BBB,W)</td><td>(BB,BW)</td>\n",
    "</tr></table><p>In how many ways can sixty black objects B and forty white objects W be  thus grouped?</p>\n"
   ]
  },
  {
   "cell_type": "markdown",
   "id": "1",
   "metadata": {},
   "source": [
    "# Solution\n"
   ]
  },
  {
   "cell_type": "code",
   "execution_count": null,
   "id": "2",
   "metadata": {},
   "outputs": [],
   "source": []
  }
 ],
 "metadata": {},
 "nbformat": 4,
 "nbformat_minor": 5
}
