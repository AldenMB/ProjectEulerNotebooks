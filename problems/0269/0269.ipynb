{
 "cells": [
  {
   "cell_type": "markdown",
   "id": "0",
   "metadata": {},
   "source": [
    "# <a href=\"https://projecteuler.net/problem=269\">Polynomials with at least one integer root</a>\n",
    "\n",
    "## Problem 269\n",
    "\n",
    "<p>A root or zero of a polynomial P(<var>x</var>) is a solution to the equation P(<var>x</var>) = 0. <br />\n",
    "Define P<sub><var>n</var></sub> as the polynomial whose coefficients are the digits of <var>n</var>.<br />\n",
    "For example, P<sub>5703</sub>(<var>x</var>) = 5<var>x</var><sup>3</sup> + 7<var>x</var><sup>2</sup> + 3.</p>\n",
    "\n",
    "<p>We can see that:</p><ul><li>P<sub><var>n</var></sub>(0) is the last digit of <var>n</var>,</li>\n",
    "<li>P<sub><var>n</var></sub>(1) is the sum of the digits of <var>n</var>,</li>\n",
    "<li>P<sub><var>n</var></sub>(10) is <var>n</var> itself.</li></ul><p>Define Z(<var>k</var>) as the number of positive integers, <var>n</var>, not exceeding <var>k</var> for which the polynomial P<sub><var>n</var></sub> has at least one integer root.</p>\n",
    "\n",
    "<p>It can be verified that Z(100 000) is 14696.</p>\n",
    "\n",
    "<p>What is Z(10<sup>16</sup>)?</p>\n",
    "\n"
   ]
  },
  {
   "cell_type": "markdown",
   "id": "1",
   "metadata": {},
   "source": [
    "# Solution\n"
   ]
  },
  {
   "cell_type": "code",
   "execution_count": null,
   "id": "2",
   "metadata": {},
   "outputs": [],
   "source": []
  }
 ],
 "metadata": {},
 "nbformat": 4,
 "nbformat_minor": 5
}
