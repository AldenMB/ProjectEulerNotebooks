{
 "cells": [
  {
   "cell_type": "markdown",
   "id": "0",
   "metadata": {},
   "source": [
    "# <a href=\"https://projecteuler.net/problem=784\">Reciprocal Pairs</a>\n",
    "\n",
    "## Problem 784\n",
    "\n",
    "<p>\n",
    "Let's call a pair of positive integers $p$, $q$ ($p \\lt q$) <i>reciprocal</i>, if there is a positive integer $r\\lt p$ such that $r$ equals both the inverse of $p$ modulo $q$ and the inverse of $q$ modulo $p$.</p>\n",
    "\n",
    "<p>\n",
    "For example, $(3,5)$ is one reciprocal pair for $r=2$.<br />\n",
    "Let $F(N)$ be the total sum of $p+q$ for all reciprocal pairs $(p,q)$ where $p \\le N$.</p>\n",
    "\n",
    "<p>\n",
    "$F(5)=59$ due to these four reciprocal pairs $(3,5)$, $(4,11)$, $(5,7)$ and $(5,19)$.<br />\n",
    "You are also given $F(10^2) = 697317$.</p>\n",
    "\n",
    "<p>\n",
    "Find $F(2\\cdot 10^6)$.</p>\n"
   ]
  },
  {
   "cell_type": "markdown",
   "id": "1",
   "metadata": {},
   "source": [
    "# Solution\n"
   ]
  },
  {
   "cell_type": "code",
   "execution_count": null,
   "id": "2",
   "metadata": {},
   "outputs": [],
   "source": []
  }
 ],
 "metadata": {},
 "nbformat": 4,
 "nbformat_minor": 5
}
