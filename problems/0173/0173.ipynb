{
 "cells": [
  {
   "cell_type": "markdown",
   "id": "0",
   "metadata": {},
   "source": [
    "# <a href=\"https://projecteuler.net/problem=173\">Using up to one million tiles how many different \"hollow\" square laminae can be formed?</a>\n",
    "\n",
    "## Problem 173\n",
    "\n",
    "<p>We shall define a square lamina to be a square outline with a square \"hole\" so that the shape possesses vertical and horizontal symmetry. For example, using exactly thirty-two square tiles we can form two different square laminae:</p>\n",
    "<div style=\"text-align: center !important\">\n",
    "<img src=\"p173_square_laminas.gif\" alt=\"\" /></div>\n",
    "<p>With one-hundred tiles, and not necessarily using all of the tiles at one time, it is possible to form forty-one different square laminae.</p>\n",
    "<p>Using up to one million tiles how many different square laminae can be formed?</p>\n"
   ]
  },
  {
   "cell_type": "markdown",
   "id": "1",
   "metadata": {},
   "source": [
    "# Solution\n"
   ]
  },
  {
   "cell_type": "code",
   "execution_count": null,
   "id": "2",
   "metadata": {},
   "outputs": [],
   "source": []
  }
 ],
 "metadata": {},
 "nbformat": 4,
 "nbformat_minor": 5
}
