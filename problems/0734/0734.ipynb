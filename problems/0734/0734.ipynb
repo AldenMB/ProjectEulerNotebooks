{
 "cells": [
  {
   "cell_type": "markdown",
   "id": "0",
   "metadata": {},
   "source": [
    "# <a href=\"https://projecteuler.net/problem=734\">A bit of prime</a>\n",
    "\n",
    "## Problem 734\n",
    "\n",
    "<p>\n",
    "The <i>logical-OR</i> of two bits is 0 if both bits are 0, otherwise it is 1.<br />\n",
    "The <i>bitwise-OR</i> of two positive integers performs a <i>logical OR</i> operation on each pair of corresponding bits in the binary expansion of its inputs.\n",
    "</p>\n",
    "<p>\n",
    "For example, the bitwise-OR of $10$ and $6$ is $14$ because $10 = 1010_2$, $6 = 0110_2$ and $14 = 1110_2$.\n",
    "</p>\n",
    "<p>\n",
    "Let $T(n, k)$ be the number of $k$-tuples $(x_1, x_2,\\cdots,x_k)$ such that\n",
    "</p>\n",
    "<ul><li>every $x_i$ is a prime $\\leq n$</li>\n",
    "<li>the bitwise-OR of the tuple is a prime $\\leq n$</li>\n",
    "</ul><p>\n",
    "For example, $T(5, 2)=5$. The five 2-tuples are (2, 2), (2, 3), (3, 2), (3, 3) and (5, 5).\n",
    "</p><p>\n",
    "You are given $T(100, 3) = 3355$ and $T(1000, 10) \\equiv 2071632 \\pmod{1\\,000\\,000\\,007}$\n",
    "</p>\n",
    "<p>\n",
    "Find $T(10^6,999983)$. Give your answer modulo $1\\,000\\,000\\,007$\n",
    "</p>\n"
   ]
  },
  {
   "cell_type": "markdown",
   "id": "1",
   "metadata": {},
   "source": [
    "# Solution\n"
   ]
  },
  {
   "cell_type": "code",
   "execution_count": null,
   "id": "2",
   "metadata": {},
   "outputs": [],
   "source": []
  }
 ],
 "metadata": {},
 "nbformat": 4,
 "nbformat_minor": 5
}
