{
 "cells": [
  {
   "cell_type": "markdown",
   "id": "0",
   "metadata": {},
   "source": [
    "# <a href=\"https://projecteuler.net/problem=102\">Triangle containment</a>\n",
    "\n",
    "## Problem 102\n",
    "\n",
    "<p>Three distinct points are plotted at random on a Cartesian plane, for which -1000 ≤ <i>x</i>, <i>y</i> ≤ 1000, such that a triangle is formed.</p>\n",
    "<p>Consider the following two triangles:</p>\n",
    "<p style=\"text-align: center !important\">A(-340,495), B(-153,-910), C(835,-947)<br /><br />\n",
    "X(-175,41), Y(-421,-714), Z(574,-645)</p>\n",
    "<p>It can be verified that triangle ABC contains the origin, whereas triangle XYZ does not.</p>\n",
    "<p>Using <a href=\"triangles.txt\">triangles.txt</a> (right click and 'Save Link/Target As...'), a 27K text file containing the co-ordinates of one thousand \"random\" triangles, find the number of triangles for which the interior contains the origin.</p>\n",
    "<p class=\"smaller\">NOTE: The first two examples in the file represent the triangles in the example given above.</p>\n",
    "\n"
   ]
  },
  {
   "cell_type": "markdown",
   "id": "1",
   "metadata": {},
   "source": [
    "# Solution\n"
   ]
  },
  {
   "cell_type": "code",
   "execution_count": null,
   "id": "2",
   "metadata": {},
   "outputs": [],
   "source": []
  }
 ],
 "metadata": {},
 "nbformat": 4,
 "nbformat_minor": 5
}
