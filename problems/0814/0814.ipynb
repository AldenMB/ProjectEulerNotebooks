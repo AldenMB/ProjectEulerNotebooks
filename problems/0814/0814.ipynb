{
 "cells": [
  {
   "cell_type": "markdown",
   "id": "0",
   "metadata": {},
   "source": [
    "# <a href=\"http://projecteuler.net/problem=814\">Mezzo-forte</a>\n",
    "\n",
    "## Problem 814\n",
    "\n",
    "<p>\n",
    "$4n$ people stand in a circle with their heads down. When the bell rings they all raise their heads and either look at the person immediately to their left, the person immediately to their right or the person diametrically opposite. If two people find themselves looking at each other they both scream.</p>\n",
    "\n",
    "<p>\n",
    "Define $S(n)$ to be the number of ways that exactly half of the people scream. You are given $S(1) =  48$ and $S(10) \\equiv 420121075 \\mod{998244353}$.</p>\n",
    "\n",
    "<p>\n",
    "Find $S(10^3)$. Enter your answer modulo $998244353$.</p>\n",
    "\n"
   ]
  },
  {
   "cell_type": "markdown",
   "id": "1",
   "metadata": {},
   "source": [
    "# Solution\n"
   ]
  },
  {
   "cell_type": "code",
   "execution_count": null,
   "id": "2",
   "metadata": {},
   "outputs": [],
   "source": []
  }
 ],
 "metadata": {},
 "nbformat": 4,
 "nbformat_minor": 5
}
