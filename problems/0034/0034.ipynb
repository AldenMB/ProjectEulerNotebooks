{
 "cells": [
  {
   "cell_type": "markdown",
   "id": "0",
   "metadata": {},
   "source": [
    "# <a href=\"https://projecteuler.net/problem=34\">Digit factorials</a>\n",
    "\n",
    "## Problem 34\n",
    "\n",
    "<p>145 is a curious number, as 1! + 4! + 5! = 1 + 24 + 120 = 145.</p>\n",
    "<p>Find the sum of all numbers which are equal to the sum of the factorial of their digits.</p>\n",
    "<p class=\"smaller\">Note: As 1! = 1 and 2! = 2 are not sums they are not included.</p>\n",
    "\n"
   ]
  },
  {
   "cell_type": "markdown",
   "id": "1",
   "metadata": {},
   "source": [
    "# Solution\n"
   ]
  },
  {
   "cell_type": "code",
   "execution_count": null,
   "id": "2",
   "metadata": {},
   "outputs": [],
   "source": []
  }
 ],
 "metadata": {},
 "nbformat": 4,
 "nbformat_minor": 5
}
