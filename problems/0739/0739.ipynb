{
 "cells": [
  {
   "cell_type": "markdown",
   "id": "0",
   "metadata": {},
   "source": [
    "# <a href=\"https://projecteuler.net/problem=739\">Summation of Summations</a>\n",
    "\n",
    "## Problem 739\n",
    "\n",
    "<p>\n",
    "Take a sequence of length $n$. Discard the first term then make a sequence of the partial summations. Continue to do this over and over until we are left with a single term. We define this to be $f(n)$.\n",
    "</p>\n",
    "<p>\n",
    "Consider the example where we start with a sequence of length 8:\n",
    "</p>\n",
    "<p style=\"text-align:center;\">\n",
    "$\n",
    "\\begin{array}{rrrrrrrr}\n",
    "1&amp;1&amp;1&amp;1&amp;1&amp;1&amp;1&amp;1\\\\\n",
    " &amp;1&amp;2&amp;3&amp;4&amp;5&amp; 6 &amp;7\\\\\n",
    " &amp; &amp;2&amp;5&amp;9&amp;14&amp;20&amp;27\\\\\n",
    " &amp; &amp; &amp;5&amp;14&amp;28&amp;48&amp;75\\\\\n",
    " &amp; &amp; &amp; &amp;14&amp;42&amp;90&amp;165\\\\\n",
    " &amp; &amp; &amp; &amp; &amp; 42 &amp; 132 &amp; 297\\\\\n",
    " &amp; &amp; &amp; &amp; &amp; &amp; 132 &amp;429\\\\\n",
    " &amp; &amp; &amp; &amp; &amp; &amp; &amp;429\\\\\n",
    "\\end{array}\n",
    "$\n",
    "</p>\n",
    "<p>\n",
    "Then the final number is $429$, so $f(8) = 429$.\n",
    "</p>\n",
    "<p>\n",
    "For this problem we start with the sequence $1,3,4,7,11,18,29,47,\\ldots$<br />\n",
    "This is the Lucas sequence where two terms are added to get the next term.<br /> \n",
    "Applying the same process as above we get $f(8) = 2663$.<br />\n",
    "You are also given $f(20) = 742296999 $ modulo $1\\,000\\,000\\,007$\n",
    "</p>\n",
    "<p>\n",
    "Find $f(10^8)$. Give your answer modulo $1\\,000\\,000\\,007$.\n",
    "</p>\n"
   ]
  },
  {
   "cell_type": "markdown",
   "id": "1",
   "metadata": {},
   "source": [
    "# Solution\n"
   ]
  },
  {
   "cell_type": "code",
   "execution_count": null,
   "id": "2",
   "metadata": {},
   "outputs": [],
   "source": []
  }
 ],
 "metadata": {},
 "nbformat": 4,
 "nbformat_minor": 5
}
