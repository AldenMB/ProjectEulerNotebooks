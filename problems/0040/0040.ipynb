{
 "cells": [
  {
   "cell_type": "markdown",
   "id": "0",
   "metadata": {},
   "source": [
    "# <a href=\"https://projecteuler.net/problem=40\">Champernowne's constant</a>\n",
    "\n",
    "## Problem 40\n",
    "\n",
    "<p>An irrational decimal fraction is created by concatenating the positive integers:</p>\n",
    "<p style=\"text-align: center !important\">0.12345678910<span class=\"red strong\">1</span>112131415161718192021...</p>\n",
    "<p>It can be seen that the 12<sup>th</sup> digit of the fractional part is 1.</p>\n",
    "<p>If <i>d</i><sub><i>n</i></sub> represents the <i>n</i><sup>th</sup> digit of the fractional part, find the value of the following expression.</p>\n",
    "<p style=\"text-align: center !important\"><i>d</i><sub>1</sub> × <i>d</i><sub>10</sub> × <i>d</i><sub>100</sub> × <i>d</i><sub>1000</sub> × <i>d</i><sub>10000</sub> × <i>d</i><sub>100000</sub> × <i>d</i><sub>1000000</sub></p>\n",
    "\n"
   ]
  },
  {
   "cell_type": "markdown",
   "id": "1",
   "metadata": {},
   "source": [
    "# Solution\n"
   ]
  },
  {
   "cell_type": "code",
   "execution_count": null,
   "id": "2",
   "metadata": {},
   "outputs": [],
   "source": []
  }
 ],
 "metadata": {},
 "nbformat": 4,
 "nbformat_minor": 5
}
