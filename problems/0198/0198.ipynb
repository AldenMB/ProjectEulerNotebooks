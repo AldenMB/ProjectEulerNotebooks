{
 "cells": [
  {
   "cell_type": "markdown",
   "id": "0",
   "metadata": {},
   "source": [
    "# <a href=\"https://projecteuler.net/problem=198\">Ambiguous Numbers</a>\n",
    "\n",
    "## Problem 198\n",
    "\n",
    "<p>A best approximation to a real number $x$ for the denominator bound $d$ is a rational number $\\frac r s$ (in reduced form) with $s \\le d$, so that any rational number $\\frac p q$ which is closer to $x$ than $\\frac r s$ has $q &gt; d$.</p>\n",
    "\n",
    "<p>Usually the best approximation to a real number is uniquely determined for all denominator bounds. However, there are some exceptions, e.g. $\\frac 9 {40}$ has the two best approximations $\\frac 1 4$ and $\\frac 1 5$ for the denominator bound $6$.\n",
    "We shall call a real number $x$ <i>ambiguous</i>, if there is at least one denominator bound for which $x$ possesses two best approximations. Clearly, an ambiguous number is necessarily rational.</p>\n",
    "\n",
    "<p>How many ambiguous numbers $x=\\frac p q, 0 &lt; x &lt; \\frac 1 {100}$, are there whose denominator $q$ does not exceed $10^8$?</p>\n"
   ]
  },
  {
   "cell_type": "markdown",
   "id": "1",
   "metadata": {},
   "source": [
    "# Solution\n"
   ]
  },
  {
   "cell_type": "code",
   "execution_count": null,
   "id": "2",
   "metadata": {},
   "outputs": [],
   "source": []
  }
 ],
 "metadata": {},
 "nbformat": 4,
 "nbformat_minor": 5
}
