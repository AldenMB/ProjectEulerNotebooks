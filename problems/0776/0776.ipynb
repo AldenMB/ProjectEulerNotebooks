{
 "cells": [
  {
   "cell_type": "markdown",
   "id": "0",
   "metadata": {},
   "source": [
    "# <a href=\"https://projecteuler.net/problem=776\">Digit Sum Division</a>\n",
    "\n",
    "## Problem 776\n",
    "\n",
    "<p>\n",
    "For a positive integer $n$, $d(n)$ is defined to be the sum of the digits of $n$. For example, $d(12345)=15$.\n",
    "</p>\n",
    "<p>\n",
    "Let $\\displaystyle F(N)=\\sum_{n=1}^N \\frac n{d(n)}$. \n",
    "</p>\n",
    "<p>\n",
    "You are given $F(10)=19$, $F(123)\\approx 1.187764610390e3$ and $F(12345)\\approx 4.855801996238e6$.\n",
    "</p>\n",
    "<p>\n",
    "Find $F(1234567890123456789)$. Write your answer in scientific notation rounded to twelve significant digits after the decimal point. Use a lowercase e to separate the mantissa and the exponent.\n",
    "</p>\n"
   ]
  },
  {
   "cell_type": "markdown",
   "id": "1",
   "metadata": {},
   "source": [
    "# Solution\n"
   ]
  },
  {
   "cell_type": "code",
   "execution_count": null,
   "id": "2",
   "metadata": {},
   "outputs": [],
   "source": []
  }
 ],
 "metadata": {},
 "nbformat": 4,
 "nbformat_minor": 5
}
