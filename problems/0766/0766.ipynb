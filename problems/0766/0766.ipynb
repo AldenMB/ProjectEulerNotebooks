{
 "cells": [
  {
   "cell_type": "markdown",
   "id": "0",
   "metadata": {},
   "source": [
    "# <a href=\"https://projecteuler.net/problem=766\">Sliding Block Puzzle</a>\n",
    "\n",
    "## Problem 766\n",
    "\n",
    "<p>A <b>sliding block puzzle</b> is a puzzle where pieces are confined to a grid and by sliding the pieces a final configuration is reached. In this problem the pieces can only be slid in multiples of one unit in the directions up, down, left, right. </p>\n",
    "\n",
    "<p>A <i>reachable configuration</i> is any arrangement of the pieces that can be achieved by sliding the pieces from the initial configuration.</p>\n",
    "\n",
    "<p>Two configurations are identical if the same shape pieces occupy the same position in the grid. So in the case below the red squares are indistinguishable. For this example the number of reachable configurations is 208.</p>\n",
    "<div style=\"text-align:center;\">\n",
    "<img src=\"p766_SlidingBlock1.jpg\" style=\"height:130px;\" class=\"dark_img\" alt=\"\" /></div>\n",
    "\n",
    "\n",
    "<p>Find the number of reachable configurations for the puzzle below. Note that the red L-shaped pieces are considered different from the green L-shaped pieces.\n",
    "\n",
    "\n",
    "</p><div style=\"text-align:center;\">\n",
    "<img src=\"p766_SlidingBlock2.jpg\" style=\"height:216px;\" class=\"dark_img\" alt=\"\" /></div>\n",
    "\n"
   ]
  },
  {
   "cell_type": "markdown",
   "id": "1",
   "metadata": {},
   "source": [
    "# Solution\n"
   ]
  },
  {
   "cell_type": "code",
   "execution_count": null,
   "id": "2",
   "metadata": {},
   "outputs": [],
   "source": []
  }
 ],
 "metadata": {},
 "nbformat": 4,
 "nbformat_minor": 5
}
