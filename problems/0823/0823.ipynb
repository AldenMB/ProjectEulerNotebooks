{
 "cells": [
  {
   "cell_type": "markdown",
   "id": "0",
   "metadata": {},
   "source": [
    "# <a href=\"http://projecteuler.net/problem=823\">Factor Shuffle</a>\n",
    "\n",
    "## Problem 823\n",
    "\n",
    "<p>A list initially contains the numbers $2, 3, \\dots, n$.<br />\n",
    "At each round, every number in the list is divided by its smallest prime factor. Then the product of these smallest prime factors is added to the list as a new number. Finally, all numbers that become $1$ are removed from the list.</p>\n",
    "\n",
    "<p>For example, below are the first three rounds for $n = 5$:\n",
    "$$[2, 3, 4, 5] \\xrightarrow{(1)} [2, 60] \\xrightarrow{(2)} [30, 4] \\xrightarrow{(3)} [15, 2, 4].$$\n",
    "Let $S(n, m)$ be the sum of all numbers in the list after $m$ rounds.<br />\n",
    "For example, $S(5, 3) = 15 + 2 + 4 = 21$. Also $S(10, 100) = 257$.</p>\n",
    "\n",
    "<p>Find $S(10^4, 10^{16})$. Give your answer modulo $1234567891$.</p>\n"
   ]
  },
  {
   "cell_type": "markdown",
   "id": "1",
   "metadata": {},
   "source": [
    "# Solution\n"
   ]
  },
  {
   "cell_type": "code",
   "execution_count": null,
   "id": "2",
   "metadata": {},
   "outputs": [],
   "source": []
  }
 ],
 "metadata": {},
 "nbformat": 4,
 "nbformat_minor": 5
}
