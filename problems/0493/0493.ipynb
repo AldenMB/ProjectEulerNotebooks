{
 "cells": [
  {
   "cell_type": "markdown",
   "id": "0",
   "metadata": {},
   "source": [
    "# <a href=\"https://projecteuler.net/problem=493\">Under The Rainbow</a>\n",
    "\n",
    "## Problem 493\n",
    "\n",
    "<p>70 coloured balls are placed in an urn, 10 for each of the seven rainbow colours.</p>\n",
    "<p>What is the expected number of distinct colours in 20 randomly picked balls?</p>\n",
    "<p>Give your answer with nine digits after the decimal point (a.bcdefghij).</p>\n"
   ]
  },
  {
   "cell_type": "markdown",
   "id": "1",
   "metadata": {},
   "source": [
    "# Solution\n"
   ]
  },
  {
   "cell_type": "code",
   "execution_count": null,
   "id": "2",
   "metadata": {},
   "outputs": [],
   "source": []
  }
 ],
 "metadata": {},
 "nbformat": 4,
 "nbformat_minor": 5
}
