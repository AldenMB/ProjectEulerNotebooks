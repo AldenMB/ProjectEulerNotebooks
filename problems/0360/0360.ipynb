{
 "cells": [
  {
   "cell_type": "markdown",
   "id": "0",
   "metadata": {},
   "source": [
    "# <a href=\"https://projecteuler.net/problem=360\">Scary Sphere</a>\n",
    "\n",
    "## Problem 360\n",
    "\n",
    "<p>\n",
    "Given two points (x<sub>1</sub>,y<sub>1</sub>,z<sub>1</sub>) and (x<sub>2</sub>,y<sub>2</sub>,z<sub>2</sub>) in three dimensional space, the <b>Manhattan distance</b>  between those points is defined as <br /> |x<sub>1</sub>-x<sub>2</sub>|+|y<sub>1</sub>-y<sub>2</sub>|+|z<sub>1</sub>-z<sub>2</sub>|.\n",
    "</p>\n",
    "<p>\n",
    "Let C(<var>r</var>) be a sphere with radius <var>r</var> and center in the origin O(0,0,0).<br />\n",
    "Let I(<var>r</var>) be the set of all points with integer coordinates on the surface of C(<var>r</var>).<br />\n",
    "Let S(<var>r</var>) be the sum of the Manhattan distances of all elements of I(<var>r</var>) to the origin O.\n",
    "</p>\n",
    "<p>\n",
    "E.g. S(45)=34518.\n",
    "</p>\n",
    "<p>\n",
    "Find S(10<sup>10</sup>).\n",
    "</p>\n",
    "\n",
    "\n",
    "\n"
   ]
  },
  {
   "cell_type": "markdown",
   "id": "1",
   "metadata": {},
   "source": [
    "# Solution\n"
   ]
  },
  {
   "cell_type": "code",
   "execution_count": null,
   "id": "2",
   "metadata": {},
   "outputs": [],
   "source": []
  }
 ],
 "metadata": {},
 "nbformat": 4,
 "nbformat_minor": 5
}
