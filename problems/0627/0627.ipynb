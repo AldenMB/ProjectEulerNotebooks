{
 "cells": [
  {
   "cell_type": "markdown",
   "id": "0",
   "metadata": {},
   "source": [
    "# <a href=\"https://projecteuler.net/problem=627\">Counting products</a>\n",
    "\n",
    "## Problem 627\n",
    "\n",
    "<p>Consider the set $S$ of all possible products of $n$ positive integers not exceeding $m$, that is<br /> \n",
    "$S=\\{ x_1x_2\\dots x_n \\, | \\, 1 \\le x_1, x_2, ..., x_n \\le m \\}$.<br />\n",
    "\n",
    "Let $F(m,n)$ be the number of the distinct elements of the set $S$.<br />\n",
    "For example, $F(9, 2) = 36$ and $F(30,2)=308$.</p>\n",
    "\n",
    "<p>Find $F(30, 10001)\\text{ mod }1\\,000\\,000\\,007$.</p>\n"
   ]
  },
  {
   "cell_type": "markdown",
   "id": "1",
   "metadata": {},
   "source": [
    "# Solution\n"
   ]
  },
  {
   "cell_type": "code",
   "execution_count": null,
   "id": "2",
   "metadata": {},
   "outputs": [],
   "source": []
  }
 ],
 "metadata": {},
 "nbformat": 4,
 "nbformat_minor": 5
}
