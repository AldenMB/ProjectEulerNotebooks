{
 "cells": [
  {
   "cell_type": "markdown",
   "id": "0",
   "metadata": {},
   "source": [
    "# <a href=\"http://projecteuler.net/problem=877\">XOR-Equation A</a>\n",
    "\n",
    "## Problem 877\n",
    "\n",
    "<p>\n",
    "We use $x\\oplus y$ for the bitwise XOR of $x$ and $y$.<br>\n",
    "Define the <dfn>XOR-product</dfn> of $x$ and $y$, denoted by $x \\otimes y$, similar to a long multiplication in base $2$, except that the intermediate results are XORed instead of the usual integer addition.\n",
    "</p>\n",
    "<p>\n",
    "For example, $7 \\otimes 3 = 9$, or in base $2$, $111_2 \\otimes 11_2 = 1001_2$:\n",
    "</p><center>\n",
    "\\begin{align*}\n",
    "\\phantom{\\otimes 111} 111_2 \\\\\n",
    "\\otimes \\phantom{1111} 11_2 \\\\\n",
    "\\hline\n",
    "\\phantom{\\otimes 111} 111_2 \\\\\n",
    "\\oplus \\phantom{11} 111_2  \\phantom{9} \\\\\n",
    "\\hline\n",
    "\\phantom{\\otimes 11} 1001_2 \\\\\n",
    "\\end{align*}\n",
    "</center>\n",
    "We consider the equation:\n",
    "<center>\n",
    "\\begin{align}\n",
    "(a \\otimes a) \\oplus (2 \\otimes a \\otimes b) \\oplus (b \\otimes b) = 5\n",
    "\\end{align}\n",
    "</center>\n",
    "\n",
    "For example, $(a, b) = (3, 6)$ is a solution.\n",
    "\n",
    "<p>\n",
    "Let $X(N)$ be the XOR of the $b$ values for all solutions to this equation satisfying $0 \\le a \\le b \\le N$.<br> You are given $X(10)=5$.\n",
    "</p>\n",
    "<p>\n",
    "Find $X(10^{18})$.\n",
    "</p>\n"
   ]
  },
  {
   "cell_type": "markdown",
   "id": "1",
   "metadata": {},
   "source": [
    "# Solution\n"
   ]
  },
  {
   "cell_type": "code",
   "execution_count": null,
   "id": "2",
   "metadata": {},
   "outputs": [],
   "source": []
  }
 ],
 "metadata": {},
 "nbformat": 4,
 "nbformat_minor": 5
}
