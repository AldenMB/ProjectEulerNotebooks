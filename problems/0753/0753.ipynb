{
 "cells": [
  {
   "cell_type": "markdown",
   "id": "0",
   "metadata": {},
   "source": [
    "# <a href=\"https://projecteuler.net/problem=753\">Fermat Equation</a>\n",
    "\n",
    "## Problem 753\n",
    "\n",
    "<p>Fermat's Last Theorem states that no three positive integers $a$, $b$, $c$ satisfy the equation \n",
    "$$a^n+b^n=c^n$$\n",
    "for any integer value of $n$ greater than 2.</p>\n",
    "\n",
    "<p>For this problem we are only considering the case $n=3$. For certain values of $p$, it is possible to solve the congruence equation:\n",
    "$$a^3+b^3 \\equiv c^3 \\pmod{p}$$</p>\n",
    "\n",
    "<p>For a prime $p$, we define $F(p)$ as the number of integer solutions to this equation for $1 \\le a,b,c &lt; p$.</p>\n",
    "\n",
    "<p>You are given $F(5) = 12$ and $F(7) = 0$.</p>\n",
    "\n",
    "<p>Find the sum of $F(p)$ over all primes $p$ less than $6\\,000\\,000$.</p>\n"
   ]
  },
  {
   "cell_type": "markdown",
   "id": "1",
   "metadata": {},
   "source": [
    "# Solution\n"
   ]
  },
  {
   "cell_type": "code",
   "execution_count": null,
   "id": "2",
   "metadata": {},
   "outputs": [],
   "source": []
  }
 ],
 "metadata": {},
 "nbformat": 4,
 "nbformat_minor": 5
}
