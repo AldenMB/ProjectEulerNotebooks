{
 "cells": [
  {
   "cell_type": "markdown",
   "id": "0",
   "metadata": {},
   "source": [
    "# <a href=\"https://projecteuler.net/problem=714\">Duodigits</a>\n",
    "\n",
    "## Problem 714\n",
    "\n",
    "<p>We call a natural number a <i>duodigit</i> if its decimal representation uses no more than two different digits.\n",
    "For example, $12$, $110$ and $33333$ are duodigits, while $102$ is not.<br />\n",
    "It can be shown that every natural number has duodigit multiples. Let $d(n)$ be the smallest (positive) multiple of the number $n$ that happens to be a duodigit. For example, $d(12)=12$, $d(102)=1122$, $d(103)=515$, $d(290)=11011010$ and $d(317)=211122$.</p>\n",
    "<p>\n",
    "Let $\\displaystyle D(k)=\\sum_{n=1}^k d(n)$. You are given $D(110)=11\\,047$, $D(150)=53\\,312$ and $D(500)=29\\,570\\,988$.</p>\n",
    "<p>\n",
    "Find $D(50\\,000)$. Give your answer in scientific notation rounded to 13 significant digits (12 after the decimal point). If, for example, we had asked for $D(500)$ instead, the answer format would have been 2.957098800000e7.</p>\n"
   ]
  },
  {
   "cell_type": "markdown",
   "id": "1",
   "metadata": {},
   "source": [
    "# Solution\n"
   ]
  },
  {
   "cell_type": "code",
   "execution_count": null,
   "id": "2",
   "metadata": {},
   "outputs": [],
   "source": []
  }
 ],
 "metadata": {},
 "nbformat": 4,
 "nbformat_minor": 5
}
