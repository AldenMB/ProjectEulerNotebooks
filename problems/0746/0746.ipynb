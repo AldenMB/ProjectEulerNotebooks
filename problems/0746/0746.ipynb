{
 "cells": [
  {
   "cell_type": "markdown",
   "id": "0",
   "metadata": {},
   "source": [
    "# <a href=\"https://projecteuler.net/problem=746\">A Messy Dinner</a>\n",
    "\n",
    "## Problem 746\n",
    "\n",
    "<p>$n$ families, each with four members, a father, a mother, a son and a daughter, were invited to a restaurant. They were all seated at a large circular table with $4n$ seats such that men and women alternate.</p>\n",
    "\n",
    "<p>Let $M(n)$ be the number of ways the families can be seated such that none of the families were seated together. A family is considered to be seated together only when all the members of a family sit next to each other.</p>\n",
    "\n",
    "<p>For example, $M(1)=0$, $M(2)=896$, $M(3)=890880$ and $M(10) \\equiv 170717180 \\pmod {1\\,000\\,000\\,007}$</p>\n",
    "\n",
    "<p>Let $S(n)=\\displaystyle \\sum_{k=2}^nM(k)$</p>\n",
    "\n",
    "<p>For example, $S(10) \\equiv 399291975 \\pmod {1\\,000\\,000\\,007}$</p>\n",
    "\n",
    "<p>Find $S(2021)$. Give your answer modulo $1\\,000\\,000\\,007$.</p>\n",
    "\n"
   ]
  },
  {
   "cell_type": "markdown",
   "id": "1",
   "metadata": {},
   "source": [
    "# Solution\n"
   ]
  },
  {
   "cell_type": "code",
   "execution_count": null,
   "id": "2",
   "metadata": {},
   "outputs": [],
   "source": []
  }
 ],
 "metadata": {},
 "nbformat": 4,
 "nbformat_minor": 5
}
