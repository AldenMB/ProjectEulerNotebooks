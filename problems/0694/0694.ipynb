{
 "cells": [
  {
   "cell_type": "markdown",
   "id": "0",
   "metadata": {},
   "source": [
    "# <a href=\"https://projecteuler.net/problem=694\">Cube-full Divisors</a>\n",
    "\n",
    "## Problem 694\n",
    "\n",
    "<p>\n",
    "A positive integer $n$ is considered <i>cube-full</i>, if for every prime $p$ that divides $n$, so does $p^3$. Note that $1$ is considered cube-full.\n",
    "</p>\n",
    "<p>\n",
    "Let $s(n)$ be the function that counts the number of cube-full divisors of $n$. For example, $1$, $8$ and $16$ are the three cube-full divisors of $16$. Therefore, $s(16)=3$.\n",
    "</p>\n",
    "<p>\n",
    "Let $S(n)$ represent the summatory function of $s(n)$, that is $S(n)=\\displaystyle\\sum_{i=1}^n s(i)$.\n",
    "</p>\n",
    "<p>\n",
    "You are given $S(16) =  19$, $S(100) = 126$ and $S(10000) = 13344$.\n",
    "</p>\n",
    "<p>\n",
    "Find $S(10^{18})$.\n",
    "</p>\n"
   ]
  },
  {
   "cell_type": "markdown",
   "id": "1",
   "metadata": {},
   "source": [
    "# Solution\n"
   ]
  },
  {
   "cell_type": "code",
   "execution_count": null,
   "id": "2",
   "metadata": {},
   "outputs": [],
   "source": []
  }
 ],
 "metadata": {},
 "nbformat": 4,
 "nbformat_minor": 5
}
