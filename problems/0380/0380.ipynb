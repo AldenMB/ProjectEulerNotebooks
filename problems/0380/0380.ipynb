{
 "cells": [
  {
   "cell_type": "markdown",
   "id": "0",
   "metadata": {},
   "source": [
    "# <a href=\"https://projecteuler.net/problem=380\">Amazing Mazes!</a>\n",
    "\n",
    "## Problem 380\n",
    "\n",
    "<p>\n",
    "An m×n maze is an m×n rectangular grid with walls placed between grid cells such that there is exactly one path from the top-left square to any other square. <br />The following are examples of a 9×12 maze and a 15×20 maze:\n",
    "</p>\n",
    "<p style=\"text-align: center !important\">\n",
    "<img src=\"p380_mazes.gif\" class=\"dark_img\" alt=\"p380_mazes.gif\" /></p>\n",
    "<p>\n",
    "Let C(m,n) be the number of distinct m×n mazes. Mazes which can be formed by rotation and reflection from another maze are considered distinct.\n",
    "</p>\n",
    "<p>\n",
    "It can be verified that C(1,1) = 1, C(2,2) = 4, C(3,4) = 2415, and C(9,12) = 2.5720e46 (in scientific notation rounded to 5 significant digits).<br />\n",
    "Find C(100,500) and write your answer in scientific notation rounded to 5 significant digits.\n",
    "</p>\n",
    "<p>\n",
    "When giving your answer, use a lowercase e to separate mantissa and exponent.\n",
    "E.g. if the answer is 1234567891011 then the answer format would be 1.2346e12.\n",
    "\n",
    "</p> \n",
    "\n",
    "\n",
    "\n",
    "\n"
   ]
  },
  {
   "cell_type": "markdown",
   "id": "1",
   "metadata": {},
   "source": [
    "# Solution\n"
   ]
  },
  {
   "cell_type": "code",
   "execution_count": null,
   "id": "2",
   "metadata": {},
   "outputs": [],
   "source": []
  }
 ],
 "metadata": {},
 "nbformat": 4,
 "nbformat_minor": 5
}
