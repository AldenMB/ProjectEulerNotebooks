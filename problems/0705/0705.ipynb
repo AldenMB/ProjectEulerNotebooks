{
 "cells": [
  {
   "cell_type": "markdown",
   "id": "0",
   "metadata": {},
   "source": [
    "# <a href=\"https://projecteuler.net/problem=705\">Total Inversion Count of Divided Sequences</a>\n",
    "\n",
    "## Problem 705\n",
    "\n",
    "<p>\n",
    "The <i>inversion count</i> of a sequence of digits is the smallest number of adjacent pairs that must be swapped to sort the sequence.<br />\n",
    "For example, 34214 has inversion count of 5:\n",
    "$34214 \\to 32414 \\to 23414 \\to 23144 \\to 21344 \\to12344$.\n",
    "</p>\n",
    "<p>\n",
    "If each digit of a sequence is replaced by one of its divisors a <i>divided sequence</i> is obtained. <br />\n",
    "For example, the sequence 332 has 8 divided sequences: $\\{332,331,312,311,132,131,112,111\\}$.\n",
    "</p>\n",
    "<p>\n",
    "Define $G(N)$ to be the concatenation of all primes less than $N$, ignoring any zero digit. <br />\n",
    "For example, $G(20) = 235711131719$.\n",
    "</p>\n",
    "<p>\n",
    "Define $F(N)$ to be the sum of the inversion count for all possible divided sequences from the master sequence $G(N)$. <br />\n",
    "You are given $F(20) = 3312$ and $F(50) = 338079744$.\n",
    "</p>\n",
    "<p>\n",
    "Find $F(10^8)$. Give your answer modulo $1\\,000\\,000\\,007$.\n",
    "</p>\n"
   ]
  },
  {
   "cell_type": "markdown",
   "id": "1",
   "metadata": {},
   "source": [
    "# Solution\n"
   ]
  },
  {
   "cell_type": "code",
   "execution_count": null,
   "id": "2",
   "metadata": {},
   "outputs": [],
   "source": []
  }
 ],
 "metadata": {},
 "nbformat": 4,
 "nbformat_minor": 5
}
