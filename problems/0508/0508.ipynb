{
 "cells": [
  {
   "cell_type": "markdown",
   "id": "0",
   "metadata": {},
   "source": [
    "# <a href=\"https://projecteuler.net/problem=508\">Integers in base i-1</a>\n",
    "\n",
    "## Problem 508\n",
    "\n",
    "<p>Consider the Gaussian integer i-1. A <b>base i-1 representation</b> of a Gaussian integer <var>a</var>+<var>b</var>i is a finite sequence of digits <var>d</var><sub><var>n</var>-1</sub><var>d</var><sub><var>n</var>-2</sub>...<var>d</var><sub>1</sub><var>d</var><sub>0</sub> such that:</p>\n",
    "\n",
    "<ul><li><var>a</var>+<var>b</var>i = <var>d</var><sub><var>n</var>-1</sub>(i-1)<sup><var>n</var>-1</sup> + <var>d</var><sub><var>n</var>-2</sub>(i-1)<sup><var>n</var>-2</sup> + ... + <var>d</var><sub>1</sub>(i-1) + <var>d</var><sub>0</sub></li>\n",
    "<li>Each <var>d</var><sub><var>k</var></sub> is in {0,1}</li>\n",
    "<li>There are no leading zeroes, i.e. <var>d</var><sub>n-1</sub> ≠ 0, unless <var>a</var>+<var>b</var>i is itself 0</li>\n",
    "</ul><p>Here are base i-1 representations of a few Gaussian integers:<br /><br />\n",
    "11+24i → 111010110001101<br />\n",
    "24-11i → 110010110011<br />\n",
    "8+0i → 111000000<br />\n",
    "-5+0i → 11001101<br />\n",
    "0+0i → 0</p>\n",
    "\n",
    "Remarkably, every Gaussian integer has a unique base i-1 representation!<br /><br />\n",
    "\n",
    "Define <var>f</var>(<var>a</var>+<var>b</var>i) as the number of 1s in the unique base i-1 representation of <var>a</var>+<var>b</var>i. For example, <var>f</var>(11+24i) = 9 and <var>f</var>(24-11i) = 7.<br /><br />\n",
    "\n",
    "Define <var>B</var>(<var>L</var>) as the sum of <var>f</var>(<var>a</var>+<var>b</var>i) for all integers <var>a</var>, <var>b</var> such that |<var>a</var>| ≤ <var>L</var> and |<var>b</var>| ≤ <var>L</var>. For example, <var>B</var>(500) = 10795060.<br /><br />\n",
    "\n",
    "Find <var>B</var>(10<sup>15</sup>) mod 1 000 000 007.\n"
   ]
  },
  {
   "cell_type": "markdown",
   "id": "1",
   "metadata": {},
   "source": [
    "# Solution\n"
   ]
  },
  {
   "cell_type": "code",
   "execution_count": null,
   "id": "2",
   "metadata": {},
   "outputs": [],
   "source": []
  }
 ],
 "metadata": {},
 "nbformat": 4,
 "nbformat_minor": 5
}
