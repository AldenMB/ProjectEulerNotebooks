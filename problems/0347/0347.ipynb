{
 "cells": [
  {
   "cell_type": "markdown",
   "id": "0",
   "metadata": {},
   "source": [
    "# <a href=\"https://projecteuler.net/problem=347\">Largest integer divisible by two primes</a>\n",
    "\n",
    "## Problem 347\n",
    "\n",
    "<p>\n",
    "The largest integer ≤ 100 that is only divisible by both the primes 2 and 3 is 96, as 96=32*3=2<sup>5</sup>*3.\n",
    "For two <i>distinct</i> primes p and q let M(p,q,N) be the largest positive integer ≤N only divisible\n",
    "by both p and q and M(p,q,N)=0 if such a positive integer does not exist.\n",
    "</p>\n",
    "<p>\n",
    "E.g. M(2,3,100)=96.<br /> \n",
    "M(3,5,100)=75 and not 90 because 90 is divisible by 2 ,3 and 5.<br />\n",
    "Also M(2,73,100)=0 because there does not exist a positive integer ≤ 100 that is divisible by both 2 and 73.\n",
    "</p>\n",
    "<p>\n",
    "Let S(N) be the sum of all distinct M(p,q,N).\n",
    "S(100)=2262.\n",
    "</p>\n",
    "<p>\n",
    "Find S(10 000 000).\n",
    "</p>\n",
    "\n",
    "\n",
    "\n",
    "\n",
    "\n"
   ]
  },
  {
   "cell_type": "markdown",
   "id": "1",
   "metadata": {},
   "source": [
    "# Solution\n"
   ]
  },
  {
   "cell_type": "code",
   "execution_count": null,
   "id": "2",
   "metadata": {},
   "outputs": [],
   "source": []
  }
 ],
 "metadata": {},
 "nbformat": 4,
 "nbformat_minor": 5
}
