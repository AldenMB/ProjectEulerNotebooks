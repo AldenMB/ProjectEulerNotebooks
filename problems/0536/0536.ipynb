{
 "cells": [
  {
   "cell_type": "markdown",
   "id": "0",
   "metadata": {},
   "source": [
    "# <a href=\"https://projecteuler.net/problem=536\">Modulo power identity </a>\n",
    "\n",
    "## Problem 536\n",
    "\n",
    "<p>\n",
    "Let S(<var>n</var>) be the sum of all positive integers <var>m</var> not exceeding <var>n</var> having the following property:<br /><var>a</var> <sup><var>m</var>+4</sup> ≡ <var>a</var> (mod <var>m</var>) for all integers <var>a</var>.\n",
    "</p>\n",
    "<p>\n",
    "The values of <var>m</var> ≤ 100 that satisfy this property are 1, 2, 3, 5 and 21, thus S(100) = 1+2+3+5+21 = 32.<br />\n",
    "You are given S(10<sup>6</sup>) = 22868117.\n",
    "</p>\n",
    "<p>\n",
    "Find S(10<sup>12</sup>).\n",
    "</p>\n",
    "\n",
    "\n"
   ]
  },
  {
   "cell_type": "markdown",
   "id": "1",
   "metadata": {},
   "source": [
    "# Solution\n"
   ]
  },
  {
   "cell_type": "code",
   "execution_count": null,
   "id": "2",
   "metadata": {},
   "outputs": [],
   "source": []
  }
 ],
 "metadata": {},
 "nbformat": 4,
 "nbformat_minor": 5
}
