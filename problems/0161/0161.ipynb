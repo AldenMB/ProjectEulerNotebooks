{
 "cells": [
  {
   "cell_type": "markdown",
   "id": "0",
   "metadata": {},
   "source": [
    "# <a href=\"https://projecteuler.net/problem=161\">Triominoes</a>\n",
    "\n",
    "## Problem 161\n",
    "\n",
    "<p>A triomino is a shape consisting of three squares joined via the edges.\n",
    "There are two basic forms:</p>\n",
    "\n",
    "<p style=\"text-align: center !important\"><img src=\"p161_trio1.gif\" class=\"dark_img\" alt=\"\" /></p>\n",
    "\n",
    "<p>If all possible orientations are taken into account there are six:</p>\n",
    "\n",
    "<p style=\"text-align: center !important\"><img src=\"p161_trio3.gif\" class=\"dark_img\" alt=\"\" /></p>\n",
    "\n",
    "<p>Any n by m grid for which nxm is divisible by 3 can be tiled with triominoes.<br />\n",
    "If we consider tilings that can be obtained by reflection or rotation from another tiling as different there are 41 ways a 2 by 9 grid can be  tiled with triominoes:</p>\n",
    "\n",
    "<p style=\"text-align: center !important\"><img src=\"p161_k9.gif\" class=\"dark_img\" alt=\"\" /></p>\n",
    "\n",
    "<p>In how many ways can a 9 by 12 grid be tiled in this way by triominoes?</p>\n"
   ]
  },
  {
   "cell_type": "markdown",
   "id": "1",
   "metadata": {},
   "source": [
    "# Solution\n"
   ]
  },
  {
   "cell_type": "code",
   "execution_count": null,
   "id": "2",
   "metadata": {},
   "outputs": [],
   "source": []
  }
 ],
 "metadata": {},
 "nbformat": 4,
 "nbformat_minor": 5
}
