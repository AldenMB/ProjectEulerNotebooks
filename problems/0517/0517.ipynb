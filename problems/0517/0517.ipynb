{
 "cells": [
  {
   "cell_type": "markdown",
   "id": "0",
   "metadata": {},
   "source": [
    "# <a href=\"https://projecteuler.net/problem=517\">A real recursion</a>\n",
    "\n",
    "## Problem 517\n",
    "\n",
    "<p>\n",
    "For every real number $a \\gt 1$ is given the sequence $g_a$ by:<br />\n",
    "$g_{a}(x)=1$ for $x \\lt a$<br />\n",
    "$g_{a}(x)=g_{a}(x-1)+g_a(x-a)$ for $x \\ge a$<br />\n",
    "\n",
    "$G(n)=g_{\\sqrt {n}}(n)$<br />\n",
    "$G(90)=7564511$.</p>\n",
    "<p>\n",
    "Find $\\sum G(p)$ for $p$ prime and $10000000 \\lt p \\lt 10010000$<br />\n",
    "Give your answer modulo 1000000007.\n",
    "</p>\n"
   ]
  },
  {
   "cell_type": "markdown",
   "id": "1",
   "metadata": {},
   "source": [
    "# Solution\n"
   ]
  },
  {
   "cell_type": "code",
   "execution_count": null,
   "id": "2",
   "metadata": {},
   "outputs": [],
   "source": []
  }
 ],
 "metadata": {},
 "nbformat": 4,
 "nbformat_minor": 5
}
