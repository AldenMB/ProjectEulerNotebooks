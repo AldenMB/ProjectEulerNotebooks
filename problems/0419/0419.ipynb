{
 "cells": [
  {
   "cell_type": "markdown",
   "id": "0",
   "metadata": {},
   "source": [
    "# <a href=\"https://projecteuler.net/problem=419\">Look and say sequence</a>\n",
    "\n",
    "## Problem 419\n",
    "\n",
    "<p>\n",
    "The <b>look and say</b> sequence goes 1, 11, 21, 1211, 111221, 312211, 13112221, 1113213211, ...<br />\n",
    "The sequence starts with 1 and all other members are obtained by describing the previous member in terms of consecutive digits.<br />\n",
    "It helps to do this out loud:<br />\n",
    "1 is 'one one' → 11<br />\n",
    "11 is 'two ones' → 21<br />\n",
    "21 is 'one two and one one' → 1211 <br />\n",
    "1211 is 'one one, one two and two ones' → 111221<br />\n",
    "111221 is 'three ones, two twos and one one' → 312211<br />\n",
    "...\n",
    "</p>\n",
    "<p>\n",
    "Define A(n), B(n) and C(n) as the number of ones, twos and threes in the n'th element of the sequence respectively.<br />\n",
    "One can verify that A(40) = 31254, B(40) = 20259 and C(40) = 11625.\n",
    "</p>\n",
    "<p>\n",
    "Find A(n), B(n) and C(n) for n = 10<sup>12</sup>.<br /> \n",
    "Give your answer modulo 2<sup>30</sup> and separate your values for A, B and C by a comma.<br /> \n",
    "E.g. for n = 40 the answer would be 31254,20259,11625\n",
    "</p>\n",
    "\n",
    "\n"
   ]
  },
  {
   "cell_type": "markdown",
   "id": "1",
   "metadata": {},
   "source": [
    "# Solution\n"
   ]
  },
  {
   "cell_type": "code",
   "execution_count": null,
   "id": "2",
   "metadata": {},
   "outputs": [],
   "source": []
  }
 ],
 "metadata": {},
 "nbformat": 4,
 "nbformat_minor": 5
}
