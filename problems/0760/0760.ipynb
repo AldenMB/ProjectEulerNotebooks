{
 "cells": [
  {
   "cell_type": "markdown",
   "id": "0",
   "metadata": {},
   "source": [
    "# <a href=\"https://projecteuler.net/problem=760\">Sum over Bitwise Operators</a>\n",
    "\n",
    "## Problem 760\n",
    "\n",
    "<p>Define\n",
    "$$\\displaystyle g(m,n) = (m\\oplus n)+(m\\vee n)+(m\\wedge n)$$\n",
    "where $\\oplus, \\vee, \\wedge$ are the bitwise XOR, OR and AND operator respectively.</p>\n",
    "<p>Also set\n",
    "$$\\displaystyle G(N) = \\sum_{n=0}^N\\sum_{k=0}^n g(k,n-k)$$</p>\n",
    "<p>For example, $G(10) = 754$ and $G(10^2) = 583766$.</p>\n",
    "\n",
    "<p>Find $G(10^{18})$. Give your answer modulo $1\\,000\\,000\\,007$.</p>\n",
    "\n"
   ]
  },
  {
   "cell_type": "markdown",
   "id": "1",
   "metadata": {},
   "source": [
    "# Solution\n"
   ]
  },
  {
   "cell_type": "code",
   "execution_count": null,
   "id": "2",
   "metadata": {},
   "outputs": [],
   "source": []
  }
 ],
 "metadata": {},
 "nbformat": 4,
 "nbformat_minor": 5
}
