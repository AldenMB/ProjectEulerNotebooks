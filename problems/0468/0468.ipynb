{
 "cells": [
  {
   "cell_type": "markdown",
   "id": "0",
   "metadata": {},
   "source": [
    "# <a href=\"https://projecteuler.net/problem=468\">Smooth divisors of binomial coefficients</a>\n",
    "\n",
    "## Problem 468\n",
    "\n",
    "<p>An integer is called <strong><var>B</var>-smooth</strong> if none of its prime factors is greater than $B$.</p>\n",
    "\n",
    "<p>Let $S_B(n)$ be the largest $B$-smooth divisor of $n$.<br />\n",
    "Examples:<br />\n",
    "$S_1(10)=1$<br />\n",
    "$S_4(2100) = 12$<br />\n",
    "$S_{17}(2496144) = 5712$</p>\n",
    "<p>Define $\\displaystyle F(n)=\\sum_{B=1}^n \\sum_{r=0}^n S_B(\\binom n r)$. Here, $\\displaystyle \\binom n r$ denotes the binomial coefficient.<br />\n",
    "Examples:<br />\n",
    "$F(11) = 3132$<br />\n",
    "$F(1111) \\mod 1\\,000\\,000\\,993 = 706036312$<br />\n",
    "$F(111\\,111) \\mod 1\\,000\\,000\\,993 = 22156169$</p>\n",
    "\n",
    "<p>Find $F(11\\,111\\,111)  \\mod 1\\,000\\,000\\,993$.</p>\n",
    "\n",
    "\n",
    "\n",
    "\n"
   ]
  },
  {
   "cell_type": "markdown",
   "id": "1",
   "metadata": {},
   "source": [
    "# Solution\n"
   ]
  },
  {
   "cell_type": "code",
   "execution_count": null,
   "id": "2",
   "metadata": {},
   "outputs": [],
   "source": []
  }
 ],
 "metadata": {},
 "nbformat": 4,
 "nbformat_minor": 5
}
