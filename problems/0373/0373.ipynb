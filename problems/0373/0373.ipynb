{
 "cells": [
  {
   "cell_type": "markdown",
   "id": "0",
   "metadata": {},
   "source": [
    "# <a href=\"https://projecteuler.net/problem=373\">Circumscribed Circles</a>\n",
    "\n",
    "## Problem 373\n",
    "\n",
    "<p>\n",
    "Every triangle has a circumscribed circle that goes through the three vertices.\n",
    "Consider all integer sided triangles for which the radius of the circumscribed circle is integral as well.\n",
    "</p>\n",
    "<p>\n",
    "Let S(<var>n</var>) be the sum of the radii of the circumscribed circles of all such triangles for which the radius does not exceed <var>n</var>.\n",
    "</p>\n",
    "<p>S(100)=4950 and S(1200)=1653605.\n",
    "</p>\n",
    "<p>\n",
    "Find S(10<sup>7</sup>).\n",
    "</p>\n",
    "\n"
   ]
  },
  {
   "cell_type": "markdown",
   "id": "1",
   "metadata": {},
   "source": [
    "# Solution\n"
   ]
  },
  {
   "cell_type": "code",
   "execution_count": null,
   "id": "2",
   "metadata": {},
   "outputs": [],
   "source": []
  }
 ],
 "metadata": {},
 "nbformat": 4,
 "nbformat_minor": 5
}
