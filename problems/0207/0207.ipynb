{
 "cells": [
  {
   "cell_type": "markdown",
   "id": "0",
   "metadata": {},
   "source": [
    "# <a href=\"https://projecteuler.net/problem=207\">Integer partition equations</a>\n",
    "\n",
    "## Problem 207\n",
    "\n",
    "<p>For some positive integers <var>k</var>, there exists an integer partition of the form   4<sup>t</sup> = 2<sup>t</sup> + <var>k</var>,<br />\n",
    "where 4<sup>t</sup>, 2<sup>t</sup>, and <var>k</var> are all positive integers and <var>t</var> is a real number.</p>\n",
    "\n",
    "<p>The first two such partitions are 4<sup>1</sup> = 2<sup>1</sup> + 2 and 4<sup>1.5849625...</sup> = 2<sup>1.5849625...</sup> + 6.</p>\n",
    "\n",
    "<p>Partitions where <var>t</var> is also an integer are called <i>perfect</i>.<br /> \n",
    "For any <var>m</var> ≥ 1 let P(<var>m</var>) be the proportion of such partitions that are perfect with <var>k</var> ≤ <var>m</var>.<br />\n",
    "Thus P(6) = 1/2.</p>\n",
    "\n",
    "<p>In the following table are listed some values of P(<var>m</var>)</p>\n",
    "<p>   P(5) = 1/1<br />\n",
    "   P(10) = 1/2<br />\n",
    "   P(15) = 2/3<br />\n",
    "   P(20) = 1/2<br />\n",
    "   P(25) = 1/2<br />\n",
    "   P(30) = 2/5<br />\n",
    "   ...<br />\n",
    "   P(180) = 1/4<br />\n",
    "   P(185) = 3/13</p>\n",
    "\n",
    "\n",
    "<p>Find the smallest <var>m</var> for which P(<var>m</var>) &lt; 1/12345</p>\n"
   ]
  },
  {
   "cell_type": "markdown",
   "id": "1",
   "metadata": {},
   "source": [
    "# Solution\n"
   ]
  },
  {
   "cell_type": "code",
   "execution_count": null,
   "id": "2",
   "metadata": {},
   "outputs": [],
   "source": []
  }
 ],
 "metadata": {},
 "nbformat": 4,
 "nbformat_minor": 5
}
