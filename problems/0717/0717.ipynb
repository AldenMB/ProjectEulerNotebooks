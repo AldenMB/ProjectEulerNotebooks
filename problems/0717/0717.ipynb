{
 "cells": [
  {
   "cell_type": "markdown",
   "id": "0",
   "metadata": {},
   "source": [
    "# <a href=\"https://projecteuler.net/problem=717\">Summation of a Modular Formula</a>\n",
    "\n",
    "## Problem 717\n",
    "\n",
    "<p>For an odd prime $p$, define $f(p) = \\left\\lfloor\\frac{2^{(2^p)}}{p}\\right\\rfloor\\bmod{2^p}$<br />\n",
    "For example, when $p=3$, $\\lfloor 2^8/3\\rfloor = 85 \\equiv 5 \\pmod 8$ and so $f(3) = 5$.</p> \n",
    "\n",
    "<p>Further define $g(p) = f(p)\\bmod p$. You are given $g(31) = 17$.</p>\n",
    "\n",
    "<p>Now define $G(N)$ to be the summation of $g(p)$ for all odd primes less than $N$.<br />\n",
    "You are given $G(100) = 474$ and $G(10^4) = 2819236$.</p>\n",
    "\n",
    "<p>Find $G(10^7)$</p>\n",
    "\n"
   ]
  },
  {
   "cell_type": "markdown",
   "id": "1",
   "metadata": {},
   "source": [
    "# Solution\n"
   ]
  },
  {
   "cell_type": "code",
   "execution_count": null,
   "id": "2",
   "metadata": {},
   "outputs": [],
   "source": []
  }
 ],
 "metadata": {},
 "nbformat": 4,
 "nbformat_minor": 5
}
