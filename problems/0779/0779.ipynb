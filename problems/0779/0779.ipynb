{
 "cells": [
  {
   "cell_type": "markdown",
   "id": "0",
   "metadata": {},
   "source": [
    "# <a href=\"https://projecteuler.net/problem=779\">Prime Factor and Exponent</a>\n",
    "\n",
    "## Problem 779\n",
    "\n",
    "<p>\n",
    "For a positive integer $n&gt;1$, let $p(n)$ be the smallest prime dividing $n$, and let $\\alpha(n)$ be its <b><i>p</i>-adic order</b>, i.e. the largest integer such that $p(n)^{\\alpha(n)}$ divides $n$.\n",
    "</p>\n",
    "<p>\n",
    "For a positive integer $K$, define the function $f_K(n)$ by:\n",
    "</p>\n",
    "<center>\n",
    "$\\displaystyle f_K(n)=\\frac{\\alpha(n)-1}{(p(n))^K}$\n",
    "</center>\n",
    "<p>\n",
    "Also define $\\overline{f_K}$ by:\n",
    "</p>\n",
    "<center>\n",
    "$\\displaystyle \\overline{f_K}=\\lim_{N \\to \\infty} \\frac{1}{N}\\sum_{n=2}^{N} f_K(n)$\n",
    "</center>\n",
    "<p>\n",
    "It can be verified that $\\overline{f_1} \\approx 0.282419756159$.\n",
    "</p>\n",
    "<p>\n",
    "Find $\\displaystyle \\sum_{K=1}^{\\infty}\\overline{f_K}$. Give your answer rounded to $12$ digits after the decimal point.\n",
    "</p>\n",
    "\n"
   ]
  },
  {
   "cell_type": "markdown",
   "id": "1",
   "metadata": {},
   "source": [
    "# Solution\n"
   ]
  },
  {
   "cell_type": "code",
   "execution_count": null,
   "id": "2",
   "metadata": {},
   "outputs": [],
   "source": []
  }
 ],
 "metadata": {},
 "nbformat": 4,
 "nbformat_minor": 5
}
