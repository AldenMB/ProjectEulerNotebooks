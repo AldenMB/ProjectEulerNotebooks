{
 "cells": [
  {
   "cell_type": "markdown",
   "id": "0",
   "metadata": {},
   "source": [
    "# <a href=\"https://projecteuler.net/problem=166\">Criss Cross</a>\n",
    "\n",
    "## Problem 166\n",
    "\n",
    "<p>A 4x4 grid is filled with digits d, 0 ≤ d ≤ 9.</p>\n",
    "\n",
    "<p>It can be seen that in the grid</p>\n",
    "\n",
    "<p style=\"text-align: center !important\">\n",
    "6 3 3 0<br />\n",
    "5 0 4 3<br />\n",
    "0 7 1 4<br />\n",
    "1 2 4 5</p>\n",
    "\n",
    "<p>the sum of each row and each column has the value 12. Moreover the sum of each diagonal is also 12.</p>\n",
    "\n",
    "<p>In how many ways can you fill a 4x4 grid with the digits d, 0 ≤ d ≤ 9 so that each row, each column, and both diagonals have the same sum?</p>\n"
   ]
  },
  {
   "cell_type": "markdown",
   "id": "1",
   "metadata": {},
   "source": [
    "# Solution\n"
   ]
  },
  {
   "cell_type": "code",
   "execution_count": null,
   "id": "2",
   "metadata": {},
   "outputs": [],
   "source": []
  }
 ],
 "metadata": {},
 "nbformat": 4,
 "nbformat_minor": 5
}
