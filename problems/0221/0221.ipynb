{
 "cells": [
  {
   "cell_type": "markdown",
   "id": "0",
   "metadata": {},
   "source": [
    "# <a href=\"https://projecteuler.net/problem=221\">Alexandrian Integers</a>\n",
    "\n",
    "## Problem 221\n",
    "\n",
    "<p>We shall call a positive integer <var>A</var> an \"Alexandrian integer\", if there exist integers <var>p</var>, <var>q</var>, <var>r</var> such that:</p>\n",
    "\n",
    "<p style=\"text-align: center !important\">$$A = p \\cdot q \\cdot r$$\n",
    "and\n",
    "$$\\dfrac{1}{A} = \\dfrac{1}{p} + \\dfrac{1}{q} + \\dfrac{1}{r}$$</p>\n",
    "\n",
    "<p>For example, 630 is an Alexandrian integer ($p = 5, q = -7, r = -18$).\n",
    "In fact, 630 is the 6<sup>th</sup> Alexandrian integer,  the first 6 Alexandrian integers being: 6, 42, 120, 156, 420, and 630.</p>\n",
    "\n",
    "<p>Find the 150000<sup>th</sup> Alexandrian integer.</p>\n"
   ]
  },
  {
   "cell_type": "markdown",
   "id": "1",
   "metadata": {},
   "source": [
    "# Solution\n"
   ]
  },
  {
   "cell_type": "code",
   "execution_count": null,
   "id": "2",
   "metadata": {},
   "outputs": [],
   "source": []
  }
 ],
 "metadata": {},
 "nbformat": 4,
 "nbformat_minor": 5
}
