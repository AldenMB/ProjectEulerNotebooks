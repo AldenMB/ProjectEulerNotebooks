{
 "cells": [
  {
   "cell_type": "markdown",
   "id": "0",
   "metadata": {},
   "source": [
    "# <a href=\"http://projecteuler.net/problem=834\">Add and Divide</a>\n",
    "\n",
    "## Problem 834\n",
    "\n",
    "<p>\n",
    "A sequence is created by starting with a positive integer $n$ and incrementing by $(n+m)$ at the $m^{th}$ step. \n",
    "If $n=10$, the resulting sequence will be $21,33,46,60,75,91,108,126,\\ldots$.</p>\n",
    "\n",
    "<p>\n",
    "Let $S(n)$ be the set of indices $m$, for which the $m^{th}$ term in the sequence is divisible by $(n+m)$.<br> \n",
    "For example, $S(10)=\\{5,8,20,35,80\\}$.</p>\n",
    "\n",
    "<p>\n",
    "Define $T(n)$ to be the sum of the indices in $S(n)$. For example, $T(10) = 148$ and $T(10^2)=21828$.</p>\n",
    "\n",
    "<p>\n",
    "Let $\\displaystyle U(N)=\\sum_{n=3}^{N}T(n)$. You are given, $U(10^2)=612572$.</p>\n",
    "\n",
    "<p>\n",
    "Find $U(1234567)$.</p>\n",
    "\n"
   ]
  },
  {
   "cell_type": "markdown",
   "id": "1",
   "metadata": {},
   "source": [
    "# Solution\n"
   ]
  },
  {
   "cell_type": "code",
   "execution_count": null,
   "id": "2",
   "metadata": {},
   "outputs": [],
   "source": []
  }
 ],
 "metadata": {},
 "nbformat": 4,
 "nbformat_minor": 5
}
