{
 "cells": [
  {
   "cell_type": "markdown",
   "id": "0",
   "metadata": {},
   "source": [
    "# <a href=\"https://projecteuler.net/problem=556\">Squarefree Gaussian Integers</a>\n",
    "\n",
    "## Problem 556\n",
    "\n",
    "<p>A <b>Gaussian integer</b> is a number <var>z</var> = <var>a</var> + <var>b</var>i where <var>a</var>, <var>b</var> are integers and i<sup>2</sup> = -1.<br />\n",
    "Gaussian integers are a subset of the complex numbers, and the integers are the subset of Gaussian integers for which <var>b</var> = 0.</p>\n",
    "\n",
    "<p>A Gaussian integer <b>unit</b> is one for which <var>a</var><sup>2</sup> + <var>b</var><sup>2</sup> = 1, i.e. one of 1, i, -1, -i.<br />\n",
    "Let's define a <i>proper</i> Gaussian integer as one for which <var>a</var> &gt; 0 and <var>b</var> ≥ 0.</p>\n",
    "\n",
    "<p>A Gaussian integer z<sub>1</sub> = a<sub>1</sub> + <var>b</var><sub>1</sub>i is said to be divisible by <var>z</var><sub>2</sub> = a<sub>2</sub> + <var>b</var><sub>2</sub>i if <var>z</var><sub>3</sub> = <var>a</var><sub>3</sub> + <var>b</var><sub>3</sub>i = <var>z</var><sub>1</sub>/<var>z</var><sub>2</sub> is a Gaussian integer.<br />\n",
    "$\\frac {z_1} {z_2} = \\frac {a_1 + b_1 i} {a_2 + b_2 i} = \\frac {(a_1 + b_1 i)(a_2 - b_2 i)} {(a_2 + b_2 i)(a_2 - b_2 i)} = \\frac {a_1 a_2 + b_1 b_2} {a_2^2 + b_2^2} + \\frac  {a_2 b_1 - a_1 b_2}  {a_2^2 + b_2^2}i = a_3 + b_3 i$<br />\n",
    "So, <var>z</var><sub>1</sub> is divisible by <var>z</var><sub>2</sub> if $\\frac {a_1 a_2 + b_1 b_2} {a_2^2 + b_2^2}$ and $\\frac  {a_2 b_1 - a_1 b_2}  {a_2^2 + b_2^2}$ are integers.<br />\n",
    "For example, 2 is divisible by 1 + i because 2/(1 + i) = 1 - i is a Gaussian integer.</p>\n",
    "\n",
    "<p>A <b>Gaussian prime</b> is a Gaussian integer that is divisible only by a unit, itself or itself times a unit.<br />\n",
    "For example, 1 + 2i is a Gaussian prime, because it is only divisible by 1, i, -1, -i, 1 + 2i, i(1 + 2i) = i - 2, -(1 + 2i) = -1 - 2i and -i(1 + 2i) = 2 - i.<br />\n",
    "2 is not a Gaussian prime as it is divisible by 1 + i.</p>\n",
    "\n",
    "<p>A Gaussian integer can be uniquely factored as the product of a unit and proper Gaussian primes.<br />\n",
    "For example 2 = -i(1 + i)<sup>2</sup> and 1 + 3i = (1 + i)(2 + i).<br />\n",
    "A Gaussian integer is said to be squarefree if its prime factorization does not contain repeated proper Gaussian primes.<br />\n",
    "So 2 is not squarefree over the Gaussian integers, but 1 + 3i is.<br />\n",
    "Units and Gaussian primes are squarefree by definition.</p>\n",
    "\n",
    "<p>Let <var>f</var>(<var>n</var>) be the count of proper squarefree Gaussian integers with <var>a</var><sup>2</sup> + <var>b</var><sup>2</sup> ≤ n.<br />\n",
    "For example <var>f</var>(10) = 7 because 1, 1 + i, 1 + 2i, 1 + 3i = (1 + i)(2 + i), 2 + i, 3 and 3 + i = -i(1 + i)(1 + 2i) are squarefree, while 2 = -i(1 + i)<sup>2</sup> and 2 + 2i = -i(1 + i)<sup>3</sup> are not.<br />\n",
    "You are given <var>f</var>(10<sup>2</sup>) = 54, <var>f</var>(10<sup>4</sup>) = 5218 and <var>f</var>(10<sup>8</sup>) = 52126906.</p>\n",
    "\n",
    "<p>Find <var>f</var>(10<sup>14</sup>).</p>\n",
    "\n"
   ]
  },
  {
   "cell_type": "markdown",
   "id": "1",
   "metadata": {},
   "source": [
    "# Solution\n"
   ]
  },
  {
   "cell_type": "code",
   "execution_count": null,
   "id": "2",
   "metadata": {},
   "outputs": [],
   "source": []
  }
 ],
 "metadata": {},
 "nbformat": 4,
 "nbformat_minor": 5
}
