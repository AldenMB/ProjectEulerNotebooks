{
 "cells": [
  {
   "cell_type": "markdown",
   "id": "0",
   "metadata": {},
   "source": [
    "# <a href=\"http://projecteuler.net/problem=843\">Periodic Circles</a>\n",
    "\n",
    "## Problem 843\n",
    "\n",
    "<p>\n",
    "This problem involves an iterative procedure that begins with a circle of $n\\ge 3$ integers. At each step every number is simultaneously replaced with the absolute difference of its two neighbours.</p>\n",
    "\n",
    "<p>\n",
    "For any initial values, the procedure eventually becomes periodic.</p>\n",
    "\n",
    "<p>\n",
    "Let $S(N)$ be the sum of all possible periods for $3\\le n \\leq N$. For example, $S(6) = 6$, because the possible periods for $3\\le n \\leq 6$ are $1, 2, 3$. All these $n$ can have period $1$; in addition $n=5$ can have period $3$ and $n=6$ can have period $2$.</p>\n",
    "\n",
    "<p>\n",
    "You are also given $S(30) = 20381$.</p>\n",
    "\n",
    "<p>\n",
    "Find $S(100)$.</p>\n"
   ]
  },
  {
   "cell_type": "markdown",
   "id": "1",
   "metadata": {},
   "source": [
    "# Solution\n"
   ]
  },
  {
   "cell_type": "code",
   "execution_count": null,
   "id": "2",
   "metadata": {},
   "outputs": [],
   "source": []
  }
 ],
 "metadata": {},
 "nbformat": 4,
 "nbformat_minor": 5
}
