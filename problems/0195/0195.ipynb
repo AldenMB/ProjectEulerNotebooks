{
 "cells": [
  {
   "cell_type": "markdown",
   "id": "0",
   "metadata": {},
   "source": [
    "# <a href=\"https://projecteuler.net/problem=195\">Inscribed circles of triangles with one angle of 60 degrees</a>\n",
    "\n",
    "## Problem 195\n",
    "\n",
    "<p>Let's call an integer sided triangle with exactly one angle of 60 degrees a 60-degree triangle.<br />\n",
    "Let <var>r</var> be the radius of the inscribed circle of such a 60-degree triangle.</p>\n",
    "<p>There are 1234 60-degree triangles for which <var>r</var> ≤ 100.\n",
    "<br />Let T(<var>n</var>) be the number of 60-degree triangles for which <var>r</var> ≤ <var>n</var>, so<br />\n",
    " T(100) = 1234,  T(1000) = 22767, and  T(10000) = 359912.</p>\n",
    "\n",
    "<p>Find T(1053779).</p>\n",
    "\n"
   ]
  },
  {
   "cell_type": "markdown",
   "id": "1",
   "metadata": {},
   "source": [
    "# Solution\n"
   ]
  },
  {
   "cell_type": "code",
   "execution_count": null,
   "id": "2",
   "metadata": {},
   "outputs": [],
   "source": []
  }
 ],
 "metadata": {},
 "nbformat": 4,
 "nbformat_minor": 5
}
