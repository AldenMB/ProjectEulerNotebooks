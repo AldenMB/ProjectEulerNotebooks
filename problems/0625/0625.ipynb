{
 "cells": [
  {
   "cell_type": "markdown",
   "id": "0",
   "metadata": {},
   "source": [
    "# <a href=\"https://projecteuler.net/problem=625\">Gcd sum</a>\n",
    "\n",
    "## Problem 625\n",
    "\n",
    "<p>\n",
    "$G(N)=\\sum_{j=1}^N\\sum_{i=1}^j \\text{gcd}(i,j)$. <br />\n",
    "You are given: $G(10)=122$.</p>\n",
    "<p>\n",
    "Find $G(10^{11})$. Give your answer modulo 998244353\n",
    "</p>\n",
    "\n",
    "\n",
    "\n",
    "\n",
    "\n"
   ]
  },
  {
   "cell_type": "markdown",
   "id": "1",
   "metadata": {},
   "source": [
    "# Solution\n"
   ]
  },
  {
   "cell_type": "code",
   "execution_count": null,
   "id": "2",
   "metadata": {},
   "outputs": [],
   "source": []
  }
 ],
 "metadata": {},
 "nbformat": 4,
 "nbformat_minor": 5
}
