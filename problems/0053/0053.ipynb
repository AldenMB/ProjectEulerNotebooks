{
 "cells": [
  {
   "cell_type": "markdown",
   "id": "0",
   "metadata": {},
   "source": [
    "# <a href=\"https://projecteuler.net/problem=53\">Combinatoric selections</a>\n",
    "\n",
    "## Problem 53\n",
    "\n",
    "<p>There are exactly ten ways of selecting three from five, 12345:</p>\n",
    "<p style=\"text-align: center !important\">123, 124, 125, 134, 135, 145, 234, 235, 245, and 345</p>\n",
    "<p>In combinatorics, we use the notation, $\\displaystyle \\binom 5 3 = 10$.</p>\n",
    "<p>In general, $\\displaystyle \\binom n r = \\dfrac{n!}{r!(n-r)!}$, where $r \\le n$, $n! = n \\times (n-1) \\times ... \\times 3 \\times 2 \\times 1$, and $0! = 1$.\n",
    "</p>\n",
    "<p>It is not until $n = 23$, that a value exceeds one-million: $\\displaystyle \\binom {23} {10} = 1144066$.</p>\n",
    "<p>How many, not necessarily distinct, values of $\\displaystyle \\binom n r$ for $1 \\le n \\le 100$, are greater than one-million?</p>\n"
   ]
  },
  {
   "cell_type": "markdown",
   "id": "1",
   "metadata": {},
   "source": [
    "# Solution\n"
   ]
  },
  {
   "cell_type": "code",
   "execution_count": null,
   "id": "2",
   "metadata": {},
   "outputs": [],
   "source": []
  }
 ],
 "metadata": {},
 "nbformat": 4,
 "nbformat_minor": 5
}
