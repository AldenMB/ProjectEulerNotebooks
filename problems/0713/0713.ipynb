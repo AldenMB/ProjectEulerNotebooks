{
 "cells": [
  {
   "cell_type": "markdown",
   "id": "0",
   "metadata": {},
   "source": [
    "# <a href=\"https://projecteuler.net/problem=713\">Turán's water heating system</a>\n",
    "\n",
    "## Problem 713\n",
    "\n",
    "<p>\n",
    "Turan has the electrical water heating system outside his house in a shed. The electrical system uses two fuses in series, one in the house and one in the shed. (Nowadays old fashioned fuses are often replaced with reusable mini circuit breakers, but Turan's system still uses old fashioned fuses.)\n",
    "For the heating system to work both fuses must work.\n",
    "</p>\n",
    "<p>\n",
    "Turan has $N$ fuses. He knows that $m$ of them are working and the rest are blown. However, he doesn't know which ones are blown. So he tries different combinations until the heating system turns on.<br />\n",
    "We denote by $T(N,m)$ the smallest number of tries required to <i>ensure</i> the heating system turns on.<br />\n",
    "$T(3,2)=3$ and $T(8,4)=7$.\n",
    "</p>\n",
    "<p>\n",
    "Let $L(N)$ be the sum of all $T(N, m)$ for $2 \\leq m \\leq N$.<br />\n",
    "$L(10^3)=3281346$\n",
    "</p>\n",
    "<p>\n",
    "Find $L(10^7)$.\n",
    "</p>\n"
   ]
  },
  {
   "cell_type": "markdown",
   "id": "1",
   "metadata": {},
   "source": [
    "# Solution\n"
   ]
  },
  {
   "cell_type": "code",
   "execution_count": null,
   "id": "2",
   "metadata": {},
   "outputs": [],
   "source": []
  }
 ],
 "metadata": {},
 "nbformat": 4,
 "nbformat_minor": 5
}
