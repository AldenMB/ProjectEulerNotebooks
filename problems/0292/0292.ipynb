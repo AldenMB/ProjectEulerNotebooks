{
 "cells": [
  {
   "cell_type": "markdown",
   "id": "0",
   "metadata": {},
   "source": [
    "# <a href=\"https://projecteuler.net/problem=292\">Pythagorean Polygons</a>\n",
    "\n",
    "## Problem 292\n",
    "\n",
    "<p>We shall define a <i>pythagorean polygon</i>  to be a <b>convex polygon</b> with the following properties:<br /></p><ul><li>there are at least three vertices,</li>\n",
    "<li>no three vertices are aligned,</li>\n",
    "<li>each vertex has <b>integer coordinates</b>,</li>\n",
    "<li>each edge has <b>integer length</b>.</li></ul><p>For a given integer <var>n</var>, define P(<var>n</var>) as the number of distinct pythagorean polygons for which the perimeter is ≤ <var>n</var>.<br />\n",
    "Pythagorean polygons should be considered distinct as long as none is a translation of another.</p>\n",
    "\n",
    "<p>You are given that P(4) = 1, P(30) = 3655 and P(60) = 891045.<br />\n",
    "Find P(120).</p>\n"
   ]
  },
  {
   "cell_type": "markdown",
   "id": "1",
   "metadata": {},
   "source": [
    "# Solution\n"
   ]
  },
  {
   "cell_type": "code",
   "execution_count": null,
   "id": "2",
   "metadata": {},
   "outputs": [],
   "source": []
  }
 ],
 "metadata": {},
 "nbformat": 4,
 "nbformat_minor": 5
}
