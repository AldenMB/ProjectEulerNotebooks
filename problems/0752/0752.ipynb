{
 "cells": [
  {
   "cell_type": "markdown",
   "id": "0",
   "metadata": {},
   "source": [
    "# <a href=\"https://projecteuler.net/problem=752\">Powers of $1+\\sqrt 7$</a>\n",
    "\n",
    "## Problem 752\n",
    "\n",
    "<p>\n",
    "When $(1+\\sqrt 7)$ is raised to an integral power, $n$, we always get a number of the form $(a+b\\sqrt 7)$.<br />\n",
    "We write $(1+\\sqrt 7)^n = \\alpha(n) + \\beta(n)\\sqrt 7$.\n",
    "</p>\n",
    "<p>\n",
    "For a given number $x$ we  define $g(x)$ to be the smallest positive integer $n$ such that:\n",
    "$$\\begin{align}\n",
    "\\alpha(n) &amp;\\equiv 1 \\pmod x\\qquad \\text{and }\\\\\n",
    "\\beta(n) &amp;\\equiv 0 \\pmod x\\end{align}\n",
    "$$\n",
    "and $g(x) = 0$ if there is no such value of $n$. For example, $g(3) = 0$, $g(5) = 12$.\n",
    "</p>\n",
    "<p>\n",
    "Further define\n",
    "$$ G(N) = \\sum_{x=2}^{\\strut N} g(x)$$\n",
    "You are given $G(10^2) = 28891$ and $G(10^3)  = 13131583$.\n",
    "</p>\n",
    "<p>\n",
    "Find $G(10^6)$.\n",
    "</p>\n"
   ]
  },
  {
   "cell_type": "markdown",
   "id": "1",
   "metadata": {},
   "source": [
    "# Solution\n"
   ]
  },
  {
   "cell_type": "code",
   "execution_count": null,
   "id": "2",
   "metadata": {},
   "outputs": [],
   "source": []
  }
 ],
 "metadata": {},
 "nbformat": 4,
 "nbformat_minor": 5
}
