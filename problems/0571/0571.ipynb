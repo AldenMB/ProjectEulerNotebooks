{
 "cells": [
  {
   "cell_type": "markdown",
   "id": "0",
   "metadata": {},
   "source": [
    "# <a href=\"https://projecteuler.net/problem=571\">Super Pandigital Numbers</a>\n",
    "\n",
    "## Problem 571\n",
    "\n",
    "<p>A positive number is <b>pandigital</b> in base <var>b</var> if it contains all digits from 0 to <var>b</var> - 1 at least once when written in base <var>b</var>.</p>\n",
    "\n",
    "<p>A <i>n-super-pandigital</i> number is a number that is simultaneously pandigital in all bases from 2 to <var>n</var> inclusively.<br />\n",
    "For example 978 = 1111010010<sub>2</sub> = 1100020<sub>3</sub> = 33102<sub>4</sub> = 12403<sub>5</sub> is the smallest 5-super-pandigital number.<br />\n",
    "Similarly, 1093265784 is the smallest 10-super-pandigital number.<br />\n",
    "The sum of the 10 smallest 10-super-pandigital numbers is 20319792309.</p>\n",
    "\n",
    "<p>What is the sum of the 10 smallest 12-super-pandigital numbers?</p>\n"
   ]
  },
  {
   "cell_type": "markdown",
   "id": "1",
   "metadata": {},
   "source": [
    "# Solution\n"
   ]
  },
  {
   "cell_type": "code",
   "execution_count": null,
   "id": "2",
   "metadata": {},
   "outputs": [],
   "source": []
  }
 ],
 "metadata": {},
 "nbformat": 4,
 "nbformat_minor": 5
}
