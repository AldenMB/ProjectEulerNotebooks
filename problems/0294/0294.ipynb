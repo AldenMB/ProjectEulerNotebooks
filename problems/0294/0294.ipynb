{
 "cells": [
  {
   "cell_type": "markdown",
   "id": "0",
   "metadata": {},
   "source": [
    "# <a href=\"https://projecteuler.net/problem=294\">Sum of digits - experience #23</a>\n",
    "\n",
    "## Problem 294\n",
    "\n",
    "<p>\n",
    "For a positive integer k, define d(k) as the sum of the digits of k in its usual decimal representation.\n",
    "Thus d(42) = 4+2 = 6.\n",
    "</p>\n",
    "<p>\n",
    "For a positive integer n, define S(n) as the number of positive integers k &lt; 10<sup>n</sup> with the following properties :\n",
    "</p><ul><li>k is divisible by 23 and\n",
    "</li><li>d(k) = 23.\n",
    "</li></ul>\n",
    "You are given that S(9) = 263626 and S(42) = 6377168878570056.\n",
    "\n",
    "<p>\n",
    "Find S(11<sup>12</sup>) and give your answer mod 10<sup>9</sup>.\n",
    "</p>\n",
    "\n"
   ]
  },
  {
   "cell_type": "markdown",
   "id": "1",
   "metadata": {},
   "source": [
    "# Solution\n"
   ]
  },
  {
   "cell_type": "code",
   "execution_count": null,
   "id": "2",
   "metadata": {},
   "outputs": [],
   "source": []
  }
 ],
 "metadata": {},
 "nbformat": 4,
 "nbformat_minor": 5
}
