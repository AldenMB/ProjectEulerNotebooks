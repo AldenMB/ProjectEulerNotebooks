{
 "cells": [
  {
   "cell_type": "markdown",
   "id": "0",
   "metadata": {},
   "source": [
    "# <a href=\"https://projecteuler.net/problem=246\">Tangents to an ellipse</a>\n",
    "\n",
    "## Problem 246\n",
    "\n",
    "<p>\n",
    "A definition for an ellipse is:<br />\n",
    "Given a circle c with centre M and radius r and a point G such that d(G,M)&lt;r, the locus of the points that are equidistant from c and G form an ellipse.\n",
    "</p>\n",
    "The construction of the points of the ellipse is shown below.\n",
    "\n",
    "<div style=\"text-align: center !important\">\n",
    "<img src=\"p246_anim.gif\" class=\"dark_img\" alt=\"\" /></div>\n",
    "\n",
    "<p>\n",
    "Given are the points M(-2000,1500) and G(8000,1500).<br /> \n",
    "Given is also the circle c with centre M and radius 15000.<br />\n",
    "The locus of the points that are equidistant from G and c form an ellipse e.<br />\n",
    "From a point P outside e the two tangents t<sub>1</sub> and t<sub>2</sub> to the ellipse are drawn.<br />\n",
    "Let the points where t<sub>1</sub> and t<sub>2</sub> touch the ellipse be R and S.\n",
    "</p>\n",
    "<div style=\"text-align: center !important\">\n",
    "<img src=\"p246_ellipse.gif\" class=\"dark_img\" alt=\"\" /></div>\n",
    "<p>\n",
    "For how many lattice points P is angle RPS greater than 45 degrees?\n",
    "</p>\n",
    "\n"
   ]
  },
  {
   "cell_type": "markdown",
   "id": "1",
   "metadata": {},
   "source": [
    "# Solution\n"
   ]
  },
  {
   "cell_type": "code",
   "execution_count": null,
   "id": "2",
   "metadata": {},
   "outputs": [],
   "source": []
  }
 ],
 "metadata": {},
 "nbformat": 4,
 "nbformat_minor": 5
}
