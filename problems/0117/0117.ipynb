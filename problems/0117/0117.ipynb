{
 "cells": [
  {
   "cell_type": "markdown",
   "id": "0",
   "metadata": {},
   "source": [
    "# <a href=\"https://projecteuler.net/problem=117\">Red, green, and blue tiles</a>\n",
    "\n",
    "## Problem 117\n",
    "\n",
    "<p>Using a combination of grey square tiles and oblong tiles chosen from: red tiles (measuring two units), green tiles (measuring three units), and blue tiles (measuring four units), it is possible to tile a row measuring five units in length in exactly fifteen different ways.</p>\n",
    "\n",
    "<div style=\"text-align: center !important\">\n",
    "<img src=\"p117.png\" alt=\"png117.png\" /></div>\n",
    "\n",
    "<p>How many ways can a row measuring fifty units in length be tiled?</p>\n",
    "<p class=\"note\">NOTE: This is related to <a href=\"problem=116\">Problem 116</a>.</p>\n"
   ]
  },
  {
   "cell_type": "markdown",
   "id": "1",
   "metadata": {},
   "source": [
    "# Solution\n"
   ]
  },
  {
   "cell_type": "code",
   "execution_count": null,
   "id": "2",
   "metadata": {},
   "outputs": [],
   "source": []
  }
 ],
 "metadata": {},
 "nbformat": 4,
 "nbformat_minor": 5
}
