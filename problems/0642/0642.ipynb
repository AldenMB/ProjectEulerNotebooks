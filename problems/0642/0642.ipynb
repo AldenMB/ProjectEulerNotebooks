{
 "cells": [
  {
   "cell_type": "markdown",
   "id": "0",
   "metadata": {},
   "source": [
    "# <a href=\"https://projecteuler.net/problem=642\">Sum of largest prime factors</a>\n",
    "\n",
    "## Problem 642\n",
    "\n",
    "<p>Let $f(n)$ be the largest prime factor of $n$ and $\\displaystyle F(n) = \\sum_{i=2}^{n}f(i)$.<br />\n",
    "For example $F(10)=32$, $F(100)=1915$ and $F(10000)=10118280$.</p>\n",
    "<p>\n",
    "Find $F(201820182018)$. Give your answer modulus $10^9$.</p>\n"
   ]
  },
  {
   "cell_type": "markdown",
   "id": "1",
   "metadata": {},
   "source": [
    "# Solution\n"
   ]
  },
  {
   "cell_type": "code",
   "execution_count": null,
   "id": "2",
   "metadata": {},
   "outputs": [],
   "source": []
  }
 ],
 "metadata": {},
 "nbformat": 4,
 "nbformat_minor": 5
}
