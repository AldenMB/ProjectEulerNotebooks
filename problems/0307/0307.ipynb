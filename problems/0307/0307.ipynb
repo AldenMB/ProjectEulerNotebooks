{
 "cells": [
  {
   "cell_type": "markdown",
   "id": "0",
   "metadata": {},
   "source": [
    "# <a href=\"https://projecteuler.net/problem=307\">Chip Defects</a>\n",
    "\n",
    "## Problem 307\n",
    "\n",
    "<p>\n",
    "<var>k</var> defects are randomly distributed amongst <var>n</var> integrated-circuit chips produced by a factory (any number of defects may be found on a chip and each defect is independent of the other defects).\n",
    "</p>\n",
    "<p>\n",
    "Let p(<var>k,n</var>) represent the probability that there is a chip with at least 3 defects.<br />\n",
    "For instance p(3,7) ≈ 0.0204081633.\n",
    "</p>\n",
    "<p>\n",
    "Find p(20 000, 1 000 000) and give your answer rounded to 10 decimal places in the form 0.abcdefghij\n",
    "</p>\n"
   ]
  },
  {
   "cell_type": "markdown",
   "id": "1",
   "metadata": {},
   "source": [
    "# Solution\n"
   ]
  },
  {
   "cell_type": "code",
   "execution_count": null,
   "id": "2",
   "metadata": {},
   "outputs": [],
   "source": []
  }
 ],
 "metadata": {},
 "nbformat": 4,
 "nbformat_minor": 5
}
