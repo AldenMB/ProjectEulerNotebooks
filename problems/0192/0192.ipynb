{
 "cells": [
  {
   "cell_type": "markdown",
   "id": "0",
   "metadata": {},
   "source": [
    "# <a href=\"https://projecteuler.net/problem=192\">Best Approximations</a>\n",
    "\n",
    "## Problem 192\n",
    "\n",
    "<p>Let $x$ be a real number.<br />\n",
    "A <b>best approximation</b> to $x$ for the <b>denominator bound</b> $d$ is a rational number $\\frac r s $  in<b> reduced form</b>, with $s \\le d$, such that any rational number which is closer to $x$ than $\\frac r s$ has a denominator larger than $d$:</p>\n",
    "\n",
    "<div style=\"text-align: center !important\"> $|\\frac p q -x | &lt; |\\frac r s -x| \\Rightarrow q &gt; d$\n",
    "</div>\n",
    "\n",
    "<p>For example, the best approximation to $\\sqrt {13}$ for the denominator bound 20 is $\\frac {18} 5$ and the best approximation to $\\sqrt {13}$ for the denominator bound 30 is $\\frac {101}{28}$.</p>\n",
    "\n",
    "<p>Find the sum of all denominators of the best approximations to $\\sqrt n$ for the denominator bound $10^{12}$, where $n$ is not a perfect square and $ 1 &lt; n \\le 100000$. </p>\n"
   ]
  },
  {
   "cell_type": "markdown",
   "id": "1",
   "metadata": {},
   "source": [
    "# Solution\n"
   ]
  },
  {
   "cell_type": "code",
   "execution_count": null,
   "id": "2",
   "metadata": {},
   "outputs": [],
   "source": []
  }
 ],
 "metadata": {},
 "nbformat": 4,
 "nbformat_minor": 5
}
