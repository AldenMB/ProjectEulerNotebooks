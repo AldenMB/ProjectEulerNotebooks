{
 "cells": [
  {
   "cell_type": "markdown",
   "id": "0",
   "metadata": {},
   "source": [
    "# <a href=\"http://projecteuler.net/problem=860\">Gold and Silver Coin Game</a>\n",
    "\n",
    "## Problem 860\n",
    "\n",
    "<p>\n",
    "Gary and Sally play a game using gold and silver coins arranged into a number of vertical stacks, alternating turns. On Gary's turn he chooses a gold coin and removes it from the game along with any other coins sitting on top. Sally does the same on her turn by removing a silver coin. The first player unable to make a move loses.</p>\n",
    "\n",
    "<p>\n",
    "An arrangement is called <dfn>fair</dfn> if the person moving first, whether it be Gary or Sally, will lose the game if both play optimally.</p>\n",
    "\n",
    "<p>\n",
    "Define $F(n)$ to be the number of fair arrangements of $n$ stacks, all of size $2$. Different orderings of the stacks are to be counted separately, so $F(2) = 4$ due to the following four arrangements:</p>\n",
    "\n",
    "<div style=\"text-align: center !important\">\n",
    "<img src=\"resources/images/0860_diag3.jpg?1696883006\" alt=\"0860_diag3.jpg\">\n",
    "</div>\n",
    "\n",
    "<p>\n",
    "You are also given $F(10) = 63594$.</p>\n",
    "\n",
    "<p>\n",
    "Find $F(9898)$. Give your answer modulo $989898989$</p>\n",
    "\n"
   ]
  },
  {
   "cell_type": "markdown",
   "id": "1",
   "metadata": {},
   "source": [
    "# Solution\n"
   ]
  },
  {
   "cell_type": "code",
   "execution_count": null,
   "id": "2",
   "metadata": {},
   "outputs": [],
   "source": []
  }
 ],
 "metadata": {},
 "nbformat": 4,
 "nbformat_minor": 5
}
