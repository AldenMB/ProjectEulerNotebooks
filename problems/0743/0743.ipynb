{
 "cells": [
  {
   "cell_type": "markdown",
   "id": "0",
   "metadata": {},
   "source": [
    "# <a href=\"https://projecteuler.net/problem=743\">Window into a Matrix</a>\n",
    "\n",
    "## Problem 743\n",
    "\n",
    "<p>\n",
    "A window into a matrix is a contiguous sub matrix.\n",
    "</p>\n",
    "<p>\n",
    "Consider a $2\\times n$ matrix where every entry is either 0 or 1.<br />\n",
    "Let $A(k,n)$ be the total number of these matrices such that the sum of the entries in every $2\\times k$ window is $k$.\n",
    "</p>\n",
    "<p>\n",
    "You are given that $A(3,9) = 560$ and $A(4,20) = 1060870$.\n",
    "</p>\n",
    "<p>\n",
    "Find $A(10^8,10^{16})$. Give your answer modulo $1\\,000\\,000\\,007$.\n",
    "</p>\n"
   ]
  },
  {
   "cell_type": "markdown",
   "id": "1",
   "metadata": {},
   "source": [
    "# Solution\n"
   ]
  },
  {
   "cell_type": "code",
   "execution_count": null,
   "id": "2",
   "metadata": {},
   "outputs": [],
   "source": []
  }
 ],
 "metadata": {},
 "nbformat": 4,
 "nbformat_minor": 5
}
