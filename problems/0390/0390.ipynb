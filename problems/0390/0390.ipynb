{
 "cells": [
  {
   "cell_type": "markdown",
   "id": "0",
   "metadata": {},
   "source": [
    "# <a href=\"https://projecteuler.net/problem=390\">Triangles with non rational sides and integral area</a>\n",
    "\n",
    "## Problem 390\n",
    "\n",
    "<p>Consider the triangle with sides $\\sqrt 5$, $\\sqrt {65}$ and $\\sqrt {68}$.\n",
    "It can be shown that this triangle has area $9$.</p>\n",
    "\n",
    "<p>$S(n)$ is the sum of the areas of  all triangles with sides $\\sqrt{1+b^2}$, $\\sqrt {1+c^2}$ and $\\sqrt{b^2+c^2}\\,$ (for positive integers $b$ and $c$) that have an integral area not exceeding $n$.</p>\n",
    "\n",
    "<p>The example triangle has $b=2$ and $c=8$.</p>\n",
    "\n",
    "<p>$S(10^6)=18018206$.</p>\n",
    "\n",
    "<p>Find $S(10^{10})$.</p>\n"
   ]
  },
  {
   "cell_type": "markdown",
   "id": "1",
   "metadata": {},
   "source": [
    "# Solution\n"
   ]
  },
  {
   "cell_type": "code",
   "execution_count": null,
   "id": "2",
   "metadata": {},
   "outputs": [],
   "source": []
  }
 ],
 "metadata": {},
 "nbformat": 4,
 "nbformat_minor": 5
}
