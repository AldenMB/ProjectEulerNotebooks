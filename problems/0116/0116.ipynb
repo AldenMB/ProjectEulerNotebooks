{
 "cells": [
  {
   "cell_type": "markdown",
   "id": "0",
   "metadata": {},
   "source": [
    "# <a href=\"https://projecteuler.net/problem=116\">Red, green or blue tiles</a>\n",
    "\n",
    "## Problem 116\n",
    "\n",
    "<p>A row of five grey square tiles is to have a number of its tiles replaced with coloured oblong tiles chosen from red (length two), green (length three), or blue (length four).</p>\n",
    "<p>If red tiles are chosen there are exactly seven ways this can be done.</p>\n",
    "\n",
    "<div style=\"text-align: center !important\">\n",
    "<img src=\"p116_1.png\" alt=\"png116_1.png\" /></div>\n",
    "\n",
    "<p>If green tiles are chosen there are three ways.</p>\n",
    "\n",
    "<div style=\"text-align: center !important\">\n",
    "<img src=\"p116_2.png\" alt=\"png116_2.png\" /></div>\n",
    "\n",
    "<p>And if blue tiles are chosen there are two ways.</p>\n",
    "\n",
    "<div style=\"text-align: center !important\">\n",
    "<img src=\"p116_3.png\" alt=\"png116_3.png\" /></div>\n",
    "\n",
    "<p>Assuming that colours cannot be mixed there are 7 + 3 + 2 = 12 ways of replacing the grey tiles in a row measuring five units in length.</p>\n",
    "<p>How many different ways can the grey tiles in a row measuring fifty units in length be replaced if colours cannot be mixed and at least one coloured tile must be used?</p>\n",
    "<p class=\"note\">NOTE: This is related to <a href=\"problem=117\">Problem 117</a>.</p>\n"
   ]
  },
  {
   "cell_type": "markdown",
   "id": "1",
   "metadata": {},
   "source": [
    "# Solution\n"
   ]
  },
  {
   "cell_type": "code",
   "execution_count": null,
   "id": "2",
   "metadata": {},
   "outputs": [],
   "source": []
  }
 ],
 "metadata": {},
 "nbformat": 4,
 "nbformat_minor": 5
}
