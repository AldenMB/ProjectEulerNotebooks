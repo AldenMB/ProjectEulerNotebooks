{
 "cells": [
  {
   "cell_type": "markdown",
   "id": "0",
   "metadata": {},
   "source": [
    "# <a href=\"http://projecteuler.net/problem=899\">DistribuNim I</a>\n",
    "\n",
    "## Problem 899\n",
    "\n",
    "<p>\n",
    "Two players play a game with two piles of stones. The players alternately take stones from one or both piles, subject to:</p>\n",
    "\n",
    "<ol>\n",
    "<li>the total number of stones taken is equal to the size of the smallest pile before the move;</li>\n",
    "\n",
    "<li>the move cannot take all the stones from a pile.</li>\n",
    "</ol>\n",
    "\n",
    "<p>\n",
    "The player that is unable to move loses.</p>\n",
    "\n",
    "<p>\n",
    "For example, if the piles are of sizes 3 and 5 then there are three possible moves.\n",
    "$$(3,5) \\xrightarrow{(2,1)} (1,4)\\qquad\\qquad (3,5) \\xrightarrow{(1,2)} (2,3)\\qquad\\qquad (3,5) \\xrightarrow{(0,3)} (3,2)$$</p>\n",
    "\n",
    "<p>\n",
    "Let $L(n)$ be the number of ordered pairs $(a,b)$ with $1 \\leq a,b \\leq n$ such that the initial game position with piles of sizes $a$ and $b$ is losing for the first player assuming optimal play.</p>\n",
    "\n",
    "<p>\n",
    "You are given $L(7) = 21$ and $L(7^2) = 221$.</p>\n",
    "\n",
    "<p>\n",
    "Find $L(7^{17})$.</p>\n",
    "\n"
   ]
  },
  {
   "cell_type": "markdown",
   "id": "1",
   "metadata": {},
   "source": [
    "# Solution\n"
   ]
  },
  {
   "cell_type": "code",
   "execution_count": null,
   "id": "2",
   "metadata": {},
   "outputs": [],
   "source": []
  }
 ],
 "metadata": {},
 "nbformat": 4,
 "nbformat_minor": 5
}
