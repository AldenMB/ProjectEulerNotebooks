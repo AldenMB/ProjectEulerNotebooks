{
 "cells": [
  {
   "cell_type": "markdown",
   "id": "0",
   "metadata": {},
   "source": [
    "# <a href=\"https://projecteuler.net/problem=659\">Largest prime</a>\n",
    "\n",
    "## Problem 659\n",
    "\n",
    "<p>\n",
    "Consider the sequence  $n^2+3$ with $n \\ge 1$. <br /> \n",
    "If we write down the first terms of this sequence we get:<br />\n",
    "$4, 7, 12, 19, 28, 39, 52, 67, 84, 103, 124, 147, 172, 199, 228, 259, 292, 327, 364,$... .<br />\n",
    "We see that the terms for $n=6$ and $n=7$ ($39$ and $52$) are both divisible by $13$.<br />\n",
    "In fact $13$ is the largest prime dividing any two successive terms of this sequence.\n",
    "</p>\n",
    "<p>\n",
    "Let $P(k)$ be the largest prime  that divides any two successive terms of the sequence $n^2+k^2$.\n",
    "</p>\n",
    "<p>\n",
    "Find the last 18 digits of $\\displaystyle \\sum_{k=1}^{10\\,000\\,000} P(k)$.\n",
    "</p>\n",
    "\n",
    "\n"
   ]
  },
  {
   "cell_type": "markdown",
   "id": "1",
   "metadata": {},
   "source": [
    "# Solution\n"
   ]
  },
  {
   "cell_type": "code",
   "execution_count": null,
   "id": "2",
   "metadata": {},
   "outputs": [],
   "source": []
  }
 ],
 "metadata": {},
 "nbformat": 4,
 "nbformat_minor": 5
}
