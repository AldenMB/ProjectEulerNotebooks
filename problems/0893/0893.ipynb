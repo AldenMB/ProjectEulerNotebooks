{
 "cells": [
  {
   "cell_type": "markdown",
   "id": "0",
   "metadata": {},
   "source": [
    "# <a href=\"http://projecteuler.net/problem=893\">Matchsticks</a>\n",
    "\n",
    "## Problem 893\n",
    "\n",
    "<p>\n",
    "Define $M(n)$ to be the minimum number of matchsticks needed to represent the number $n$.</p>\n",
    "\n",
    "<p>\n",
    "A number can be represented in digit form or as an expression involving addition and/or multiplication. Also order of operations must be followed, that is multiplication binding tighter than addition. Any other symbols or operations, such as brackets, subtraction, division or exponentiation, are not allowed.</p>\n",
    "\n",
    "<p>\n",
    "The valid digits and symbols are shown below:</p>\n",
    "<div style=\"text-align:center;\">\n",
    "<img src=\"resources/images/0893_DigitDiagram.jpg?1714876316\" alt=\"0893_DigitDiagram.jpg\" height=\"433\" width=\"668\"></div>\n",
    "\n",
    "<p>\n",
    "For example, $28$ needs $12$ matchsticks to represent it in digit form but representing it as $4\\times 7$ would only need $9$ matchsticks and as there is no way using fewer matchsticks $M(28) = 9$.</p>\n",
    "\n",
    "<p>\n",
    "Define $\\displaystyle T(N) = \\sum_{n=1}^N M(n)$. You are given $T(100) = 916$.</p>\n",
    "\n",
    "<p>\n",
    "Find $T(10^6)$.</p>\n",
    "\n"
   ]
  },
  {
   "cell_type": "markdown",
   "id": "1",
   "metadata": {},
   "source": [
    "# Solution\n"
   ]
  },
  {
   "cell_type": "code",
   "execution_count": null,
   "id": "2",
   "metadata": {},
   "outputs": [],
   "source": []
  }
 ],
 "metadata": {},
 "nbformat": 4,
 "nbformat_minor": 5
}
