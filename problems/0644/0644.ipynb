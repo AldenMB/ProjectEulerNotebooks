{
 "cells": [
  {
   "cell_type": "markdown",
   "id": "0",
   "metadata": {},
   "source": [
    "# <a href=\"https://projecteuler.net/problem=644\">Squares on the line</a>\n",
    "\n",
    "## Problem 644\n",
    "\n",
    "<p>Sam and Tom are trying a game of (partially) covering a given line segment of length $L$ by taking turns in placing unit squares onto the line segment. </p>\n",
    "\n",
    "<p>As illustrated below, the squares may be positioned in two different ways, either \"straight\" by placing the midpoints of two opposite sides on the line segment, or \"diagonal\" by placing two opposite corners on the line segment. Newly placed squares may touch other squares, but are not allowed to overlap any other square laid down before.<br />\n",
    "The player who is able to place the last unit square onto the line segment wins.</p>\n",
    "<div style=\"text-align: center !important\">\n",
    "<img src=\"p644_squareline.png\" alt=\"p644_squareline.png\" /></div>\n",
    "<p>\n",
    "With Sam starting each game by placing the first square, they quickly realise that Sam can easily win every time by placing the first square in the middle of the line segment, making the game boring. </p>\n",
    "<p>\n",
    "Therefore they decide to randomise Sam's first move, by first tossing a fair coin to determine whether the square will be placed straight or diagonal onto the line segment and then choosing the actual position on the line segment randomly with all possible positions being equally likely. Sam's gain of the game is defined to be 0 if he loses the game and $L$ if he wins. Assuming optimal play of both players after Sam's initial move, you can see that Sam's expected gain, called $e(L)$, is only dependent on the length of the line segment.</p>\n",
    "<p>\n",
    "For example, if $L=2$, Sam will win with a probability of 1, so $e(2)= 2$. <br />\n",
    "Choosing $L=4$, the winning probability will be 0.33333333 for the straight case and 0.22654092 for the diagonal case, leading to $e(4)=1.11974851$ (rounded to 8 digits after the decimal point each). </p>\n",
    "<p>\n",
    "Being interested in the optimal value of $L$ for Sam, let's define $f(a,b)$ to be the maximum of $e(L)$ for some $L \\in [a,b]$. <br />\n",
    "You are given $f(2,10)=2.61969775$, being reached for $L= 7.82842712$, and $f(10,20)=\n",
    "5.99374121$ (rounded to 8 digits each).</p>\n",
    "<p>\n",
    "Find $f(200,500)$, rounded to 8 digits after the decimal point.</p> \n"
   ]
  },
  {
   "cell_type": "markdown",
   "id": "1",
   "metadata": {},
   "source": [
    "# Solution\n"
   ]
  },
  {
   "cell_type": "code",
   "execution_count": null,
   "id": "2",
   "metadata": {},
   "outputs": [],
   "source": []
  }
 ],
 "metadata": {},
 "nbformat": 4,
 "nbformat_minor": 5
}
