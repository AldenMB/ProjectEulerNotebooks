{
 "cells": [
  {
   "cell_type": "markdown",
   "id": "0",
   "metadata": {},
   "source": [
    "# <a href=\"https://projecteuler.net/problem=701\">Random connected area</a>\n",
    "\n",
    "## Problem 701\n",
    "\n",
    "<p>\n",
    "Consider a rectangle made up of $W \\times H$ square cells each with area 1.<br /> Each cell is independently coloured black with probability 0.5 otherwise white. Black cells sharing an edge are assumed to be connected.<br />Consider the maximum area of connected cells.</p>\n",
    "\n",
    "<p>\n",
    "Define $E(W,H)$ to be the expected value of this maximum area.\n",
    "For example, $E(2,2)=1.875$, as illustrated below.\n",
    "</p>\n",
    "<div style=\"text-align: center !important\">\n",
    "<img src=\"p701_randcon.png\" alt=\"3 random connected area\" /></div>\n",
    "<p>\n",
    "You are also given $E(4, 4) = 5.76487732$, rounded to 8 decimal places.\n",
    "</p>\n",
    "<p>\n",
    "Find $E(7, 7)$, rounded to 8 decimal places.\n",
    "</p>\n",
    "\n"
   ]
  },
  {
   "cell_type": "markdown",
   "id": "1",
   "metadata": {},
   "source": [
    "# Solution\n"
   ]
  },
  {
   "cell_type": "code",
   "execution_count": null,
   "id": "2",
   "metadata": {},
   "outputs": [],
   "source": []
  }
 ],
 "metadata": {},
 "nbformat": 4,
 "nbformat_minor": 5
}
