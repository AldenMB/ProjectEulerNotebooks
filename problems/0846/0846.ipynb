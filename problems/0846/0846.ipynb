{
 "cells": [
  {
   "cell_type": "markdown",
   "id": "0",
   "metadata": {},
   "source": [
    "# <a href=\"http://projecteuler.net/problem=846\">Magic Bracelets</a>\n",
    "\n",
    "## Problem 846\n",
    "\n",
    "<p>\n",
    "A <i>bracelet</i> is made by connecting at least three numbered beads in a circle. Each bead can only display $1$, $2$, or any number of the form $p^k$ or $2p^k$ for odd prime $p$.</p>\n",
    "\n",
    "<p>\n",
    "In addition a <i>magic bracelet</i> must satisfy the following two conditions:</p>\n",
    "<ul>\n",
    "<li> no two beads display the same number</li>\n",
    "<li> the product of the numbers of any two adjacent beads is of the form $x^2+1$</li>\n",
    "</ul>\n",
    "\n",
    "<div style=\"text-align:center;\">\n",
    "<img src=\"resources/images/0846_diagram.jpg?1684224225\" alt=\"0846_diagram.jpg\" width=\"640\" height=\"225\">\n",
    "</div>\n",
    "\n",
    "<p>\n",
    "Define the <i>potency</i> of a magic bracelet to be the sum of numbers on its beads. </p>\n",
    "<p>\n",
    "The example is a magic bracelet with five beads which has a potency of 155. </p>\n",
    "\n",
    "<p>\n",
    "Let $F(N)$ be the sum of the potency of each magic bracelet which can be formed using positive integers not exceeding $N$, where rotations and reflections of an arrangement are considered equivalent. You are given $F(20)=258$ and $F(10^2)=538768$.</p>\n",
    "\n",
    "<p>\n",
    "Find $F(10^6)$.</p>\n",
    "\n",
    "\n",
    "\n"
   ]
  },
  {
   "cell_type": "markdown",
   "id": "1",
   "metadata": {},
   "source": [
    "# Solution\n"
   ]
  },
  {
   "cell_type": "code",
   "execution_count": null,
   "id": "2",
   "metadata": {},
   "outputs": [],
   "source": []
  }
 ],
 "metadata": {},
 "nbformat": 4,
 "nbformat_minor": 5
}
