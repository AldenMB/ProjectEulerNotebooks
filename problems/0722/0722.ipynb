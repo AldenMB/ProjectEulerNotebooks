{
 "cells": [
  {
   "cell_type": "markdown",
   "id": "0",
   "metadata": {},
   "source": [
    "# <a href=\"https://projecteuler.net/problem=722\">Slowly converging series</a>\n",
    "\n",
    "## Problem 722\n",
    "\n",
    "<p>For a non-negative integer $k$, define\n",
    "\\[\n",
    "E_k(q) = \\sum\\limits_{n = 1}^\\infty \\sigma_k(n)q^n\n",
    "\\]\n",
    "where $\\sigma_k(n) = \\sum_{d \\mid n} d^k$ is the sum of the $k$-th powers of the positive divisors of $n$.</p>\n",
    "\n",
    "<p>It can be shown that, for every $k$, the series $E_k(q)$ converges for any $0 &lt; q &lt; 1$.</p>\n",
    "\n",
    "<p>For example,<br />\n",
    "$E_1(1 - \\frac{1}{2^4}) = \\mathrm{3.872155809243e2}$<br />\n",
    "$E_3(1 - \\frac{1}{2^8}) = \\mathrm{2.767385314772e10}$<br />\n",
    "$E_7(1 - \\frac{1}{2^{15}}) = \\mathrm{6.725803486744e39}$<br />\n",
    "All the above values are given in scientific notation rounded to twelve digits after the decimal point.</p>\n",
    "\n",
    "<p>Find the value of $E_{15}(1 - \\frac{1}{2^{25}})$.<br />\n",
    "Give the answer in scientific notation rounded to twelve digits after the decimal point.</p>\n",
    "\n"
   ]
  },
  {
   "cell_type": "markdown",
   "id": "1",
   "metadata": {},
   "source": [
    "# Solution\n"
   ]
  },
  {
   "cell_type": "code",
   "execution_count": null,
   "id": "2",
   "metadata": {},
   "outputs": [],
   "source": []
  }
 ],
 "metadata": {},
 "nbformat": 4,
 "nbformat_minor": 5
}
