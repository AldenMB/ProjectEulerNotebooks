{
 "cells": [
  {
   "cell_type": "markdown",
   "id": "0",
   "metadata": {},
   "source": [
    "# <a href=\"https://projecteuler.net/problem=349\">Langton's ant</a>\n",
    "\n",
    "## Problem 349\n",
    "\n",
    "<p>\n",
    "An ant moves on a regular grid of squares that are coloured either black or white.<br /> \n",
    "The ant is always oriented in one of the cardinal directions (left, right, up or down) and moves from square to adjacent square according to the following rules:<br />\n",
    "- if it is on a black square, it flips the colour of the square to white, rotates 90 degrees counterclockwise and moves forward one square.<br />\n",
    "- if it is on a white square, it flips the colour of the square to black, rotates 90 degrees clockwise and moves forward one square.<br /></p>\n",
    "<p>\n",
    "Starting with a grid that is entirely white, how many squares are black after 10<sup>18</sup> moves of the ant?\n",
    "</p>\n",
    "\n"
   ]
  },
  {
   "cell_type": "markdown",
   "id": "1",
   "metadata": {},
   "source": [
    "# Solution\n"
   ]
  },
  {
   "cell_type": "code",
   "execution_count": null,
   "id": "2",
   "metadata": {},
   "outputs": [],
   "source": []
  }
 ],
 "metadata": {},
 "nbformat": 4,
 "nbformat_minor": 5
}
