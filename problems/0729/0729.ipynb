{
 "cells": [
  {
   "cell_type": "markdown",
   "id": "0",
   "metadata": {},
   "source": [
    "# <a href=\"https://projecteuler.net/problem=729\">Range of periodic sequence</a>\n",
    "\n",
    "## Problem 729\n",
    "\n",
    "<p>Consider the sequence of real numbers $a_n$ defined by the starting value $a_0$ and the recurrence\n",
    "$\\displaystyle a_{n+1}=a_n-\\frac 1 {a_n}$ for any $n  \\ge 0$.</p>\n",
    "<p>\n",
    "For some starting values $a_0$ the sequence will be periodic. For example, $a_0=\\sqrt{\\frac 1 2}$ yields the sequence:\n",
    "$\\sqrt{\\frac 1 2},-\\sqrt{\\frac 1 2},\\sqrt{\\frac 1 2}, \\dots$</p>\n",
    "<p>\n",
    "We are interested in the range of such a periodic sequence which is the difference between the maximum and minimum of the sequence. For example, the range of the sequence above would be $\\sqrt{\\frac 1 2}-(-\\sqrt{\\frac 1 2})=\\sqrt{ 2}$.</p>\n",
    "<p>\n",
    "Let $S(P)$ be the sum of the ranges of all such periodic sequences with a period not exceeding $P$.<br />\n",
    "For example, $S(2)=2\\sqrt{2} \\approx 2.8284$, being the sum of the ranges of the two sequences starting with $a_0=\\sqrt{\\frac 1 2}$ and $a_0=-\\sqrt{\\frac 1 2}$. <br />\n",
    "You are given $S(3) \\approx 14.6461$ and $S(5) \\approx 124.1056$.\n",
    "</p><p>\n",
    "Find $S(25)$, rounded to 4 decimal places.</p>\n"
   ]
  },
  {
   "cell_type": "markdown",
   "id": "1",
   "metadata": {},
   "source": [
    "# Solution\n"
   ]
  },
  {
   "cell_type": "code",
   "execution_count": null,
   "id": "2",
   "metadata": {},
   "outputs": [],
   "source": []
  }
 ],
 "metadata": {},
 "nbformat": 4,
 "nbformat_minor": 5
}
