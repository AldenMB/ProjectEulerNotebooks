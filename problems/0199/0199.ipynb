{
 "cells": [
  {
   "cell_type": "markdown",
   "id": "0",
   "metadata": {},
   "source": [
    "# <a href=\"https://projecteuler.net/problem=199\">Iterative Circle Packing</a>\n",
    "\n",
    "## Problem 199\n",
    "\n",
    "<p>Three circles of equal radius are placed inside a larger circle such that each pair of circles is tangent to one another and the inner circles do not overlap. There are four uncovered \"gaps\" which are to be filled iteratively with more tangent circles.</p>\n",
    "<div style=\"text-align: center !important\">\n",
    "<img src=\"p199_circles_in_circles.gif\" class=\"dark_img\" alt=\"\" /></div>\n",
    "<p>\n",
    "At each iteration, a maximally sized circle is placed in each gap, which creates more gaps for the next iteration. After 3 iterations (pictured), there are 108 gaps and the fraction of the area which is not covered by circles is 0.06790342, rounded to eight decimal places.\n",
    "</p>\n",
    "<p>\n",
    "What fraction of the area is not covered by circles after 10 iterations?<br />\n",
    "Give your answer rounded to eight decimal places using the format x.xxxxxxxx .\n",
    "</p>\n"
   ]
  },
  {
   "cell_type": "markdown",
   "id": "1",
   "metadata": {},
   "source": [
    "# Solution\n"
   ]
  },
  {
   "cell_type": "code",
   "execution_count": null,
   "id": "2",
   "metadata": {},
   "outputs": [],
   "source": []
  }
 ],
 "metadata": {},
 "nbformat": 4,
 "nbformat_minor": 5
}
