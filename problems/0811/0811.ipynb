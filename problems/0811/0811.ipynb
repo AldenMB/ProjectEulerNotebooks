{
 "cells": [
  {
   "cell_type": "markdown",
   "id": "0",
   "metadata": {},
   "source": [
    "# <a href=\"http://projecteuler.net/problem=811\">Bitwise Recursion</a>\n",
    "\n",
    "## Problem 811\n",
    "\n",
    "<p>\n",
    "Let $b(n)$ be the largest power of 2 that divides $n$. For example $b(24) = 8$.</p>\n",
    "<p>\n",
    "Define the recursive function:\n",
    "\\begin{align*}\n",
    "\\begin{split}\n",
    "A(0) &amp;= 1\\\\\n",
    "A(2n) &amp;= 3A(n) + 5A\\big(2n - b(n)\\big)  \\qquad n \\gt 0\\\\\n",
    "A(2n+1) &amp;= A(n)\n",
    "\\end{split}\n",
    "\\end{align*}\n",
    "and let $H(t,r) = A\\big((2^t+1)^r\\big)$.</p>\n",
    "<p>\n",
    "You are given $H(3,2) = A(81) = 636056$.</p>\n",
    "<p>\n",
    "Find $H(10^{14}+31,62)$. Give your answer modulo $1\\,000\\,062\\,031$. </p>\n"
   ]
  },
  {
   "cell_type": "markdown",
   "id": "1",
   "metadata": {},
   "source": [
    "# Solution\n"
   ]
  },
  {
   "cell_type": "code",
   "execution_count": null,
   "id": "2",
   "metadata": {},
   "outputs": [],
   "source": []
  }
 ],
 "metadata": {},
 "nbformat": 4,
 "nbformat_minor": 5
}
