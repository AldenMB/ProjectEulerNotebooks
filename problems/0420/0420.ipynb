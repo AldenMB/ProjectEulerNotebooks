{
 "cells": [
  {
   "cell_type": "markdown",
   "id": "0",
   "metadata": {},
   "source": [
    "# <a href=\"https://projecteuler.net/problem=420\">2x2 positive integer matrix</a>\n",
    "\n",
    "## Problem 420\n",
    "\n",
    "<p>A <i>positive integer matrix</i> is a matrix whose elements are all positive integers.<br />\n",
    "Some positive integer matrices can be expressed as a square of a positive integer matrix in two different ways. Here is an example:</p>\n",
    "\n",
    "$$\\begin{pmatrix}\n",
    "40 &amp; 12\\\\\n",
    "48 &amp; 40\n",
    "\\end{pmatrix} =\n",
    "\\begin{pmatrix}\n",
    "2 &amp; 3\\\\\n",
    "12 &amp; 2\n",
    "\\end{pmatrix}^2 =\n",
    "\\begin{pmatrix}\n",
    "6 &amp; 1\\\\\n",
    "4 &amp; 6\n",
    "\\end{pmatrix}^2\n",
    "$$\n",
    "\n",
    "<p>\n",
    "We define F(<var>N</var>) as the number of the 2x2 positive integer matrices which have a <dfn title=\"the sum of the elements on the main diagonal\">trace</dfn> less than <var>N</var> and which can be expressed as a square of a positive integer matrix in two different ways.<br />\n",
    "We can verify that F(50) = 7 and F(1000) = 1019.\n",
    "</p>\n",
    "\n",
    "<p>\n",
    "Find F(10<sup>7</sup>).\n",
    "</p>\n"
   ]
  },
  {
   "cell_type": "markdown",
   "id": "1",
   "metadata": {},
   "source": [
    "# Solution\n"
   ]
  },
  {
   "cell_type": "code",
   "execution_count": null,
   "id": "2",
   "metadata": {},
   "outputs": [],
   "source": []
  }
 ],
 "metadata": {},
 "nbformat": 4,
 "nbformat_minor": 5
}
