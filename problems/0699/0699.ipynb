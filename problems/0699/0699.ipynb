{
 "cells": [
  {
   "cell_type": "markdown",
   "id": "0",
   "metadata": {},
   "source": [
    "# <a href=\"https://projecteuler.net/problem=699\">Triffle Numbers</a>\n",
    "\n",
    "## Problem 699\n",
    "\n",
    "<p>\n",
    "Let $\\sigma(n)$ be the sum of all the divisors of the positive integer $n$, for example:<br />\n",
    "$\\sigma(10) = 1+2+5+10 = 18$.\n",
    "</p>\n",
    "<p>\n",
    "Define $T(N)$ to be the sum of all numbers $n \\le N$ such that when the fraction $\\frac{\\sigma(n)}{n}$ is written in its lowest form $\\frac ab$, the denominator is a power of 3 i.e. $b = 3^k, k &gt; 0$.\n",
    "</p>\n",
    "<p>\n",
    "You are given $T(100) = 270$ and $T(10^6) = 26089287$.\n",
    "</p>\n",
    "<p>\n",
    "Find $T(10^{14})$.\n",
    "</p>\n",
    "\n"
   ]
  },
  {
   "cell_type": "markdown",
   "id": "1",
   "metadata": {},
   "source": [
    "# Solution\n"
   ]
  },
  {
   "cell_type": "code",
   "execution_count": null,
   "id": "2",
   "metadata": {},
   "outputs": [],
   "source": []
  }
 ],
 "metadata": {},
 "nbformat": 4,
 "nbformat_minor": 5
}
