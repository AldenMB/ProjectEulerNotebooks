{
 "cells": [
  {
   "cell_type": "markdown",
   "id": "0",
   "metadata": {},
   "source": [
    "# <a href=\"https://projecteuler.net/problem=676\">Matching Digit Sums</a>\n",
    "\n",
    "## Problem 676\n",
    "\n",
    "<p>\n",
    "Let $d(i,b)$ be the <b>digit sum</b> of the number $i$ in base $b$. For example $d(9,2)=2$, since $9=1001_2$.\n",
    "When using different bases, the respective digit sums most of the time deviate from each other, for example $d(9,4)=3 \\ne d(9,2)$.\n",
    "</p>\n",
    "\n",
    "<p>\n",
    "However, for some numbers $i$ there will be a match, like $d(17,4)=d(17,2)=2$.\n",
    "Let $ M(n,b_1,b_2)$ be the sum of all natural numbers $i \\le n$ for which $d(i,b_1)=d(i,b_2)$.\n",
    "For example, $M(10,8,2)=18$, $M(100,8,2)=292$ and $M(10^6,8,2)=19173952$.\n",
    "</p>\n",
    "\n",
    "<p>\n",
    "Find $\\displaystyle \\sum_{k=3}^6 \\sum_{l=1}^{k-2}M(10^{16},2^k,2^l)$, giving the last 16 digits as the answer.\n",
    "</p>\n"
   ]
  },
  {
   "cell_type": "markdown",
   "id": "1",
   "metadata": {},
   "source": [
    "# Solution\n"
   ]
  },
  {
   "cell_type": "code",
   "execution_count": null,
   "id": "2",
   "metadata": {},
   "outputs": [],
   "source": []
  }
 ],
 "metadata": {},
 "nbformat": 4,
 "nbformat_minor": 5
}
