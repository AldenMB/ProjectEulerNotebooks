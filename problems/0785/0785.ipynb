{
 "cells": [
  {
   "cell_type": "markdown",
   "id": "0",
   "metadata": {},
   "source": [
    "# <a href=\"https://projecteuler.net/problem=785\">Symmetric Diophantine equation</a>\n",
    "\n",
    "## Problem 785\n",
    "\n",
    "<p>\n",
    "Consider the following Diophantine equation:\n",
    "$$15  (x^2 + y^2 + z^2) = 34  (xy + yz + zx)$$\n",
    "where $x$, $y$ and $z$ are positive integers.\n",
    "</p>\n",
    "<p>\n",
    "Let $S(N)$ be the sum of all solutions, $(x,y,z)$, of this equation such that, $1 \\le x \\le y \\le z \\le N$ and $\\gcd(x, y, z) = 1$.\n",
    "</p>\n",
    "<p>\n",
    "For $N = 10^2$, there are three such solutions - $(1, 7, 16), (8, 9, 39), (11, 21, 72)$. So $S(10^2) = 184$.\n",
    "</p>\n",
    "<p>\n",
    "Find $S(10^9)$.\n",
    "</p>\n"
   ]
  },
  {
   "cell_type": "markdown",
   "id": "1",
   "metadata": {},
   "source": [
    "# Solution\n"
   ]
  },
  {
   "cell_type": "code",
   "execution_count": null,
   "id": "2",
   "metadata": {},
   "outputs": [],
   "source": []
  }
 ],
 "metadata": {},
 "nbformat": 4,
 "nbformat_minor": 5
}
