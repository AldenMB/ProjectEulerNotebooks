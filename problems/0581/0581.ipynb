{
 "cells": [
  {
   "cell_type": "markdown",
   "id": "0",
   "metadata": {},
   "source": [
    "# <a href=\"https://projecteuler.net/problem=581\">47-smooth triangular numbers</a>\n",
    "\n",
    "## Problem 581\n",
    "\n",
    "<p>\n",
    "A number is p-smooth if it has no prime factors larger than p.<br />\n",
    "Let T be the sequence of triangular numbers, ie T(<var>n</var>)=<var>n</var>(<var>n</var>+1)/2.<br />\n",
    "Find the sum of all indices <var>n</var> such that T(<var>n</var>) is 47-smooth.\n",
    "</p>\n"
   ]
  },
  {
   "cell_type": "markdown",
   "id": "1",
   "metadata": {},
   "source": [
    "# Solution\n"
   ]
  },
  {
   "cell_type": "code",
   "execution_count": null,
   "id": "2",
   "metadata": {},
   "outputs": [],
   "source": []
  }
 ],
 "metadata": {},
 "nbformat": 4,
 "nbformat_minor": 5
}
