{
 "cells": [
  {
   "cell_type": "markdown",
   "id": "0",
   "metadata": {},
   "source": [
    "# <a href=\"https://projecteuler.net/problem=214\">Totient Chains</a>\n",
    "\n",
    "## Problem 214\n",
    "\n",
    "<p>Let φ be Euler's totient function, i.e. for a natural number <var>n</var>,\n",
    "φ(<var>n</var>) is the number of <var>k</var>, 1 ≤ <var>k</var> ≤ <var>n</var>, for which gcd(<var>k</var>,<var>n</var>) = 1.</p>\n",
    "\n",
    "<p>By iterating φ, each positive integer generates a decreasing chain of numbers ending in 1.<br />\n",
    "E.g. if we start with 5 the sequence 5,4,2,1 is generated.<br />\n",
    "Here is a listing of all chains with length 4:</p>\n",
    "\n",
    "<div style=\"text-align:right;margin-right:350px;\">\n",
    "5,4,2,1<br />\n",
    "7,6,2,1<br />\n",
    "8,4,2,1<br />\n",
    "9,6,2,1<br />\n",
    "10,4,2,1<br />\n",
    "12,4,2,1<br />\n",
    "14,6,2,1<br />\n",
    "18,6,2,1</div>\n",
    "\n",
    "<p>Only two of these chains start with a prime, their sum is 12.</p>\n",
    "\n",
    "<p>What is the sum of all primes less than 40000000 which generate a chain of length 25?</p>\n",
    "\n",
    "\n",
    "\n"
   ]
  },
  {
   "cell_type": "markdown",
   "id": "1",
   "metadata": {},
   "source": [
    "# Solution\n"
   ]
  },
  {
   "cell_type": "code",
   "execution_count": null,
   "id": "2",
   "metadata": {},
   "outputs": [],
   "source": []
  }
 ],
 "metadata": {},
 "nbformat": 4,
 "nbformat_minor": 5
}
