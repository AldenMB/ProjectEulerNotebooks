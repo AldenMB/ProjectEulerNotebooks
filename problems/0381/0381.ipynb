{
 "cells": [
  {
   "cell_type": "markdown",
   "id": "0",
   "metadata": {},
   "source": [
    "# <a href=\"https://projecteuler.net/problem=381\">(prime-k) factorial</a>\n",
    "\n",
    "## Problem 381\n",
    "\n",
    "<p>\n",
    "For a prime p let S(p) = (<big>∑</big> (p-k)!) mod(p) for 1 ≤ k ≤ 5.\n",
    "</p>\n",
    "<p>\n",
    "For example, if p=7,<br />\n",
    "(7-1)! + (7-2)! + (7-3)! + (7-4)! + (7-5)! = 6! + 5! + 4! + 3! + 2! = 720+120+24+6+2 = 872.<br /> \n",
    "As 872 mod(7) = 4, S(7) = 4.\n",
    "</p>\n",
    "<p>\n",
    "It can be verified that <span style=\"font-size:larger;\"><span style=\"font-size:larger;\">∑</span></span> S(p) = 480 for 5 ≤ p &lt; 100.\n",
    "</p>\n",
    "<p>\n",
    "Find <span style=\"font-size:larger;\"><span style=\"font-size:larger;\">∑</span></span> S(p) for 5 ≤ p &lt; 10<sup>8</sup>.\n",
    "</p>\n",
    "\n",
    "\n",
    "\n"
   ]
  },
  {
   "cell_type": "markdown",
   "id": "1",
   "metadata": {},
   "source": [
    "# Solution\n"
   ]
  },
  {
   "cell_type": "code",
   "execution_count": null,
   "id": "2",
   "metadata": {},
   "outputs": [],
   "source": []
  }
 ],
 "metadata": {},
 "nbformat": 4,
 "nbformat_minor": 5
}
