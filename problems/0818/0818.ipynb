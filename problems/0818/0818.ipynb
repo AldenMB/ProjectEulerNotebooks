{
 "cells": [
  {
   "cell_type": "markdown",
   "id": "0",
   "metadata": {},
   "source": [
    "# <a href=\"http://projecteuler.net/problem=818\">SET</a>\n",
    "\n",
    "## Problem 818\n",
    "\n",
    "<p>\n",
    "The SET® card game is played with a pack of $81$ distinct cards. Each card has four features (Shape, Color, Number, Shading). Each feature has three different variants (e.g. Color can be red, purple, green).</p>\n",
    "\n",
    "<p>\n",
    "A <i>SET</i> consists of three different cards such that each feature is either the same on each card or different on each card.</p>\n",
    "\n",
    "<p>\n",
    "For a collection $C_n$ of $n$ cards, let $S(C_n)$ denote the number of <i>SET</i>s in $C_n$. Then define $F(n) = \\sum\\limits_{C_n} S(C_n)^4$ where $C_n$ ranges through all collections of $n$ cards (among the $81$ cards).\n",
    "You are given $F(3) = 1080$ and $F(6) = 159690960$.</p>\n",
    "\n",
    "<p>\n",
    "Find $F(12)$.</p>\n",
    "\n",
    "<p>\n",
    "$\\scriptsize{\\text{SET is a registered trademark of Cannei, LLC.  All rights reserved.  \n",
    "Used with permission from PlayMonster, LLC.}}$</p>\n",
    "\n"
   ]
  },
  {
   "cell_type": "markdown",
   "id": "1",
   "metadata": {},
   "source": [
    "# Solution\n"
   ]
  },
  {
   "cell_type": "code",
   "execution_count": null,
   "id": "2",
   "metadata": {},
   "outputs": [],
   "source": []
  }
 ],
 "metadata": {},
 "nbformat": 4,
 "nbformat_minor": 5
}
