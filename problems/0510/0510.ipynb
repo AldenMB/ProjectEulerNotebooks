{
 "cells": [
  {
   "cell_type": "markdown",
   "id": "0",
   "metadata": {},
   "source": [
    "# <a href=\"https://projecteuler.net/problem=510\">Tangent Circles</a>\n",
    "\n",
    "## Problem 510\n",
    "\n",
    "<p>Circles A and B are tangent to each other and to line L at three distinct points.<br />\n",
    "Circle C is inside the space between A, B and L, and tangent to all three.<br />\n",
    "Let <var>r</var><sub>A</sub>, <var>r</var><sub>B</sub> and <var>r</var><sub>C</sub> be the radii of A, B and C respectively.<br /></p><div align=\"center\"><img src=\"p510_tangent_circles.png\" alt=\"p510_tangent_circles.png\" /></div>\n",
    "<p>Let <var>S</var>(<var>n</var>) = <span style=\"font-size:larger;\"><span style=\"font-size:larger;\">∑</span></span> <var>r</var><sub>A</sub> + <var>r</var><sub>B</sub> + <var>r</var><sub>C</sub>, for 0 &lt; <var>r</var><sub>A</sub> ≤ <var>r</var><sub>B</sub> ≤ <var>n</var> where <var>r</var><sub>A</sub>, <var>r</var><sub>B</sub> and <var>r</var><sub>C</sub> are integers.\n",
    "The only solution for 0 &lt; <var>r</var><sub>A</sub> ≤ <var>r</var><sub>B</sub> ≤ 5 is <var>r</var><sub>A</sub> = 4, <var>r</var><sub>B</sub> = 4 and <var>r</var><sub>C</sub> = 1, so <var>S</var>(5) = 4 + 4 + 1 = 9.\n",
    "You are also given <var>S</var>(100) = 3072.</p>\n",
    "<p>Find <var>S</var>(10<sup>9</sup>).</p>\n"
   ]
  },
  {
   "cell_type": "markdown",
   "id": "1",
   "metadata": {},
   "source": [
    "# Solution\n"
   ]
  },
  {
   "cell_type": "code",
   "execution_count": null,
   "id": "2",
   "metadata": {},
   "outputs": [],
   "source": []
  }
 ],
 "metadata": {},
 "nbformat": 4,
 "nbformat_minor": 5
}
