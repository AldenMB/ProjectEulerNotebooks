{
 "cells": [
  {
   "cell_type": "markdown",
   "id": "0",
   "metadata": {},
   "source": [
    "# <a href=\"https://projecteuler.net/problem=445\">Retractions A</a>\n",
    "\n",
    "## Problem 445\n",
    "\n",
    "<p>\n",
    "For every integer $n&gt;1$, the family of functions $f_{n,a,b}$ is defined \n",
    "by  <br />\n",
    "$f_{n,a,b}(x)\\equiv a x + b \\mod n\\,\\,\\, $ for $a,b,x$ integer and  $0&lt; a &lt;n, 0 \\le b &lt; n,0 \\le x &lt; n$. </p>\n",
    "<p>\n",
    "We will call $f_{n,a,b}$ a <i>retraction</i> if $\\,\\,\\, f_{n,a,b}(f_{n,a,b}(x)) \\equiv f_{n,a,b}(x) \\mod n \\,\\,\\,$ for every $0 \\le x &lt; n$.<br />\n",
    "Let $R(n)$ be the number of retractions for $n$.\n",
    "</p>\n",
    "<p>\n",
    "You are given that<br />\n",
    "$\\displaystyle \\sum_{k=1}^{99\\,999} R(\\binom {100\\,000} k)  \\equiv 628701600 \\mod 1\\,000\\,000\\,007$.</p>\n",
    "<p> \n",
    "Find $\\displaystyle \\sum_{k=1}^{9\\,999\\,999} R(\\binom {10\\,000\\,000} k)$.<br />\n",
    "Give your answer modulo $1\\,000\\,000\\,007$.\n",
    "</p>\n",
    "\n",
    "\n"
   ]
  },
  {
   "cell_type": "markdown",
   "id": "1",
   "metadata": {},
   "source": [
    "# Solution\n"
   ]
  },
  {
   "cell_type": "code",
   "execution_count": null,
   "id": "2",
   "metadata": {},
   "outputs": [],
   "source": []
  }
 ],
 "metadata": {},
 "nbformat": 4,
 "nbformat_minor": 5
}
