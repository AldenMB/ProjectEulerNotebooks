{
 "cells": [
  {
   "cell_type": "markdown",
   "id": "0",
   "metadata": {},
   "source": [
    "# <a href=\"https://projecteuler.net/problem=310\">Nim Square</a>\n",
    "\n",
    "## Problem 310\n",
    "\n",
    "<p>\n",
    "Alice and Bob play the game Nim Square.<br />\n",
    "Nim Square is just like ordinary three-heap normal play Nim, but the players may only remove a square number of stones from a heap.<br />\n",
    "The number of stones in the three heaps is represented by the ordered triple (a,b,c).<br />\n",
    "If 0≤a≤b≤c≤29 then the number of losing positions for the next player is 1160.\n",
    "</p>\n",
    "<p>\n",
    "Find the number of losing positions for the next player if 0≤a≤b≤c≤100 000.\n",
    "</p>\n",
    "\n",
    "\n"
   ]
  },
  {
   "cell_type": "markdown",
   "id": "1",
   "metadata": {},
   "source": [
    "# Solution\n"
   ]
  },
  {
   "cell_type": "code",
   "execution_count": null,
   "id": "2",
   "metadata": {},
   "outputs": [],
   "source": []
  }
 ],
 "metadata": {},
 "nbformat": 4,
 "nbformat_minor": 5
}
