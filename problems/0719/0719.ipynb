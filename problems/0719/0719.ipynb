{
 "cells": [
  {
   "cell_type": "markdown",
   "id": "0",
   "metadata": {},
   "source": [
    "# <a href=\"https://projecteuler.net/problem=719\">Number Splitting</a>\n",
    "\n",
    "## Problem 719\n",
    "\n",
    "<p>\n",
    "We define an $S$-number to be a natural number, $n$, that is a perfect square and its square root can be obtained by splitting the decimal representation of $n$ into 2 or more numbers then adding the numbers.\n",
    "</p>\n",
    "<p>\n",
    "For example, 81 is an $S$-number because $\\sqrt{81} = 8+1$.<br />\n",
    "6724 is an $S$-number: $\\sqrt{6724} = 6+72+4$. <br />\n",
    "8281 is an $S$-number: $\\sqrt{8281} = 8+2+81 = 82+8+1$.<br />\n",
    "9801 is an $S$-number: $\\sqrt{9801}=98+0+1$.\n",
    "</p>\n",
    "<p>\n",
    "Further we define $T(N)$ to be the sum of all $S$ numbers $n\\le N$. You are given $T(10^4) = 41333$.\n",
    "</p>\n",
    "<p>\n",
    "Find $T(10^{12})$\n",
    "</p>\n"
   ]
  },
  {
   "cell_type": "markdown",
   "id": "1",
   "metadata": {},
   "source": [
    "# Solution\n"
   ]
  },
  {
   "cell_type": "code",
   "execution_count": null,
   "id": "2",
   "metadata": {},
   "outputs": [],
   "source": []
  }
 ],
 "metadata": {},
 "nbformat": 4,
 "nbformat_minor": 5
}
