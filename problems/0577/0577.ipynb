{
 "cells": [
  {
   "cell_type": "markdown",
   "id": "0",
   "metadata": {},
   "source": [
    "# <a href=\"https://projecteuler.net/problem=577\">Counting hexagons</a>\n",
    "\n",
    "## Problem 577\n",
    "\n",
    "<p>An equilateral triangle with integer side length $n \\ge 3$ is divided into $n^2$ equilateral triangles with side length 1 as shown in the diagram below.<br />\n",
    "The vertices of these triangles constitute a triangular lattice with $\\frac{(n+1)(n+2)} 2$ lattice points.</p>\n",
    "<p>Let $H(n)$ be the number of all regular hexagons that can be found by connecting 6 of these points.</p> \n",
    "<div style=\"text-align: center !important\">\n",
    "<img src=\"p577_counting_hexagons.png\" alt=\"p577_counting_hexagons.png\" /></div>\n",
    "\n",
    "<p>\n",
    "For example, $H(3)=1$, $H(6)=12$ and $H(20)=966$.</p>\n",
    "\n",
    "<p>Find $\\displaystyle \\sum_{n=3}^{12345} H(n)$.</p>\n"
   ]
  },
  {
   "cell_type": "markdown",
   "id": "1",
   "metadata": {},
   "source": [
    "# Solution\n"
   ]
  },
  {
   "cell_type": "code",
   "execution_count": null,
   "id": "2",
   "metadata": {},
   "outputs": [],
   "source": []
  }
 ],
 "metadata": {},
 "nbformat": 4,
 "nbformat_minor": 5
}
