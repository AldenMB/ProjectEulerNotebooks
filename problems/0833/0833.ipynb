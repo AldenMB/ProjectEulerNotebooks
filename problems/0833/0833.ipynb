{
 "cells": [
  {
   "cell_type": "markdown",
   "id": "0",
   "metadata": {},
   "source": [
    "# <a href=\"http://projecteuler.net/problem=833\">Square Triangle Products</a>\n",
    "\n",
    "## Problem 833\n",
    "\n",
    "<p>Triangle numbers $T_k$ are integers of the form $\\frac{k(k+1)} 2$.<br />\n",
    "A few triangle numbers happen to be perfect squares like $T_1=1$ and $T_8=36$, but more can be found when considering the product of two triangle numbers. For example, $T_2 \\cdot T_{24}=3 \\cdot 300=30^2$.</p>\n",
    "\n",
    "<p>Let $S(n)$ be the sum of $c$ for all integers triples $(a, b, c)$ with $0&lt;c \\le n$, $c^2=T_a \\cdot T_b$ and $0&lt;a&lt;b$.\n",
    "For example, $S(100)= \\sqrt{T_1 T_8}+\\sqrt{T_2 T_{24}}+\\sqrt{T_1 T_{49}}+\\sqrt{T_3 T_{48}}=6+30+35+84=155$.</p>\n",
    "<p>\n",
    "You are given $S(10^5)=1479802$ and $S(10^9)=241614948794$.</p>\n",
    "<p>\n",
    "Find $S(10^{35})$. Give your answer modulo $136101521$.</p>\n"
   ]
  },
  {
   "cell_type": "markdown",
   "id": "1",
   "metadata": {},
   "source": [
    "# Solution\n"
   ]
  },
  {
   "cell_type": "code",
   "execution_count": null,
   "id": "2",
   "metadata": {},
   "outputs": [],
   "source": []
  }
 ],
 "metadata": {},
 "nbformat": 4,
 "nbformat_minor": 5
}
