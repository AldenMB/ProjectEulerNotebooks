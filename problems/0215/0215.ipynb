{
 "cells": [
  {
   "cell_type": "markdown",
   "id": "0",
   "metadata": {},
   "source": [
    "# <a href=\"https://projecteuler.net/problem=215\">Crack-free Walls</a>\n",
    "\n",
    "## Problem 215\n",
    "\n",
    "<p>Consider the problem of building a wall out of 2×1 and 3×1 bricks (horizontal×vertical dimensions) such that, for extra strength, the gaps between horizontally-adjacent bricks never line up in consecutive layers, i.e. never form a \"running crack\".</p>\n",
    "\n",
    "<p>For example, the following 9×3 wall is not acceptable due to the running crack shown in red:</p>\n",
    "\n",
    "<div style=\"text-align: center !important\">\n",
    "<img src=\"p215_crackfree.gif\" class=\"dark_img\" alt=\"\" /></div>\n",
    "\n",
    "<p>There are eight ways of forming a crack-free 9×3 wall, written W(9,3) = 8.</p>\n",
    "\n",
    "<p>Calculate W(32,10).</p>\n",
    "\n",
    "\n",
    "\n",
    "\n"
   ]
  },
  {
   "cell_type": "markdown",
   "id": "1",
   "metadata": {},
   "source": [
    "# Solution\n"
   ]
  },
  {
   "cell_type": "code",
   "execution_count": null,
   "id": "2",
   "metadata": {},
   "outputs": [],
   "source": []
  }
 ],
 "metadata": {},
 "nbformat": 4,
 "nbformat_minor": 5
}
