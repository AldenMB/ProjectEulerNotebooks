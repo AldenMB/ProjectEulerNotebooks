{
 "cells": [
  {
   "cell_type": "markdown",
   "id": "0",
   "metadata": {},
   "source": [
    "# <a href=\"https://projecteuler.net/problem=745\">Sum of Squares II</a>\n",
    "\n",
    "## Problem 745\n",
    "\n",
    "<p>\n",
    "For a positive integer, $n$, define $g(n)$ to be the maximum perfect square that divides $n$.<br />\n",
    "For example, $g(18) = 9$, $g(19) = 1$.\n",
    "</p>\n",
    "<p>\n",
    "Also define\n",
    "$$\\displaystyle\tS(N) = \\sum_{n=1}^N g(n)$$\n",
    "</p>\n",
    "<p>\n",
    "For example, $S(10) = 24$ and $S(100) = 767$.\n",
    "</p>\n",
    "<p>\n",
    "Find $S(10^{14})$. Give your answer modulo $1\\,000\\,000\\,007$.\n",
    "</p>\n"
   ]
  },
  {
   "cell_type": "markdown",
   "id": "1",
   "metadata": {},
   "source": [
    "# Solution\n"
   ]
  },
  {
   "cell_type": "code",
   "execution_count": null,
   "id": "2",
   "metadata": {},
   "outputs": [],
   "source": []
  }
 ],
 "metadata": {},
 "nbformat": 4,
 "nbformat_minor": 5
}
