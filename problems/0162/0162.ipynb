{
 "cells": [
  {
   "cell_type": "markdown",
   "id": "0",
   "metadata": {},
   "source": [
    "# <a href=\"https://projecteuler.net/problem=162\">Hexadecimal numbers</a>\n",
    "\n",
    "## Problem 162\n",
    "\n",
    "<p>In  the hexadecimal number system numbers are represented using 16 different digits:</p>\n",
    "<div style=\"text-align: center !important\">0,1,2,3,4,5,6,7,8,9,A,B,C,D,E,F</div>\n",
    "<p>The hexadecimal number AF when written in the decimal number system equals 10x16+15=175.</p>\n",
    "<p>In the 3-digit hexadecimal numbers 10A, 1A0, A10, and A01 the digits 0,1 and A are all present.<br />\n",
    "Like numbers written in base ten we write hexadecimal numbers without leading zeroes.</p>\n",
    "<p>How many hexadecimal numbers containing at most sixteen hexadecimal digits exist with all of the digits 0,1, and A present at least once?<br />\n",
    "Give your answer as a hexadecimal number.</p>\n",
    "<p>(A,B,C,D,E and F in upper case, without any leading or trailing code that marks the number as hexadecimal and without leading zeroes , e.g. 1A3F and not: 1a3f and not 0x1a3f and not $1A3F and not #1A3F and not 0000001A3F)</p>\n"
   ]
  },
  {
   "cell_type": "markdown",
   "id": "1",
   "metadata": {},
   "source": [
    "# Solution\n"
   ]
  },
  {
   "cell_type": "code",
   "execution_count": null,
   "id": "2",
   "metadata": {},
   "outputs": [],
   "source": []
  }
 ],
 "metadata": {},
 "nbformat": 4,
 "nbformat_minor": 5
}
