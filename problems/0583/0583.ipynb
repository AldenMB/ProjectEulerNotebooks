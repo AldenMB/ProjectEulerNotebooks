{
 "cells": [
  {
   "cell_type": "markdown",
   "id": "0",
   "metadata": {},
   "source": [
    "# <a href=\"https://projecteuler.net/problem=583\">Heron Envelopes</a>\n",
    "\n",
    "## Problem 583\n",
    "\n",
    "<p>\n",
    "A standard envelope shape is a convex figure consisting of an isosceles triangle (the flap) placed on top of a rectangle.  An example of an envelope with integral sides is shown below.  Note that to form a sensible envelope, the perpendicular height of the flap (BCD) must be smaller than the height of the rectangle (ABDE).  \n",
    "</p>\n",
    "\n",
    "<div style=\"text-align: center !important\">\n",
    "<img src=\"p583_heron_envelope.gif\" alt=\"p583_heron_envelope.gif\" /></div>\n",
    "\n",
    "<p>\n",
    "In the envelope illustrated, not only are all the sides integral, but also all the diagonals (AC, AD, BD, BE and CE) are integral too. Let us call an envelope with these properties a <i>Heron envelope</i>.\n",
    "</p>\n",
    "\n",
    "<p>\n",
    "Let S(<var>p</var>) be the sum of the perimeters of all the Heron envelopes with a perimeter less than or equal to <var>p</var>. \n",
    "</p>\n",
    "<p>\n",
    "You are given that S(10<sup>4</sup>) = 884680.  Find S(10<sup>7</sup>).\n",
    "</p>\n"
   ]
  },
  {
   "cell_type": "markdown",
   "id": "1",
   "metadata": {},
   "source": [
    "# Solution\n"
   ]
  },
  {
   "cell_type": "code",
   "execution_count": null,
   "id": "2",
   "metadata": {},
   "outputs": [],
   "source": []
  }
 ],
 "metadata": {},
 "nbformat": 4,
 "nbformat_minor": 5
}
