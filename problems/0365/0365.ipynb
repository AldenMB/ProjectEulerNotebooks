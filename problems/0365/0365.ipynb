{
 "cells": [
  {
   "cell_type": "markdown",
   "id": "0",
   "metadata": {},
   "source": [
    "# <a href=\"https://projecteuler.net/problem=365\">A huge binomial coefficient</a>\n",
    "\n",
    "## Problem 365\n",
    "\n",
    "<p>\n",
    "The binomial coefficient $\\displaystyle{\\binom{10^{18}}{10^9}}$ is a number with more than 9 billion ($9\\times 10^9$) digits.\n",
    "</p>\n",
    "<p>\n",
    "Let $M(n,k,m)$ denote the binomial coefficient $\\displaystyle{\\binom{n}{k}}$ modulo $m$.\n",
    "</p>\n",
    "<p>\n",
    "Calculate $\\displaystyle{\\sum M(10^{18},10^9,p\\cdot q\\cdot r)}$ for $1000\\lt p\\lt q\\lt r\\lt 5000$ and $p$,$q$,$r$ prime.\n",
    "</p>\n",
    "\n",
    "\n",
    "\n",
    "\n"
   ]
  },
  {
   "cell_type": "markdown",
   "id": "1",
   "metadata": {},
   "source": [
    "# Solution\n"
   ]
  },
  {
   "cell_type": "code",
   "execution_count": null,
   "id": "2",
   "metadata": {},
   "outputs": [],
   "source": []
  }
 ],
 "metadata": {},
 "nbformat": 4,
 "nbformat_minor": 5
}
