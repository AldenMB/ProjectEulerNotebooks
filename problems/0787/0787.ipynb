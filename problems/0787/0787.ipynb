{
 "cells": [
  {
   "cell_type": "markdown",
   "id": "0",
   "metadata": {},
   "source": [
    "# <a href=\"https://projecteuler.net/problem=787\">Bézout's Game</a>\n",
    "\n",
    "## Problem 787\n",
    "\n",
    "<p>Two players play a game with two piles of stones. They take alternating turns. If there are currently $a$ stones in the first pile and $b$ stones in the second, a turn consists of removing $c\\geq 0$ stones from the first pile and $d\\geq 0$ from the second in such a way that $ad-bc=\\pm1$. The winner is the player who first empties one of the piles.</p>\n",
    "\n",
    "<p>Note that the game is only playable if the sizes of the two piles are coprime.</p>\n",
    "\n",
    "<p>A game state $(a, b)$ is a winning position if the next player can guarantee a win with optimal play. Define $H(N)$ to be the number of winning positions $(a, b)$ with $\\gcd(a,b)=1$, $a &gt; 0$, $b &gt; 0$ and $a+b \\leq N$. Note the order matters, so for example $(2,1)$ and $(1,2)$ are distinct positions.</p>\n",
    "\n",
    "<p>You are given $H(4)=5$ and $H(100)=2043$.</p>\n",
    "\n",
    "<p>Find $H(10^9)$.</p>\n"
   ]
  },
  {
   "cell_type": "markdown",
   "id": "1",
   "metadata": {},
   "source": [
    "# Solution\n"
   ]
  },
  {
   "cell_type": "code",
   "execution_count": null,
   "id": "2",
   "metadata": {},
   "outputs": [],
   "source": []
  }
 ],
 "metadata": {},
 "nbformat": 4,
 "nbformat_minor": 5
}
