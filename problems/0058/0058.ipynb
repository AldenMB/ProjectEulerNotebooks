{
 "cells": [
  {
   "cell_type": "markdown",
   "id": "0",
   "metadata": {},
   "source": [
    "# <a href=\"https://projecteuler.net/problem=58\">Spiral primes</a>\n",
    "\n",
    "## Problem 58\n",
    "\n",
    "<p>Starting with 1 and spiralling anticlockwise in the following way, a square spiral with side length 7 is formed.</p>\n",
    "<p class=\"center monospace\"><span style=\"color: red\"><b>37</b></span> 36 35 34 33 32 <span style=\"color: red\"><b>31</b></span><br />\n",
    "38 <span style=\"color: red\"><b>17</b></span> 16 15 14 <span style=\"color: red\"><b>13</b></span> 30<br />\n",
    "39 18 <span style=\"color: red\"> <b>5</b></span>  4 <span style=\"color: red\"> <b>3</b></span> 12 29<br />\n",
    "40 19  6  1  2 11 28<br />\n",
    "41 20 <span style=\"color: red\"> <b>7</b></span>  8  9 10 27<br />\n",
    "42 21 22 23 24 25 26<br /><span style=\"color: red\"><b>43</b></span> 44 45 46 47 48 49</p>\n",
    "<p>It is interesting to note that the odd squares lie along the bottom right diagonal, but what is more interesting is that 8 out of the 13 numbers lying along both diagonals are prime; that is, a ratio of 8/13 ≈ 62%.</p>\n",
    "<p>If one complete new layer is wrapped around the spiral above, a square spiral with side length 9 will be formed. If this process is continued, what is the side length of the square spiral for which the ratio of primes along both diagonals first falls below 10%?</p>\n",
    "\n"
   ]
  },
  {
   "cell_type": "markdown",
   "id": "1",
   "metadata": {},
   "source": [
    "# Solution\n"
   ]
  },
  {
   "cell_type": "code",
   "execution_count": null,
   "id": "2",
   "metadata": {},
   "outputs": [],
   "source": []
  }
 ],
 "metadata": {},
 "nbformat": 4,
 "nbformat_minor": 5
}
