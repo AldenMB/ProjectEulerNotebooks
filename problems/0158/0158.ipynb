{
 "cells": [
  {
   "cell_type": "markdown",
   "id": "0",
   "metadata": {},
   "source": [
    "# <a href=\"https://projecteuler.net/problem=158\">Exploring strings for which only one character comes lexicographically after its neighbour to the left</a>\n",
    "\n",
    "## Problem 158\n",
    "\n",
    "<p>Taking three different letters from the 26 letters of the alphabet, character strings of length three can be formed.<br />\n",
    "Examples are 'abc', 'hat' and 'zyx'.<br />\n",
    "When we study these three examples we see that for 'abc' two characters come lexicographically after its neighbour to the left.<br /> \n",
    "For 'hat' there is exactly one character that comes lexicographically after its neighbour to the left. For 'zyx' there are zero characters that come lexicographically after its neighbour to the left.<br />\n",
    "In all there are 10400 strings of length 3 for which exactly one character comes lexicographically after its neighbour to the left.</p>\n",
    "<p>We now consider strings of <var>n</var> ≤ 26 different characters from the alphabet.<br /> \n",
    "For every <var>n</var>, p(<var>n</var>) is the number of strings of length <var>n</var> for which exactly one character comes lexicographically after its neighbour to the left.</p> \n",
    "<p>What is the maximum value of p(<var>n</var>)?</p>\n"
   ]
  },
  {
   "cell_type": "markdown",
   "id": "1",
   "metadata": {},
   "source": [
    "# Solution\n"
   ]
  },
  {
   "cell_type": "code",
   "execution_count": null,
   "id": "2",
   "metadata": {},
   "outputs": [],
   "source": []
  }
 ],
 "metadata": {},
 "nbformat": 4,
 "nbformat_minor": 5
}
