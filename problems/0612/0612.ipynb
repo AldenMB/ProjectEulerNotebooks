{
 "cells": [
  {
   "cell_type": "markdown",
   "id": "0",
   "metadata": {},
   "source": [
    "# <a href=\"https://projecteuler.net/problem=612\">Friend numbers</a>\n",
    "\n",
    "## Problem 612\n",
    "\n",
    "<p>\n",
    "Let's call two numbers  <i>friend numbers</i> if their representation in base 10 has at least one common digit.<br /> E.g. 1123 and 3981 are friend numbers. \n",
    "</p>\n",
    "<p>\n",
    "Let $f(n)$ be the number of pairs $(p,q)$ with $1\\le p \\lt q \\lt n$ such that $p$ and $q$ are friend numbers.<br />\n",
    "$f(100)=1539$.\n",
    "</p>\n",
    "<p>\n",
    "Find $f(10^{18})$ mod $1000267129$.\n",
    "</p>\n"
   ]
  },
  {
   "cell_type": "markdown",
   "id": "1",
   "metadata": {},
   "source": [
    "# Solution\n"
   ]
  },
  {
   "cell_type": "code",
   "execution_count": null,
   "id": "2",
   "metadata": {},
   "outputs": [],
   "source": []
  }
 ],
 "metadata": {},
 "nbformat": 4,
 "nbformat_minor": 5
}
