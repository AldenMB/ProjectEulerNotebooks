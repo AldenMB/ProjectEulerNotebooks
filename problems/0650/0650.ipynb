{
 "cells": [
  {
   "cell_type": "markdown",
   "id": "0",
   "metadata": {},
   "source": [
    "# <a href=\"https://projecteuler.net/problem=650\">Divisors of Binomial Product</a>\n",
    "\n",
    "## Problem 650\n",
    "\n",
    "<p>\n",
    "Let $B(n) = \\displaystyle \\prod_{k=0}^n {n \\choose k}$, a product of binomial coefficients.<br />\n",
    "For example, $B(5) = {5 \\choose 0} \\times {5 \\choose 1} \\times {5 \\choose 2}  \\times {5 \\choose 3} \\times {5 \\choose 4} \\times {5 \\choose 5} = 1 \\times 5 \\times 10 \\times 10 \\times 5 \\times 1 = 2500$.\n",
    "</p>\n",
    "<p>\n",
    "Let $D(n) = \\displaystyle \\sum_{d|B(n)} d$, the sum of the divisors of $B(n)$.<br />\n",
    "For example, the divisors of B(5) are 1, 2, 4, 5, 10, 20, 25, 50, 100, 125, 250, 500, 625, 1250 and 2500,<br />\n",
    "so D(5) = 1 + 2 + 4 + 5 + 10 + 20 + 25 + 50 + 100 + 125 + 250 + 500 + 625 + 1250 + 2500 = 5467.\n",
    "</p>\n",
    "<p>\n",
    "Let $S(n) = \\displaystyle \\sum_{k=1}^n D(k)$.<br />\n",
    "You are given $S(5) = 5736$, $S(10) = 141740594713218418$ and $S(100)$ mod $1\\,000\\,000\\,007 = 332792866$.\n",
    "</p>\n",
    "<p>\n",
    "Find $S(20\\,000)$ mod $1\\,000\\,000\\,007$.\n",
    "</p>\n",
    "\n"
   ]
  },
  {
   "cell_type": "markdown",
   "id": "1",
   "metadata": {},
   "source": [
    "# Solution\n"
   ]
  },
  {
   "cell_type": "code",
   "execution_count": null,
   "id": "2",
   "metadata": {},
   "outputs": [],
   "source": []
  }
 ],
 "metadata": {},
 "nbformat": 4,
 "nbformat_minor": 5
}
