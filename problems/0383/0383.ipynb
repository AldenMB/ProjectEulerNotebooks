{
 "cells": [
  {
   "cell_type": "markdown",
   "id": "0",
   "metadata": {},
   "source": [
    "# <a href=\"https://projecteuler.net/problem=383\">Divisibility comparison between factorials</a>\n",
    "\n",
    "## Problem 383\n",
    "\n",
    "<p>\n",
    "Let f<sub>5</sub>(<var>n</var>) be the largest integer <var>x</var> for which 5<sup><var>x</var></sup> divides <var>n</var>.<br />\n",
    "For example, f<sub>5</sub>(625000) = 7.\n",
    "</p>\n",
    "\n",
    "<p>\n",
    "Let T<sub>5</sub>(<var>n</var>) be the number of integers <var>i</var> which satisfy f<sub>5</sub>((2·<var>i</var>-1)!) &lt; 2·f<sub>5</sub>(<var>i</var>!) and 1 ≤ <var>i</var> ≤ <var>n</var>.<br />\n",
    "It can be verified that T<sub>5</sub>(10<sup>3</sup>) = 68 and T<sub>5</sub>(10<sup>9</sup>) = 2408210.\n",
    "</p>\n",
    "\n",
    "<p>\n",
    "Find T<sub>5</sub>(10<sup>18</sup>).\n",
    "</p>\n"
   ]
  },
  {
   "cell_type": "markdown",
   "id": "1",
   "metadata": {},
   "source": [
    "# Solution\n"
   ]
  },
  {
   "cell_type": "code",
   "execution_count": null,
   "id": "2",
   "metadata": {},
   "outputs": [],
   "source": []
  }
 ],
 "metadata": {},
 "nbformat": 4,
 "nbformat_minor": 5
}
