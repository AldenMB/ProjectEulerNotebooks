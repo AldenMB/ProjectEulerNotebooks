{
 "cells": [
  {
   "cell_type": "markdown",
   "id": "0",
   "metadata": {},
   "source": [
    "# <a href=\"https://projecteuler.net/problem=210\">Obtuse Angled Triangles</a>\n",
    "\n",
    "## Problem 210\n",
    "\n",
    "Consider the set S(r) of points (x,y) with integer coordinates satisfying |x| + |y| ≤ r. <br />\n",
    "Let O be the point (0,0) and C the point (r/4,r/4). <br />\n",
    "Let N(r) be the number of points B in S(r), so that the triangle OBC has an obtuse angle, i.e. the largest angle α satisfies 90°&lt;α&lt;180°.<br />\n",
    "So, for example, N(4)=24 and N(8)=100.\n",
    "<p>\n",
    "What is N(1,000,000,000)?\n",
    "</p>\n",
    "\n",
    "\n",
    "\n"
   ]
  },
  {
   "cell_type": "markdown",
   "id": "1",
   "metadata": {},
   "source": [
    "# Solution\n"
   ]
  },
  {
   "cell_type": "code",
   "execution_count": null,
   "id": "2",
   "metadata": {},
   "outputs": [],
   "source": []
  }
 ],
 "metadata": {},
 "nbformat": 4,
 "nbformat_minor": 5
}
