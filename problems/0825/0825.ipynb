{
 "cells": [
  {
   "cell_type": "markdown",
   "id": "0",
   "metadata": {},
   "source": [
    "# <a href=\"http://projecteuler.net/problem=825\">Chasing Game</a>\n",
    "\n",
    "## Problem 825\n",
    "\n",
    "<p>Two cars are on a circular track of total length $2n$, facing the same direction, initially distance $n$ apart.<br />\n",
    "They move in turn. At each turn, the moving car will advance a distance of $1$, $2$ or $3$, with equal probabilities.<br />\n",
    "The chase ends when the moving car reaches or goes beyond the position of the other car. The moving car is declared the winner.</p>\n",
    "\n",
    "<p>Let $S(n)$ be the difference between the winning probabilities of the two cars.<br />\n",
    "For example, when $n = 2$, the winning probabilities of the two cars are $\\frac 9 {11}$ and $\\frac 2 {11}$, and thus $S(2) = \\frac 7 {11}$.</p>\n",
    "\n",
    "<p>Let $\\displaystyle T(N) = \\sum_{n = 2}^N S(n)$.</p>\n",
    "\n",
    "<p>You are given that $T(10) = 2.38235282$ rounded to 8 digits after the decimal point.</p>\n",
    "\n",
    "<p>Find $T(10^{14})$, rounded to 8 digits after the decimal point.</p>\n"
   ]
  },
  {
   "cell_type": "markdown",
   "id": "1",
   "metadata": {},
   "source": [
    "# Solution\n"
   ]
  },
  {
   "cell_type": "code",
   "execution_count": null,
   "id": "2",
   "metadata": {},
   "outputs": [],
   "source": []
  }
 ],
 "metadata": {},
 "nbformat": 4,
 "nbformat_minor": 5
}
