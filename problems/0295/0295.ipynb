{
 "cells": [
  {
   "cell_type": "markdown",
   "id": "0",
   "metadata": {},
   "source": [
    "# <a href=\"https://projecteuler.net/problem=295\">Lenticular holes</a>\n",
    "\n",
    "## Problem 295\n",
    "\n",
    "<p>We call the convex area enclosed by two circles a <i>lenticular hole</i> if:\n",
    "</p><ul><li>The centres of both circles are on lattice points.</li>\n",
    "<li>The two circles intersect at two distinct lattice points.</li>\n",
    "<li>The interior of the convex area enclosed by both circles does not contain any lattice points.\n",
    "</li>\n",
    "</ul><p>Consider the circles:<br />\n",
    "C<sub>0</sub>: <var>x</var><sup>2</sup>+<var>y</var><sup>2</sup>=25<br />\n",
    "C<sub>1</sub>: (<var>x</var>+4)<sup>2</sup>+(<var>y</var>-4)<sup>2</sup>=1<br />\n",
    "C<sub>2</sub>: (<var>x</var>-12)<sup>2</sup>+(<var>y</var>-4)<sup>2</sup>=65\n",
    "</p>\n",
    "<p>\n",
    "The circles C<sub>0</sub>, C<sub>1</sub> and C<sub>2</sub> are drawn in the picture below.</p>\n",
    "<div align=\"center\"><img src=\"p295_lenticular.gif\" alt=\"p295_lenticular.gif\" /></div>\n",
    "<p>\n",
    "C<sub>0</sub> and C<sub>1</sub> form a lenticular hole, as well as C<sub>0</sub> and C<sub>2</sub>.</p>\n",
    "<p>\n",
    "We call an ordered pair of positive real numbers (r<sub>1</sub>, r<sub>2</sub>) a <i>lenticular pair</i> if there exist two circles with radii r<sub>1</sub> and r<sub>2</sub> that form a lenticular hole.\n",
    "We can verify that (1, 5) and (5, √65) are the lenticular pairs of the example above.</p>\n",
    "<p>\n",
    "Let L(N) be the number of <b>distinct</b> lenticular pairs (r<sub>1</sub>, r<sub>2</sub>) for which 0 &lt; r<sub>1</sub> ≤ r<sub>2</sub> ≤ N.<br />\n",
    "We can verify that L(10) = 30 and L(100) = 3442.</p>\n",
    "<p>\n",
    "Find L(100 000).\n",
    "</p>\n",
    "\n",
    "\n",
    "\n",
    "\n",
    "\n",
    "\n",
    "\n",
    "\n",
    "\n",
    "\n",
    "\n",
    "\n"
   ]
  },
  {
   "cell_type": "markdown",
   "id": "1",
   "metadata": {},
   "source": [
    "# Solution\n"
   ]
  },
  {
   "cell_type": "code",
   "execution_count": null,
   "id": "2",
   "metadata": {},
   "outputs": [],
   "source": []
  }
 ],
 "metadata": {},
 "nbformat": 4,
 "nbformat_minor": 5
}
