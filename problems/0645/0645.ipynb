{
 "cells": [
  {
   "cell_type": "markdown",
   "id": "0",
   "metadata": {},
   "source": [
    "# <a href=\"https://projecteuler.net/problem=645\">Every Day is a Holiday</a>\n",
    "\n",
    "## Problem 645\n",
    "\n",
    "<p>On planet J, a year lasts for $D$ days. Holidays are defined by the two following rules.</p>\n",
    "<ol><li>At the beginning of the reign of the current Emperor, his birthday is declared a holiday from that year onwards.</li>\n",
    "<li>If both the day before and after a day $d$ are holidays, then $d$ also becomes a holiday.</li>\n",
    "</ol><p>Initially there are no holidays. Let $E(D)$ be the expected number of Emperors to reign before all the days of the year are holidays, assuming that their birthdays are independent and uniformly distributed throughout the $D$ days of the year.</p>\n",
    "<p>You are given $E(2)=1$, $E(5)=31/6$, $E(365)\\approx 1174.3501$.</p>\n",
    "<p>Find $E(10000)$. Give your answer rounded to 4 digits after the decimal point.</p>\n",
    "\n"
   ]
  },
  {
   "cell_type": "markdown",
   "id": "1",
   "metadata": {},
   "source": [
    "# Solution\n"
   ]
  },
  {
   "cell_type": "code",
   "execution_count": null,
   "id": "2",
   "metadata": {},
   "outputs": [],
   "source": []
  }
 ],
 "metadata": {},
 "nbformat": 4,
 "nbformat_minor": 5
}
