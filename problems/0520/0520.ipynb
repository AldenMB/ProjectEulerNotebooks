{
 "cells": [
  {
   "cell_type": "markdown",
   "id": "0",
   "metadata": {},
   "source": [
    "# <a href=\"https://projecteuler.net/problem=520\">Simbers</a>\n",
    "\n",
    "## Problem 520\n",
    "\n",
    "<p>We define a <i>simber</i> to be a positive integer in which any odd digit, if present, occurs an odd number of times, and any even digit, if present, occurs an even number of times.</p>\n",
    "\n",
    "<p>For example, 141221242 is a 9-digit simber because it has three 1's, four 2's and two 4's. </p>\n",
    "\n",
    "<p>Let Q(<var>n</var>) be the count of all simbers with at most <var>n</var> digits.</p> \n",
    "\n",
    "<p>You are given Q(7) = 287975 and Q(100) mod 1 000 000 123 = 123864868.</p>\n",
    "\n",
    "<p>Find (<span style=\"font-size:larger;\"><span style=\"font-size:larger;\">∑</span></span><sub>1≤<var>u</var>≤39</sub> Q(2<sup><var>u</var></sup>)) mod 1 000 000 123.</p> \n"
   ]
  },
  {
   "cell_type": "markdown",
   "id": "1",
   "metadata": {},
   "source": [
    "# Solution\n"
   ]
  },
  {
   "cell_type": "code",
   "execution_count": null,
   "id": "2",
   "metadata": {},
   "outputs": [],
   "source": []
  }
 ],
 "metadata": {},
 "nbformat": 4,
 "nbformat_minor": 5
}
