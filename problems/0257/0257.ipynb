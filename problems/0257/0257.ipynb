{
 "cells": [
  {
   "cell_type": "markdown",
   "id": "0",
   "metadata": {},
   "source": [
    "# <a href=\"https://projecteuler.net/problem=257\">Angular Bisectors</a>\n",
    "\n",
    "## Problem 257\n",
    "\n",
    "<span style=\"font-size:11pt;\">\n",
    "</span><p>Given is an integer sided triangle ABC with sides a ≤ b ≤ c. \n",
    "(AB = c, BC = a and AC = b).<br />\n",
    "The angular bisectors of the triangle intersect the sides at points E, F and G (see picture below).\n",
    "</p>\n",
    "<div align=\"center\">\n",
    "<img src=\"p257_bisector.gif\" class=\"dark_img\" alt=\"p257_bisector.gif\" /><br /></div>\n",
    "<p>\n",
    "The segments EF, EG and FG partition the triangle ABC into four smaller triangles: AEG, BFE, CGF and EFG.<br />\n",
    "It can be proven that for each of these four triangles the ratio area(ABC)/area(subtriangle) is rational.<br />\n",
    "However, there exist triangles for which some or all of these ratios are integral.\n",
    "</p>\n",
    "<p>\n",
    "How many triangles ABC with perimeter≤100,000,000 exist so that the ratio area(ABC)/area(AEG) is integral?\n",
    "</p>\n",
    "\n",
    "\n",
    "\n",
    "\n",
    "\n"
   ]
  },
  {
   "cell_type": "markdown",
   "id": "1",
   "metadata": {},
   "source": [
    "# Solution\n"
   ]
  },
  {
   "cell_type": "code",
   "execution_count": null,
   "id": "2",
   "metadata": {},
   "outputs": [],
   "source": []
  }
 ],
 "metadata": {},
 "nbformat": 4,
 "nbformat_minor": 5
}
