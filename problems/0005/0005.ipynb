{
 "cells": [
  {
   "cell_type": "markdown",
   "id": "0",
   "metadata": {},
   "source": [
    "# <a href=\"https://projecteuler.net/problem=5\">Smallest multiple</a>\n",
    "\n",
    "## Problem 5\n",
    "\n",
    "<p>2520 is the smallest number that can be divided by each of the numbers from 1 to 10 without any remainder.</p>\n",
    "<p>What is the smallest positive number that is <dfn title=\"divisible with no remainder\">evenly divisible</dfn> by all of the numbers from 1 to 20?</p>\n",
    "\n"
   ]
  },
  {
   "cell_type": "markdown",
   "id": "1",
   "metadata": {},
   "source": [
    "# Solution\n"
   ]
  },
  {
   "cell_type": "code",
   "execution_count": null,
   "id": "2",
   "metadata": {},
   "outputs": [],
   "source": []
  }
 ],
 "metadata": {},
 "nbformat": 4,
 "nbformat_minor": 5
}
