{
 "cells": [
  {
   "cell_type": "markdown",
   "id": "0",
   "metadata": {},
   "source": [
    "# <a href=\"https://projecteuler.net/problem=351\">Hexagonal orchards</a>\n",
    "\n",
    "## Problem 351\n",
    "\n",
    "<p>A <i>hexagonal orchard</i> of order <var>n</var> is a triangular lattice made up of points within a regular hexagon with side <var>n</var>. The following is an example of a hexagonal orchard of order 5:\n",
    "</p>\n",
    "\n",
    "<div align=\"center\">\n",
    "<img src=\"p351_hexorchard.png\" class=\"dark_img\" alt=\"p351_hexorchard.png\" /><br /></div>\n",
    "\n",
    "<p>\n",
    "Highlighted in green are the points which are hidden from the center by a point closer to it. It can be seen that for a hexagonal orchard of order 5, 30 points are hidden from the center.\n",
    "</p>\n",
    "\n",
    "<p>\n",
    "Let H(<var>n</var>) be the number of points hidden from the center in a hexagonal orchard of order <var>n</var>.\n",
    "</p>\n",
    "\n",
    "<p>\n",
    "H(5) = 30. H(10) = 138. H(1 000) = 1177848.\n",
    "</p>\n",
    "\n",
    "<p>\n",
    "Find H(100 000 000).\n",
    "</p>\n"
   ]
  },
  {
   "cell_type": "markdown",
   "id": "1",
   "metadata": {},
   "source": [
    "# Solution\n"
   ]
  },
  {
   "cell_type": "code",
   "execution_count": null,
   "id": "2",
   "metadata": {},
   "outputs": [],
   "source": []
  }
 ],
 "metadata": {},
 "nbformat": 4,
 "nbformat_minor": 5
}
