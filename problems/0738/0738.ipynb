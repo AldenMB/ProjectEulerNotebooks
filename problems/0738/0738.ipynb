{
 "cells": [
  {
   "cell_type": "markdown",
   "id": "0",
   "metadata": {},
   "source": [
    "# <a href=\"https://projecteuler.net/problem=738\">Counting Ordered Factorisations</a>\n",
    "\n",
    "## Problem 738\n",
    "\n",
    "<p>Define $d(n,k)$ to be the number of ways to write $n$ as a product of $k$ ordered integers</p>\n",
    "\\[\n",
    "n = x_1\\times x_2\\times x_3\\times \\ldots\\times x_k\\qquad 1\\le x_1\\le x_2\\le\\ldots\\le x_k\n",
    "\\]\n",
    "<p>Further define $D(N,K)$ to be the sum of $d(n,k)$ for $1\\le n\\le N$ and $1\\le k\\le K$.</p>\n",
    "\n",
    "<p>You are given that $D(10, 10) = 153$ and $D(100, 100) = 35384$.</p>\n",
    "\n",
    "<p>Find $D(10^{10},10^{10})$ giving your answer modulo $1\\,000\\,000\\,007$.</p>\n",
    "\n"
   ]
  },
  {
   "cell_type": "markdown",
   "id": "1",
   "metadata": {},
   "source": [
    "# Solution\n"
   ]
  },
  {
   "cell_type": "code",
   "execution_count": null,
   "id": "2",
   "metadata": {},
   "outputs": [],
   "source": []
  }
 ],
 "metadata": {},
 "nbformat": 4,
 "nbformat_minor": 5
}
