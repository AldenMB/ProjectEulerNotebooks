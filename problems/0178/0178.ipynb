{
 "cells": [
  {
   "cell_type": "markdown",
   "id": "0",
   "metadata": {},
   "source": [
    "# <a href=\"https://projecteuler.net/problem=178\">Step Numbers</a>\n",
    "\n",
    "## Problem 178\n",
    "\n",
    "Consider the number 45656. <br />\n",
    "It can be seen that each pair of consecutive digits of 45656 has a difference of one.<br />\n",
    "A number for which every pair of consecutive digits has a difference of one is called a step number.<br />\n",
    "A pandigital number  contains every decimal digit from 0 to 9 at least once.<br />\n",
    "\n",
    "How many pandigital step numbers less than 10<sup>40</sup> are there?\n",
    "\n"
   ]
  },
  {
   "cell_type": "markdown",
   "id": "1",
   "metadata": {},
   "source": [
    "# Solution\n"
   ]
  },
  {
   "cell_type": "code",
   "execution_count": null,
   "id": "2",
   "metadata": {},
   "outputs": [],
   "source": []
  }
 ],
 "metadata": {},
 "nbformat": 4,
 "nbformat_minor": 5
}
