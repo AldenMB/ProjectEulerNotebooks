{
 "cells": [
  {
   "cell_type": "markdown",
   "id": "0",
   "metadata": {},
   "source": [
    "# <a href=\"https://projecteuler.net/problem=674\">Solving $\\mathcal{I}$-equations</a>\n",
    "\n",
    "## Problem 674\n",
    "\n",
    "<p>We define the $\\mathcal{I}$ operator as the function\n",
    "\\[\\mathcal{I}(x,y) = (1+x+y)^2+y-x\\]\n",
    "and $\\mathcal{I}$-expressions as arithmetic expressions built only from variable names and applications of $\\mathcal{I}$. A variable name may consist of one or more letters. For example, the three expressions $x$, $\\mathcal{I}(x,y)$, and $\\mathcal{I}(\\mathcal{I}(x,ab),x)$ are all $\\mathcal{I}$-expressions.</p>\n",
    "\n",
    "<p>For two $\\mathcal{I}$-expressions $e_1$ and $e_2$ such that the equation $e_1=e_2$ has a solution in non-negative integers, we define the least simultaneous value of $e_1$ and $e_2$ to be the minimum value taken by $e_1$ and $e_2$ on such a solution. If the equation $e_1=e_2$ has no solution in non-negative integers, we define the least simultaneous value of $e_1$ and $e_2$ to be $0$. For example, consider the following three $\\mathcal{I}$-expressions:\n",
    "\\[\\begin{array}{l}A = \\mathcal{I}(x,\\mathcal{I}(z,t))\\\\\n",
    "B = \\mathcal{I}(\\mathcal{I}(y,z),y)\\\\\n",
    "C = \\mathcal{I}(\\mathcal{I}(x,z),y)\\end{array}\\]\n",
    "The least simultaneous value of $A$ and $B$ is $23$, attained for $x=3,y=1,z=t=0$. On the other hand, $A=C$ has no solutions in non-negative integers, so the least simultaneous value of $A$ and $C$ is $0$. The total sum of least simultaneous pairs made of $\\mathcal{I}$-expressions from $\\{A,B,C\\}$ is $26$.</p>\n",
    "\n",
    "<p>Find the sum of least simultaneous values of all $\\mathcal{I}$-expressions pairs made of distinct expressions from file <a href=\"i_expressions.txt\">I-expressions.txt</a> (pairs $(e_1,e_2)$ and $(e_2,e_1)$ are considered to be identical). Give the last nine digits of the result as the answer.</p>\n",
    "\n"
   ]
  },
  {
   "cell_type": "markdown",
   "id": "1",
   "metadata": {},
   "source": [
    "# Solution\n"
   ]
  },
  {
   "cell_type": "code",
   "execution_count": null,
   "id": "2",
   "metadata": {},
   "outputs": [],
   "source": []
  }
 ],
 "metadata": {},
 "nbformat": 4,
 "nbformat_minor": 5
}
