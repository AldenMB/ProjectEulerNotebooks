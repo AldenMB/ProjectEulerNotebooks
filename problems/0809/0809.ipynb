{
 "cells": [
  {
   "cell_type": "markdown",
   "id": "0",
   "metadata": {},
   "source": [
    "# <a href=\"http://projecteuler.net/problem=809\">Rational Recurrence Relation </a>\n",
    "\n",
    "## Problem 809\n",
    "\n",
    "<p>\n",
    "The following is a function defined for all positive rational values of $x$.\n",
    "</p>\n",
    "$$\tf(x)=\\begin{cases} x  &amp;x\\text{ is integral}\\\\\n",
    "\t\t\t\t\tf(\\frac 1{1-x})\t&amp;x \\lt 1\\\\\n",
    "\t\t\t\t\tf\\Big(\\frac 1{\\lceil x\\rceil -x}-1+f(x-1)\\Big)\t&amp;\\text{otherwise}\\end{cases}\t$$\n",
    "<p>\n",
    "For example, $f(3/2)=3$, $f(1/6) = 65533$ and $f(13/10) = 7625597484985$.\n",
    "</p>\n",
    "<p>\n",
    "Find $f(22/7)$. Give your answer modulo $10^{15}$.\n",
    "</p>\n"
   ]
  },
  {
   "cell_type": "markdown",
   "id": "1",
   "metadata": {},
   "source": [
    "# Solution\n"
   ]
  },
  {
   "cell_type": "code",
   "execution_count": null,
   "id": "2",
   "metadata": {},
   "outputs": [],
   "source": []
  }
 ],
 "metadata": {},
 "nbformat": 4,
 "nbformat_minor": 5
}
