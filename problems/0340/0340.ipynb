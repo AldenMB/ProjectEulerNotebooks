{
 "cells": [
  {
   "cell_type": "markdown",
   "id": "0",
   "metadata": {},
   "source": [
    "# <a href=\"https://projecteuler.net/problem=340\">Crazy Function</a>\n",
    "\n",
    "## Problem 340\n",
    "\n",
    "<p>\n",
    "For fixed integers a, b, c, define the <i>crazy function</i> F(<var>n</var>) as follows:<br />\n",
    "F(<var>n</var>) = <var>n</var> - c for all <var>n</var> &gt; b <br />\n",
    "F(<var>n</var>) = F(a + F(a + F(a + F(a + <var>n</var>)))) for all <var>n</var> ≤ b.\n",
    "</p>\n",
    "<p>Also, define $S(a, b, c) = \\sum \\limits_{n = 0}^{b} {F(n)}$.</p>\n",
    "<p>\n",
    "For example, if a = 50, b = 2000 and c = 40, then F(0) = 3240 and F(2000) = 2040.<br />\n",
    "Also, S(50, 2000, 40) = 5204240.\n",
    "</p>\n",
    "<p>\n",
    "Find the last 9 digits of S(21<sup>7</sup>, 7<sup>21</sup>, 12<sup>7</sup>).\n",
    "</p>\n",
    "\n",
    "\n",
    "\n",
    "\n",
    "\n"
   ]
  },
  {
   "cell_type": "markdown",
   "id": "1",
   "metadata": {},
   "source": [
    "# Solution\n"
   ]
  },
  {
   "cell_type": "code",
   "execution_count": null,
   "id": "2",
   "metadata": {},
   "outputs": [],
   "source": []
  }
 ],
 "metadata": {},
 "nbformat": 4,
 "nbformat_minor": 5
}
