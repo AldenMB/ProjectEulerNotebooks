{
 "cells": [
  {
   "cell_type": "markdown",
   "id": "0",
   "metadata": {},
   "source": [
    "# <a href=\"http://projecteuler.net/problem=889\">Rational Blancmange</a>\n",
    "\n",
    "## Problem 889\n",
    "\n",
    "<p>\n",
    "Recall the blancmange function from <a href=\"problem=226\">Problem 226</a>: $T(x) = \\sum\\limits_{n = 0}^\\infty\\dfrac{s(2^nx)}{2^n}$, where $s(x)$ is the distance from $x$ to the nearest integer.</p>\n",
    "\n",
    "<p>\n",
    "For positive integers $k, t, r$, we write $$F(k, t, r) = (2^{2k} - 1)T\\left(\\frac{(2^t + 1)^r}{2^k + 1}\\right).$$ It can be shown that $F(k, t, r)$ is always an integer.<br>\n",
    "For example, $F(3, 1, 1) = 42$, $F(13, 3, 3) = 23093880$ and $F(103, 13, 6) \\equiv 878922518\\pmod {1\\,000\\,062\\,031}$.</p>\n",
    "\n",
    "<p>\n",
    "Find $F(10^{18} + 31, 10^{14} + 31, 62)$. Give your answer modulo $1\\,000\\,062\\,031$.</p>\n"
   ]
  },
  {
   "cell_type": "markdown",
   "id": "1",
   "metadata": {},
   "source": [
    "# Solution\n"
   ]
  },
  {
   "cell_type": "code",
   "execution_count": null,
   "id": "2",
   "metadata": {},
   "outputs": [],
   "source": []
  }
 ],
 "metadata": {},
 "nbformat": 4,
 "nbformat_minor": 5
}
