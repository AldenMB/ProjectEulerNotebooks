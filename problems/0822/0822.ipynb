{
 "cells": [
  {
   "cell_type": "markdown",
   "id": "0",
   "metadata": {},
   "source": [
    "# <a href=\"http://projecteuler.net/problem=822\">Square the Smallest</a>\n",
    "\n",
    "## Problem 822\n",
    "\n",
    "<p>\n",
    "A list initially contains the numbers $2, 3, \\dots, n$.<br />\n",
    "At each round, the smallest number in the list is replaced by its square. If there is more than one such number, then only one of them is replaced.\n",
    "</p>\n",
    "<p>\n",
    "For example, below are the first three rounds for $n = 5$:\n",
    "$$[2, 3, 4, 5] \\xrightarrow{(1)} [4, 3, 4, 5] \\xrightarrow{(2)} [4, 9, 4, 5] \\xrightarrow{(3)} [16, 9, 4, 5].$$\n",
    "</p>\n",
    "<p>\n",
    "Let $S(n, m)$ be the sum of all numbers in the list after $m$ rounds.<br /><br />\n",
    "For example, $S(5, 3) = 16 + 9 + 4 + 5 = 34$. Also $S(10, 100) \\equiv 845339386 \\pmod{1234567891}$.\n",
    "</p>\n",
    "<p>\n",
    "Find $S(10^4, 10^{16})$. Give your answer modulo $1234567891$.\n",
    "</p>\n"
   ]
  },
  {
   "cell_type": "markdown",
   "id": "1",
   "metadata": {},
   "source": [
    "# Solution\n"
   ]
  },
  {
   "cell_type": "code",
   "execution_count": null,
   "id": "2",
   "metadata": {},
   "outputs": [],
   "source": []
  }
 ],
 "metadata": {},
 "nbformat": 4,
 "nbformat_minor": 5
}
