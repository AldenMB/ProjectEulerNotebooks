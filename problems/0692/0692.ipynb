{
 "cells": [
  {
   "cell_type": "markdown",
   "id": "0",
   "metadata": {},
   "source": [
    "# <a href=\"https://projecteuler.net/problem=692\">Siegbert and Jo</a>\n",
    "\n",
    "## Problem 692\n",
    "\n",
    "<p>\n",
    "Siegbert and Jo take turns playing a game with a heap of $N$ pebbles:<br />\n",
    "1. Siegbert is the first to take some pebbles. He can take as many pebbles as he wants. (Between 1 and $N$ inclusive.)<br />\n",
    "2. In each of the following turns the current player must take at least one pebble and at most twice the amount of pebbles taken by the previous player.<br />\n",
    "3. The player who takes the last pebble wins.<br /></p>\n",
    "<p>\n",
    "Although Siegbert can always win by taking all the pebbles on his first turn, to make the game more interesting he chooses to take the smallest number of pebbles that guarantees he will still win (assuming both Siegbert and Jo play optimally for the rest of the game).\n",
    "</p>\n",
    "<p>\n",
    "Let $H(N)$ be that minimal amount for a heap of $N$ pebbles.<br />\n",
    "$H(1)=1$, $H(4)=1$, $H(17)=1$, $H(8)=8$ and $H(18)=5$ .\n",
    "</p>\n",
    "<p>\n",
    "Let $G(n)$ be $\\displaystyle{\\sum_{k=1}^n H(k)}$.<br />\n",
    "$G(13)=43$.\n",
    "</p>\n",
    "<p>\n",
    "Find $G(23416728348467685)$.\n",
    "</p>\n",
    "\n"
   ]
  },
  {
   "cell_type": "markdown",
   "id": "1",
   "metadata": {},
   "source": [
    "# Solution\n"
   ]
  },
  {
   "cell_type": "code",
   "execution_count": null,
   "id": "2",
   "metadata": {},
   "outputs": [],
   "source": []
  }
 ],
 "metadata": {},
 "nbformat": 4,
 "nbformat_minor": 5
}
