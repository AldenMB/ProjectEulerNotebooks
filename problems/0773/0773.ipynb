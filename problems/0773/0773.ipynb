{
 "cells": [
  {
   "cell_type": "markdown",
   "id": "0",
   "metadata": {},
   "source": [
    "# <a href=\"https://projecteuler.net/problem=773\">Ruff Numbers</a>\n",
    "\n",
    "## Problem 773\n",
    "\n",
    "<p>\n",
    "Let $S_k$ be the set containing 2 and 5 and the first $k$ primes that end in 7. For example, $S_3 = \\{2,5,7,17,37\\}$.</p>\n",
    "\n",
    "<p>\n",
    "Define a $k$-<i>Ruff</i> number to be one that is not divisible by any element in $S_k$.</p>\n",
    "\n",
    "<p>\n",
    "If $N_k$ is the product of the numbers in $S_k$ then define $F(k)$ to be the sum of all $k$-Ruff numbers less than $N_k$ that have last digit 7. You are given $F(3) = 76101452$.</p>\n",
    "\n",
    "<p>\n",
    "Find $F(97)$, give your answer modulo $1\\,000\\,000\\,007$.</p>\n"
   ]
  },
  {
   "cell_type": "markdown",
   "id": "1",
   "metadata": {},
   "source": [
    "# Solution\n"
   ]
  },
  {
   "cell_type": "code",
   "execution_count": null,
   "id": "2",
   "metadata": {},
   "outputs": [],
   "source": []
  }
 ],
 "metadata": {},
 "nbformat": 4,
 "nbformat_minor": 5
}
