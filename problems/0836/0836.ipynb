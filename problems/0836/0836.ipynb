{
 "cells": [
  {
   "cell_type": "markdown",
   "id": "0",
   "metadata": {},
   "source": [
    "# <a href=\"http://projecteuler.net/problem=836\">A Bold Proposition</a>\n",
    "\n",
    "## Problem 836\n",
    "\n",
    "<p>Let $A$ be an <b>affine plane</b> over a <b>radically integral local field</b> $F$ with residual characteristic $p$.</p>\n",
    "\n",
    "<p>We consider an <b>open oriented line section</b> $U$ of $A$ with normalized Haar measure $m$.</p>\n",
    "\n",
    "<p>Define $f(m, p)$ as the maximal possible discriminant of the <b>jacobian</b> associated to the <b>orthogonal kernel embedding</b> of $U$ <span style=\"white-space:nowrap;\">into $A$.</span></p>\n",
    "\n",
    "<p>Find $f(20230401, 57)$. Give as your answer the concatenation of the first letters of each bolded word.</p>\n"
   ]
  },
  {
   "cell_type": "markdown",
   "id": "1",
   "metadata": {},
   "source": [
    "# Solution\n"
   ]
  },
  {
   "cell_type": "code",
   "execution_count": null,
   "id": "2",
   "metadata": {},
   "outputs": [],
   "source": []
  }
 ],
 "metadata": {},
 "nbformat": 4,
 "nbformat_minor": 5
}
