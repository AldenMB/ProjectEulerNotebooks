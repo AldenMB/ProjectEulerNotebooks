{
 "cells": [
  {
   "cell_type": "markdown",
   "id": "0",
   "metadata": {},
   "source": [
    "# <a href=\"http://projecteuler.net/problem=805\">Shifted Multiples</a>\n",
    "\n",
    "## Problem 805\n",
    "\n",
    "<p>\n",
    "For a positive integer $n$, let $s(n)$ be the integer obtained by shifting the leftmost digit of the decimal representation of $n$ to the rightmost position.<br />\n",
    "For example, $s(142857)=428571$ and $s(10)=1$.</p>\n",
    "\n",
    "<p>\n",
    "For a positive rational number $r$, we define $N(r)$ as the smallest positive integer $n$ such that $s(n)=r\\cdot n$.<br />\n",
    "If no such integer exists, then $N(r)$ is defined as zero.<br />\n",
    "For example, $N(3)=142857$, $N(\\tfrac 1{10})=10$ and $N(2) = 0$.</p>\n",
    "<p>\n",
    "Let $T(M)$ be the sum of $N(u^3/v^3)$ where $(u,v)$ ranges over all ordered pairs of coprime positive integers not exceeding $M$.<br />\n",
    "For example, $T(3)\\equiv 262429173 \\pmod {1\\,000\\,000\\,007}$.</p>\n",
    "\n",
    "<p>\n",
    "Find $T(200)$. Give your answer modulo $1\\,000\\,000\\,007$. </p>\n",
    "\n"
   ]
  },
  {
   "cell_type": "markdown",
   "id": "1",
   "metadata": {},
   "source": [
    "# Solution\n"
   ]
  },
  {
   "cell_type": "code",
   "execution_count": null,
   "id": "2",
   "metadata": {},
   "outputs": [],
   "source": []
  }
 ],
 "metadata": {},
 "nbformat": 4,
 "nbformat_minor": 5
}
