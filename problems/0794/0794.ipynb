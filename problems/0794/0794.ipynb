{
 "cells": [
  {
   "cell_type": "markdown",
   "id": "0",
   "metadata": {},
   "source": [
    "# <a href=\"https://projecteuler.net/problem=794\">Seventeen Points</a>\n",
    "\n",
    "## Problem 794\n",
    "\n",
    "<p>This problem uses half open interval notation where $[a,b)$ represents $a \\le x &lt; b$.</p>\n",
    "\n",
    "<p>A real number, $x_1$, is chosen in the interval $[0,1)$.<br />\n",
    "A second real number, $x_2$, is chosen such that each of $[0,\\frac{1}{2})$ and $[\\frac{1}{2},1)$ contains exactly one of $(x_1, x_2)$.<br />\n",
    "Continue such that on the $n$-th step a real number, $x_n$, is chosen so that each of the intervals $[\\frac{k-1}{n}, \\frac{k}{n})$ for $k \\in \\{1, ..., n\\}$ contains exactly one of $(x_1, x_2, ..., x_n)$.</p>\n",
    "\n",
    "<p>Define $F(n)$ to be the minimal value of the sum $x_1 + x_2 + ... + x_n$ of a tuple $(x_1, x_2, ..., x_n)$ chosen by such a procedure. For example, $F(4) = 1.5$ obtained with $(x_1, x_2, x_3, x_4) = (0, 0.75, 0.5, 0.25)$.</p>\n",
    "\n",
    "<p>Surprisingly, no more than $17$ points can be chosen by this procedure. </p>\n",
    "\n",
    "<p>Find $F(17)$ and give your answer rounded to 12 decimal places.</p>\n"
   ]
  },
  {
   "cell_type": "markdown",
   "id": "1",
   "metadata": {},
   "source": [
    "# Solution\n"
   ]
  },
  {
   "cell_type": "code",
   "execution_count": null,
   "id": "2",
   "metadata": {},
   "outputs": [],
   "source": []
  }
 ],
 "metadata": {},
 "nbformat": 4,
 "nbformat_minor": 5
}
