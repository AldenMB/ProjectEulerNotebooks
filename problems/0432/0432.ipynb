{
 "cells": [
  {
   "cell_type": "markdown",
   "id": "0",
   "metadata": {},
   "source": [
    "# <a href=\"https://projecteuler.net/problem=432\">Totient sum</a>\n",
    "\n",
    "## Problem 432\n",
    "\n",
    "<p>\n",
    "Let S(<var>n,m</var>) = ∑φ(<var>n × i</var>) for 1 ≤ <var>i ≤ m</var>. (φ is Euler's totient function)<br />\n",
    "You are given that S(510510,10<sup>6</sup> )= 45480596821125120. \n",
    "</p>\n",
    "<p>\n",
    "Find S(510510,10<sup>11</sup>).<br />\n",
    "Give the last 9 digits of your answer.\n",
    "</p>\n",
    "\n"
   ]
  },
  {
   "cell_type": "markdown",
   "id": "1",
   "metadata": {},
   "source": [
    "# Solution\n"
   ]
  },
  {
   "cell_type": "code",
   "execution_count": null,
   "id": "2",
   "metadata": {},
   "outputs": [],
   "source": []
  }
 ],
 "metadata": {},
 "nbformat": 4,
 "nbformat_minor": 5
}
