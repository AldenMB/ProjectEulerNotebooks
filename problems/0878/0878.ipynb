{
 "cells": [
  {
   "cell_type": "markdown",
   "id": "0",
   "metadata": {},
   "source": [
    "# <a href=\"http://projecteuler.net/problem=878\">XOR-Equation B</a>\n",
    "\n",
    "## Problem 878\n",
    "\n",
    "We use $x\\oplus y$ for the bitwise XOR of $x$ and $y$.<br>\n",
    "Define the <dfn>XOR-product</dfn> of $x$ and $y$, denoted by $x \\otimes y$, similar to a long multiplication in base $2$, except that the intermediate results are XORed instead of the usual integer addition.<br>\n",
    "\n",
    "For example, $7 \\otimes 3 = 9$, or in base $2$, $111_2 \\otimes 11_2 = 1001_2$:\n",
    "<center>\n",
    "\\begin{align*}\n",
    "\\phantom{\\otimes 111} 111_2 \\\\\n",
    "\\otimes \\phantom{1111} 11_2 \\\\\n",
    "\\hline\n",
    "\\phantom{\\otimes 111} 111_2 \\\\\n",
    "\\oplus \\phantom{11} 111_2  \\phantom{9} \\\\\n",
    "\\hline\n",
    "\\phantom{\\otimes 11} 1001_2 \\\\\n",
    "\\end{align*}\n",
    "</center>\n",
    "\n",
    "We consider the equation:\n",
    "<center>\n",
    "\\begin{align}\n",
    "(a \\otimes a) \\oplus (2 \\otimes a \\otimes b) \\oplus (b \\otimes b) = k.\n",
    "\\end{align}\n",
    "</center>\n",
    "<p>\n",
    "For example, $(a, b) = (3, 6)$ is a solution to this equation for $k=5$.\n",
    "</p>\n",
    "<p>\n",
    "Let $G(N,m)$ be the number of solutions to those equations with $k \\le m$ and $0 \\le a \\le b \\le N$.</p>\n",
    "<p>\n",
    "You are given $G(1000,100)=398$.\n",
    "</p><p>\n",
    "Find $G(10^{17},1\\,000\\,000).$\n",
    "</p>\n"
   ]
  },
  {
   "cell_type": "markdown",
   "id": "1",
   "metadata": {},
   "source": [
    "# Solution\n"
   ]
  },
  {
   "cell_type": "code",
   "execution_count": null,
   "id": "2",
   "metadata": {},
   "outputs": [],
   "source": []
  }
 ],
 "metadata": {},
 "nbformat": 4,
 "nbformat_minor": 5
}
