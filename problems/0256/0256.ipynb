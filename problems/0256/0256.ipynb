{
 "cells": [
  {
   "cell_type": "markdown",
   "id": "0",
   "metadata": {},
   "source": [
    "# <a href=\"https://projecteuler.net/problem=256\">Tatami-Free Rooms</a>\n",
    "\n",
    "## Problem 256\n",
    "\n",
    "<span style=\"font-size:10pt;\">\n",
    "</span><p>Tatami are rectangular mats, used to completely cover the floor of a room, without overlap.</p>\n",
    "\n",
    "<p>Assuming that the only type of available tatami has dimensions 1×2, there are obviously some limitations for the shape and size of the rooms that can be covered.</p>\n",
    "\n",
    "<p>For this problem, we consider only rectangular rooms with integer dimensions <var>a</var>, <var>b</var> and even size <var>s</var> = <var>a</var>·<var>b</var>.<br />\n",
    "We use the term 'size' to denote the floor surface area of the room, and — without loss of generality — we add the condition <var>a</var> ≤ <var>b</var>.</p>\n",
    "\n",
    "<p>There is one rule to follow when laying out tatami: there must be no points where corners of four different mats meet.<br />\n",
    "For example, consider the two arrangements below for a 4×4 room:</p>\n",
    "<div align=\"center\">\n",
    "<img src=\"p256_tatami3.gif\" alt=\"p256_tatami3.gif\" /><br /></div>\n",
    "\n",
    "<p>The arrangement on the left is acceptable, whereas the one on the right is not: a red \"<span style=\"color:#FF0000;\"><b>X</b></span>\" in the middle, marks the point where four tatami meet.</p>\n",
    "\n",
    "<p>Because of this rule, certain even-sized rooms cannot be covered with tatami: we call them tatami-free rooms.<br />\n",
    "Further, we define <var>T</var>(<var>s</var>) as the number of tatami-free rooms of size <var>s</var>.</p>\n",
    "\n",
    "<p>The smallest tatami-free room has size <var>s</var> = 70 and dimensions 7×10.<br />\n",
    "All the other rooms of size <var>s</var> = 70 can be covered with tatami; they are: 1×70, 2×35 and 5×14.<br />\n",
    "Hence, <var>T</var>(70) = 1.</p>\n",
    "\n",
    "<p>Similarly, we can verify that <var>T</var>(1320) = 5 because there are exactly 5 tatami-free rooms of size <var>s</var> = 1320:<br />\n",
    "20×66, 22×60, 24×55, 30×44 and 33×40.<br />\n",
    "In fact, <var>s</var> = 1320 is the smallest room-size <var>s</var> for which <var>T</var>(<var>s</var>) = 5.</p>\n",
    "\n",
    "<p>Find the smallest room-size <var>s</var> for which <var>T</var>(<var>s</var>) = 200.</p>\n",
    "\n",
    "\n"
   ]
  },
  {
   "cell_type": "markdown",
   "id": "1",
   "metadata": {},
   "source": [
    "# Solution\n"
   ]
  },
  {
   "cell_type": "code",
   "execution_count": null,
   "id": "2",
   "metadata": {},
   "outputs": [],
   "source": []
  }
 ],
 "metadata": {},
 "nbformat": 4,
 "nbformat_minor": 5
}
