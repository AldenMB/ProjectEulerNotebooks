{
 "cells": [
  {
   "cell_type": "markdown",
   "id": "0",
   "metadata": {},
   "source": [
    "# <a href=\"https://projecteuler.net/problem=727\">Triangle of Circular Arcs</a>\n",
    "\n",
    "## Problem 727\n",
    "\n",
    "<p>Let $r_a$, $r_b$ and $r_c$ be the radii of three circles that are mutually and externally tangent to each other. The three circles then form a <dfn>triangle of circular arcs</dfn> between their tangency points as shown for the three blue circles in the picture below.</p>\n",
    "<p></p>\n",
    "<div style=\"text-align: center !important\">\n",
    "<img src=\"p727_circular_arcs.jpg\" alt=\"CircularArcs\" /></div>\n",
    "\n",
    "<p></p>\n",
    "Define the circumcircle of this triangle to be the red circle, with centre $D$, passing through their tangency points. Further define the incircle of this triangle to be the green circle, with centre $E$, that is mutually and externally tangent to all the three blue circles. Let $d=\\vert DE \\vert$ be the distance between the centres of the circumcircle and the incircle.\n",
    "<p>\n",
    "Let $\\mathbb{E}(d)$ be the expected value of $d$ when $r_a$, $r_b$ and $r_c$ are integers chosen uniformly such that $1\\leq r_a&lt;r_b&lt;r_c \\leq 100$ and $\\text{gcd}(r_a,r_b,r_c)=1$.</p>\n",
    "<p>\n",
    "Find $\\mathbb{E}(d)$, rounded to eight places after the decimal point.</p>\n"
   ]
  },
  {
   "cell_type": "markdown",
   "id": "1",
   "metadata": {},
   "source": [
    "# Solution\n"
   ]
  },
  {
   "cell_type": "code",
   "execution_count": null,
   "id": "2",
   "metadata": {},
   "outputs": [],
   "source": []
  }
 ],
 "metadata": {},
 "nbformat": 4,
 "nbformat_minor": 5
}
