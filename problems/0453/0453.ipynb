{
 "cells": [
  {
   "cell_type": "markdown",
   "id": "0",
   "metadata": {},
   "source": [
    "# <a href=\"https://projecteuler.net/problem=453\">Lattice Quadrilaterals</a>\n",
    "\n",
    "## Problem 453\n",
    "\n",
    "<p>A <b>simple quadrilateral</b> is a polygon that has four distinct vertices, has no straight angles and does not self-intersect.</p>\n",
    "\n",
    "<p>Let Q(m, n) be the number of simple quadrilaterals whose vertices are lattice points with coordinates (x,y) satisfying 0 ≤ x ≤ m and 0 ≤ y ≤ n.</p>\n",
    "\n",
    "<p>For example, Q(2, 2) = 94 as can be seen below:</p>\n",
    "<p align=\"center\"><img src=\"p453_quad.png\" class=\"dark_img\" alt=\"p453_quad.png\" /></p>\n",
    "<p>It can also be verified that Q(3, 7) = 39590, Q(12, 3) = 309000 and Q(123, 45) = 70542215894646.</p>\n",
    "\n",
    "<p>Find Q(12345, 6789) mod 135707531.</p>\n"
   ]
  },
  {
   "cell_type": "markdown",
   "id": "1",
   "metadata": {},
   "source": [
    "# Solution\n"
   ]
  },
  {
   "cell_type": "code",
   "execution_count": null,
   "id": "2",
   "metadata": {},
   "outputs": [],
   "source": []
  }
 ],
 "metadata": {},
 "nbformat": 4,
 "nbformat_minor": 5
}
