{
 "cells": [
  {
   "cell_type": "markdown",
   "id": "0",
   "metadata": {},
   "source": [
    "# <a href=\"https://projecteuler.net/problem=57\">Square root convergents</a>\n",
    "\n",
    "## Problem 57\n",
    "\n",
    "<p>It is possible to show that the square root of two can be expressed as an infinite continued fraction.</p>\n",
    "<p style=\"text-align: center !important\">$\\sqrt 2 =1+ \\frac 1 {2+ \\frac 1 {2 +\\frac 1 {2+ \\dots}}}$</p>\n",
    "<p>By expanding this for the first four iterations, we get:</p>\n",
    "<p>$1 + \\frac 1 2 = \\frac  32 = 1.5$<br />\n",
    "$1 + \\frac 1 {2 + \\frac 1 2} = \\frac 7 5 = 1.4$<br />\n",
    "$1 + \\frac 1 {2 + \\frac 1 {2+\\frac 1 2}} = \\frac {17}{12} = 1.41666 \\dots$<br />\n",
    "$1 + \\frac 1 {2 + \\frac 1 {2+\\frac 1 {2+\\frac 1 2}}} = \\frac {41}{29} = 1.41379 \\dots$<br /></p>\n",
    "<p>The next three expansions are $\\frac {99}{70}$, $\\frac {239}{169}$, and $\\frac {577}{408}$, but the eighth expansion, $\\frac {1393}{985}$, is the first example where the number of digits in the numerator exceeds the number of digits in the denominator.</p>\n",
    "<p>In the first one-thousand expansions, how many fractions contain a numerator with more digits than the denominator?</p>\n",
    "\n"
   ]
  },
  {
   "cell_type": "markdown",
   "id": "1",
   "metadata": {},
   "source": [
    "# Solution\n"
   ]
  },
  {
   "cell_type": "code",
   "execution_count": null,
   "id": "2",
   "metadata": {},
   "outputs": [],
   "source": []
  }
 ],
 "metadata": {},
 "nbformat": 4,
 "nbformat_minor": 5
}
