{
 "cells": [
  {
   "cell_type": "markdown",
   "id": "0",
   "metadata": {},
   "source": [
    "# <a href=\"http://projecteuler.net/problem=890\">Binary Partitions</a>\n",
    "\n",
    "## Problem 890\n",
    "\n",
    "<p>Let $p(n)$ be the number of ways to write $n$ as the sum of powers of two, ignoring order.</p>\n",
    "\n",
    "<p>For example, $p(7) = 6$, the partitions being\n",
    "$$\n",
    "\\begin{align}\n",
    "7 &amp;= 1+1+1+1+1+1+1 \\\\\n",
    "&amp;=1+1+1+1+1+2 \\\\\n",
    "&amp;=1+1+1+2+2 \\\\\n",
    "&amp;=1+1+1+4 \\\\\n",
    "&amp;=1+2+2+2 \\\\\n",
    "&amp;=1+2+4\n",
    "\\end{align}\n",
    "$$\n",
    "You are also given $p(7^7) \\equiv 144548435 \\pmod {10^9+7}$.</p>\n",
    "\n",
    "<p>Find $p(7^{777})$. Give your answer modulo $10^9 + 7$.</p>\n"
   ]
  },
  {
   "cell_type": "markdown",
   "id": "1",
   "metadata": {},
   "source": [
    "# Solution\n"
   ]
  },
  {
   "cell_type": "code",
   "execution_count": null,
   "id": "2",
   "metadata": {},
   "outputs": [],
   "source": []
  }
 ],
 "metadata": {},
 "nbformat": 4,
 "nbformat_minor": 5
}
