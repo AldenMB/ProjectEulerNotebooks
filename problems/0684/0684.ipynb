{
 "cells": [
  {
   "cell_type": "markdown",
   "id": "0",
   "metadata": {},
   "source": [
    "# <a href=\"https://projecteuler.net/problem=684\">Inverse Digit Sum</a>\n",
    "\n",
    "## Problem 684\n",
    "\n",
    "<p>Define $s(n)$ to be the smallest number that has a digit sum of $n$. For example $s(10) = 19$.<br />\n",
    "Let $\\displaystyle S(k) = \\sum_{n=1}^k s(n)$. You are given $S(20) = 1074$.</p>\n",
    "<p>\n",
    "Further let $f_i$ be the Fibonacci sequence defined by $f_0=0, f_1=1$ and $f_i=f_{i-2}+f_{i-1}$ for all $i \\ge 2$.</p>\n",
    "<p>\n",
    "Find $\\displaystyle \\sum_{i=2}^{90} S(f_i)$. Give your answer modulo $1\\,000\\,000\\,007$.</p>\n"
   ]
  },
  {
   "cell_type": "markdown",
   "id": "1",
   "metadata": {},
   "source": [
    "# Solution\n"
   ]
  },
  {
   "cell_type": "code",
   "execution_count": null,
   "id": "2",
   "metadata": {},
   "outputs": [],
   "source": []
  }
 ],
 "metadata": {},
 "nbformat": 4,
 "nbformat_minor": 5
}
