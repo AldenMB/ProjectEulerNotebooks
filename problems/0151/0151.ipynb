{
 "cells": [
  {
   "cell_type": "markdown",
   "id": "0",
   "metadata": {},
   "source": [
    "# <a href=\"https://projecteuler.net/problem=151\">Paper sheets of standard sizes: an expected-value problem</a>\n",
    "\n",
    "## Problem 151\n",
    "\n",
    "<p>A printing shop runs 16 batches (jobs) every week and each batch requires a sheet of special colour-proofing paper of size A5.</p>\n",
    "\n",
    "<p>Every Monday morning, the supervisor opens a new envelope, containing a large sheet of the special paper with size A1.</p>\n",
    "\n",
    "<p>The supervisor proceeds to cut it in half, thus getting two sheets of size A2. Then one of the sheets is cut in half to get two sheets of size A3 and so on until an A5-size sheet is obtained, which is needed for the first batch of the week.</p>\n",
    "\n",
    "<p>All the unused sheets are placed back in the envelope.</p>\n",
    "\n",
    "<div style=\"text-align: center !important\"><img src=\"p151.png\" class=\"dark_img\" alt=\"\" /></div>\n",
    "\n",
    "<p>At the beginning of each subsequent batch, the supervisor takes from the envelope one sheet of paper at random. If it is of size A5, then it is used. If it is larger, then the 'cut-in-half' procedure is repeated until an A5-size sheet is obtained, and any remaining sheets are always placed back in the envelope.</p>\n",
    "\n",
    "<p>Excluding the first and last batch of the week, find the expected number of times (during each week) that the supervisor finds a single sheet of paper in the envelope.</p>\n",
    "\n",
    "<p>Give your answer rounded to six decimal places using the format x.xxxxxx .</p>\n"
   ]
  },
  {
   "cell_type": "markdown",
   "id": "1",
   "metadata": {},
   "source": [
    "# Solution\n"
   ]
  },
  {
   "cell_type": "code",
   "execution_count": null,
   "id": "2",
   "metadata": {},
   "outputs": [],
   "source": []
  }
 ],
 "metadata": {},
 "nbformat": 4,
 "nbformat_minor": 5
}
