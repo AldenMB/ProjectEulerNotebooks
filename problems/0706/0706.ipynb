{
 "cells": [
  {
   "cell_type": "markdown",
   "id": "0",
   "metadata": {},
   "source": [
    "# <a href=\"https://projecteuler.net/problem=706\">3-Like Numbers</a>\n",
    "\n",
    "## Problem 706\n",
    "\n",
    "<p>\n",
    "For a positive integer $n$, define $f(n)$ to be the number of non-empty substrings of $n$ that are divisible by 3. For example, the string \"2573\" has 10 non-empty substrings, three of which represent numbers that are divisible by 3, namely 57, 573 and 3. So $f(2573) = 3$.\n",
    "</p>\n",
    "<p>\n",
    "If $f(n)$ is divisible by 3 then we say that $n$ is <i>3-like</i>.\n",
    "</p>\n",
    "<p>\n",
    "Define $F(d)$ to be how many $d$ digit numbers are 3-like. For example, $F(2) = 30$ and $F(6) = 290898$.\n",
    "</p>\n",
    "<p>\n",
    "Find $F(10^5)$. Give your answer modulo $1\\,000\\,000\\,007$.\n",
    "</p>\n"
   ]
  },
  {
   "cell_type": "markdown",
   "id": "1",
   "metadata": {},
   "source": [
    "# Solution\n"
   ]
  },
  {
   "cell_type": "code",
   "execution_count": null,
   "id": "2",
   "metadata": {},
   "outputs": [],
   "source": []
  }
 ],
 "metadata": {},
 "nbformat": 4,
 "nbformat_minor": 5
}
