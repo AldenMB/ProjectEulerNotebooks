{
 "cells": [
  {
   "cell_type": "markdown",
   "id": "0",
   "metadata": {},
   "source": [
    "# <a href=\"http://projecteuler.net/problem=870\">Stone Game IV</a>\n",
    "\n",
    "## Problem 870\n",
    "\n",
    "<p>\n",
    "Two players play a game with a single pile of stones of initial size $n$. They take stones from the pile in turn, according to the following rules which depend on a fixed real number $r &gt; 0$:</p>\n",
    "\n",
    "<ul>\n",
    "<li>\n",
    "In the first turn, the first player may take $k$ stones with $1 \\le k \\lt n$.</li>\n",
    "<li>\n",
    "If a player takes $m$ stones in a turn, then in the next turn the opponent may take $k$ stones with $1 \\le k \\le \\lfloor r \\cdot m \\rfloor$.</li></ul>\n",
    "\n",
    "<p>\n",
    "Whoever cannot make a legal move loses the game.</p>\n",
    "\n",
    "<p>\n",
    "Let $L(r)$ be the set of initial pile sizes $n$ for which the second player has a winning strategy. For example, $L(0.5) = \\{1\\}$, $L(1) = \\{1, 2, 4, 8, 16, \\dots\\}$, $L(2) = \\{1, 2, 3, 5, 8, \\dots\\}$.</p>\n",
    "\n",
    "<p>\n",
    "A real number $q \\gt 0$ is a <i>transition value</i> if $L(s)$ is different from $L(t)$ for all $s &lt; q &lt; t$.<br>\n",
    "Let $T(i)$ be the $i$-th transition value. For example, $T(1) = 1$, $T(2) = 2$, $T(22) \\approx 6.3043478261$.</p>\n",
    "\n",
    "<p>\n",
    "Find $T(123456)$ and give your answer rounded to $10$ digits after the decimal point.</p>\n"
   ]
  },
  {
   "cell_type": "markdown",
   "id": "1",
   "metadata": {},
   "source": [
    "# Solution\n"
   ]
  },
  {
   "cell_type": "code",
   "execution_count": null,
   "id": "2",
   "metadata": {},
   "outputs": [],
   "source": []
  }
 ],
 "metadata": {},
 "nbformat": 4,
 "nbformat_minor": 5
}
