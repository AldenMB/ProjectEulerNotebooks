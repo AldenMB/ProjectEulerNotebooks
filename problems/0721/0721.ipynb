{
 "cells": [
  {
   "cell_type": "markdown",
   "id": "0",
   "metadata": {},
   "source": [
    "# <a href=\"https://projecteuler.net/problem=721\">High powers of irrational numbers</a>\n",
    "\n",
    "## Problem 721\n",
    "\n",
    "<p>\n",
    "Given is the function $f(a,n)=\\lfloor{(\\lceil{\\sqrt{a}\\:\\rceil}+\\sqrt{a}\\:)^n}\\rfloor$.<br />\n",
    "$\\lfloor{.}\\rfloor$ denotes the floor function and $\\lceil{.}\\rceil$ denotes the ceiling function.<br />\n",
    "$f(5,2)=27$ and $f(5,5)=3935$.\n",
    "</p>\n",
    "<p>\n",
    "$G(n) = \\displaystyle \\sum_{a=1}^n f(a, a^2).$<br />\n",
    "$G(1000) \\text{ mod  } 999\\,999\\,937=163861845. $<br />\n",
    "Find $G(5\\,000\\,000).$ Give your answer modulo $999\\,999\\,937$.\n",
    "</p>\n"
   ]
  },
  {
   "cell_type": "markdown",
   "id": "1",
   "metadata": {},
   "source": [
    "# Solution\n"
   ]
  },
  {
   "cell_type": "code",
   "execution_count": null,
   "id": "2",
   "metadata": {},
   "outputs": [],
   "source": []
  }
 ],
 "metadata": {},
 "nbformat": 4,
 "nbformat_minor": 5
}
