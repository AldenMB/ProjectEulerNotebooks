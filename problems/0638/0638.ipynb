{
 "cells": [
  {
   "cell_type": "markdown",
   "id": "0",
   "metadata": {},
   "source": [
    "# <a href=\"https://projecteuler.net/problem=638\">Weighted lattice paths</a>\n",
    "\n",
    "## Problem 638\n",
    "\n",
    "Let $P_{a,b}$ denote a path in a $a\\times b$ lattice grid with following properties:\n",
    "<ul><li>The path begins at $(0,0)$ and ends at $(a,b)$.</li>\n",
    "<li>The path consists only of unit moves upwards or to the right; that is the coordinates are increasing with every move.</li>\n",
    "</ul>\n",
    "\n",
    "Denote $A(P_{a,b})$ to be the area under the path. For the example of a $P_{4,3}$ path given below, the area equals 6.\n",
    "\n",
    "<div style=\"text-align: center !important\">\n",
    "<img src=\"p638_lattice_area.png\" alt=\"crossed lines\" /></div>\n",
    "<p>\n",
    "Define $G(P_{a,b},k)=k^{A(P_{a,b})}$. Let $C(a,b,k)$ equal the sum of $G(P_{a,b},k)$ over all valid paths in a $a\\times b$ lattice grid. \n",
    "</p>\n",
    "<p>\n",
    "You are given that\n",
    "</p>\n",
    "<ul><li>$C(2,2,1)=6$</li>\n",
    "<li>$C(2,2,2)=35$</li>\n",
    "<li>$C(10,10,1)=184\\,756$</li>\n",
    "<li>$C(15,10,3) \\equiv 880\\,419\\,838 \\mod 1\\,000\\,000\\,007$</li>\n",
    "<li>$C(10\\,000,10\\,000,4) \\equiv 395\\,913\\,804 \\mod 1\\,000\\,000\\,007$</li>\n",
    "</ul>\n",
    "\n",
    "Calculate $\\displaystyle\\sum_{k=1}^7 C(10^k+k, 10^k+k,k)$ . Give your answer modulo $1\\,000\\,000\\,007$\n",
    "\n"
   ]
  },
  {
   "cell_type": "markdown",
   "id": "1",
   "metadata": {},
   "source": [
    "# Solution\n"
   ]
  },
  {
   "cell_type": "code",
   "execution_count": null,
   "id": "2",
   "metadata": {},
   "outputs": [],
   "source": []
  }
 ],
 "metadata": {},
 "nbformat": 4,
 "nbformat_minor": 5
}
