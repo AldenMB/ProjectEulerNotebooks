{
 "cells": [
  {
   "cell_type": "markdown",
   "id": "0",
   "metadata": {},
   "source": [
    "# <a href=\"https://projecteuler.net/problem=803\">Pseudorandom sequence</a>\n",
    "\n",
    "## Problem 803\n",
    "\n",
    "<p>\n",
    "<b>Rand48</b> is a pseudorandom number generator used by some programming languages. It generates a sequence from any given integer $a_0$ using the rule $a_n = (25214903917 \\cdot a_{n - 1} + 11) \\bmod 2^{48}$.\n",
    "</p>\n",
    "<p>\n",
    "Let $b_n = \\lfloor a_n / 2^{16} \\rfloor \\bmod 52$.\n",
    "The sequence $b_0, b_1, \\dots$ is translated to an infinite string $c = c_0c_1\\dots$ via the rule:<br />\n",
    "$0 \\rightarrow$ a, $1\\rightarrow$ b, $\\dots$, $25 \\rightarrow$ z, $26 \\rightarrow$ A, $27 \\rightarrow$ B, $\\dots$, $51 \\rightarrow$ Z.\n",
    "</p>\n",
    "<p>\n",
    "For example, if we choose $a_0 = 123456$, then the string $c$ starts with: \"bQYicNGCY$\\dots$\".<br />\n",
    "Moreover, starting from index $100$, we encounter the substring \"RxqLBfWzv\" for the first time.\n",
    "</p>\n",
    "<p>\n",
    "Alternatively, if $c$ starts with \"EULERcats$\\dots$\", then $a_0$ must be $78580612777175$.\n",
    "</p>\n",
    "<p>\n",
    "Now suppose that the string $c$ starts with \"PuzzleOne$\\dots$\".<br />\n",
    "Find the starting index of the first occurrence of the substring \"LuckyText\" in $c$.\n",
    "</p>\n",
    "\n",
    "\n"
   ]
  },
  {
   "cell_type": "markdown",
   "id": "1",
   "metadata": {},
   "source": [
    "# Solution\n"
   ]
  },
  {
   "cell_type": "code",
   "execution_count": null,
   "id": "2",
   "metadata": {},
   "outputs": [],
   "source": []
  }
 ],
 "metadata": {},
 "nbformat": 4,
 "nbformat_minor": 5
}
