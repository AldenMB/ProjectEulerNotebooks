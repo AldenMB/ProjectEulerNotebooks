{
 "cells": [
  {
   "cell_type": "markdown",
   "id": "0",
   "metadata": {},
   "source": [
    "# <a href=\"https://projecteuler.net/problem=393\">Migrating ants</a>\n",
    "\n",
    "## Problem 393\n",
    "\n",
    "<p>\n",
    "An  <var>n</var>×<var>n</var> grid of squares contains  <var>n</var><sup>2</sup> ants, one ant per square.<br />\n",
    "All ants decide to move simultaneously to an adjacent square (usually 4 possibilities, except for ants on the edge of the grid or at the corners).<br />\n",
    "We define <var>f</var>(<var>n</var>) to be the number of ways this can happen without any ants ending on the same square and without any two ants crossing the same edge between two squares.\n",
    "</p>\n",
    "<p>\n",
    "You are given that <var>f</var>(4) = 88.<br />\n",
    "Find  <var>f</var>(10).\n",
    "</p>\n",
    "\n"
   ]
  },
  {
   "cell_type": "markdown",
   "id": "1",
   "metadata": {},
   "source": [
    "# Solution\n"
   ]
  },
  {
   "cell_type": "code",
   "execution_count": null,
   "id": "2",
   "metadata": {},
   "outputs": [],
   "source": []
  }
 ],
 "metadata": {},
 "nbformat": 4,
 "nbformat_minor": 5
}
