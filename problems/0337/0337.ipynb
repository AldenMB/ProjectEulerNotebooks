{
 "cells": [
  {
   "cell_type": "markdown",
   "id": "0",
   "metadata": {},
   "source": [
    "# <a href=\"https://projecteuler.net/problem=337\">Totient Stairstep Sequences</a>\n",
    "\n",
    "## Problem 337\n",
    "\n",
    "<p>Let {a<sub>1</sub>, a<sub>2</sub>,..., a<sub><var>n</var></sub>} be an integer sequence of length <var>n</var> such that:</p>\n",
    "<ul><li>a<sub>1</sub> = 6</li>\n",
    "<li>for all 1 ≤ <var>i</var> &lt; <var>n</var> : φ(a<sub><var>i</var></sub>) &lt; φ(a<sub><var>i</var>+1</sub>) &lt; a<sub><var>i</var></sub> &lt; a<sub><var>i</var>+1</sub><sup>1</sup></li>\n",
    "</ul><p>Let S(<var>N</var>) be the number of such sequences with a<sub><var>n</var></sub> ≤ <var>N</var>.<br />\n",
    "For example, S(10) = 4: {6}, {6, 8}, {6, 8, 9} and {6, 10}.<br />\n",
    "We can verify that S(100) = 482073668 and S(10 000) mod 10<sup>8</sup> = 73808307.</p>\n",
    "\n",
    "<p>Find S(20 000 000) mod 10<sup>8</sup>.</p>\n",
    "\n",
    "<p><sup>1</sup> φ denotes <b>Euler's totient function</b>.</p>\n",
    "\n"
   ]
  },
  {
   "cell_type": "markdown",
   "id": "1",
   "metadata": {},
   "source": [
    "# Solution\n"
   ]
  },
  {
   "cell_type": "code",
   "execution_count": null,
   "id": "2",
   "metadata": {},
   "outputs": [],
   "source": []
  }
 ],
 "metadata": {},
 "nbformat": 4,
 "nbformat_minor": 5
}
