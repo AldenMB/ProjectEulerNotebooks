{
 "cells": [
  {
   "cell_type": "markdown",
   "id": "0",
   "metadata": {},
   "source": [
    "# <a href=\"http://projecteuler.net/problem=896\">Divisible Ranges</a>\n",
    "\n",
    "## Problem 896\n",
    "\n",
    "<p>\n",
    "A contiguous range of positive integers is called a <dfn>divisible range</dfn> if all the integers in the range can be arranged in a row such that the $n$-th term is a multiple of $n$.<br>\n",
    "For example, the range $[6..9]$ is a divisible range because we can arrange the numbers as $7,6,9,8$.<br>\n",
    "In fact, it is the $4$th divisible range of length $4$, the first three being $[1..4], [2..5], [3..6]$.</p>\n",
    "\n",
    "<p>\n",
    "Find the $36$th divisible range of length $36$.<br>\n",
    "Give as answer the smallest number in the range.</p>\n"
   ]
  },
  {
   "cell_type": "markdown",
   "id": "1",
   "metadata": {},
   "source": [
    "# Solution\n"
   ]
  },
  {
   "cell_type": "code",
   "execution_count": null,
   "id": "2",
   "metadata": {},
   "outputs": [],
   "source": []
  }
 ],
 "metadata": {},
 "nbformat": 4,
 "nbformat_minor": 5
}
