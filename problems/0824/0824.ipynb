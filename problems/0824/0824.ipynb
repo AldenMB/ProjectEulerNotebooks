{
 "cells": [
  {
   "cell_type": "markdown",
   "id": "0",
   "metadata": {},
   "source": [
    "# <a href=\"http://projecteuler.net/problem=824\">Chess Sliders</a>\n",
    "\n",
    "## Problem 824\n",
    "\n",
    "<p>A <i>Slider</i> is a chess piece that can move one square left or right.</p>\n",
    "\n",
    "<p>This problem uses a cylindrical chess board where the left hand edge of the board is connected to the right hand edge. This means that a Slider that is on the left hand edge of the chess board can move to the right hand edge of the same row and vice versa.</p>\n",
    "\n",
    "<p>Let $L(N,K)$ be the number of ways $K$ non-attacking Sliders can be placed on an $N \\times N$ cylindrical chess-board.</p>\n",
    "\n",
    "<p>For example, $L(2,2)=4$ and $L(6,12)=4204761$.</p>\n",
    "\n",
    "<p>Find $L(10^9,10^{15}) \\bmod \\left(10^7+19\\right)^2$.</p>\n"
   ]
  },
  {
   "cell_type": "markdown",
   "id": "1",
   "metadata": {},
   "source": [
    "# Solution\n"
   ]
  },
  {
   "cell_type": "code",
   "execution_count": null,
   "id": "2",
   "metadata": {},
   "outputs": [],
   "source": []
  }
 ],
 "metadata": {},
 "nbformat": 4,
 "nbformat_minor": 5
}
