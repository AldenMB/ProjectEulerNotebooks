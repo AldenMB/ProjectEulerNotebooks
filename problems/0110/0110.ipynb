{
 "cells": [
  {
   "cell_type": "markdown",
   "id": "0",
   "metadata": {},
   "source": [
    "# <a href=\"https://projecteuler.net/problem=110\">Diophantine reciprocals II</a>\n",
    "\n",
    "## Problem 110\n",
    "\n",
    "<p>In the following equation <var>x</var>, <var>y</var>, and <var>n</var> are positive integers.</p>\n",
    "<p>$$\\dfrac{1}{x} + \\dfrac{1}{y} = \\dfrac{1}{n}$$</p>\n",
    "\n",
    "<p>It can be verified that when $n = 1260$ there are 113 distinct solutions and this is the least value of $n$ for which the total number of distinct solutions exceeds one hundred.</p>\n",
    "<p>What is the least value of $n$ for which the number of distinct solutions exceeds four million?</p>\n",
    "\n",
    "<p class=\"smaller\">NOTE: This problem is a much more difficult version of <a href=\"problem=108\">Problem 108</a> and as it is well beyond the limitations of a brute force approach it requires a clever implementation.</p>\n"
   ]
  },
  {
   "cell_type": "markdown",
   "id": "1",
   "metadata": {},
   "source": [
    "# Solution\n"
   ]
  },
  {
   "cell_type": "code",
   "execution_count": null,
   "id": "2",
   "metadata": {},
   "outputs": [],
   "source": []
  }
 ],
 "metadata": {},
 "nbformat": 4,
 "nbformat_minor": 5
}
