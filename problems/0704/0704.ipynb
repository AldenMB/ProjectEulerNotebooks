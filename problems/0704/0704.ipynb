{
 "cells": [
  {
   "cell_type": "markdown",
   "id": "0",
   "metadata": {},
   "source": [
    "# <a href=\"https://projecteuler.net/problem=704\">Factors of Two in Binomial Coefficients</a>\n",
    "\n",
    "## Problem 704\n",
    "\n",
    "<p>\n",
    "Define $g(n, m)$ to be the largest integer $k$ such that $2^k$ divides $\\binom{n}m$. \n",
    "For example, $\\binom{12}5 = 792 = 2^3 \\cdot 3^2 \\cdot 11$, hence $g(12, 5) = 3$. \n",
    "Then define $F(n) = \\max \\{ g(n, m) : 0 \\le m \\le n \\}$. $F(10) = 3$ and $F(100) = 6$.\n",
    "</p>\n",
    "<p>\n",
    "Let $S(N)$ = $\\displaystyle\\sum_{n=1}^N{F(n)}$. You are given that $S(100) = 389$ and $S(10^7) = 203222840$.\n",
    "</p>\n",
    "<p>\n",
    "Find $S(10^{16})$.\n",
    "</p>\n"
   ]
  },
  {
   "cell_type": "markdown",
   "id": "1",
   "metadata": {},
   "source": [
    "# Solution\n"
   ]
  },
  {
   "cell_type": "code",
   "execution_count": null,
   "id": "2",
   "metadata": {},
   "outputs": [],
   "source": []
  }
 ],
 "metadata": {},
 "nbformat": 4,
 "nbformat_minor": 5
}
