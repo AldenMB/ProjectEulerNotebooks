{
 "cells": [
  {
   "cell_type": "markdown",
   "id": "0",
   "metadata": {},
   "source": [
    "# <a href=\"https://projecteuler.net/problem=227\">The Chase</a>\n",
    "\n",
    "## Problem 227\n",
    "\n",
    "<p><dfn>The Chase</dfn> is a game played with two dice and an even number of players.</p>\n",
    "\n",
    "<p>The players sit around a table and the game begins with two opposite players having one die each. On each turn, the two players with a die roll it.</p>\n",
    "\n",
    "<p>If the player rolls 1, then the die passes to the neighbour on the left.<br />\n",
    "If the player rolls 6, then the die passes to the neighbour on the right.<br />\n",
    "Otherwise, the player keeps the die for the next turn.</p>\n",
    "\n",
    "<p>The game ends when one player has both dice after they have been rolled and passed; that player has then lost.</p>\n",
    "\n",
    "<p>In a game with 100 players, what is the expected number of turns the game lasts?</p>\n",
    "<p>Give your answer rounded to ten significant digits.</p>\n"
   ]
  },
  {
   "cell_type": "markdown",
   "id": "1",
   "metadata": {},
   "source": [
    "# Solution\n"
   ]
  },
  {
   "cell_type": "code",
   "execution_count": null,
   "id": "2",
   "metadata": {},
   "outputs": [],
   "source": []
  }
 ],
 "metadata": {},
 "nbformat": 4,
 "nbformat_minor": 5
}
