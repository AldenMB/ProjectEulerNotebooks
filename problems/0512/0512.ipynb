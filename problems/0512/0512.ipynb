{
 "cells": [
  {
   "cell_type": "markdown",
   "id": "0",
   "metadata": {},
   "source": [
    "# <a href=\"https://projecteuler.net/problem=512\">Sums of totients of powers</a>\n",
    "\n",
    "## Problem 512\n",
    "\n",
    "<p>Let $\\varphi(n)$ be Euler's totient function.</p><p>\n",
    "Let $f(n)=(\\sum_{i=1}^{n}\\varphi(n^i)) \\text{ mod } (n+1)$.</p><p>\n",
    "Let $g(n)=\\sum_{i=1}^{n} f(i)$.</p><p>\n",
    "$g(100)=2007$.\n",
    "</p>\n",
    "<p>\n",
    "Find $g(5 \\times 10^8)$.\n",
    "</p>\n",
    "\n"
   ]
  },
  {
   "cell_type": "markdown",
   "id": "1",
   "metadata": {},
   "source": [
    "# Solution\n"
   ]
  },
  {
   "cell_type": "code",
   "execution_count": null,
   "id": "2",
   "metadata": {},
   "outputs": [],
   "source": []
  }
 ],
 "metadata": {},
 "nbformat": 4,
 "nbformat_minor": 5
}
