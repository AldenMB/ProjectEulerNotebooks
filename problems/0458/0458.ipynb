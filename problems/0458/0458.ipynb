{
 "cells": [
  {
   "cell_type": "markdown",
   "id": "0",
   "metadata": {},
   "source": [
    "# <a href=\"https://projecteuler.net/problem=458\">Permutations of Project</a>\n",
    "\n",
    "## Problem 458\n",
    "\n",
    "<p>\n",
    "Consider the alphabet A made out of the letters of the word \"project\": A={c,e,j,o,p,r,t}.<br />\n",
    "Let T(n) be the number of strings of length n consisting of letters from A that do not have a substring that is one of the 5040 permutations of \"project\".\n",
    "</p>\n",
    "T(7)=7<sup>7</sup>-7!=818503.\n",
    "\n",
    "<p>\n",
    "Find T(10<sup>12</sup>). Give the last 9 digits of your answer.\n",
    "</p>\n",
    "\n",
    "\n"
   ]
  },
  {
   "cell_type": "markdown",
   "id": "1",
   "metadata": {},
   "source": [
    "# Solution\n"
   ]
  },
  {
   "cell_type": "code",
   "execution_count": null,
   "id": "2",
   "metadata": {},
   "outputs": [],
   "source": []
  }
 ],
 "metadata": {},
 "nbformat": 4,
 "nbformat_minor": 5
}
