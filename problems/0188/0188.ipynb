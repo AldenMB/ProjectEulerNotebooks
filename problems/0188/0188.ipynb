{
 "cells": [
  {
   "cell_type": "markdown",
   "id": "0",
   "metadata": {},
   "source": [
    "# <a href=\"https://projecteuler.net/problem=188\">The hyperexponentiation of a number</a>\n",
    "\n",
    "## Problem 188\n",
    "\n",
    "<p>The <span style=\"font-style:italic;\">hyperexponentiation</span> or <span style=\"font-style:italic;\">tetration</span> of a number a by a positive integer b, denoted by a↑↑b or <sup>b</sup>a, is recursively defined by:<br /><br />\n",
    "a↑↑1 = a,<br />\n",
    "a↑↑(k+1) = a<sup>(a↑↑k)</sup>.</p>\n",
    "<p>\n",
    "Thus we have e.g. 3↑↑2 = 3<sup>3</sup> = 27, hence 3↑↑3 = 3<sup>27</sup> = 7625597484987 and 3↑↑4 is roughly 10<sup>3.6383346400240996*10^12</sup>.</p>\n",
    "<p>Find the last 8 digits of 1777↑↑1855.</p>\n"
   ]
  },
  {
   "cell_type": "markdown",
   "id": "1",
   "metadata": {},
   "source": [
    "# Solution\n"
   ]
  },
  {
   "cell_type": "code",
   "execution_count": null,
   "id": "2",
   "metadata": {},
   "outputs": [],
   "source": []
  }
 ],
 "metadata": {},
 "nbformat": 4,
 "nbformat_minor": 5
}
