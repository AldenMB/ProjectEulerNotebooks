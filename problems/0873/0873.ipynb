{
 "cells": [
  {
   "cell_type": "markdown",
   "id": "0",
   "metadata": {},
   "source": [
    "# <a href=\"http://projecteuler.net/problem=873\">Words with Gaps</a>\n",
    "\n",
    "## Problem 873\n",
    "\n",
    "<p>\n",
    "Let $W(p,q,r)$ be the number of words that can be formed using the letter A $p$ times, the letter B $q$ times and the letter C $r$ times with the condition that every A is separated from every B by at least two Cs. For example, CACACCBB is a valid word for $W(2,2,4)$ but ACBCACBC is not.</p>\n",
    "\n",
    "<p>\n",
    "You are given $W(2,2,4)=32$ and $W(4,4,44)=13908607644$.</p>\n",
    "\n",
    "<p>\n",
    "Find $W(10^6,10^7,10^8)$. Give your answer modulo $1\\,000\\,000\\,007$.</p>\n",
    "\n"
   ]
  },
  {
   "cell_type": "markdown",
   "id": "1",
   "metadata": {},
   "source": [
    "# Solution\n"
   ]
  },
  {
   "cell_type": "code",
   "execution_count": null,
   "id": "2",
   "metadata": {},
   "outputs": [],
   "source": []
  }
 ],
 "metadata": {},
 "nbformat": 4,
 "nbformat_minor": 5
}
