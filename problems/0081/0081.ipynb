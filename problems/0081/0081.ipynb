{
 "cells": [
  {
   "cell_type": "markdown",
   "id": "0",
   "metadata": {},
   "source": [
    "# <a href=\"https://projecteuler.net/problem=81\">Path sum: two ways</a>\n",
    "\n",
    "## Problem 81\n",
    "\n",
    "<p>In the 5 by 5 matrix below, the minimal path sum from the top left to the bottom right, by <b>only moving to the right and down</b>, is indicated in bold red and is equal to 2427.</p>\n",
    "<div style=\"text-align: center !important\">\n",
    "$$\n",
    "\\begin{pmatrix}\n",
    "\\color{red}{131} &amp; 673 &amp; 234 &amp; 103 &amp; 18\\\\\n",
    "\\color{red}{201} &amp; \\color{red}{96} &amp; \\color{red}{342} &amp; 965 &amp; 150\\\\\n",
    "630 &amp; 803 &amp; \\color{red}{746} &amp; \\color{red}{422} &amp; 111\\\\\n",
    "537 &amp; 699 &amp; 497 &amp; \\color{red}{121} &amp; 956\\\\\n",
    "805 &amp; 732 &amp; 524 &amp; \\color{red}{37} &amp; \\color{red}{331}\n",
    "\\end{pmatrix}\n",
    "$$\n",
    "</div>\n",
    "<p>Find the minimal path sum from the top left to the bottom right by only moving right and down in <a href=\"matrix.txt\">matrix.txt</a> (right click and \"Save Link/Target As...\"), a 31K text file containing an 80 by 80 matrix.</p>\n"
   ]
  },
  {
   "cell_type": "markdown",
   "id": "1",
   "metadata": {},
   "source": [
    "# Solution\n"
   ]
  },
  {
   "cell_type": "code",
   "execution_count": null,
   "id": "2",
   "metadata": {},
   "outputs": [],
   "source": []
  }
 ],
 "metadata": {},
 "nbformat": 4,
 "nbformat_minor": 5
}
