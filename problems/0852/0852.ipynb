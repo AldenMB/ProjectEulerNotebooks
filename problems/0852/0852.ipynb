{
 "cells": [
  {
   "cell_type": "markdown",
   "id": "0",
   "metadata": {},
   "source": [
    "# <a href=\"http://projecteuler.net/problem=852\">Coins in a Box</a>\n",
    "\n",
    "## Problem 852\n",
    "\n",
    "<p>This game has a box of $N$ unfair coins and $N$ fair coins. Fair coins have probability 50% of landing heads while unfair coins have probability 75% of landing heads.</p>\n",
    "\n",
    "<p>The player begins with a score of 0 which may become negative during play.</p>\n",
    "\n",
    "<p>At each round the player randomly picks a coin from the box and guesses its type: fair or unfair. Before guessing they may toss the coin any number of times; however, each toss subtracts 1 from their score. The decision to stop tossing and make a guess can be made at any time. After guessing the player's score is increased by 20 if they are right and decreased by 50 if they are wrong. Then the coin type is revealed to the player and the coin is discarded.</p>\n",
    "\n",
    "<p>After $2N$ rounds the box will be empty and the game is over. Let $S(N)$ be the expected score of the player at the end of the game assuming that they play optimally in order to maximize their expected score.</p>\n",
    "\n",
    "<p>You are given $S(1) = 20.558591$ rounded to 6 digits after the decimal point.</p>\n",
    "\n",
    "<p>Find $S(50)$. Give your answer rounded to 6 digits after the decimal point.</p>\n"
   ]
  },
  {
   "cell_type": "markdown",
   "id": "1",
   "metadata": {},
   "source": [
    "# Solution\n"
   ]
  },
  {
   "cell_type": "code",
   "execution_count": null,
   "id": "2",
   "metadata": {},
   "outputs": [],
   "source": []
  }
 ],
 "metadata": {},
 "nbformat": 4,
 "nbformat_minor": 5
}
