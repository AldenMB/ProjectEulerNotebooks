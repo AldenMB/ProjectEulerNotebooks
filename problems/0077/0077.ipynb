{
 "cells": [
  {
   "cell_type": "markdown",
   "id": "0",
   "metadata": {},
   "source": [
    "# <a href=\"https://projecteuler.net/problem=77\">Prime summations</a>\n",
    "\n",
    "## Problem 77\n",
    "\n",
    "\n",
    "<p>It is possible to write ten as the sum of primes in exactly five different ways:</p>\n",
    "<p class=\"margin_left\">7 + 3<br />\n",
    "5 + 5<br />\n",
    "5 + 3 + 2<br />\n",
    "3 + 3 + 2 + 2<br />\n",
    "2 + 2 + 2 + 2 + 2</p>\n",
    "<p>What is the first value which can be written as the sum of primes in over five thousand different ways?</p>\n",
    "\n"
   ]
  },
  {
   "cell_type": "markdown",
   "id": "1",
   "metadata": {},
   "source": [
    "# Solution\n"
   ]
  },
  {
   "cell_type": "code",
   "execution_count": null,
   "id": "2",
   "metadata": {},
   "outputs": [],
   "source": []
  }
 ],
 "metadata": {},
 "nbformat": 4,
 "nbformat_minor": 5
}
