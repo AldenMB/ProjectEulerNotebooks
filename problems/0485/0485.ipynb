{
 "cells": [
  {
   "cell_type": "markdown",
   "id": "0",
   "metadata": {},
   "source": [
    "# <a href=\"https://projecteuler.net/problem=485\">Maximum number of divisors</a>\n",
    "\n",
    "## Problem 485\n",
    "\n",
    "<p>\n",
    "Let d(n) be the number of divisors of n.<br />\n",
    "Let M(n,k) be the maximum value of d(j) for n ≤ j ≤ n+k-1.<br />\n",
    "Let S(u,k) be the sum of M(n,k) for 1 ≤ n ≤ u-k+1.\n",
    "</p>\n",
    "<p>\n",
    "You are given that S(1000,10)=17176.\n",
    "</p>\n",
    "<p>\n",
    "Find S(100 000 000,100 000).\n",
    "</p>\n",
    "\n",
    "\n",
    "\n"
   ]
  },
  {
   "cell_type": "markdown",
   "id": "1",
   "metadata": {},
   "source": [
    "# Solution\n"
   ]
  },
  {
   "cell_type": "code",
   "execution_count": null,
   "id": "2",
   "metadata": {},
   "outputs": [],
   "source": []
  }
 ],
 "metadata": {},
 "nbformat": 4,
 "nbformat_minor": 5
}
