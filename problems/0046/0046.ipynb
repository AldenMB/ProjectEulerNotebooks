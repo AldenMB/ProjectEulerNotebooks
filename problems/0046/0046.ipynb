{
 "cells": [
  {
   "cell_type": "markdown",
   "id": "0",
   "metadata": {},
   "source": [
    "# <a href=\"https://projecteuler.net/problem=46\">Goldbach's other conjecture</a>\n",
    "\n",
    "## Problem 46\n",
    "\n",
    "<p>It was proposed by Christian Goldbach that every odd composite number can be written as the sum of a prime and twice a square.</p>\n",
    "<p class=\"margin_left\">9 = 7 + 2×1<sup>2</sup><br />\n",
    "15 = 7 + 2×2<sup>2</sup><br />\n",
    "21 = 3 + 2×3<sup>2</sup><br />\n",
    "25 = 7 + 2×3<sup>2</sup><br />\n",
    "27 = 19 + 2×2<sup>2</sup><br />\n",
    "33 = 31 + 2×1<sup>2</sup></p>\n",
    "<p>It turns out that the conjecture was false.</p>\n",
    "<p>What is the smallest odd composite that cannot be written as the sum of a prime and twice a square?</p>\n",
    "\n"
   ]
  },
  {
   "cell_type": "markdown",
   "id": "1",
   "metadata": {},
   "source": [
    "# Solution\n"
   ]
  },
  {
   "cell_type": "code",
   "execution_count": null,
   "id": "2",
   "metadata": {},
   "outputs": [],
   "source": []
  }
 ],
 "metadata": {},
 "nbformat": 4,
 "nbformat_minor": 5
}
