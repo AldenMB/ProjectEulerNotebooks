{
 "cells": [
  {
   "cell_type": "code",
   "execution_count": 1,
   "id": "261bc667-1f12-4249-bccc-ed896c8d2de0",
   "metadata": {},
   "outputs": [],
   "source": [
    "import nbformat"
   ]
  },
  {
   "cell_type": "code",
   "execution_count": 2,
   "id": "ff1d1c8f-121f-4c6a-aefd-36b12708cacc",
   "metadata": {},
   "outputs": [
    {
     "data": {
      "text/plain": [
       "{'nbformat': 4,\n",
       " 'nbformat_minor': 5,\n",
       " 'metadata': {},\n",
       " 'cells': [{'id': 'bcb4c8ab',\n",
       "   'cell_type': 'markdown',\n",
       "   'source': '# Problem Title\\n\\nProblem Statement',\n",
       "   'metadata': {}},\n",
       "  {'id': '86d4b4a7',\n",
       "   'cell_type': 'markdown',\n",
       "   'source': '# Solution',\n",
       "   'metadata': {}},\n",
       "  {'id': 'b2ac92ac',\n",
       "   'cell_type': 'code',\n",
       "   'metadata': {},\n",
       "   'execution_count': None,\n",
       "   'source': '',\n",
       "   'outputs': []}]}"
      ]
     },
     "execution_count": 2,
     "metadata": {},
     "output_type": "execute_result"
    }
   ],
   "source": [
    "top_cell = \"\"\"# Problem Title\n",
    "\n",
    "Problem Statement\"\"\"\n",
    "\n",
    "middle_cell = \"\"\"# Solution\"\"\"\n",
    "\n",
    "nb = nbformat.v4.new_notebook()\n",
    "nb[\"cells\"] = [\n",
    "    nbformat.v4.new_markdown_cell(top_cell),\n",
    "    nbformat.v4.new_markdown_cell(middle_cell),\n",
    "    nbformat.v4.new_code_cell(),\n",
    "]\n",
    "\n",
    "nb"
   ]
  },
  {
   "cell_type": "code",
   "execution_count": 3,
   "id": "03ed8bc2-ace6-419a-8302-8512a451e4b3",
   "metadata": {},
   "outputs": [],
   "source": [
    "with open('example.ipynb', 'w') as f:\n",
    "    nbformat.write(nb, f)"
   ]
  },
  {
   "cell_type": "code",
   "execution_count": null,
   "id": "890028c6-733c-4434-8119-68ccd8df2b6a",
   "metadata": {},
   "outputs": [],
   "source": []
  }
 ],
 "metadata": {
  "kernelspec": {
   "display_name": "Python 3 (ipykernel)",
   "language": "python",
   "name": "python3"
  },
  "language_info": {
   "codemirror_mode": {
    "name": "ipython",
    "version": 3
   },
   "file_extension": ".py",
   "mimetype": "text/x-python",
   "name": "python",
   "nbconvert_exporter": "python",
   "pygments_lexer": "ipython3",
   "version": "3.10.4"
  }
 },
 "nbformat": 4,
 "nbformat_minor": 5
}
