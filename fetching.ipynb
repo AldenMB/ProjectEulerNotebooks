{
 "cells": [
  {
   "cell_type": "code",
   "execution_count": 1,
   "id": "5a257106-9bf6-4985-ad3e-48eb9f55c945",
   "metadata": {},
   "outputs": [],
   "source": [
    "from requests_cache import CachedSession"
   ]
  },
  {
   "cell_type": "code",
   "execution_count": 2,
   "id": "cf3cdb00-09a7-4a42-9542-59586f64e46f",
   "metadata": {},
   "outputs": [],
   "source": [
    "session = CachedSession()"
   ]
  },
  {
   "cell_type": "code",
   "execution_count": 10,
   "id": "3bc08a28-c18d-4ea1-8e95-fc6da9765739",
   "metadata": {},
   "outputs": [
    {
     "data": {
      "text/plain": [
       "1027"
      ]
     },
     "execution_count": 10,
     "metadata": {},
     "output_type": "execute_result"
    }
   ],
   "source": [
    "sum(1 for __ in session.cache.urls)"
   ]
  },
  {
   "cell_type": "code",
   "execution_count": 11,
   "id": "0d1e0c7c-6e40-4a28-8362-0886487db377",
   "metadata": {},
   "outputs": [],
   "source": [
    "from euler_binder import fetch"
   ]
  },
  {
   "cell_type": "code",
   "execution_count": 12,
   "id": "7f905207-b814-423e-a888-42216c8041ff",
   "metadata": {},
   "outputs": [],
   "source": [
    "fetch.fetch_all()"
   ]
  },
  {
   "cell_type": "code",
   "execution_count": 15,
   "id": "f3de0b4c-2d60-41f2-8035-e84171fcfc63",
   "metadata": {},
   "outputs": [
    {
     "data": {
      "text/plain": [
       "['__attrs__',\n",
       " '__class__',\n",
       " '__delattr__',\n",
       " '__dict__',\n",
       " '__dir__',\n",
       " '__doc__',\n",
       " '__enter__',\n",
       " '__eq__',\n",
       " '__exit__',\n",
       " '__format__',\n",
       " '__ge__',\n",
       " '__getattribute__',\n",
       " '__getstate__',\n",
       " '__gt__',\n",
       " '__hash__',\n",
       " '__init__',\n",
       " '__init_subclass__',\n",
       " '__le__',\n",
       " '__lt__',\n",
       " '__module__',\n",
       " '__ne__',\n",
       " '__new__',\n",
       " '__reduce__',\n",
       " '__reduce_ex__',\n",
       " '__repr__',\n",
       " '__setattr__',\n",
       " '__setstate__',\n",
       " '__sizeof__',\n",
       " '__str__',\n",
       " '__subclasshook__',\n",
       " '__weakref__',\n",
       " '_disabled',\n",
       " '_is_cacheable',\n",
       " '_lock',\n",
       " '_resend',\n",
       " '_resend_and_ignore',\n",
       " '_send_and_cache',\n",
       " '_update_revalidated_response',\n",
       " 'adapters',\n",
       " 'allowable_codes',\n",
       " 'allowable_methods',\n",
       " 'auth',\n",
       " 'cache',\n",
       " 'cache_control',\n",
       " 'cache_disabled',\n",
       " 'cert',\n",
       " 'close',\n",
       " 'cookies',\n",
       " 'delete',\n",
       " 'expire_after',\n",
       " 'filter_fn',\n",
       " 'get',\n",
       " 'get_adapter',\n",
       " 'get_redirect_target',\n",
       " 'head',\n",
       " 'headers',\n",
       " 'hooks',\n",
       " 'max_redirects',\n",
       " 'merge_environment_settings',\n",
       " 'mount',\n",
       " 'options',\n",
       " 'params',\n",
       " 'patch',\n",
       " 'post',\n",
       " 'prepare_request',\n",
       " 'proxies',\n",
       " 'put',\n",
       " 'rebuild_auth',\n",
       " 'rebuild_method',\n",
       " 'rebuild_proxies',\n",
       " 'remove_expired_responses',\n",
       " 'request',\n",
       " 'resolve_redirects',\n",
       " 'send',\n",
       " 'should_strip_auth',\n",
       " 'stale_if_error',\n",
       " 'stream',\n",
       " 'trust_env',\n",
       " 'urls_expire_after',\n",
       " 'verify']"
      ]
     },
     "execution_count": 15,
     "metadata": {},
     "output_type": "execute_result"
    }
   ],
   "source": [
    "dir(session)"
   ]
  },
  {
   "cell_type": "code",
   "execution_count": 17,
   "id": "b52f196b-ba6c-49c4-b754-5b0f4227d3e3",
   "metadata": {},
   "outputs": [
    {
     "data": {
      "text/plain": [
       "True"
      ]
     },
     "execution_count": 17,
     "metadata": {},
     "output_type": "execute_result"
    }
   ],
   "source": [
    "session.verify"
   ]
  },
  {
   "cell_type": "code",
   "execution_count": null,
   "id": "befaa265-ec9c-49fb-9db0-0c4e1d8a5f46",
   "metadata": {},
   "outputs": [],
   "source": []
  }
 ],
 "metadata": {
  "kernelspec": {
   "display_name": "fetching",
   "language": "python",
   "name": "fetching"
  },
  "language_info": {
   "codemirror_mode": {
    "name": "ipython",
    "version": 3
   },
   "file_extension": ".py",
   "mimetype": "text/x-python",
   "name": "python",
   "nbconvert_exporter": "python",
   "pygments_lexer": "ipython3",
   "version": "3.10.4"
  }
 },
 "nbformat": 4,
 "nbformat_minor": 5
}
